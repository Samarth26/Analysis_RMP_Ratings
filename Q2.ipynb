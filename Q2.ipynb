{
 "cells": [
  {
   "cell_type": "markdown",
   "metadata": {},
   "source": [
    "effect size matteres with sampe size... \n",
    "\n",
    "power and confidence ... if assuming effect size, we can compute power, but if the sample is big, we can find th likely effect size ... (what)\n",
    "\n",
    "when the only thing you care about is median difference... Mann Whitney\n",
    "\n",
    "when you care about the distribution difference... KS test\n",
    "\n",
    "The distributions are gonna be weird ... do a permutation test ...\n",
    "\n",
    "piower will be high because we have a large sample size\n",
    "\n"
   ]
  },
  {
   "cell_type": "code",
   "execution_count": 2,
   "metadata": {},
   "outputs": [],
   "source": [
    "# Importing libraries\n",
    "import pandas as pd\n",
    "import numpy as np\n",
    "import matplotlib.pyplot as plt\n",
    "import seaborn as sns\n",
    "from scipy import stats"
   ]
  },
  {
   "cell_type": "code",
   "execution_count": 3,
   "metadata": {},
   "outputs": [],
   "source": [
    "'''\n",
    "Columns are:\n",
    "1. Average Rating (the arithmetic mean of all individual quality ratings of this professor)\n",
    "2. Average Difficulty (the arithmetic mean of all individual difficulty ratings of this professor)\n",
    "3. Number of ratings (simply the total number of ratings these averages are based on)\n",
    "4. Received a “pepper”? (Boolean - was this professor judged as “hot” by the students?)\n",
    "5. The proportion of students that said they would take the class again\n",
    "6. The number of ratings coming from online classes\n",
    "7. Male gender (Boolean – 1: determined with high confidence that professor is male)\n",
    "8. Female (Boolean – 1: determined with high confidence that professor is female)\n",
    "'''\n",
    "numDat = pd.read_csv('rmpCapstoneNum.csv', header=None)\n",
    "numDat.columns = ['Average Rating', 'Average Difficulty', 'Number of ratings', 'Received a pepper', \n",
    "                       'Proportion of students that said they would take the class again', \n",
    "                       'Number of ratings coming from online classes', 'Male Professor', 'Female Professor']\n"
   ]
  },
  {
   "cell_type": "markdown",
   "metadata": {},
   "source": [
    "2. Is there a gender difference in the spread (variance/dispersion) of the ratings distribution?\n",
    "\n",
    "Plan:\n",
    "\n",
    "Part 1.) investigate confounds.\n",
    "\n",
    "Part 2.) Stratify the data to correct for confounds if necessary.\n",
    "\n",
    "Part 3.) Visualize the variance.\n",
    "\n",
    "Part 4.) Perform levenes sig test\n",
    "\n",
    "Null Hyp: \"Variances in ratings between men and women professors are equal\"\n",
    "\n",
    "Alt Hyp: \"Variances in ratings between men and women professors are not equal\"\n",
    "We use a sig level of .005 to "
   ]
  },
  {
   "cell_type": "markdown",
   "metadata": {},
   "source": [
    "NOTE: Before performing any analysis, we only consider professors who have at least 10 ratings and only Male and Female (Male Professor != Female Professor)"
   ]
  },
  {
   "cell_type": "code",
   "execution_count": 15,
   "metadata": {},
   "outputs": [
    {
     "data": {
      "text/html": [
       "<div>\n",
       "<style scoped>\n",
       "    .dataframe tbody tr th:only-of-type {\n",
       "        vertical-align: middle;\n",
       "    }\n",
       "\n",
       "    .dataframe tbody tr th {\n",
       "        vertical-align: top;\n",
       "    }\n",
       "\n",
       "    .dataframe thead th {\n",
       "        text-align: right;\n",
       "    }\n",
       "</style>\n",
       "<table border=\"1\" class=\"dataframe\">\n",
       "  <thead>\n",
       "    <tr style=\"text-align: right;\">\n",
       "      <th></th>\n",
       "      <th>Average Rating</th>\n",
       "      <th>Average Difficulty</th>\n",
       "      <th>Number of ratings</th>\n",
       "      <th>Received a pepper</th>\n",
       "      <th>Proportion of students that said they would take the class again</th>\n",
       "      <th>Number of ratings coming from online classes</th>\n",
       "      <th>Male Professor</th>\n",
       "      <th>Female Professor</th>\n",
       "    </tr>\n",
       "  </thead>\n",
       "  <tbody>\n",
       "    <tr>\n",
       "      <th>5</th>\n",
       "      <td>3.5</td>\n",
       "      <td>3.3</td>\n",
       "      <td>22.0</td>\n",
       "      <td>0.0</td>\n",
       "      <td>56.0</td>\n",
       "      <td>7.0</td>\n",
       "      <td>1</td>\n",
       "      <td>0</td>\n",
       "    </tr>\n",
       "    <tr>\n",
       "      <th>21</th>\n",
       "      <td>2.6</td>\n",
       "      <td>4.1</td>\n",
       "      <td>10.0</td>\n",
       "      <td>0.0</td>\n",
       "      <td>NaN</td>\n",
       "      <td>0.0</td>\n",
       "      <td>1</td>\n",
       "      <td>0</td>\n",
       "    </tr>\n",
       "    <tr>\n",
       "      <th>25</th>\n",
       "      <td>4.3</td>\n",
       "      <td>3.3</td>\n",
       "      <td>16.0</td>\n",
       "      <td>1.0</td>\n",
       "      <td>83.0</td>\n",
       "      <td>0.0</td>\n",
       "      <td>0</td>\n",
       "      <td>1</td>\n",
       "    </tr>\n",
       "    <tr>\n",
       "      <th>39</th>\n",
       "      <td>3.5</td>\n",
       "      <td>3.2</td>\n",
       "      <td>20.0</td>\n",
       "      <td>1.0</td>\n",
       "      <td>NaN</td>\n",
       "      <td>0.0</td>\n",
       "      <td>1</td>\n",
       "      <td>0</td>\n",
       "    </tr>\n",
       "    <tr>\n",
       "      <th>40</th>\n",
       "      <td>1.8</td>\n",
       "      <td>3.8</td>\n",
       "      <td>15.0</td>\n",
       "      <td>0.0</td>\n",
       "      <td>22.0</td>\n",
       "      <td>1.0</td>\n",
       "      <td>0</td>\n",
       "      <td>1</td>\n",
       "    </tr>\n",
       "    <tr>\n",
       "      <th>...</th>\n",
       "      <td>...</td>\n",
       "      <td>...</td>\n",
       "      <td>...</td>\n",
       "      <td>...</td>\n",
       "      <td>...</td>\n",
       "      <td>...</td>\n",
       "      <td>...</td>\n",
       "      <td>...</td>\n",
       "    </tr>\n",
       "    <tr>\n",
       "      <th>89810</th>\n",
       "      <td>3.4</td>\n",
       "      <td>3.4</td>\n",
       "      <td>14.0</td>\n",
       "      <td>0.0</td>\n",
       "      <td>54.0</td>\n",
       "      <td>5.0</td>\n",
       "      <td>1</td>\n",
       "      <td>0</td>\n",
       "    </tr>\n",
       "    <tr>\n",
       "      <th>89841</th>\n",
       "      <td>4.2</td>\n",
       "      <td>3.8</td>\n",
       "      <td>11.0</td>\n",
       "      <td>0.0</td>\n",
       "      <td>NaN</td>\n",
       "      <td>0.0</td>\n",
       "      <td>0</td>\n",
       "      <td>1</td>\n",
       "    </tr>\n",
       "    <tr>\n",
       "      <th>89855</th>\n",
       "      <td>4.0</td>\n",
       "      <td>1.9</td>\n",
       "      <td>11.0</td>\n",
       "      <td>1.0</td>\n",
       "      <td>60.0</td>\n",
       "      <td>0.0</td>\n",
       "      <td>1</td>\n",
       "      <td>0</td>\n",
       "    </tr>\n",
       "    <tr>\n",
       "      <th>89866</th>\n",
       "      <td>4.4</td>\n",
       "      <td>3.6</td>\n",
       "      <td>14.0</td>\n",
       "      <td>1.0</td>\n",
       "      <td>88.0</td>\n",
       "      <td>0.0</td>\n",
       "      <td>0</td>\n",
       "      <td>1</td>\n",
       "    </tr>\n",
       "    <tr>\n",
       "      <th>89877</th>\n",
       "      <td>3.6</td>\n",
       "      <td>3.4</td>\n",
       "      <td>10.0</td>\n",
       "      <td>0.0</td>\n",
       "      <td>50.0</td>\n",
       "      <td>1.0</td>\n",
       "      <td>1</td>\n",
       "      <td>0</td>\n",
       "    </tr>\n",
       "  </tbody>\n",
       "</table>\n",
       "<p>7105 rows × 8 columns</p>\n",
       "</div>"
      ],
      "text/plain": [
       "       Average Rating  Average Difficulty  Number of ratings  \\\n",
       "5                 3.5                 3.3               22.0   \n",
       "21                2.6                 4.1               10.0   \n",
       "25                4.3                 3.3               16.0   \n",
       "39                3.5                 3.2               20.0   \n",
       "40                1.8                 3.8               15.0   \n",
       "...               ...                 ...                ...   \n",
       "89810             3.4                 3.4               14.0   \n",
       "89841             4.2                 3.8               11.0   \n",
       "89855             4.0                 1.9               11.0   \n",
       "89866             4.4                 3.6               14.0   \n",
       "89877             3.6                 3.4               10.0   \n",
       "\n",
       "       Received a pepper  \\\n",
       "5                    0.0   \n",
       "21                   0.0   \n",
       "25                   1.0   \n",
       "39                   1.0   \n",
       "40                   0.0   \n",
       "...                  ...   \n",
       "89810                0.0   \n",
       "89841                0.0   \n",
       "89855                1.0   \n",
       "89866                1.0   \n",
       "89877                0.0   \n",
       "\n",
       "       Proportion of students that said they would take the class again  \\\n",
       "5                                                   56.0                  \n",
       "21                                                   NaN                  \n",
       "25                                                  83.0                  \n",
       "39                                                   NaN                  \n",
       "40                                                  22.0                  \n",
       "...                                                  ...                  \n",
       "89810                                               54.0                  \n",
       "89841                                                NaN                  \n",
       "89855                                               60.0                  \n",
       "89866                                               88.0                  \n",
       "89877                                               50.0                  \n",
       "\n",
       "       Number of ratings coming from online classes  Male Professor  \\\n",
       "5                                               7.0               1   \n",
       "21                                              0.0               1   \n",
       "25                                              0.0               0   \n",
       "39                                              0.0               1   \n",
       "40                                              1.0               0   \n",
       "...                                             ...             ...   \n",
       "89810                                           5.0               1   \n",
       "89841                                           0.0               0   \n",
       "89855                                           0.0               1   \n",
       "89866                                           0.0               0   \n",
       "89877                                           1.0               1   \n",
       "\n",
       "       Female Professor  \n",
       "5                     0  \n",
       "21                    0  \n",
       "25                    1  \n",
       "39                    0  \n",
       "40                    1  \n",
       "...                 ...  \n",
       "89810                 0  \n",
       "89841                 1  \n",
       "89855                 0  \n",
       "89866                 1  \n",
       "89877                 0  \n",
       "\n",
       "[7105 rows x 8 columns]"
      ]
     },
     "execution_count": 15,
     "metadata": {},
     "output_type": "execute_result"
    }
   ],
   "source": [
    "# Step 1: Keep rows where 'Number of ratings' is greater or equal to 10\n",
    "numDat = numDat.loc[numDat['Number of ratings'] >= 10]\n",
    "\n",
    "# Step 2: Remove rows where 'Male Professor' and 'Female Professor' are both 0 or both 1\n",
    "numDat = numDat.loc[\n",
    "    ~((numDat['Male Professor'] == 0) & (numDat['Female Professor'] == 0)) &\n",
    "    ~((numDat['Male Professor'] == 1) & (numDat['Female Professor'] == 1))\n",
    "]\n",
    "\n",
    "# Display the final filtered dataset\n",
    "numDat\n"
   ]
  },
  {
   "cell_type": "markdown",
   "metadata": {},
   "source": [
    "### Part 1.) Investigate Confounds"
   ]
  },
  {
   "cell_type": "markdown",
   "metadata": {},
   "source": [
    "Boston University Definition of Confound: The confounding factor must be related to both the groups being compared and the result being measured. The confounding factor must not be evenly spread across the groups being compared. The confounding factor cannot be part of the cause-and-effect link between the groups and the result.\n",
    "https://sphweb.bumc.bu.edu/otlt/mph-modules/bs/bs704-ep713_confounding-em/BS704-EP713_Confounding-EM3.html"
   ]
  },
  {
   "cell_type": "markdown",
   "metadata": {},
   "source": [
    "To find out whether there is a true spread in variance in the distribution of ratings of proifessors solely based on GENDER, we need to account for variables that have an impact on the variance independently of gender. Maybe difference in distribution of the variance of ratings is NOT about being a man or woman but about something else! Some other variable that imay lead us to belive there is a difference in ratings based on gender alone. We aim to find these confounds. \n",
    "We cannot control for confounds that are not in our data, so we will focus on the predictors that we have (column names)... Possible confounds to study [Average difficulty, number of ratings, received pepper, proportion that wouid take again, ratings from online]..."
   ]
  },
  {
   "cell_type": "markdown",
   "metadata": {},
   "source": [
    "#### Is online course rating a confound?"
   ]
  },
  {
   "cell_type": "code",
   "execution_count": null,
   "metadata": {},
   "outputs": [
    {
     "name": "stdout",
     "output_type": "stream",
     "text": [
      "Mann-Whitney U Statistic: 5929380.0\n",
      "P-value: 7.3909862158361805e-06\n",
      "Mean number of online ratings (Male): 0.653373463757211\n",
      "Mean number of online ratings (Female): 0.8787684413085312\n",
      "Female professors tend to have more online ratings than male professors.\n",
      "There is a significant difference in the number of online ratings between male and female professors.\n"
     ]
    }
   ],
   "source": [
    "# Is the number of ratings from online class a confound?\n",
    "\n",
    "# Significant difference in number of ratings from online classes between male and female professors?\n",
    "\n",
    "from scipy.stats import mannwhitneyu\n",
    "\n",
    "# Separate the data into male and female professors\n",
    "male_online = numDat[numDat['Male Professor'] == 1]['Number of ratings coming from online classes']\n",
    "female_online = numDat[numDat['Female Professor'] == 1]['Number of ratings coming from online classes']\n",
    "\n",
    "# Perform the Mann-Whitney U test\n",
    "stat, p_value = mannwhitneyu(male_online, female_online, alternative='two-sided')\n",
    "\n",
    "# Calculate medians for additional context\n",
    "male_mean = male_online.mean()\n",
    "female_mean = female_online.mean()\n",
    "\n",
    "# Print the results\n",
    "print(f\"Mann-Whitney U Statistic: {stat}\")\n",
    "print(f\"P-value: {p_value}\")\n",
    "print(f\"Mean number of online ratings (Male): {male_mean}\")\n",
    "print(f\"Mean number of online ratings (Female): {female_mean}\")\n",
    "\n",
    "# Compare medians to determine which group tends to have more online ratings\n",
    "if male_mean > female_mean:\n",
    "    print(\"Male professors tend to have more online ratings than female professors.\")\n",
    "elif male_mean < female_mean:\n",
    "    print(\"Female professors tend to have more online ratings than male professors.\")\n",
    "else:\n",
    "    print(\"Male and female professors have the same mean number of online ratings.\")\n",
    "\n",
    "# Interpret the results\n",
    "if p_value < 0.005:\n",
    "    print(\"There is a significant difference in the number of online ratings between male and female professors.\")\n",
    "else:\n",
    "    print(\"There is no significant difference in the number of online ratings between male and female professors.\")\n"
   ]
  },
  {
   "cell_type": "markdown",
   "metadata": {},
   "source": [
    "Since pvalue is well below .005, we conclude that there is a sig difference in number of ratings coming from online classes between male and female professors.\n",
    "This means that we need to continue investigating potential confound. \n",
    "This gives us first part of Part 1.) that the potential confound is related to the groups being compared.\n",
    "It also gives us Part 2.) that there is a difference in distribution. We still need second part of Part 1.) to see if the potential confound impacts the variance in ratings between men and women. And Part 3.) If the confound is part of causal pathway... We will now look at the impact on variance."
   ]
  },
  {
   "cell_type": "code",
   "execution_count": 24,
   "metadata": {},
   "outputs": [
    {
     "name": "stdout",
     "output_type": "stream",
     "text": [
      "Levene's Test for Online Classes\n",
      "Statistic: 1.2401385021064766, P-value: 0.26560347477452384\n",
      "No significant difference in variance for online classes.\n",
      "\n",
      "Levene's Test for In-Person Classes\n",
      "Statistic: 10.258252461918532, P-value: 0.0013686182167673385\n",
      "Significant difference in variance for in-person classes.\n"
     ]
    }
   ],
   "source": [
    "# We check if the confounding factor impacts the variance between the two groups\n",
    "# we test difference in variance between man and woman profs when we only consider in person\n",
    "# we test difference in variance between man and woman profs when we consider online\n",
    "\n",
    "from scipy.stats import levene\n",
    "\n",
    "# Separate data based on the confound: online vs. in-person classes\n",
    "online_data = numDat[numDat['Number of ratings coming from online classes'] > 0]\n",
    "in_person_data = numDat[numDat['Number of ratings coming from online classes'] == 0]\n",
    "\n",
    "# Perform Levene's test for online classes\n",
    "online_male_ratings = online_data[online_data['Male Professor'] == 1]['Average Rating']\n",
    "online_female_ratings = online_data[online_data['Female Professor'] == 1]['Average Rating']\n",
    "stat_online, p_value_online = levene(online_male_ratings, online_female_ratings)\n",
    "\n",
    "# Perform Levene's test for in-person classes\n",
    "in_person_male_ratings = in_person_data[in_person_data['Male Professor'] == 1]['Average Rating']\n",
    "in_person_female_ratings = in_person_data[in_person_data['Female Professor'] == 1]['Average Rating']\n",
    "stat_in_person, p_value_in_person = levene(in_person_male_ratings, in_person_female_ratings)\n",
    "\n",
    "# Print results\n",
    "print(\"Levene's Test for Online Classes\")\n",
    "print(f\"Statistic: {stat_online}, P-value: {p_value_online}\")\n",
    "if p_value_online < 0.005:\n",
    "    print(\"Significant difference in variance for online classes.\")\n",
    "else:\n",
    "    print(\"No significant difference in variance for online classes.\")\n",
    "\n",
    "print(\"\\nLevene's Test for In-Person Classes\")\n",
    "print(f\"Statistic: {stat_in_person}, P-value: {p_value_in_person}\")\n",
    "if p_value_in_person < 0.005:\n",
    "    print(\"Significant difference in variance for in-person classes.\")\n",
    "else:\n",
    "    print(\"No significant difference in variance for in-person classes.\")\n"
   ]
  },
  {
   "cell_type": "markdown",
   "metadata": {},
   "source": [
    "We have showed part 1 and part 2 of the definition of confound... We need part 3 to finally assert that this is a confound."
   ]
  },
  {
   "cell_type": "code",
   "execution_count": 25,
   "metadata": {},
   "outputs": [
    {
     "name": "stdout",
     "output_type": "stream",
     "text": [
      "Model 1 - Levene's Test (Without Confound): Statistic=9.24049619037024, P-value=0.0023758275835819506\n",
      "Significant difference in variance between male and female professors (ignoring confound).\n"
     ]
    }
   ],
   "source": [
    "from scipy.stats import levene\n",
    "\n",
    "# Perform Levene's test between male and female professors (ignoring confound)\n",
    "male_ratings = numDat[numDat['Male Professor'] == 1]['Average Rating']\n",
    "female_ratings = numDat[numDat['Female Professor'] == 1]['Average Rating']\n",
    "\n",
    "# Levene's test for variance differences\n",
    "stat, p_value = levene(male_ratings, female_ratings)\n",
    "print(f\"Model 1 - Levene's Test (Without Confound): Statistic={stat}, P-value={p_value}\")\n",
    "\n",
    "if p_value < 0.005:\n",
    "    print(\"Significant difference in variance between male and female professors (ignoring confound).\")\n",
    "else:\n",
    "    print(\"No significant difference in variance between male and female professors (ignoring confound).\")\n"
   ]
  },
  {
   "cell_type": "markdown",
   "metadata": {},
   "source": [
    "the variance in distribution is significantly different when we completely igonore the potential confound."
   ]
  },
  {
   "cell_type": "code",
   "execution_count": 27,
   "metadata": {},
   "outputs": [
    {
     "name": "stdout",
     "output_type": "stream",
     "text": [
      "Model 2 - Online Classes: Statistic=1.2401385021064766, P-value=0.26560347477452384\n",
      "Model 2 - In-Person Classes: Statistic=10.258252461918532, P-value=0.0013686182167673385\n"
     ]
    }
   ],
   "source": [
    "# Stratify by online/in-person classes\n",
    "online_data = numDat[numDat['Number of ratings coming from online classes'] > 0]\n",
    "in_person_data = numDat[numDat['Number of ratings coming from online classes'] == 0]\n",
    "\n",
    "# Levene's test for online classes\n",
    "online_male = online_data[online_data['Male Professor'] == 1]['Average Rating']\n",
    "online_female = online_data[online_data['Female Professor'] == 1]['Average Rating']\n",
    "stat_online, p_online = levene(online_male, online_female)\n",
    "print(f\"Model 2 - Online Classes: Statistic={stat_online}, P-value={p_online}\")\n",
    "\n",
    "# Levene's test for in-person classes\n",
    "in_person_male = in_person_data[in_person_data['Male Professor'] == 1]['Average Rating']\n",
    "in_person_female = in_person_data[in_person_data['Female Professor'] == 1]['Average Rating']\n",
    "stat_in_person, p_in_person = levene(in_person_male, in_person_female)\n",
    "print(f\"Model 2 - In-Person Classes: Statistic={stat_in_person}, P-value={p_in_person}\")\n"
   ]
  },
  {
   "cell_type": "markdown",
   "metadata": {},
   "source": [
    "the variance in distribution is NOT sig different between male and female when professors have at least 1 rating coming online course.\n",
    "the variance in distribution is significantly different when considering only in person classes.\n",
    "The confound (online ratings) is not a step in the cause-and-effect chain from gender to variance.\n",
    "Instead:\n",
    "\n",
    "Gender affects variance independently in in-person settings.\n",
    "Online ratings change the context but do not explain how gender influences variance."
   ]
  },
  {
   "cell_type": "markdown",
   "metadata": {},
   "source": [
    "Since this variable fails to meet the third criteria of the definition of confound, it is not a confound. So we do not need to control for online classes when we study the differences in distribution."
   ]
  },
  {
   "cell_type": "markdown",
   "metadata": {},
   "source": [
    "#### Is the amount of students who say they will take the class again a confound?"
   ]
  },
  {
   "cell_type": "code",
   "execution_count": 32,
   "metadata": {},
   "outputs": [
    {
     "name": "stdout",
     "output_type": "stream",
     "text": [
      "1142\n",
      "Mann-Whitney U Statistic: 4608783.0\n",
      "P-value: 0.00029544289907204883\n",
      "The proportion of students who would take the class again significantly differs between male and female professors.\n"
     ]
    }
   ],
   "source": [
    "# Check for missing values in the column\n",
    "print(numDat['Proportion of students that said they would take the class again'].isnull().sum())\n",
    "\n",
    "# Drop rows with missing values in the relevant column\n",
    "numDat_cleaned = numDat.dropna(subset=['Proportion of students that said they would take the class again'])\n",
    "\n",
    "from scipy.stats import mannwhitneyu\n",
    "\n",
    "# Separate the proportions by gender\n",
    "male_proportion = numDat_cleaned[numDat_cleaned['Male Professor'] == 1]['Proportion of students that said they would take the class again']\n",
    "female_proportion = numDat_cleaned[numDat_cleaned['Female Professor'] == 1]['Proportion of students that said they would take the class again']\n",
    "\n",
    "# Perform Mann-Whitney U Test\n",
    "stat, p_value = mannwhitneyu(male_proportion, female_proportion, alternative='two-sided')\n",
    "\n",
    "# Print the results\n",
    "print(f\"Mann-Whitney U Statistic: {stat}\")\n",
    "print(f\"P-value: {p_value}\")\n",
    "\n",
    "# Interpret the results\n",
    "if p_value < 0.005:\n",
    "    print(\"The proportion of students who would take the class again significantly differs between male and female professors.\")\n",
    "else:\n",
    "    print(\"No significant difference in the proportion of students who would take the class again between genders.\")\n"
   ]
  },
  {
   "cell_type": "code",
   "execution_count": 35,
   "metadata": {},
   "outputs": [
    {
     "name": "stdout",
     "output_type": "stream",
     "text": [
      "count    5963.000000\n",
      "mean       77.869864\n",
      "std        24.172397\n",
      "min         4.000000\n",
      "25%        64.000000\n",
      "50%        86.000000\n",
      "75%       100.000000\n",
      "max       100.000000\n",
      "Name: Proportion of students that said they would take the class again, dtype: float64\n"
     ]
    }
   ],
   "source": [
    "print(numDat['Proportion of students that said they would take the class again'].describe())\n",
    "high_proportion = numDat[numDat['Proportion of students that said they would take the class again'] >= 0.5]['Average Rating']\n",
    "low_proportion = numDat[numDat['Proportion of students that said they would take the class again'] < 0.5]['Average Rating']"
   ]
  },
  {
   "cell_type": "code",
   "execution_count": 36,
   "metadata": {},
   "outputs": [
    {
     "name": "stdout",
     "output_type": "stream",
     "text": [
      "Levene's Test Statistic: 1450.843490788304\n",
      "P-value: 2.4637706485448985e-284\n",
      "The proportion of students who said they would take the class again significantly affects the variance in ratings.\n"
     ]
    }
   ],
   "source": [
    "median_value = numDat['Proportion of students that said they would take the class again'].median()\n",
    "\n",
    "# Split into high and low groups\n",
    "high_proportion = numDat[numDat['Proportion of students that said they would take the class again'] >= median_value]['Average Rating']\n",
    "low_proportion = numDat[numDat['Proportion of students that said they would take the class again'] < median_value]['Average Rating']\n",
    "\n",
    "# Perform Levene's Test\n",
    "stat, p_value = levene(high_proportion, low_proportion)\n",
    "print(f\"Levene's Test Statistic: {stat}\")\n",
    "print(f\"P-value: {p_value}\")\n",
    "\n",
    "# Interpretation\n",
    "if p_value < 0.005:\n",
    "    print(\"The proportion of students who said they would take the class again significantly affects the variance in ratings.\")\n",
    "else:\n",
    "    print(\"No significant effect of the proportion of students who said they would take the class again on variance in ratings.\")"
   ]
  },
  {
   "cell_type": "markdown",
   "metadata": {},
   "source": [
    "Part 1 from the definition is satisfied."
   ]
  },
  {
   "cell_type": "code",
   "execution_count": 38,
   "metadata": {},
   "outputs": [
    {
     "name": "stdout",
     "output_type": "stream",
     "text": [
      "Mann-Whitney U Statistic: 4608783.0\n",
      "P-value: 0.00029544289907204883\n",
      "The distributions of proportions significantly differ between male and female professors.\n"
     ]
    }
   ],
   "source": [
    "# Drop rows with missing values in the relevant column\n",
    "numDat_cleaned = numDat.dropna(subset=['Proportion of students that said they would take the class again'])\n",
    "\n",
    "# Test for significant difference\n",
    "male_proportion = numDat_cleaned[numDat_cleaned['Male Professor'] == 1]['Proportion of students that said they would take the class again']\n",
    "female_proportion = numDat_cleaned[numDat_cleaned['Female Professor'] == 1]['Proportion of students that said they would take the class again']\n",
    "\n",
    "# Perform Mann-Whitney U Test\n",
    "stat, p_value = mannwhitneyu(male_proportion, female_proportion, alternative='two-sided')\n",
    "\n",
    "# Print the results\n",
    "print(f\"Mann-Whitney U Statistic: {stat}\")\n",
    "print(f\"P-value: {p_value}\")\n",
    "\n",
    "# Interpretation\n",
    "if p_value < 0.005:\n",
    "    print(\"The distributions of proportions significantly differ between male and female professors.\")\n",
    "else:\n",
    "    print(\"No significant difference in the distributions of proportions between male and female professors.\")"
   ]
  },
  {
   "cell_type": "markdown",
   "metadata": {},
   "source": [
    "Part 2 is satisfied"
   ]
  },
  {
   "cell_type": "code",
   "execution_count": 40,
   "metadata": {},
   "outputs": [
    {
     "name": "stdout",
     "output_type": "stream",
     "text": [
      "High Proportion Group - Levene's Test: Statistic=0.432246476530565, P-value=0.5109382361952286\n",
      "Low Proportion Group - Levene's Test: Statistic=0.5362513575446983, P-value=0.4640495263049311\n"
     ]
    }
   ],
   "source": [
    "# Calculate the median proportion\n",
    "median_value = numDat['Proportion of students that said they would take the class again'].median()\n",
    "\n",
    "# Split the dataset into high and low proportion groups\n",
    "high_proportion = numDat[numDat['Proportion of students that said they would take the class again'] >= median_value]\n",
    "low_proportion = numDat[numDat['Proportion of students that said they would take the class again'] < median_value]\n",
    "\n",
    "# Levene's test for the high proportion group\n",
    "male_high = high_proportion[high_proportion['Male Professor'] == 1]['Average Rating']\n",
    "female_high = high_proportion[high_proportion['Female Professor'] == 1]['Average Rating']\n",
    "stat_high, p_high = levene(male_high, female_high)\n",
    "\n",
    "# Levene's test for the low proportion group\n",
    "male_low = low_proportion[low_proportion['Male Professor'] == 1]['Average Rating']\n",
    "female_low = low_proportion[low_proportion['Female Professor'] == 1]['Average Rating']\n",
    "stat_low, p_low = levene(male_low, female_low)\n",
    "\n",
    "# Print results\n",
    "print(f\"High Proportion Group - Levene's Test: Statistic={stat_high}, P-value={p_high}\")\n",
    "print(f\"Low Proportion Group - Levene's Test: Statistic={stat_low}, P-value={p_low}\")"
   ]
  },
  {
   "cell_type": "markdown",
   "metadata": {},
   "source": [
    "If we account for the proportions, gender no longer impacts variance! This means that the proportion is the mediator between gender and variance ... \n",
    "When we remove the proportion, there is no longer affect of gender on the variance...  This means it is a mediator ... Example would be a stufy on happiness and exercise... \n",
    "excercise leads to happiness ... exercise leads to physical health which leads to happiness.... \n",
    "here the physical health is the mediator ... it is what enects to effect of the previous variable... so it is not a confound.\n",
    "for this example... something like sleep would be a confound ...exercise improves sleep whcih improves happiness but the sleep isnt necessarily the reason happiness increased ... if we remove sleep, we get a better read on how exercise impacts happiness.\n",
    "\n",
    "Part 3 is not satisfied. Proportions is a mediator not confound"
   ]
  },
  {
   "cell_type": "markdown",
   "metadata": {},
   "source": []
  },
  {
   "cell_type": "markdown",
   "metadata": {},
   "source": [
    "Received a pepper"
   ]
  },
  {
   "cell_type": "markdown",
   "metadata": {},
   "source": [
    "#### Part 1"
   ]
  },
  {
   "cell_type": "code",
   "execution_count": 41,
   "metadata": {},
   "outputs": [
    {
     "name": "stdout",
     "output_type": "stream",
     "text": [
      "Step 1: Test if 'Received a pepper' is Related to Both Gender and Variance\n",
      "Part 1: Mann-Whitney U Test (Gender): Statistic=6044025.0, P-value=0.020832155509970918\n",
      "No significant relationship between 'Received a pepper' and gender.\n",
      "Part 2: Levene's Test (Variance): Statistic=1320.4893622163518, P-value=2.4485463584329578e-265\n",
      "'Received a pepper' significantly affects variance in ratings.\n"
     ]
    }
   ],
   "source": [
    "# Part 1: Test if 'Received a pepper' is related to gender\n",
    "male_pepper = numDat[numDat['Male Professor'] == 1]['Received a pepper']\n",
    "female_pepper = numDat[numDat['Female Professor'] == 1]['Received a pepper']\n",
    "\n",
    "# Perform Mann-Whitney U Test\n",
    "stat_gender, p_value_gender = mannwhitneyu(male_pepper, female_pepper, alternative='two-sided')\n",
    "\n",
    "# Part 2: Test if 'Received a pepper' is related to variance in ratings\n",
    "pepper_yes = numDat[numDat['Received a pepper'] == 1]['Average Rating']\n",
    "pepper_no = numDat[numDat['Received a pepper'] == 0]['Average Rating']\n",
    "\n",
    "# Perform Levene's Test\n",
    "stat_variance, p_value_variance = levene(pepper_yes, pepper_no)\n",
    "\n",
    "# Print results for Step 1\n",
    "print(f\"Step 1: Test if 'Received a pepper' is Related to Both Gender and Variance\")\n",
    "print(f\"Part 1: Mann-Whitney U Test (Gender): Statistic={stat_gender}, P-value={p_value_gender}\")\n",
    "if p_value_gender < 0.005:\n",
    "    print(\"Significant relationship between 'Received a pepper' and gender.\")\n",
    "else:\n",
    "    print(\"No significant relationship between 'Received a pepper' and gender.\")\n",
    "\n",
    "print(f\"Part 2: Levene's Test (Variance): Statistic={stat_variance}, P-value={p_value_variance}\")\n",
    "if p_value_variance < 0.005:\n",
    "    print(\"'Received a pepper' significantly affects variance in ratings.\")\n",
    "else:\n",
    "    print(\"'Received a pepper' does not significantly affect variance in ratings.\")"
   ]
  },
  {
   "cell_type": "markdown",
   "metadata": {},
   "source": [
    "We see above that there is no significant difference between men and women receiving peppers. They are both equally likely. So, 'Received a pepper' is not a confound"
   ]
  },
  {
   "cell_type": "markdown",
   "metadata": {},
   "source": [
    "Average Difficulty"
   ]
  },
  {
   "cell_type": "markdown",
   "metadata": {},
   "source": [
    "#### Part 1"
   ]
  },
  {
   "cell_type": "code",
   "execution_count": 42,
   "metadata": {},
   "outputs": [
    {
     "name": "stdout",
     "output_type": "stream",
     "text": [
      "Step 1: Test if 'Average Difficulty' is Related to Both Gender and Variance\n",
      "Part 1: Mann-Whitney U Test (Gender): Statistic=6192402.0, P-value=0.7855271637343776\n",
      "No significant relationship between 'Average Difficulty' and gender.\n",
      "Part 2: Levene's Test (Variance): Statistic=1254.02897299669, P-value=4.1303291864652794e-253\n",
      "'Average Difficulty' significantly affects variance in ratings.\n"
     ]
    }
   ],
   "source": [
    "# Part 1: Test if 'Average Difficulty' is related to gender\n",
    "male_difficulty = numDat[numDat['Male Professor'] == 1]['Average Difficulty']\n",
    "female_difficulty = numDat[numDat['Female Professor'] == 1]['Average Difficulty']\n",
    "\n",
    "# Perform Mann-Whitney U Test\n",
    "stat_gender_difficulty, p_value_gender_difficulty = mannwhitneyu(male_difficulty, female_difficulty, alternative='two-sided')\n",
    "\n",
    "# Part 2: Test if 'Average Difficulty' is related to variance\n",
    "# Define high and low groups based on the median difficulty\n",
    "difficulty_high = numDat[numDat['Average Difficulty'] >= numDat['Average Difficulty'].median()]['Average Rating']\n",
    "difficulty_low = numDat[numDat['Average Difficulty'] < numDat['Average Difficulty'].median()]['Average Rating']\n",
    "\n",
    "# Perform Levene's Test\n",
    "stat_variance_difficulty, p_value_variance_difficulty = levene(difficulty_high, difficulty_low)\n",
    "\n",
    "# Print results for Step 1\n",
    "print(f\"Step 1: Test if 'Average Difficulty' is Related to Both Gender and Variance\")\n",
    "print(f\"Part 1: Mann-Whitney U Test (Gender): Statistic={stat_gender_difficulty}, P-value={p_value_gender_difficulty}\")\n",
    "if p_value_gender_difficulty < 0.005:\n",
    "    print(\"Significant relationship between 'Average Difficulty' and gender.\")\n",
    "else:\n",
    "    print(\"No significant relationship between 'Average Difficulty' and gender.\")\n",
    "\n",
    "print(f\"Part 2: Levene's Test (Variance): Statistic={stat_variance_difficulty}, P-value={p_value_variance_difficulty}\")\n",
    "if p_value_variance_difficulty < 0.005:\n",
    "    print(\"'Average Difficulty' significantly affects variance in ratings.\")\n",
    "else:\n",
    "    print(\"'Average Difficulty' does not significantly affect variance in ratings.\")"
   ]
  },
  {
   "cell_type": "markdown",
   "metadata": {},
   "source": [
    "Since we check for confounds and none are confounds, we can test the difference in the variance between the two genders using the original dataset ..."
   ]
  },
  {
   "cell_type": "code",
   "execution_count": 43,
   "metadata": {},
   "outputs": [
    {
     "name": "stdout",
     "output_type": "stream",
     "text": [
      "Levene's Test Statistic: 9.24049619037024\n",
      "P-value: 0.0023758275835819506\n",
      "There is a significant difference in the variance of rating distribution between male and female professors.\n"
     ]
    }
   ],
   "source": [
    "# Separate ratings by gender\n",
    "male_ratings = numDat[numDat['Male Professor'] == 1]['Average Rating']\n",
    "female_ratings = numDat[numDat['Female Professor'] == 1]['Average Rating']\n",
    "\n",
    "# Perform Levene's Test\n",
    "stat, p_value = levene(male_ratings, female_ratings)\n",
    "\n",
    "# Print results\n",
    "print(f\"Levene's Test Statistic: {stat}\")\n",
    "print(f\"P-value: {p_value}\")\n",
    "\n",
    "# Interpretation\n",
    "if p_value < 0.005:\n",
    "    print(\"There is a significant difference in the variance of rating distribution between male and female professors.\")\n",
    "else:\n",
    "    print(\"There is no significant difference in the variance of rating distribution between male and female professors.\")\n"
   ]
  },
  {
   "cell_type": "markdown",
   "metadata": {},
   "source": []
  },
  {
   "cell_type": "code",
   "execution_count": 46,
   "metadata": {},
   "outputs": [
    {
     "data": {
      "image/png": "[encoded data removed]",
      "text/plain": [
       "<Figure size 1400x600 with 2 Axes>"
      ]
     },
     "metadata": {},
     "output_type": "display_data"
    }
   ],
   "source": [
    "#### Below we plot the two distributions\n",
    "\n",
    "import matplotlib.pyplot as plt\n",
    "\n",
    "# Separate male and female professor data\n",
    "male_data = numDat[numDat['Male Professor'] == 1]['Average Rating']\n",
    "female_data = numDat[numDat['Female Professor'] == 1]['Average Rating']\n",
    "\n",
    "# Create subplots for histograms\n",
    "fig, axes = plt.subplots(1, 2, figsize=(14, 6), sharey=True)\n",
    "\n",
    "# Male professor histogram\n",
    "axes[0].hist(male_data, bins=10, alpha=0.7, color='blue', density=True)\n",
    "axes[0].set_title('Histogram of Average Ratings (Male Professors)', fontsize=14)\n",
    "axes[0].set_xlabel('Average Rating', fontsize=12)\n",
    "axes[0].set_ylabel('Density', fontsize=12)\n",
    "\n",
    "# Female professor histogram\n",
    "axes[1].hist(female_data, bins=10, alpha=0.7, color='orange', density=True)\n",
    "axes[1].set_title('Histogram of Average Ratings (Female Professors)', fontsize=14)\n",
    "axes[1].set_xlabel('Average Rating', fontsize=12)\n",
    "\n",
    "# Adjust layout\n",
    "plt.tight_layout()\n",
    "plt.show()\n",
    "\n"
   ]
  },
  {
   "cell_type": "markdown",
   "metadata": {},
   "source": [
    "In both cases there is a significant difference in the variance of ratings between male and female subjects."
   ]
  },
  {
   "cell_type": "code",
   "execution_count": 56,
   "metadata": {},
   "outputs": [
    {
     "name": "stdout",
     "output_type": "stream",
     "text": [
      "Variance of Male Data 2: 0.7349135518332334\n",
      "Variance of Female Data 2: 0.8070924350172214\n"
     ]
    }
   ],
   "source": [
    "import numpy as np\n",
    "\n",
    "# Compute variances\n",
    "\n",
    "var_male2 = np.var(male_data2, ddof=1)\n",
    "var_female2 = np.var(female_data2, ddof=1)\n",
    "\n",
    "print(f\"Variance of Male Data 2: {var_male2}\")\n",
    "print(f\"Variance of Female Data 2: {var_female2}\")\n"
   ]
  },
  {
   "cell_type": "markdown",
   "metadata": {},
   "source": [
    "The ratings for female professor is more inconsistent with a higher variance of .8\n",
    "The ratings for male professors is more consistent with a variance of about .7"
   ]
  },
  {
   "cell_type": "code",
   "execution_count": 57,
   "metadata": {},
   "outputs": [
    {
     "name": "stdout",
     "output_type": "stream",
     "text": [
      "Male Data Size: 3987\n",
      "Female Data Size: 3118\n"
     ]
    }
   ],
   "source": [
    "print(f\"Male Data Size: {len(male_data2)}\")\n",
    "print(f\"Female Data Size: {len(female_data2)}\")"
   ]
  },
  {
   "cell_type": "code",
   "execution_count": 58,
   "metadata": {},
   "outputs": [
    {
     "name": "stdout",
     "output_type": "stream",
     "text": [
      "CV for Male Professors (Group 1): 0.21429927763122836\n",
      "CV for Female Professors (Group 1): 0.22899738190211494\n"
     ]
    }
   ],
   "source": [
    "import numpy as np\n",
    "\n",
    "# Calculate mean and standard deviation\n",
    "mean_male1 = np.mean(male_data1)\n",
    "mean_female1 = np.mean(female_data1)\n",
    "std_male1 = np.std(male_data1, ddof=1)\n",
    "std_female1 = np.std(female_data1, ddof=1)\n",
    "\n",
    "# Coefficient of variation\n",
    "cv_male1 = std_male1 / mean_male1\n",
    "cv_female1 = std_female1 / mean_female1\n",
    "\n",
    "print(f\"CV for Male Professors (Group 1): {cv_male1}\")\n",
    "print(f\"CV for Female Professors (Group 1): {cv_female1}\")\n"
   ]
  }
 ],
 "metadata": {
  "kernelspec": {
   "display_name": "base",
   "language": "python",
   "name": "python3"
  },
  "language_info": {
   "codemirror_mode": {
    "name": "ipython",
    "version": 3
   },
   "file_extension": ".py",
   "mimetype": "text/x-python",
   "name": "python",
   "nbconvert_exporter": "python",
   "pygments_lexer": "ipython3",
   "version": "3.10.15"
  }
 },
 "nbformat": 4,
 "nbformat_minor": 4
}
