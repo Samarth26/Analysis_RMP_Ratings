{
 "cells": [
  {
   "cell_type": "code",
   "execution_count": 18,
   "metadata": {},
   "outputs": [],
   "source": [
    "# Importing libraries\n",
    "import pandas as pd\n",
    "import numpy as np\n",
    "import matplotlib.pyplot as plt\n",
    "import seaborn as sns\n",
    "from scipy import stats\n",
    "from scipy.stats import levene\n",
    "from scipy.stats import ttest_ind"
   ]
  },
  {
   "cell_type": "markdown",
   "metadata": {},
   "source": [
    "Definition of confounding variable: (1) they affect the dependent variable and (2) the groups differ on the confounding variable.$\\newline$, (3) They cannot be part of causal link between Dependent and Indepoendent\n",
    "\n",
    "We take confounds as attributes of professors that would impact a students ability to rate them honestly\n",
    "\n",
    "Analysis Plan:$\\newline$\n",
    "\n",
    "Step 1) Test wether or not there is a significant difference in the two groups without controlling for potential confounds.$\\newline$\n",
    "\n",
    "Step 2) Check for potential confounding variables. We use significance testing and correlation tests to see if 1) the there is a correlation between the potential confound and the dependent variable, and 2), to see if there is a correlation between the potential confound and the idependent variable.$\\newline$\n",
    "\n",
    "Step 3) If not a confound, we forget about it and start over.$\\newline$\n",
    "\n",
    "Step 4) If it is a confound, we will control for it using stratification and see what has changed between the relationship between the independent variable and the dependent variable.$\\newline$\n",
    "\n",
    "NOTE: To avoid Type 1 errors, we set alpha = .005. Also, to avoid p-hacking, we stick with a plan to divide subgroups for stratification within each question and use the same grouping throughout the problem. We will use the median split for this problem."
   ]
  },
  {
   "cell_type": "code",
   "execution_count": 4,
   "metadata": {},
   "outputs": [],
   "source": [
    "'''\n",
    "Columns are:\n",
    "1. Average Rating (the arithmetic mean of all individual quality ratings of this professor)\n",
    "2. Average Difficulty (the arithmetic mean of all individual difficulty ratings of this professor)\n",
    "3. Number of ratings (simply the total number of ratings these averages are based on)\n",
    "4. Received a “pepper”? (Boolean - was this professor judged as “hot” by the students?)\n",
    "5. The proportion of students that said they would take the class again\n",
    "6. The number of ratings coming from online classes\n",
    "7. Male gender (Boolean – 1: determined with high confidence that professor is male)\n",
    "8. Female (Boolean – 1: determined with high confidence that professor is female)\n",
    "'''\n",
    "numDat = pd.read_csv('rmpCapstoneNum.csv', header=None)\n",
    "numDat.columns = ['Average Rating', 'Average Difficulty', 'Number of ratings', 'Received a pepper', \n",
    "                       'Proportion of students that said they would take the class again', \n",
    "                       'Number of ratings coming from online classes', 'Male Professor', 'Female Professor']"
   ]
  },
  {
   "cell_type": "markdown",
   "metadata": {},
   "source": [
    "5) Is there a gender difference in terms of average difficulty? Again, a significance test is indicated.\n",
    "\n",
    "6) Please quantify the likely size of this effect at 95% confidence."
   ]
  },
  {
   "cell_type": "code",
   "execution_count": 5,
   "metadata": {},
   "outputs": [
    {
     "data": {
      "text/html": [
       "<div>\n",
       "<style scoped>\n",
       "    .dataframe tbody tr th:only-of-type {\n",
       "        vertical-align: middle;\n",
       "    }\n",
       "\n",
       "    .dataframe tbody tr th {\n",
       "        vertical-align: top;\n",
       "    }\n",
       "\n",
       "    .dataframe thead th {\n",
       "        text-align: right;\n",
       "    }\n",
       "</style>\n",
       "<table border=\"1\" class=\"dataframe\">\n",
       "  <thead>\n",
       "    <tr style=\"text-align: right;\">\n",
       "      <th></th>\n",
       "      <th>Average Rating</th>\n",
       "      <th>Average Difficulty</th>\n",
       "      <th>Number of ratings</th>\n",
       "      <th>Received a pepper</th>\n",
       "      <th>Proportion of students that said they would take the class again</th>\n",
       "      <th>Number of ratings coming from online classes</th>\n",
       "      <th>Male Professor</th>\n",
       "      <th>Female Professor</th>\n",
       "    </tr>\n",
       "  </thead>\n",
       "  <tbody>\n",
       "    <tr>\n",
       "      <th>5</th>\n",
       "      <td>3.5</td>\n",
       "      <td>3.3</td>\n",
       "      <td>22.0</td>\n",
       "      <td>0.0</td>\n",
       "      <td>56.0</td>\n",
       "      <td>7.0</td>\n",
       "      <td>1</td>\n",
       "      <td>0</td>\n",
       "    </tr>\n",
       "    <tr>\n",
       "      <th>21</th>\n",
       "      <td>2.6</td>\n",
       "      <td>4.1</td>\n",
       "      <td>10.0</td>\n",
       "      <td>0.0</td>\n",
       "      <td>NaN</td>\n",
       "      <td>0.0</td>\n",
       "      <td>1</td>\n",
       "      <td>0</td>\n",
       "    </tr>\n",
       "    <tr>\n",
       "      <th>25</th>\n",
       "      <td>4.3</td>\n",
       "      <td>3.3</td>\n",
       "      <td>16.0</td>\n",
       "      <td>1.0</td>\n",
       "      <td>83.0</td>\n",
       "      <td>0.0</td>\n",
       "      <td>0</td>\n",
       "      <td>1</td>\n",
       "    </tr>\n",
       "    <tr>\n",
       "      <th>39</th>\n",
       "      <td>3.5</td>\n",
       "      <td>3.2</td>\n",
       "      <td>20.0</td>\n",
       "      <td>1.0</td>\n",
       "      <td>NaN</td>\n",
       "      <td>0.0</td>\n",
       "      <td>1</td>\n",
       "      <td>0</td>\n",
       "    </tr>\n",
       "    <tr>\n",
       "      <th>40</th>\n",
       "      <td>1.8</td>\n",
       "      <td>3.8</td>\n",
       "      <td>15.0</td>\n",
       "      <td>0.0</td>\n",
       "      <td>22.0</td>\n",
       "      <td>1.0</td>\n",
       "      <td>0</td>\n",
       "      <td>1</td>\n",
       "    </tr>\n",
       "    <tr>\n",
       "      <th>...</th>\n",
       "      <td>...</td>\n",
       "      <td>...</td>\n",
       "      <td>...</td>\n",
       "      <td>...</td>\n",
       "      <td>...</td>\n",
       "      <td>...</td>\n",
       "      <td>...</td>\n",
       "      <td>...</td>\n",
       "    </tr>\n",
       "    <tr>\n",
       "      <th>89810</th>\n",
       "      <td>3.4</td>\n",
       "      <td>3.4</td>\n",
       "      <td>14.0</td>\n",
       "      <td>0.0</td>\n",
       "      <td>54.0</td>\n",
       "      <td>5.0</td>\n",
       "      <td>1</td>\n",
       "      <td>0</td>\n",
       "    </tr>\n",
       "    <tr>\n",
       "      <th>89841</th>\n",
       "      <td>4.2</td>\n",
       "      <td>3.8</td>\n",
       "      <td>11.0</td>\n",
       "      <td>0.0</td>\n",
       "      <td>NaN</td>\n",
       "      <td>0.0</td>\n",
       "      <td>0</td>\n",
       "      <td>1</td>\n",
       "    </tr>\n",
       "    <tr>\n",
       "      <th>89855</th>\n",
       "      <td>4.0</td>\n",
       "      <td>1.9</td>\n",
       "      <td>11.0</td>\n",
       "      <td>1.0</td>\n",
       "      <td>60.0</td>\n",
       "      <td>0.0</td>\n",
       "      <td>1</td>\n",
       "      <td>0</td>\n",
       "    </tr>\n",
       "    <tr>\n",
       "      <th>89866</th>\n",
       "      <td>4.4</td>\n",
       "      <td>3.6</td>\n",
       "      <td>14.0</td>\n",
       "      <td>1.0</td>\n",
       "      <td>88.0</td>\n",
       "      <td>0.0</td>\n",
       "      <td>0</td>\n",
       "      <td>1</td>\n",
       "    </tr>\n",
       "    <tr>\n",
       "      <th>89877</th>\n",
       "      <td>3.6</td>\n",
       "      <td>3.4</td>\n",
       "      <td>10.0</td>\n",
       "      <td>0.0</td>\n",
       "      <td>50.0</td>\n",
       "      <td>1.0</td>\n",
       "      <td>1</td>\n",
       "      <td>0</td>\n",
       "    </tr>\n",
       "  </tbody>\n",
       "</table>\n",
       "<p>7105 rows × 8 columns</p>\n",
       "</div>"
      ],
      "text/plain": [
       "       Average Rating  Average Difficulty  Number of ratings  \\\n",
       "5                 3.5                 3.3               22.0   \n",
       "21                2.6                 4.1               10.0   \n",
       "25                4.3                 3.3               16.0   \n",
       "39                3.5                 3.2               20.0   \n",
       "40                1.8                 3.8               15.0   \n",
       "...               ...                 ...                ...   \n",
       "89810             3.4                 3.4               14.0   \n",
       "89841             4.2                 3.8               11.0   \n",
       "89855             4.0                 1.9               11.0   \n",
       "89866             4.4                 3.6               14.0   \n",
       "89877             3.6                 3.4               10.0   \n",
       "\n",
       "       Received a pepper  \\\n",
       "5                    0.0   \n",
       "21                   0.0   \n",
       "25                   1.0   \n",
       "39                   1.0   \n",
       "40                   0.0   \n",
       "...                  ...   \n",
       "89810                0.0   \n",
       "89841                0.0   \n",
       "89855                1.0   \n",
       "89866                1.0   \n",
       "89877                0.0   \n",
       "\n",
       "       Proportion of students that said they would take the class again  \\\n",
       "5                                                   56.0                  \n",
       "21                                                   NaN                  \n",
       "25                                                  83.0                  \n",
       "39                                                   NaN                  \n",
       "40                                                  22.0                  \n",
       "...                                                  ...                  \n",
       "89810                                               54.0                  \n",
       "89841                                                NaN                  \n",
       "89855                                               60.0                  \n",
       "89866                                               88.0                  \n",
       "89877                                               50.0                  \n",
       "\n",
       "       Number of ratings coming from online classes  Male Professor  \\\n",
       "5                                               7.0               1   \n",
       "21                                              0.0               1   \n",
       "25                                              0.0               0   \n",
       "39                                              0.0               1   \n",
       "40                                              1.0               0   \n",
       "...                                             ...             ...   \n",
       "89810                                           5.0               1   \n",
       "89841                                           0.0               0   \n",
       "89855                                           0.0               1   \n",
       "89866                                           0.0               0   \n",
       "89877                                           1.0               1   \n",
       "\n",
       "       Female Professor  \n",
       "5                     0  \n",
       "21                    0  \n",
       "25                    1  \n",
       "39                    0  \n",
       "40                    1  \n",
       "...                 ...  \n",
       "89810                 0  \n",
       "89841                 1  \n",
       "89855                 0  \n",
       "89866                 1  \n",
       "89877                 0  \n",
       "\n",
       "[7105 rows x 8 columns]"
      ]
     },
     "execution_count": 5,
     "metadata": {},
     "output_type": "execute_result"
    }
   ],
   "source": [
    "# Keep rows where 'Number of ratings' is greater or equal to 10\n",
    "numDat = numDat.loc[numDat['Number of ratings'] >= 10]\n",
    "\n",
    "# Remove rows where 'Male Professor' and 'Female Professor' are both 0 or both 1\n",
    "numDat = numDat.loc[\n",
    "    ~((numDat['Male Professor'] == 0) & (numDat['Female Professor'] == 0)) &\n",
    "    ~((numDat['Male Professor'] == 1) & (numDat['Female Professor'] == 1))\n",
    "]\n",
    "\n",
    "# Display the final filtered dataset\n",
    "numDat"
   ]
  },
  {
   "cell_type": "markdown",
   "metadata": {},
   "source": [
    "First Visualize Distributions of Both"
   ]
  },
  {
   "cell_type": "code",
   "execution_count": 14,
   "metadata": {},
   "outputs": [],
   "source": [
    "numDat_Avg_Diff_Male = numDat[numDat['Male Professor']==1]\n",
    "numDat_Avg_Diff_Female = numDat[numDat['Female Professor']==1]"
   ]
  },
  {
   "cell_type": "code",
   "execution_count": 15,
   "metadata": {},
   "outputs": [
    {
     "data": {
      "image/png": "[encoded data removed]",
      "text/plain": [
       "<Figure size 1000x600 with 1 Axes>"
      ]
     },
     "metadata": {},
     "output_type": "display_data"
    }
   ],
   "source": [
    "# Create the plot\n",
    "plt.figure(figsize=(10, 6))\n",
    "\n",
    "# Male professors' histogram and KDE\n",
    "sns.histplot(\n",
    "    numDat_Avg_Diff_Male['Average Difficulty'], \n",
    "    kde=True, \n",
    "    color='blue', \n",
    "    label='Male Professors', \n",
    "    alpha=0.6\n",
    ")\n",
    "mean_male = numDat_Avg_Diff_Male['Average Difficulty'].mean()\n",
    "plt.axvline(mean_male, color='blue', linestyle='--', label=f'Mean (Male): {mean_male:.2f}')\n",
    "\n",
    "# Female professors' histogram and KDE\n",
    "sns.histplot(\n",
    "    numDat_Avg_Diff_Female['Average Difficulty'], \n",
    "    kde=True, \n",
    "    color='pink', \n",
    "    label='Female Professors', \n",
    "    alpha=0.6\n",
    ")\n",
    "mean_female = numDat_Avg_Diff_Female['Average Difficulty'].mean()\n",
    "plt.axvline(mean_female, color='pink', linestyle='--', label=f'Mean (Female): {mean_female:.2f}')\n",
    "\n",
    "# Customize the plot\n",
    "plt.title('Average Difficulty Ratings by Gender of Professor')\n",
    "plt.xlabel('Average Difficulty')\n",
    "plt.ylabel('Frequency')\n",
    "plt.legend()\n",
    "plt.grid(axis='y', linestyle='--', alpha=0.7)\n",
    "\n",
    "# Display the plot\n",
    "plt.show()\n"
   ]
  },
  {
   "cell_type": "code",
   "execution_count": 16,
   "metadata": {},
   "outputs": [
    {
     "name": "stdout",
     "output_type": "stream",
     "text": [
      "Variance of Average Difficulty (Male Professors): 0.592\n",
      "Variance of Average Difficulty (Female Professors): 0.587\n"
     ]
    }
   ],
   "source": [
    "# Compute variance for male professors\n",
    "variance_male = numDat_Avg_Diff_Male['Average Difficulty'].var()\n",
    "\n",
    "# Compute variance for female professors\n",
    "variance_female = numDat_Avg_Diff_Female['Average Difficulty'].var()\n",
    "\n",
    "# Display results\n",
    "print(f\"Variance of Average Difficulty (Male Professors): {variance_male:.3f}\")\n",
    "print(f\"Variance of Average Difficulty (Female Professors): {variance_female:.3f}\")"
   ]
  },
  {
   "cell_type": "code",
   "execution_count": 62,
   "metadata": {},
   "outputs": [
    {
     "name": "stdout",
     "output_type": "stream",
     "text": [
      "Mann-Whitney U Test:\n",
      "  U-Statistic: 6192402.000\n",
      "  P-Value: 0.786\n",
      "  Effect Size (Rank-Biserial Correlation): -0.004\n",
      "  95% Bootstrap CI for Effect Size: (-0.031, 0.025)\n",
      "  The distributions of average difficulty ratings do not significantly differ between male and female professors.\n",
      "\n",
      "Kolmogorov-Smirnov Test:\n",
      "  KS-Statistic: 0.009\n",
      "  P-Value: 0.997\n",
      "  The distributions of average difficulty ratings do not significantly differ between male and female professors.\n"
     ]
    }
   ],
   "source": [
    "from scipy.stats import mannwhitneyu, ks_2samp\n",
    "import numpy as np\n",
    "\n",
    "# Function to calculate the effect size (rank-biserial correlation)\n",
    "def rank_biserial_effect_size(u_stat, group1, group2):\n",
    "    n1, n2 = len(group1), len(group2)\n",
    "    return (2 * u_stat) / (n1 * n2) - 1\n",
    "\n",
    "# Function to calculate bootstrap confidence intervals for the effect size\n",
    "def bootstrap_effect_size_ci(group1, group2, num_bootstrap=1000, alpha=0.05):\n",
    "    bootstrapped_effect_sizes = []\n",
    "    for _ in range(num_bootstrap):\n",
    "        group1_sample = np.random.choice(group1, size=len(group1), replace=True)\n",
    "        group2_sample = np.random.choice(group2, size=len(group2), replace=True)\n",
    "        u_stat_sample, _ = mannwhitneyu(group1_sample, group2_sample, alternative='two-sided')\n",
    "        effect_size_sample = rank_biserial_effect_size(u_stat_sample, group1_sample, group2_sample)\n",
    "        bootstrapped_effect_sizes.append(effect_size_sample)\n",
    "    lower = np.percentile(bootstrapped_effect_sizes, 100 * (alpha / 2))\n",
    "    upper = np.percentile(bootstrapped_effect_sizes, 100 * (1 - alpha / 2))\n",
    "    return lower, upper\n",
    "\n",
    "# Filter for male and female professor difficulty ratings\n",
    "male_difficulty = numDat[numDat['Male Professor'] == 1]['Average Difficulty'].to_numpy()\n",
    "female_difficulty = numDat[numDat['Female Professor'] == 1]['Average Difficulty'].to_numpy()\n",
    "\n",
    "# Mann-Whitney U Test\n",
    "u_stat, p_value_mw = mannwhitneyu(male_difficulty, female_difficulty, alternative='two-sided')\n",
    "\n",
    "# Kolmogorov-Smirnov Test\n",
    "ks_stat, p_value_ks = ks_2samp(male_difficulty, female_difficulty)\n",
    "\n",
    "# Calculate effect size for Mann-Whitney U\n",
    "effect_size_mw = rank_biserial_effect_size(u_stat, male_difficulty, female_difficulty)\n",
    "\n",
    "# Bootstrap confidence interval for effect size\n",
    "ci_lower, ci_upper = bootstrap_effect_size_ci(male_difficulty, female_difficulty)\n",
    "\n",
    "# Display results\n",
    "print(\"Mann-Whitney U Test:\")\n",
    "print(f\"  U-Statistic: {u_stat:.3f}\")\n",
    "print(f\"  P-Value: {p_value_mw:.3f}\")\n",
    "print(f\"  Effect Size (Rank-Biserial Correlation): {effect_size_mw:.3f}\")\n",
    "print(f\"  95% Bootstrap CI for Effect Size: ({ci_lower:.3f}, {ci_upper:.3f})\")\n",
    "if p_value_mw < 0.005:\n",
    "    print(\"  The distributions of average difficulty ratings significantly differ between male and female professors.\")\n",
    "else:\n",
    "    print(\"  The distributions of average difficulty ratings do not significantly differ between male and female professors.\")\n",
    "\n",
    "print(\"\\nKolmogorov-Smirnov Test:\")\n",
    "print(f\"  KS-Statistic: {ks_stat:.3f}\")\n",
    "print(f\"  P-Value: {p_value_ks:.3f}\")\n",
    "if p_value_ks < 0.005:\n",
    "    print(\"  The distributions of average difficulty ratings significantly differ between male and female professors.\")\n",
    "else:\n",
    "    print(\"  The distributions of average difficulty ratings do not significantly differ between male and female professors.\")\n"
   ]
  },
  {
   "cell_type": "code",
   "execution_count": 53,
   "metadata": {},
   "outputs": [
    {
     "data": {
      "text/plain": [
       "3987"
      ]
     },
     "execution_count": 53,
     "metadata": {},
     "output_type": "execute_result"
    }
   ],
   "source": [
    "len(male_difficulty)"
   ]
  },
  {
   "cell_type": "code",
   "execution_count": 54,
   "metadata": {},
   "outputs": [
    {
     "data": {
      "text/plain": [
       "3118"
      ]
     },
     "execution_count": 54,
     "metadata": {},
     "output_type": "execute_result"
    }
   ],
   "source": [
    "len(female_difficulty)"
   ]
  },
  {
   "cell_type": "markdown",
   "metadata": {},
   "source": [
    "Power = .007"
   ]
  },
  {
   "cell_type": "code",
   "execution_count": null,
   "metadata": {},
   "outputs": [],
   "source": []
  },
  {
   "cell_type": "markdown",
   "metadata": {},
   "source": [
    "Testing Number of Ratings (proxy for experience) as a confound"
   ]
  },
  {
   "cell_type": "code",
   "execution_count": 40,
   "metadata": {},
   "outputs": [
    {
     "name": "stdout",
     "output_type": "stream",
     "text": [
      "The correlation between Number of rating and Average Difficulty is: 0.008\n"
     ]
    }
   ],
   "source": [
    "# Calculate the Pearson correlation between Average Rating and Average Difficulty\n",
    "correlation = numDat[['Number of ratings', 'Average Difficulty']].corr().iloc[0, 1]\n",
    "\n",
    "# Display the result\n",
    "print(f\"The correlation between Number of rating and Average Difficulty is: {correlation:.3f}\")"
   ]
  },
  {
   "cell_type": "code",
   "execution_count": 43,
   "metadata": {},
   "outputs": [
    {
     "name": "stdout",
     "output_type": "stream",
     "text": [
      "Kolmogorov-Smirnov Statistic: 0.034\n",
      "P-value: 0.030\n",
      "The distribution of Average Difficulty does not significantly change based on the Number of ratings.\n"
     ]
    }
   ],
   "source": [
    "from scipy.stats import ks_2samp\n",
    "\n",
    "# Step 1: Calculate the median of 'Number of ratings'\n",
    "median_ratings = numDat['Number of ratings'].median()\n",
    "\n",
    "# Step 2: Split 'Average Difficulty' into two groups based on the median of 'Number of ratings'\n",
    "below_median_difficulty = numDat[numDat['Number of ratings'] <= median_ratings]['Average Difficulty']\n",
    "above_median_difficulty = numDat[numDat['Number of ratings'] > median_ratings]['Average Difficulty']\n",
    "\n",
    "# Step 3: Perform KS test to compare distributions\n",
    "ks_stat, p_value = ks_2samp(below_median_difficulty, above_median_difficulty)\n",
    "\n",
    "# Display results\n",
    "print(f\"Kolmogorov-Smirnov Statistic: {ks_stat:.3f}\")\n",
    "print(f\"P-value: {p_value:.3f}\")\n",
    "\n",
    "# Interpretation\n",
    "if p_value < 0.005:  # Assuming a significance level of 0.005\n",
    "    print(\"The distribution of Average Difficulty significantly changes based on the Number of ratings.\")\n",
    "else:\n",
    "    print(\"The distribution of Average Difficulty does not significantly change based on the Number of ratings.\")\n",
    "\n"
   ]
  },
  {
   "cell_type": "markdown",
   "metadata": {},
   "source": [
    "Number of rating is not a confound for average difficulty."
   ]
  },
  {
   "cell_type": "markdown",
   "metadata": {},
   "source": [
    "Testing Average Rating as a confound"
   ]
  },
  {
   "cell_type": "code",
   "execution_count": 47,
   "metadata": {},
   "outputs": [
    {
     "name": "stdout",
     "output_type": "stream",
     "text": [
      "Kolmogorov-Smirnov Statistic: 0.470\n",
      "P-value: 0.000\n",
      "The distribution of Average Difficulty significantly changes based on Average ratings.\n"
     ]
    }
   ],
   "source": [
    "from scipy.stats import ks_2samp\n",
    "\n",
    "# Step 1: Calculate the median of 'Number of ratings'\n",
    "median_ratings = numDat['Average Rating'].median()\n",
    "\n",
    "# Step 2: Split 'Average Difficulty' into two groups based on the median of 'Number of ratings'\n",
    "below_median_difficulty = numDat[numDat['Average Rating'] <= median_ratings]['Average Difficulty']\n",
    "above_median_difficulty = numDat[numDat['Average Rating'] > median_ratings]['Average Difficulty']\n",
    "\n",
    "# Step 3: Perform KS test to compare distributions\n",
    "ks_stat, p_value = ks_2samp(below_median_difficulty, above_median_difficulty)\n",
    "\n",
    "# Display results\n",
    "print(f\"Kolmogorov-Smirnov Statistic: {ks_stat:.3f}\")\n",
    "print(f\"P-value: {p_value:.3f}\")\n",
    "\n",
    "# Interpretation\n",
    "if p_value < 0.005:  # Assuming a significance level of 0.005\n",
    "    print(\"The distribution of Average Difficulty significantly changes based on Average ratings.\")\n",
    "else:\n",
    "    print(\"The distribution of Average Difficulty does not significantly change based on Average ratings.\")"
   ]
  },
  {
   "cell_type": "code",
   "execution_count": 45,
   "metadata": {},
   "outputs": [
    {
     "name": "stdout",
     "output_type": "stream",
     "text": [
      "The correlation between Average Rating and Average Difficulty is: -0.651\n"
     ]
    }
   ],
   "source": [
    "# Calculate the Pearson correlation between Average Rating and Average Difficulty\n",
    "correlation = numDat[['Average Rating', 'Average Difficulty']].corr().iloc[0, 1]\n",
    "\n",
    "# Display the result\n",
    "print(f\"The correlation between Average Rating and Average Difficulty is: {correlation:.3f}\")\n"
   ]
  },
  {
   "cell_type": "markdown",
   "metadata": {},
   "source": [
    "Average Rating will be treated as a confound."
   ]
  },
  {
   "cell_type": "markdown",
   "metadata": {},
   "source": [
    "Received a peper"
   ]
  },
  {
   "cell_type": "code",
   "execution_count": 44,
   "metadata": {},
   "outputs": [
    {
     "name": "stdout",
     "output_type": "stream",
     "text": [
      "The correlation between 'Received a Pepper' and 'Average Difficulty' is: -0.290\n"
     ]
    }
   ],
   "source": [
    "# Compute the Pearson correlation between 'Received a Pepper' and 'Average Difficulty'\n",
    "correlation = numDat[['Received a pepper', 'Average Difficulty']].corr().iloc[0, 1]\n",
    "\n",
    "# Display the result\n",
    "print(f\"The correlation between 'Received a Pepper' and 'Average Difficulty' is: {correlation:.3f}\")\n"
   ]
  },
  {
   "cell_type": "code",
   "execution_count": 63,
   "metadata": {},
   "outputs": [
    {
     "name": "stdout",
     "output_type": "stream",
     "text": [
      "Mann-Whitney U Test:\n",
      "  U-Statistic: 4197152.000\n",
      "  P-Value: 0.000\n",
      "  The distributions of Average Difficulty significantly differ between professors who received a pepper and those who did not.\n",
      "\n",
      "Kolmogorov-Smirnov Test:\n",
      "  KS-Statistic: 0.269\n",
      "  P-Value: 0.000\n",
      "  The distributions of Average Difficulty significantly differ between professors who received a pepper and those who did not.\n"
     ]
    }
   ],
   "source": [
    "from scipy.stats import mannwhitneyu, ks_2samp\n",
    "\n",
    "# Filter for Average Difficulty based on 'Received a pepper'\n",
    "pepper_group = numDat[numDat['Received a pepper'] == 1]['Average Difficulty']\n",
    "no_pepper_group = numDat[numDat['Received a pepper'] == 0]['Average Difficulty']\n",
    "\n",
    "# Mann-Whitney U Test\n",
    "u_stat, p_value_mw = mannwhitneyu(pepper_group, no_pepper_group, alternative='two-sided')\n",
    "\n",
    "# Kolmogorov-Smirnov Test\n",
    "ks_stat, p_value_ks = ks_2samp(pepper_group, no_pepper_group)\n",
    "\n",
    "# Display results\n",
    "print(\"Mann-Whitney U Test:\")\n",
    "print(f\"  U-Statistic: {u_stat:.3f}\")\n",
    "print(f\"  P-Value: {p_value_mw:.3f}\")\n",
    "if p_value_mw < 0.005:\n",
    "    print(\"  The distributions of Average Difficulty significantly differ between professors who received a pepper and those who did not.\")\n",
    "else:\n",
    "    print(\"  The distributions of Average Difficulty do not significantly differ between professors who received a pepper and those who did not.\")\n",
    "\n",
    "print(\"\\nKolmogorov-Smirnov Test:\")\n",
    "print(f\"  KS-Statistic: {ks_stat:.3f}\")\n",
    "print(f\"  P-Value: {p_value_ks:.3f}\")\n",
    "if p_value_ks < 0.005:\n",
    "    print(\"  The distributions of Average Difficulty significantly differ between professors who received a pepper and those who did not.\")\n",
    "else:\n",
    "    print(\"  The distributions of Average Difficulty do not significantly differ between professors who received a pepper and those who did not.\")\n"
   ]
  },
  {
   "cell_type": "code",
   "execution_count": 25,
   "metadata": {},
   "outputs": [
    {
     "name": "stdout",
     "output_type": "stream",
     "text": [
      "Contingency Table:\n",
      "Received a pepper   0.0   1.0\n",
      "Male Professor               \n",
      "0                  1528  1590\n",
      "1                  2064  1923\n",
      "\n",
      "Chi-Square Statistic: 5.232\n",
      "P-value: 0.022\n",
      "Degrees of Freedom: 1\n"
     ]
    }
   ],
   "source": [
    "from scipy.stats import chi2_contingency\n",
    "\n",
    "# Create a contingency table\n",
    "contingency_table = pd.crosstab(numDat['Male Professor'], numDat['Received a pepper'])\n",
    "\n",
    "# Perform the chi-square test\n",
    "chi2, p_value, dof, expected = chi2_contingency(contingency_table)\n",
    "\n",
    "# Display the results\n",
    "print(\"Contingency Table:\")\n",
    "print(contingency_table)\n",
    "print(f\"\\nChi-Square Statistic: {chi2:.3f}\")\n",
    "print(f\"P-value: {p_value:.3f}\")\n",
    "print(f\"Degrees of Freedom: {dof}\")"
   ]
  },
  {
   "cell_type": "code",
   "execution_count": 56,
   "metadata": {},
   "outputs": [
    {
     "name": "stdout",
     "output_type": "stream",
     "text": [
      "Mann-Whitney U Statistic: 6044025.000\n",
      "P-value: 0.021\n",
      "The distributions of 'Received a pepper' do not significantly differ between male and female professors.\n"
     ]
    }
   ],
   "source": [
    "from scipy.stats import mannwhitneyu\n",
    "\n",
    "# Filter data for male and female professors\n",
    "male_pepper = numDat[numDat['Male Professor'] == 1]['Received a pepper']\n",
    "female_pepper = numDat[numDat['Male Professor'] == 0]['Received a pepper']\n",
    "\n",
    "# Perform Mann-Whitney U test\n",
    "u_stat, p_value = mannwhitneyu(male_pepper, female_pepper, alternative='two-sided')\n",
    "\n",
    "# Display results\n",
    "print(f\"Mann-Whitney U Statistic: {u_stat:.3f}\")\n",
    "print(f\"P-value: {p_value:.3f}\")\n",
    "\n",
    "# Interpretation\n",
    "if p_value < 0.005:  # Assuming a significance level of 0.005\n",
    "    print(\"The distributions of 'Received a pepper' significantly differ between male and female professors.\")\n",
    "else:\n",
    "    print(\"The distributions of 'Received a pepper' do not significantly differ between male and female professors.\")\n"
   ]
  },
  {
   "cell_type": "code",
   "execution_count": 59,
   "metadata": {},
   "outputs": [
    {
     "name": "stdout",
     "output_type": "stream",
     "text": [
      "Mann-Whitney U Test and Kolmogorov-Smirnov Test Results:\n",
      "Group: Pepper = No\n",
      "  Mann-Whitney U Test Statistic: 1549350.500\n",
      "  Mann-Whitney P-Value: 0.370\n",
      "  Not Significant\n",
      "  Kolmogorov-Smirnov Statistic: 0.033\n",
      "  Kolmogorov-Smirnov P-Value: 0.296\n",
      "  Not Significant\n",
      "Group: Pepper = Yes\n",
      "  Mann-Whitney U Test Statistic: 1509395.000\n",
      "  Mann-Whitney P-Value: 0.517\n",
      "  Not Significant\n",
      "  Kolmogorov-Smirnov Statistic: 0.019\n",
      "  Kolmogorov-Smirnov P-Value: 0.903\n",
      "  Not Significant\n"
     ]
    }
   ],
   "source": [
    "import numpy as np\n",
    "from scipy.stats import mannwhitneyu, ks_2samp\n",
    "\n",
    "# Iterate over conditions and perform tests\n",
    "print(\"Mann-Whitney U Test and Kolmogorov-Smirnov Test Results:\")\n",
    "for pepper_status in [0, 1]:  # 0 = No Pepper, 1 = Pepper\n",
    "    # Filter male and female groups for the current pepper status\n",
    "    males = numDat[(numDat['Male Professor'] == 1) &\n",
    "                   (numDat['Received a pepper'] == pepper_status)]['Average Difficulty']\n",
    "    \n",
    "    females = numDat[(numDat['Male Professor'] == 0) &\n",
    "                     (numDat['Received a pepper'] == pepper_status)]['Average Difficulty']\n",
    "    \n",
    "    # Check if both groups have enough data\n",
    "    if len(males) > 1 and len(females) > 1:\n",
    "        # Mann-Whitney U Test\n",
    "        u_stat, p_value_mw = mannwhitneyu(males, females, alternative='two-sided')\n",
    "        \n",
    "        # Kolmogorov-Smirnov Test\n",
    "        ks_stat, p_value_ks = ks_2samp(males, females)\n",
    "\n",
    "        # Print results for this subgroup\n",
    "        print(f\"Group: Pepper = {'Yes' if pepper_status == 1 else 'No'}\")\n",
    "        print(f\"  Mann-Whitney U Test Statistic: {u_stat:.3f}\")\n",
    "        print(f\"  Mann-Whitney P-Value: {p_value_mw:.3f}\")\n",
    "        print(f\"  {'Significant' if p_value_mw < 0.005 else 'Not Significant'}\")\n",
    "        print(f\"  Kolmogorov-Smirnov Statistic: {ks_stat:.3f}\")\n",
    "        print(f\"  Kolmogorov-Smirnov P-Value: {p_value_ks:.3f}\")\n",
    "        print(f\"  {'Significant' if p_value_ks < 0.005 else 'Not Significant'}\")\n",
    "    else:\n",
    "        # Print message if there is insufficient data\n",
    "        print(f\"Group: Pepper = {'Yes' if pepper_status == 1 else 'No'}\")\n",
    "        print(\"  Not enough data for Mann-Whitney U Test and Kolmogorov-Smirnov Test\")\n"
   ]
  },
  {
   "cell_type": "code",
   "execution_count": null,
   "metadata": {},
   "outputs": [],
   "source": []
  }
 ],
 "metadata": {
  "kernelspec": {
   "display_name": "base",
   "language": "python",
   "name": "python3"
  },
  "language_info": {
   "codemirror_mode": {
    "name": "ipython",
    "version": 3
   },
   "file_extension": ".py",
   "mimetype": "text/x-python",
   "name": "python",
   "nbconvert_exporter": "python",
   "pygments_lexer": "ipython3",
   "version": "3.10.15"
  }
 },
 "nbformat": 4,
 "nbformat_minor": 2
}
