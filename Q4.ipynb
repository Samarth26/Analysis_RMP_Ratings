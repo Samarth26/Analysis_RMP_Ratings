{
 "cells": [
  {
   "cell_type": "markdown",
   "metadata": {},
   "source": [
    "Is there a gender difference in the tags awarded by students? Make sure to teach each of the 20 tags for a potential gender difference and report which of them exhibit a statistically significant different. Comment on the 3 most gendered (lowest p-value) and least gendered (highest p-value) tags."
   ]
  },
  {
   "cell_type": "markdown",
   "metadata": {},
   "source": [
    "We need the rmpCapstoneNum and rmpCapstoneQual datasets to answer this question.\n",
    "\n",
    "Column 1: “Tough grader”Column 2: “Good feedback”Column 3: “Respected”Column 4: “Lots to read”Column 5: “Participation matters”Column 6: “Don’t skip class or you will not pass”Column 7: “Lots of homework”Column 8: “Inspirational”Column 9: “Pop quizzes!”Column 10: “Accessible”Column 11: “So many papers”Column 12: “Clear grading”Column 13: “Hilarious”Column 14: “Test heavy”Column 15: “Graded by few things”Column 16: “Amazing lectures”Column 17: “Caring”Column 18: “Extra credit”Column 19: “Group projects”Column 20: “Lecture heavy”"
   ]
  },
  {
   "cell_type": "code",
   "execution_count": 1,
   "metadata": {},
   "outputs": [],
   "source": [
    "import pandas as pd\n",
    "import numpy as np\n",
    "import matplotlib.pyplot as plt"
   ]
  },
  {
   "cell_type": "code",
   "execution_count": 2,
   "metadata": {},
   "outputs": [],
   "source": [
    "'''\n",
    "Columns are:\n",
    "1. Average Rating (the arithmetic mean of all individual quality ratings of this professor)\n",
    "2. Average Difficulty (the arithmetic mean of all individual difficulty ratings of this professor)\n",
    "3. Number of ratings (simply the total number of ratings these averages are based on)\n",
    "4. Received a “pepper”? (Boolean - was this professor judged as “hot” by the students?)\n",
    "5. The proportion of students that said they would take the class again\n",
    "6. The number of ratings coming from online classes\n",
    "7. Male gender (Boolean – 1: determined with high confidence that professor is male)\n",
    "8. Female (Boolean – 1: determined with high confidence that professor is female)\n",
    "'''\n",
    "df_capstone = pd.read_csv('./rmpCapstoneNum.csv', header=None)\n",
    "df_capstone.columns = ['Average Rating', 'Average Difficulty', 'Number of ratings', 'Received a pepper', \n",
    "                       'Proportion of students that said they would take the class again', \n",
    "                       'Number of ratings coming from online classes', 'Male Professor', 'Female Professor']\n"
   ]
  },
  {
   "cell_type": "code",
   "execution_count": 3,
   "metadata": {},
   "outputs": [],
   "source": [
    "df_capstone_tags = pd.read_csv('./rmpCapstoneTags.csv', header=None)\n",
    "df_capstone_tags.columns = ['Tough grader', 'Good feedback', 'Respected', 'Lots to read', 'Participation matters', \n",
    "                            'Don’t skip class or you will not pass', 'Lots of homework', 'Inspirational', 'Pop quizzes!', \n",
    "                            'Accessible', 'So many papers', 'Clear grading', 'Hilarious', 'Test heavy', 'Graded by few things', \n",
    "                            'Amazing lectures', 'Caring', 'Extra credit', 'Group projects', 'Lecture heavy']"
   ]
  },
  {
   "cell_type": "code",
   "execution_count": 4,
   "metadata": {},
   "outputs": [
    {
     "data": {
      "text/html": [
       "<div>\n",
       "<style scoped>\n",
       "    .dataframe tbody tr th:only-of-type {\n",
       "        vertical-align: middle;\n",
       "    }\n",
       "\n",
       "    .dataframe tbody tr th {\n",
       "        vertical-align: top;\n",
       "    }\n",
       "\n",
       "    .dataframe thead th {\n",
       "        text-align: right;\n",
       "    }\n",
       "</style>\n",
       "<table border=\"1\" class=\"dataframe\">\n",
       "  <thead>\n",
       "    <tr style=\"text-align: right;\">\n",
       "      <th></th>\n",
       "      <th>Average Rating</th>\n",
       "      <th>Average Difficulty</th>\n",
       "      <th>Number of ratings</th>\n",
       "      <th>Received a pepper</th>\n",
       "      <th>Proportion of students that said they would take the class again</th>\n",
       "      <th>Number of ratings coming from online classes</th>\n",
       "      <th>Male Professor</th>\n",
       "      <th>Female Professor</th>\n",
       "      <th>Tough grader</th>\n",
       "      <th>Good feedback</th>\n",
       "      <th>...</th>\n",
       "      <th>So many papers</th>\n",
       "      <th>Clear grading</th>\n",
       "      <th>Hilarious</th>\n",
       "      <th>Test heavy</th>\n",
       "      <th>Graded by few things</th>\n",
       "      <th>Amazing lectures</th>\n",
       "      <th>Caring</th>\n",
       "      <th>Extra credit</th>\n",
       "      <th>Group projects</th>\n",
       "      <th>Lecture heavy</th>\n",
       "    </tr>\n",
       "  </thead>\n",
       "  <tbody>\n",
       "    <tr>\n",
       "      <th>0</th>\n",
       "      <td>5.0</td>\n",
       "      <td>1.5</td>\n",
       "      <td>2.0</td>\n",
       "      <td>0.0</td>\n",
       "      <td>NaN</td>\n",
       "      <td>0.0</td>\n",
       "      <td>0</td>\n",
       "      <td>1</td>\n",
       "      <td>0</td>\n",
       "      <td>0</td>\n",
       "      <td>...</td>\n",
       "      <td>0</td>\n",
       "      <td>0</td>\n",
       "      <td>0</td>\n",
       "      <td>0</td>\n",
       "      <td>0</td>\n",
       "      <td>0</td>\n",
       "      <td>0</td>\n",
       "      <td>0</td>\n",
       "      <td>0</td>\n",
       "      <td>1</td>\n",
       "    </tr>\n",
       "    <tr>\n",
       "      <th>1</th>\n",
       "      <td>NaN</td>\n",
       "      <td>NaN</td>\n",
       "      <td>NaN</td>\n",
       "      <td>NaN</td>\n",
       "      <td>NaN</td>\n",
       "      <td>NaN</td>\n",
       "      <td>0</td>\n",
       "      <td>0</td>\n",
       "      <td>0</td>\n",
       "      <td>0</td>\n",
       "      <td>...</td>\n",
       "      <td>0</td>\n",
       "      <td>0</td>\n",
       "      <td>0</td>\n",
       "      <td>0</td>\n",
       "      <td>0</td>\n",
       "      <td>0</td>\n",
       "      <td>0</td>\n",
       "      <td>0</td>\n",
       "      <td>0</td>\n",
       "      <td>0</td>\n",
       "    </tr>\n",
       "    <tr>\n",
       "      <th>2</th>\n",
       "      <td>3.2</td>\n",
       "      <td>3.0</td>\n",
       "      <td>4.0</td>\n",
       "      <td>0.0</td>\n",
       "      <td>NaN</td>\n",
       "      <td>0.0</td>\n",
       "      <td>1</td>\n",
       "      <td>0</td>\n",
       "      <td>2</td>\n",
       "      <td>1</td>\n",
       "      <td>...</td>\n",
       "      <td>0</td>\n",
       "      <td>0</td>\n",
       "      <td>0</td>\n",
       "      <td>0</td>\n",
       "      <td>0</td>\n",
       "      <td>0</td>\n",
       "      <td>0</td>\n",
       "      <td>0</td>\n",
       "      <td>0</td>\n",
       "      <td>0</td>\n",
       "    </tr>\n",
       "    <tr>\n",
       "      <th>3</th>\n",
       "      <td>3.6</td>\n",
       "      <td>3.5</td>\n",
       "      <td>10.0</td>\n",
       "      <td>1.0</td>\n",
       "      <td>NaN</td>\n",
       "      <td>0.0</td>\n",
       "      <td>0</td>\n",
       "      <td>0</td>\n",
       "      <td>6</td>\n",
       "      <td>3</td>\n",
       "      <td>...</td>\n",
       "      <td>0</td>\n",
       "      <td>2</td>\n",
       "      <td>1</td>\n",
       "      <td>0</td>\n",
       "      <td>0</td>\n",
       "      <td>0</td>\n",
       "      <td>0</td>\n",
       "      <td>0</td>\n",
       "      <td>1</td>\n",
       "      <td>0</td>\n",
       "    </tr>\n",
       "    <tr>\n",
       "      <th>4</th>\n",
       "      <td>1.0</td>\n",
       "      <td>5.0</td>\n",
       "      <td>1.0</td>\n",
       "      <td>0.0</td>\n",
       "      <td>NaN</td>\n",
       "      <td>0.0</td>\n",
       "      <td>0</td>\n",
       "      <td>0</td>\n",
       "      <td>0</td>\n",
       "      <td>0</td>\n",
       "      <td>...</td>\n",
       "      <td>0</td>\n",
       "      <td>0</td>\n",
       "      <td>0</td>\n",
       "      <td>0</td>\n",
       "      <td>0</td>\n",
       "      <td>0</td>\n",
       "      <td>0</td>\n",
       "      <td>0</td>\n",
       "      <td>0</td>\n",
       "      <td>0</td>\n",
       "    </tr>\n",
       "  </tbody>\n",
       "</table>\n",
       "<p>5 rows × 28 columns</p>\n",
       "</div>"
      ],
      "text/plain": [
       "   Average Rating  Average Difficulty  Number of ratings  Received a pepper  \\\n",
       "0             5.0                 1.5                2.0                0.0   \n",
       "1             NaN                 NaN                NaN                NaN   \n",
       "2             3.2                 3.0                4.0                0.0   \n",
       "3             3.6                 3.5               10.0                1.0   \n",
       "4             1.0                 5.0                1.0                0.0   \n",
       "\n",
       "   Proportion of students that said they would take the class again  \\\n",
       "0                                                NaN                  \n",
       "1                                                NaN                  \n",
       "2                                                NaN                  \n",
       "3                                                NaN                  \n",
       "4                                                NaN                  \n",
       "\n",
       "   Number of ratings coming from online classes  Male Professor  \\\n",
       "0                                           0.0               0   \n",
       "1                                           NaN               0   \n",
       "2                                           0.0               1   \n",
       "3                                           0.0               0   \n",
       "4                                           0.0               0   \n",
       "\n",
       "   Female Professor  Tough grader  Good feedback  ...  So many papers  \\\n",
       "0                 1             0              0  ...               0   \n",
       "1                 0             0              0  ...               0   \n",
       "2                 0             2              1  ...               0   \n",
       "3                 0             6              3  ...               0   \n",
       "4                 0             0              0  ...               0   \n",
       "\n",
       "   Clear grading  Hilarious  Test heavy  Graded by few things  \\\n",
       "0              0          0           0                     0   \n",
       "1              0          0           0                     0   \n",
       "2              0          0           0                     0   \n",
       "3              2          1           0                     0   \n",
       "4              0          0           0                     0   \n",
       "\n",
       "   Amazing lectures  Caring  Extra credit  Group projects  Lecture heavy  \n",
       "0                 0       0             0               0              1  \n",
       "1                 0       0             0               0              0  \n",
       "2                 0       0             0               0              0  \n",
       "3                 0       0             0               1              0  \n",
       "4                 0       0             0               0              0  \n",
       "\n",
       "[5 rows x 28 columns]"
      ]
     },
     "execution_count": 4,
     "metadata": {},
     "output_type": "execute_result"
    }
   ],
   "source": [
    "# Merge the two dataframes\n",
    "df_merged = pd.concat([df_capstone, df_capstone_tags], axis=1)\n",
    "\n",
    "df_merged.head()"
   ]
  },
  {
   "cell_type": "code",
   "execution_count": 5,
   "metadata": {},
   "outputs": [
    {
     "data": {
      "text/plain": [
       "(89893, 28)"
      ]
     },
     "execution_count": 5,
     "metadata": {},
     "output_type": "execute_result"
    }
   ],
   "source": [
    "df_merged.shape"
   ]
  },
  {
   "cell_type": "code",
   "execution_count": 6,
   "metadata": {},
   "outputs": [],
   "source": [
    "# Drop rows with average rating of NaN\n",
    "df_merged = df_merged.dropna(subset=['Average Rating'])"
   ]
  },
  {
   "cell_type": "code",
   "execution_count": 7,
   "metadata": {},
   "outputs": [
    {
     "data": {
      "text/plain": [
       "(70004, 28)"
      ]
     },
     "execution_count": 7,
     "metadata": {},
     "output_type": "execute_result"
    }
   ],
   "source": [
    "df_merged.shape"
   ]
  },
  {
   "cell_type": "code",
   "execution_count": 8,
   "metadata": {},
   "outputs": [],
   "source": [
    "# subset the data to only include professors with 10 or more ratings\n",
    "df_merged_min_10 = df_merged[df_merged['Number of ratings'] >= 10]"
   ]
  },
  {
   "cell_type": "code",
   "execution_count": null,
   "metadata": {},
   "outputs": [],
   "source": []
  }
 ],
 "metadata": {
  "kernelspec": {
   "display_name": "NNDL",
   "language": "python",
   "name": "python3"
  },
  "language_info": {
   "codemirror_mode": {
    "name": "ipython",
    "version": 3
   },
   "file_extension": ".py",
   "mimetype": "text/x-python",
   "name": "python",
   "nbconvert_exporter": "python",
   "pygments_lexer": "ipython3",
   "version": "3.9.18"
  }
 },
 "nbformat": 4,
 "nbformat_minor": 2
}
