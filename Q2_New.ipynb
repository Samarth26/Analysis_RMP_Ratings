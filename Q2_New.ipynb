{
 "cells": [
  {
   "cell_type": "code",
   "execution_count": 54,
   "metadata": {},
   "outputs": [],
   "source": [
    "# Importing libraries\n",
    "import pandas as pd\n",
    "import numpy as np\n",
    "import matplotlib.pyplot as plt\n",
    "import seaborn as sns\n",
    "from scipy import stats\n",
    "from scipy.stats import levene"
   ]
  },
  {
   "cell_type": "markdown",
   "metadata": {},
   "source": [
    "Definition of confounding variable: (1) they affect the dependent variable and (2) the groups differ on the confounding variable.$\\newline$, 3) They cannot be part of causal link between Dependent and Indepoendent\n",
    "\n",
    "Analysis Plan:$\\newline$\n",
    "\n",
    "Step 1) Test wether or not there is a significant difference in the two groups without controlling for potential confounds.$\\newline$\n",
    "\n",
    "Step 2) Check for potential confounding variables. We use significance testing and correlation tests to see if 1) the there is a correlation between the potential confound and the dependent variable, and 2), to see if there is a correlation between the potential confound and the idependent variable.$\\newline$\n",
    "\n",
    "Step 3) If not a confound, we forget about it and start over.$\\newline$\n",
    "\n",
    "Step 4) If it is a confound, we will control for it using stratification and see what has changed between the relationship between the independent variable and the dependent variable.$\\newline$\n",
    "\n",
    "NOTE: To avoid Type 1 errors, we set alpha = .005. Also, to avoid p-hacking, we stick with a plan to divide subgroups for stratification within each question and use the same grouping throughout the problem. We will use the median split for this problem.\n"
   ]
  },
  {
   "cell_type": "code",
   "execution_count": 55,
   "metadata": {},
   "outputs": [],
   "source": [
    "'''\n",
    "Columns are:\n",
    "1. Average Rating (the arithmetic mean of all individual quality ratings of this professor)\n",
    "2. Average Difficulty (the arithmetic mean of all individual difficulty ratings of this professor)\n",
    "3. Number of ratings (simply the total number of ratings these averages are based on)\n",
    "4. Received a “pepper”? (Boolean - was this professor judged as “hot” by the students?)\n",
    "5. The proportion of students that said they would take the class again\n",
    "6. The number of ratings coming from online classes\n",
    "7. Male gender (Boolean – 1: determined with high confidence that professor is male)\n",
    "8. Female (Boolean – 1: determined with high confidence that professor is female)\n",
    "'''\n",
    "numDat = pd.read_csv('rmpCapstoneNum.csv', header=None)\n",
    "numDat.columns = ['Average Rating', 'Average Difficulty', 'Number of ratings', 'Received a pepper', \n",
    "                       'Proportion of students that said they would take the class again', \n",
    "                       'Number of ratings coming from online classes', 'Male Professor', 'Female Professor']"
   ]
  },
  {
   "cell_type": "markdown",
   "metadata": {},
   "source": [
    "2.) Is there a gender difference in the spread (variance/dispersion) of the ratings distribution?\n",
    "\n",
    "The Null Hyp: There is no difference in the distribution of the variance of the distribution of Average Ratings among Men and Women professors.$\\newline$\n",
    "\n",
    "Alternate Hyp: There is a significant difference between the variance of the distribution of average ratings between Men and Women.\n",
    "\n",
    "Plan for stratification grouping is to use median. Levenes test does not require evenly spaced groups."
   ]
  },
  {
   "cell_type": "markdown",
   "metadata": {},
   "source": [
    "First, we only consider professors with at least 10 ratings, and we only consider those with high confidence gender"
   ]
  },
  {
   "cell_type": "code",
   "execution_count": 56,
   "metadata": {},
   "outputs": [
    {
     "data": {
      "text/html": [
       "<div>\n",
       "<style scoped>\n",
       "    .dataframe tbody tr th:only-of-type {\n",
       "        vertical-align: middle;\n",
       "    }\n",
       "\n",
       "    .dataframe tbody tr th {\n",
       "        vertical-align: top;\n",
       "    }\n",
       "\n",
       "    .dataframe thead th {\n",
       "        text-align: right;\n",
       "    }\n",
       "</style>\n",
       "<table border=\"1\" class=\"dataframe\">\n",
       "  <thead>\n",
       "    <tr style=\"text-align: right;\">\n",
       "      <th></th>\n",
       "      <th>Average Rating</th>\n",
       "      <th>Average Difficulty</th>\n",
       "      <th>Number of ratings</th>\n",
       "      <th>Received a pepper</th>\n",
       "      <th>Proportion of students that said they would take the class again</th>\n",
       "      <th>Number of ratings coming from online classes</th>\n",
       "      <th>Male Professor</th>\n",
       "      <th>Female Professor</th>\n",
       "    </tr>\n",
       "  </thead>\n",
       "  <tbody>\n",
       "    <tr>\n",
       "      <th>5</th>\n",
       "      <td>3.5</td>\n",
       "      <td>3.3</td>\n",
       "      <td>22.0</td>\n",
       "      <td>0.0</td>\n",
       "      <td>56.0</td>\n",
       "      <td>7.0</td>\n",
       "      <td>1</td>\n",
       "      <td>0</td>\n",
       "    </tr>\n",
       "    <tr>\n",
       "      <th>21</th>\n",
       "      <td>2.6</td>\n",
       "      <td>4.1</td>\n",
       "      <td>10.0</td>\n",
       "      <td>0.0</td>\n",
       "      <td>NaN</td>\n",
       "      <td>0.0</td>\n",
       "      <td>1</td>\n",
       "      <td>0</td>\n",
       "    </tr>\n",
       "    <tr>\n",
       "      <th>25</th>\n",
       "      <td>4.3</td>\n",
       "      <td>3.3</td>\n",
       "      <td>16.0</td>\n",
       "      <td>1.0</td>\n",
       "      <td>83.0</td>\n",
       "      <td>0.0</td>\n",
       "      <td>0</td>\n",
       "      <td>1</td>\n",
       "    </tr>\n",
       "    <tr>\n",
       "      <th>39</th>\n",
       "      <td>3.5</td>\n",
       "      <td>3.2</td>\n",
       "      <td>20.0</td>\n",
       "      <td>1.0</td>\n",
       "      <td>NaN</td>\n",
       "      <td>0.0</td>\n",
       "      <td>1</td>\n",
       "      <td>0</td>\n",
       "    </tr>\n",
       "    <tr>\n",
       "      <th>40</th>\n",
       "      <td>1.8</td>\n",
       "      <td>3.8</td>\n",
       "      <td>15.0</td>\n",
       "      <td>0.0</td>\n",
       "      <td>22.0</td>\n",
       "      <td>1.0</td>\n",
       "      <td>0</td>\n",
       "      <td>1</td>\n",
       "    </tr>\n",
       "    <tr>\n",
       "      <th>...</th>\n",
       "      <td>...</td>\n",
       "      <td>...</td>\n",
       "      <td>...</td>\n",
       "      <td>...</td>\n",
       "      <td>...</td>\n",
       "      <td>...</td>\n",
       "      <td>...</td>\n",
       "      <td>...</td>\n",
       "    </tr>\n",
       "    <tr>\n",
       "      <th>89810</th>\n",
       "      <td>3.4</td>\n",
       "      <td>3.4</td>\n",
       "      <td>14.0</td>\n",
       "      <td>0.0</td>\n",
       "      <td>54.0</td>\n",
       "      <td>5.0</td>\n",
       "      <td>1</td>\n",
       "      <td>0</td>\n",
       "    </tr>\n",
       "    <tr>\n",
       "      <th>89841</th>\n",
       "      <td>4.2</td>\n",
       "      <td>3.8</td>\n",
       "      <td>11.0</td>\n",
       "      <td>0.0</td>\n",
       "      <td>NaN</td>\n",
       "      <td>0.0</td>\n",
       "      <td>0</td>\n",
       "      <td>1</td>\n",
       "    </tr>\n",
       "    <tr>\n",
       "      <th>89855</th>\n",
       "      <td>4.0</td>\n",
       "      <td>1.9</td>\n",
       "      <td>11.0</td>\n",
       "      <td>1.0</td>\n",
       "      <td>60.0</td>\n",
       "      <td>0.0</td>\n",
       "      <td>1</td>\n",
       "      <td>0</td>\n",
       "    </tr>\n",
       "    <tr>\n",
       "      <th>89866</th>\n",
       "      <td>4.4</td>\n",
       "      <td>3.6</td>\n",
       "      <td>14.0</td>\n",
       "      <td>1.0</td>\n",
       "      <td>88.0</td>\n",
       "      <td>0.0</td>\n",
       "      <td>0</td>\n",
       "      <td>1</td>\n",
       "    </tr>\n",
       "    <tr>\n",
       "      <th>89877</th>\n",
       "      <td>3.6</td>\n",
       "      <td>3.4</td>\n",
       "      <td>10.0</td>\n",
       "      <td>0.0</td>\n",
       "      <td>50.0</td>\n",
       "      <td>1.0</td>\n",
       "      <td>1</td>\n",
       "      <td>0</td>\n",
       "    </tr>\n",
       "  </tbody>\n",
       "</table>\n",
       "<p>7105 rows × 8 columns</p>\n",
       "</div>"
      ],
      "text/plain": [
       "       Average Rating  Average Difficulty  Number of ratings  \\\n",
       "5                 3.5                 3.3               22.0   \n",
       "21                2.6                 4.1               10.0   \n",
       "25                4.3                 3.3               16.0   \n",
       "39                3.5                 3.2               20.0   \n",
       "40                1.8                 3.8               15.0   \n",
       "...               ...                 ...                ...   \n",
       "89810             3.4                 3.4               14.0   \n",
       "89841             4.2                 3.8               11.0   \n",
       "89855             4.0                 1.9               11.0   \n",
       "89866             4.4                 3.6               14.0   \n",
       "89877             3.6                 3.4               10.0   \n",
       "\n",
       "       Received a pepper  \\\n",
       "5                    0.0   \n",
       "21                   0.0   \n",
       "25                   1.0   \n",
       "39                   1.0   \n",
       "40                   0.0   \n",
       "...                  ...   \n",
       "89810                0.0   \n",
       "89841                0.0   \n",
       "89855                1.0   \n",
       "89866                1.0   \n",
       "89877                0.0   \n",
       "\n",
       "       Proportion of students that said they would take the class again  \\\n",
       "5                                                   56.0                  \n",
       "21                                                   NaN                  \n",
       "25                                                  83.0                  \n",
       "39                                                   NaN                  \n",
       "40                                                  22.0                  \n",
       "...                                                  ...                  \n",
       "89810                                               54.0                  \n",
       "89841                                                NaN                  \n",
       "89855                                               60.0                  \n",
       "89866                                               88.0                  \n",
       "89877                                               50.0                  \n",
       "\n",
       "       Number of ratings coming from online classes  Male Professor  \\\n",
       "5                                               7.0               1   \n",
       "21                                              0.0               1   \n",
       "25                                              0.0               0   \n",
       "39                                              0.0               1   \n",
       "40                                              1.0               0   \n",
       "...                                             ...             ...   \n",
       "89810                                           5.0               1   \n",
       "89841                                           0.0               0   \n",
       "89855                                           0.0               1   \n",
       "89866                                           0.0               0   \n",
       "89877                                           1.0               1   \n",
       "\n",
       "       Female Professor  \n",
       "5                     0  \n",
       "21                    0  \n",
       "25                    1  \n",
       "39                    0  \n",
       "40                    1  \n",
       "...                 ...  \n",
       "89810                 0  \n",
       "89841                 1  \n",
       "89855                 0  \n",
       "89866                 1  \n",
       "89877                 0  \n",
       "\n",
       "[7105 rows x 8 columns]"
      ]
     },
     "execution_count": 56,
     "metadata": {},
     "output_type": "execute_result"
    }
   ],
   "source": [
    "# Keep rows where 'Number of ratings' is greater or equal to 10\n",
    "numDat = numDat.loc[numDat['Number of ratings'] >= 10]\n",
    "\n",
    "# Remove rows where 'Male Professor' and 'Female Professor' are both 0 or both 1\n",
    "numDat = numDat.loc[\n",
    "    ~((numDat['Male Professor'] == 0) & (numDat['Female Professor'] == 0)) &\n",
    "    ~((numDat['Male Professor'] == 1) & (numDat['Female Professor'] == 1))\n",
    "]\n",
    "\n",
    "# Display the final filtered dataset\n",
    "numDat"
   ]
  },
  {
   "cell_type": "markdown",
   "metadata": {},
   "source": [
    "We first visualize the variation in the distributions among men and women"
   ]
  },
  {
   "cell_type": "code",
   "execution_count": 57,
   "metadata": {},
   "outputs": [],
   "source": [
    "# Create DataFrames for Male and Female Professors\n",
    "numDat_male = numDat[numDat['Male Professor'] == 1]\n",
    "numDat_female = numDat[numDat['Female Professor'] == 1]"
   ]
  },
  {
   "cell_type": "code",
   "execution_count": 58,
   "metadata": {},
   "outputs": [
    {
     "data": {
      "text/html": [
       "<div>\n",
       "<style scoped>\n",
       "    .dataframe tbody tr th:only-of-type {\n",
       "        vertical-align: middle;\n",
       "    }\n",
       "\n",
       "    .dataframe tbody tr th {\n",
       "        vertical-align: top;\n",
       "    }\n",
       "\n",
       "    .dataframe thead th {\n",
       "        text-align: right;\n",
       "    }\n",
       "</style>\n",
       "<table border=\"1\" class=\"dataframe\">\n",
       "  <thead>\n",
       "    <tr style=\"text-align: right;\">\n",
       "      <th></th>\n",
       "      <th>Average Rating</th>\n",
       "      <th>Average Difficulty</th>\n",
       "      <th>Number of ratings</th>\n",
       "      <th>Received a pepper</th>\n",
       "      <th>Proportion of students that said they would take the class again</th>\n",
       "      <th>Number of ratings coming from online classes</th>\n",
       "      <th>Male Professor</th>\n",
       "      <th>Female Professor</th>\n",
       "    </tr>\n",
       "  </thead>\n",
       "  <tbody>\n",
       "    <tr>\n",
       "      <th>count</th>\n",
       "      <td>3987.000000</td>\n",
       "      <td>3987.000000</td>\n",
       "      <td>3987.000000</td>\n",
       "      <td>3987.000000</td>\n",
       "      <td>3357.000000</td>\n",
       "      <td>3987.000000</td>\n",
       "      <td>3987.0</td>\n",
       "      <td>3987.0</td>\n",
       "    </tr>\n",
       "    <tr>\n",
       "      <th>mean</th>\n",
       "      <td>3.964184</td>\n",
       "      <td>2.940030</td>\n",
       "      <td>18.892902</td>\n",
       "      <td>0.482318</td>\n",
       "      <td>78.855824</td>\n",
       "      <td>0.653373</td>\n",
       "      <td>1.0</td>\n",
       "      <td>0.0</td>\n",
       "    </tr>\n",
       "    <tr>\n",
       "      <th>std</th>\n",
       "      <td>0.857271</td>\n",
       "      <td>0.769503</td>\n",
       "      <td>16.879471</td>\n",
       "      <td>0.499750</td>\n",
       "      <td>23.712334</td>\n",
       "      <td>1.938917</td>\n",
       "      <td>0.0</td>\n",
       "      <td>0.0</td>\n",
       "    </tr>\n",
       "    <tr>\n",
       "      <th>min</th>\n",
       "      <td>1.000000</td>\n",
       "      <td>1.000000</td>\n",
       "      <td>10.000000</td>\n",
       "      <td>0.000000</td>\n",
       "      <td>4.000000</td>\n",
       "      <td>0.000000</td>\n",
       "      <td>1.0</td>\n",
       "      <td>0.0</td>\n",
       "    </tr>\n",
       "    <tr>\n",
       "      <th>25%</th>\n",
       "      <td>3.500000</td>\n",
       "      <td>2.400000</td>\n",
       "      <td>11.000000</td>\n",
       "      <td>0.000000</td>\n",
       "      <td>67.000000</td>\n",
       "      <td>0.000000</td>\n",
       "      <td>1.0</td>\n",
       "      <td>0.0</td>\n",
       "    </tr>\n",
       "    <tr>\n",
       "      <th>50%</th>\n",
       "      <td>4.300000</td>\n",
       "      <td>2.900000</td>\n",
       "      <td>14.000000</td>\n",
       "      <td>0.000000</td>\n",
       "      <td>86.000000</td>\n",
       "      <td>0.000000</td>\n",
       "      <td>1.0</td>\n",
       "      <td>0.0</td>\n",
       "    </tr>\n",
       "    <tr>\n",
       "      <th>75%</th>\n",
       "      <td>4.600000</td>\n",
       "      <td>3.500000</td>\n",
       "      <td>20.000000</td>\n",
       "      <td>1.000000</td>\n",
       "      <td>100.000000</td>\n",
       "      <td>0.000000</td>\n",
       "      <td>1.0</td>\n",
       "      <td>0.0</td>\n",
       "    </tr>\n",
       "    <tr>\n",
       "      <th>max</th>\n",
       "      <td>5.000000</td>\n",
       "      <td>5.000000</td>\n",
       "      <td>393.000000</td>\n",
       "      <td>1.000000</td>\n",
       "      <td>100.000000</td>\n",
       "      <td>19.000000</td>\n",
       "      <td>1.0</td>\n",
       "      <td>0.0</td>\n",
       "    </tr>\n",
       "  </tbody>\n",
       "</table>\n",
       "</div>"
      ],
      "text/plain": [
       "       Average Rating  Average Difficulty  Number of ratings  \\\n",
       "count     3987.000000         3987.000000        3987.000000   \n",
       "mean         3.964184            2.940030          18.892902   \n",
       "std          0.857271            0.769503          16.879471   \n",
       "min          1.000000            1.000000          10.000000   \n",
       "25%          3.500000            2.400000          11.000000   \n",
       "50%          4.300000            2.900000          14.000000   \n",
       "75%          4.600000            3.500000          20.000000   \n",
       "max          5.000000            5.000000         393.000000   \n",
       "\n",
       "       Received a pepper  \\\n",
       "count        3987.000000   \n",
       "mean            0.482318   \n",
       "std             0.499750   \n",
       "min             0.000000   \n",
       "25%             0.000000   \n",
       "50%             0.000000   \n",
       "75%             1.000000   \n",
       "max             1.000000   \n",
       "\n",
       "       Proportion of students that said they would take the class again  \\\n",
       "count                                        3357.000000                  \n",
       "mean                                           78.855824                  \n",
       "std                                            23.712334                  \n",
       "min                                             4.000000                  \n",
       "25%                                            67.000000                  \n",
       "50%                                            86.000000                  \n",
       "75%                                           100.000000                  \n",
       "max                                           100.000000                  \n",
       "\n",
       "       Number of ratings coming from online classes  Male Professor  \\\n",
       "count                                   3987.000000          3987.0   \n",
       "mean                                       0.653373             1.0   \n",
       "std                                        1.938917             0.0   \n",
       "min                                        0.000000             1.0   \n",
       "25%                                        0.000000             1.0   \n",
       "50%                                        0.000000             1.0   \n",
       "75%                                        0.000000             1.0   \n",
       "max                                       19.000000             1.0   \n",
       "\n",
       "       Female Professor  \n",
       "count            3987.0  \n",
       "mean                0.0  \n",
       "std                 0.0  \n",
       "min                 0.0  \n",
       "25%                 0.0  \n",
       "50%                 0.0  \n",
       "75%                 0.0  \n",
       "max                 0.0  "
      ]
     },
     "execution_count": 58,
     "metadata": {},
     "output_type": "execute_result"
    }
   ],
   "source": [
    "numDat_male.describe()"
   ]
  },
  {
   "cell_type": "code",
   "execution_count": 59,
   "metadata": {},
   "outputs": [
    {
     "data": {
      "text/html": [
       "<div>\n",
       "<style scoped>\n",
       "    .dataframe tbody tr th:only-of-type {\n",
       "        vertical-align: middle;\n",
       "    }\n",
       "\n",
       "    .dataframe tbody tr th {\n",
       "        vertical-align: top;\n",
       "    }\n",
       "\n",
       "    .dataframe thead th {\n",
       "        text-align: right;\n",
       "    }\n",
       "</style>\n",
       "<table border=\"1\" class=\"dataframe\">\n",
       "  <thead>\n",
       "    <tr style=\"text-align: right;\">\n",
       "      <th></th>\n",
       "      <th>Average Rating</th>\n",
       "      <th>Average Difficulty</th>\n",
       "      <th>Number of ratings</th>\n",
       "      <th>Received a pepper</th>\n",
       "      <th>Proportion of students that said they would take the class again</th>\n",
       "      <th>Number of ratings coming from online classes</th>\n",
       "      <th>Male Professor</th>\n",
       "      <th>Female Professor</th>\n",
       "    </tr>\n",
       "  </thead>\n",
       "  <tbody>\n",
       "    <tr>\n",
       "      <th>count</th>\n",
       "      <td>3118.000000</td>\n",
       "      <td>3118.000000</td>\n",
       "      <td>3118.000000</td>\n",
       "      <td>3118.000000</td>\n",
       "      <td>2606.000000</td>\n",
       "      <td>3118.000000</td>\n",
       "      <td>3118.0</td>\n",
       "      <td>3118.0</td>\n",
       "    </tr>\n",
       "    <tr>\n",
       "      <th>mean</th>\n",
       "      <td>3.888775</td>\n",
       "      <td>2.946985</td>\n",
       "      <td>17.611931</td>\n",
       "      <td>0.509942</td>\n",
       "      <td>76.599770</td>\n",
       "      <td>0.878768</td>\n",
       "      <td>0.0</td>\n",
       "      <td>1.0</td>\n",
       "    </tr>\n",
       "    <tr>\n",
       "      <th>std</th>\n",
       "      <td>0.898383</td>\n",
       "      <td>0.765935</td>\n",
       "      <td>13.335368</td>\n",
       "      <td>0.499981</td>\n",
       "      <td>24.699061</td>\n",
       "      <td>2.260269</td>\n",
       "      <td>0.0</td>\n",
       "      <td>0.0</td>\n",
       "    </tr>\n",
       "    <tr>\n",
       "      <th>min</th>\n",
       "      <td>1.000000</td>\n",
       "      <td>1.000000</td>\n",
       "      <td>10.000000</td>\n",
       "      <td>0.000000</td>\n",
       "      <td>5.000000</td>\n",
       "      <td>0.000000</td>\n",
       "      <td>0.0</td>\n",
       "      <td>1.0</td>\n",
       "    </tr>\n",
       "    <tr>\n",
       "      <th>25%</th>\n",
       "      <td>3.400000</td>\n",
       "      <td>2.400000</td>\n",
       "      <td>11.000000</td>\n",
       "      <td>0.000000</td>\n",
       "      <td>63.000000</td>\n",
       "      <td>0.000000</td>\n",
       "      <td>0.0</td>\n",
       "      <td>1.0</td>\n",
       "    </tr>\n",
       "    <tr>\n",
       "      <th>50%</th>\n",
       "      <td>4.200000</td>\n",
       "      <td>2.900000</td>\n",
       "      <td>14.000000</td>\n",
       "      <td>1.000000</td>\n",
       "      <td>83.000000</td>\n",
       "      <td>0.000000</td>\n",
       "      <td>0.0</td>\n",
       "      <td>1.0</td>\n",
       "    </tr>\n",
       "    <tr>\n",
       "      <th>75%</th>\n",
       "      <td>4.600000</td>\n",
       "      <td>3.500000</td>\n",
       "      <td>19.000000</td>\n",
       "      <td>1.000000</td>\n",
       "      <td>100.000000</td>\n",
       "      <td>1.000000</td>\n",
       "      <td>0.0</td>\n",
       "      <td>1.0</td>\n",
       "    </tr>\n",
       "    <tr>\n",
       "      <th>max</th>\n",
       "      <td>5.000000</td>\n",
       "      <td>5.000000</td>\n",
       "      <td>247.000000</td>\n",
       "      <td>1.000000</td>\n",
       "      <td>100.000000</td>\n",
       "      <td>19.000000</td>\n",
       "      <td>0.0</td>\n",
       "      <td>1.0</td>\n",
       "    </tr>\n",
       "  </tbody>\n",
       "</table>\n",
       "</div>"
      ],
      "text/plain": [
       "       Average Rating  Average Difficulty  Number of ratings  \\\n",
       "count     3118.000000         3118.000000        3118.000000   \n",
       "mean         3.888775            2.946985          17.611931   \n",
       "std          0.898383            0.765935          13.335368   \n",
       "min          1.000000            1.000000          10.000000   \n",
       "25%          3.400000            2.400000          11.000000   \n",
       "50%          4.200000            2.900000          14.000000   \n",
       "75%          4.600000            3.500000          19.000000   \n",
       "max          5.000000            5.000000         247.000000   \n",
       "\n",
       "       Received a pepper  \\\n",
       "count        3118.000000   \n",
       "mean            0.509942   \n",
       "std             0.499981   \n",
       "min             0.000000   \n",
       "25%             0.000000   \n",
       "50%             1.000000   \n",
       "75%             1.000000   \n",
       "max             1.000000   \n",
       "\n",
       "       Proportion of students that said they would take the class again  \\\n",
       "count                                        2606.000000                  \n",
       "mean                                           76.599770                  \n",
       "std                                            24.699061                  \n",
       "min                                             5.000000                  \n",
       "25%                                            63.000000                  \n",
       "50%                                            83.000000                  \n",
       "75%                                           100.000000                  \n",
       "max                                           100.000000                  \n",
       "\n",
       "       Number of ratings coming from online classes  Male Professor  \\\n",
       "count                                   3118.000000          3118.0   \n",
       "mean                                       0.878768             0.0   \n",
       "std                                        2.260269             0.0   \n",
       "min                                        0.000000             0.0   \n",
       "25%                                        0.000000             0.0   \n",
       "50%                                        0.000000             0.0   \n",
       "75%                                        1.000000             0.0   \n",
       "max                                       19.000000             0.0   \n",
       "\n",
       "       Female Professor  \n",
       "count            3118.0  \n",
       "mean                1.0  \n",
       "std                 0.0  \n",
       "min                 1.0  \n",
       "25%                 1.0  \n",
       "50%                 1.0  \n",
       "75%                 1.0  \n",
       "max                 1.0  "
      ]
     },
     "execution_count": 59,
     "metadata": {},
     "output_type": "execute_result"
    }
   ],
   "source": [
    "numDat_female.describe()"
   ]
  },
  {
   "cell_type": "code",
   "execution_count": 60,
   "metadata": {},
   "outputs": [
    {
     "data": {
      "image/png": "[encoded data removed]",
      "text/plain": [
       "<Figure size 1200x600 with 2 Axes>"
      ]
     },
     "metadata": {},
     "output_type": "display_data"
    }
   ],
   "source": [
    "# Create subplots for violin plots\n",
    "fig, axes = plt.subplots(1, 2, figsize=(12, 6), sharey=True)\n",
    "\n",
    "# Violin plot for Male Professors\n",
    "sns.violinplot(ax=axes[0], y=numDat_male['Average Rating'])\n",
    "axes[0].set_title('Male Professors')\n",
    "axes[0].set_ylabel('Average Rating')\n",
    "\n",
    "# Violin plot for Female Professors\n",
    "sns.violinplot(ax=axes[1], y=numDat_female['Average Rating'])\n",
    "axes[1].set_title('Female Professors')\n",
    "\n",
    "# Overall adjustments\n",
    "plt.tight_layout()\n",
    "plt.show()"
   ]
  },
  {
   "cell_type": "code",
   "execution_count": 61,
   "metadata": {},
   "outputs": [
    {
     "data": {
      "image/png": "[encoded data removed]",
      "text/plain": [
       "<Figure size 800x600 with 1 Axes>"
      ]
     },
     "metadata": {},
     "output_type": "display_data"
    }
   ],
   "source": [
    "# Filter data for Male and Female Professors\n",
    "numDat_male = numDat[numDat['Male Professor'] == 1].copy()\n",
    "numDat_female = numDat[numDat['Female Professor'] == 1].copy()\n",
    "\n",
    "# Add Gender column\n",
    "numDat_male['Gender'] = 'Male'\n",
    "numDat_female['Gender'] = 'Female'\n",
    "\n",
    "# Concatenate both dataframes\n",
    "boxplot_data = pd.concat([numDat_male, numDat_female])\n",
    "\n",
    "# Create the boxplot\n",
    "plt.figure(figsize=(8, 6))\n",
    "sns.boxplot(x='Gender', y='Average Rating', data=boxplot_data)\n",
    "\n",
    "# Add title and labels\n",
    "plt.title('Boxplot of Average Ratings by Gender')\n",
    "plt.xlabel('Professor Gender')\n",
    "plt.ylabel('Average Rating')\n",
    "\n",
    "# Show the plot\n",
    "plt.tight_layout()\n",
    "plt.show()"
   ]
  },
  {
   "cell_type": "markdown",
   "metadata": {},
   "source": [
    "Lets test the difference in variance before we consider confounds"
   ]
  },
  {
   "cell_type": "code",
   "execution_count": 62,
   "metadata": {},
   "outputs": [
    {
     "name": "stdout",
     "output_type": "stream",
     "text": [
      "Levene's Test Statistic: 9.2405\n",
      "P-value: 0.0024\n",
      "The variances are significantly different (reject the null hypothesis).\n"
     ]
    }
   ],
   "source": [
    "# Filter data for Male and Female Professors\n",
    "numDat_male = numDat[numDat['Male Professor'] == 1]\n",
    "numDat_female = numDat[numDat['Female Professor'] == 1]\n",
    "\n",
    "# Extract Average Ratings for Male and Female Professors\n",
    "ratings_male = numDat_male['Average Rating']\n",
    "ratings_female = numDat_female['Average Rating']\n",
    "\n",
    "# Perform Levene's Test\n",
    "stat, p_value = levene(ratings_male, ratings_female)\n",
    "\n",
    "# Display the results\n",
    "print(f\"Levene's Test Statistic: {stat:.4f}\")\n",
    "print(f\"P-value: {p_value:.4f}\")\n",
    "\n",
    "# Interpretation\n",
    "if p_value < 0.005:  # Using significance level of 0.005\n",
    "    print(\"The variances are significantly different (reject the null hypothesis).\")\n",
    "else:\n",
    "    print(\"The variances are not significantly different (fail to reject the null hypothesis).\")"
   ]
  },
  {
   "cell_type": "markdown",
   "metadata": {},
   "source": [
    "Here we see that the variance in the distributions of average rating among men and women is significantly different.$\\newline$\n",
    "This does not necessarily imply that gender is the CAUSE of this difference.$\\newline$\n",
    "To investigate gender bias, we will test the impact of the potential confounds."
   ]
  },
  {
   "cell_type": "markdown",
   "metadata": {},
   "source": [
    "What are potential confounds in our data? Number of ratings, Average Difficulty, the number of ratings from online courses, and finally if the professor received a pepper."
   ]
  },
  {
   "cell_type": "markdown",
   "metadata": {},
   "source": [
    "#### Number of Rating as a confound"
   ]
  },
  {
   "cell_type": "markdown",
   "metadata": {},
   "source": [
    "Does number of ratings impact the variance of distributions of average rating of professors?$\\newline$ Is there a difference between the number of ratings among male and female professors?"
   ]
  },
  {
   "cell_type": "markdown",
   "metadata": {},
   "source": [
    "Using Sig Test and correlation level to test the potential confound:$\\newline$\n",
    "\n",
    "The null hypothesis: None of the 4 groups have significantly different variances in their distributions.$\\newline$\n",
    "\n",
    "The alternative hypothesis: At least one group has a variance that is significantly different from the others.$\\newline$\n",
    "If the p-value is less than the significance level (e.g., 0.005), you reject the null hypothesis and conclude that there are significant differences in variances across the groups."
   ]
  },
  {
   "cell_type": "code",
   "execution_count": 63,
   "metadata": {},
   "outputs": [
    {
     "name": "stdout",
     "output_type": "stream",
     "text": [
      "Levene's Test Statistic: 8.6050, P-value: 0.0034\n",
      "The variances are significantly different (reject the null hypothesis).\n"
     ]
    },
    {
     "data": {
      "image/png": "[encoded data removed]",
      "text/plain": [
       "<Figure size 1000x600 with 1 Axes>"
      ]
     },
     "metadata": {},
     "output_type": "display_data"
    }
   ],
   "source": [
    "# Step 1: Create Two Groups (Half and Half) for Number of Ratings\n",
    "numDat['Ratings Group'] = pd.qcut(\n",
    "    numDat['Number of ratings'], \n",
    "    q=2,  # Divide into 2 groups\n",
    "    labels=['Lower Half', 'Upper Half']\n",
    ")\n",
    "\n",
    "# Step 2: Extract Distributions of Average Rating for Each Group\n",
    "group_distributions = [\n",
    "    numDat[numDat['Ratings Group'] == group]['Average Rating']\n",
    "    for group in numDat['Ratings Group'].unique()\n",
    "]\n",
    "\n",
    "# Step 3: Perform Levene's Test to Compare Variances of Average Rating Between Groups\n",
    "stat, p_value = levene(*group_distributions)  # Unpack the list of distributions\n",
    "print(f\"Levene's Test Statistic: {stat:.4f}, P-value: {p_value:.4f}\")\n",
    "\n",
    "# Interpretation\n",
    "if p_value < 0.005:\n",
    "    print(\"The variances are significantly different (reject the null hypothesis).\")\n",
    "else:\n",
    "    print(\"The variances are not significantly different (fail to reject the null hypothesis).\")\n",
    "\n",
    "# Step 4: Visualize the Distributions Using Boxplots\n",
    "plt.figure(figsize=(10, 6))\n",
    "sns.boxplot(x='Ratings Group', y='Average Rating', data=numDat)\n",
    "plt.title('Distribution of Average Rating Across Halves of Number of Ratings')\n",
    "plt.xlabel('Groups of Number of Ratings')\n",
    "plt.ylabel('Average Rating')\n",
    "plt.show()\n"
   ]
  },
  {
   "cell_type": "markdown",
   "metadata": {},
   "source": [
    "The Number of Ratings significantly impacts the variance of the distributions of Average Rating.$\\newline$"
   ]
  },
  {
   "cell_type": "code",
   "execution_count": 65,
   "metadata": {},
   "outputs": [
    {
     "name": "stdout",
     "output_type": "stream",
     "text": [
      "Correlation between Number of Ratings and Average Rating: 0.0545\n"
     ]
    }
   ],
   "source": [
    "# Calculate the correlation\n",
    "correlation = numDat['Number of ratings'].corr(numDat['Average Rating'])\n",
    "\n",
    "# Print the result\n",
    "print(f\"Correlation between Number of Ratings and Average Rating: {correlation:.4f}\")"
   ]
  },
  {
   "cell_type": "code",
   "execution_count": 69,
   "metadata": {},
   "outputs": [
    {
     "name": "stdout",
     "output_type": "stream",
     "text": [
      "Mean Number of Ratings for Male Professors: 18.89\n",
      "Mean Number of Ratings for Female Professors: 17.61\n"
     ]
    }
   ],
   "source": [
    "# Calculate the mean Number of Ratings for Male and Female Professors\n",
    "mean_male = numDat[numDat['Male Professor'] == 1]['Number of ratings'].mean()\n",
    "mean_female = numDat[numDat['Female Professor'] == 1]['Number of ratings'].mean()\n",
    "\n",
    "# Print the results\n",
    "print(f\"Mean Number of Ratings for Male Professors: {mean_male:.2f}\")\n",
    "print(f\"Mean Number of Ratings for Female Professors: {mean_female:.2f}\")"
   ]
  },
  {
   "cell_type": "markdown",
   "metadata": {},
   "source": [
    "Here we see that Number of Ratings in a confound because its related to both the Dependent variable (Variance of distribution of average rating) and the Independent variable (Female and Male) "
   ]
  },
  {
   "cell_type": "markdown",
   "metadata": {},
   "source": [
    "#### Number of ratings coming from online classes as a confound"
   ]
  },
  {
   "cell_type": "markdown",
   "metadata": {},
   "source": [
    "Does number of ratings coming from online classes impact the distributions of average rating of professors?"
   ]
  },
  {
   "cell_type": "code",
   "execution_count": 17,
   "metadata": {},
   "outputs": [
    {
     "name": "stdout",
     "output_type": "stream",
     "text": [
      "count    5963.000000\n",
      "mean        0.821231\n",
      "std         2.201728\n",
      "min         0.000000\n",
      "25%         0.000000\n",
      "50%         0.000000\n",
      "75%         1.000000\n",
      "max        19.000000\n",
      "Name: Number of ratings coming from online classes, dtype: float64\n"
     ]
    }
   ],
   "source": [
    "print(numDat['Number of ratings coming from online classes'].describe())"
   ]
  },
  {
   "cell_type": "code",
   "execution_count": 18,
   "metadata": {},
   "outputs": [
    {
     "name": "stdout",
     "output_type": "stream",
     "text": [
      "Levene's Test Statistic: 2.1937, P-value: 0.1386\n",
      "The variances are not significantly different (fail to reject the null hypothesis).\n"
     ]
    }
   ],
   "source": [
    "# Step 1: Split data into two groups\n",
    "online_ratings_0 = numDat[numDat['Number of ratings coming from online classes'] == 0]\n",
    "online_ratings_1plus = numDat[numDat['Number of ratings coming from online classes'] >= 1]\n",
    "\n",
    "# Step 2: Extract Average Ratings for Each Group\n",
    "ratings_0 = online_ratings_0['Average Rating']\n",
    "ratings_1plus = online_ratings_1plus['Average Rating']\n",
    "\n",
    "# Step 3: Perform Levene's Test\n",
    "if len(ratings_0) > 1 and len(ratings_1plus) > 1:  # Ensure sufficient data for the test\n",
    "    stat, p_value = levene(ratings_0, ratings_1plus)\n",
    "    print(f\"Levene's Test Statistic: {stat:.4f}, P-value: {p_value:.4f}\")\n",
    "    \n",
    "    # Interpretation\n",
    "    if p_value < 0.005:\n",
    "        print(\"The variances are significantly different (reject the null hypothesis).\")\n",
    "    else:\n",
    "        print(\"The variances are not significantly different (fail to reject the null hypothesis).\")\n",
    "else:\n",
    "    print(\"Not enough data for one or both groups to perform Levene's test.\")"
   ]
  },
  {
   "cell_type": "code",
   "execution_count": 19,
   "metadata": {},
   "outputs": [
    {
     "name": "stdout",
     "output_type": "stream",
     "text": [
      "Pearson Correlation between Number of Ratings from Online Classes and Average Rating: 0.0017\n"
     ]
    }
   ],
   "source": [
    "# Calculate the Pearson correlation\n",
    "correlation = numDat['Number of ratings coming from online classes'].corr(numDat['Average Rating'])\n",
    "\n",
    "# Print the result\n",
    "print(f\"Pearson Correlation between Number of Ratings from Online Classes and Average Rating: {correlation:.4f}\")"
   ]
  },
  {
   "cell_type": "markdown",
   "metadata": {},
   "source": [
    "Here we see that when we consider Online classes there is no difference in the variation of the distributions of average ratings.$\\newline$ Additionally, there is very week correlation.$\\newline$ We conclude that Number of ratings coming from online classes is not a likely confound."
   ]
  },
  {
   "cell_type": "markdown",
   "metadata": {},
   "source": [
    "#### Average Difficulty as a Confound"
   ]
  },
  {
   "cell_type": "markdown",
   "metadata": {},
   "source": [
    "Does average difficulty impact the distributions of average rating of professors?"
   ]
  },
  {
   "cell_type": "code",
   "execution_count": 20,
   "metadata": {},
   "outputs": [
    {
     "data": {
      "text/plain": [
       "count    5963.000000\n",
       "mean        2.931092\n",
       "std         0.740288\n",
       "min         1.000000\n",
       "25%         2.400000\n",
       "50%         2.900000\n",
       "75%         3.500000\n",
       "max         5.000000\n",
       "Name: Average Difficulty, dtype: float64"
      ]
     },
     "execution_count": 20,
     "metadata": {},
     "output_type": "execute_result"
    }
   ],
   "source": [
    "numDat['Average Difficulty'].describe()"
   ]
  },
  {
   "cell_type": "code",
   "execution_count": 21,
   "metadata": {},
   "outputs": [
    {
     "data": {
      "text/html": [
       "<div>\n",
       "<style scoped>\n",
       "    .dataframe tbody tr th:only-of-type {\n",
       "        vertical-align: middle;\n",
       "    }\n",
       "\n",
       "    .dataframe tbody tr th {\n",
       "        vertical-align: top;\n",
       "    }\n",
       "\n",
       "    .dataframe thead th {\n",
       "        text-align: right;\n",
       "    }\n",
       "</style>\n",
       "<table border=\"1\" class=\"dataframe\">\n",
       "  <thead>\n",
       "    <tr style=\"text-align: right;\">\n",
       "      <th></th>\n",
       "      <th>Average Rating</th>\n",
       "      <th>Average Difficulty</th>\n",
       "      <th>Number of ratings</th>\n",
       "      <th>Received a pepper</th>\n",
       "      <th>Proportion of students that said they would take the class again</th>\n",
       "      <th>Number of ratings coming from online classes</th>\n",
       "      <th>Male Professor</th>\n",
       "      <th>Female Professor</th>\n",
       "      <th>Ratings Quartile</th>\n",
       "      <th>Proportion Groups</th>\n",
       "    </tr>\n",
       "  </thead>\n",
       "  <tbody>\n",
       "    <tr>\n",
       "      <th>5</th>\n",
       "      <td>3.5</td>\n",
       "      <td>3.3</td>\n",
       "      <td>22.0</td>\n",
       "      <td>0.0</td>\n",
       "      <td>56.0</td>\n",
       "      <td>7.0</td>\n",
       "      <td>1</td>\n",
       "      <td>0</td>\n",
       "      <td>Q4 (Highest)</td>\n",
       "      <td>0-64</td>\n",
       "    </tr>\n",
       "    <tr>\n",
       "      <th>25</th>\n",
       "      <td>4.3</td>\n",
       "      <td>3.3</td>\n",
       "      <td>16.0</td>\n",
       "      <td>1.0</td>\n",
       "      <td>83.0</td>\n",
       "      <td>0.0</td>\n",
       "      <td>0</td>\n",
       "      <td>1</td>\n",
       "      <td>Q3</td>\n",
       "      <td>65-86</td>\n",
       "    </tr>\n",
       "    <tr>\n",
       "      <th>40</th>\n",
       "      <td>1.8</td>\n",
       "      <td>3.8</td>\n",
       "      <td>15.0</td>\n",
       "      <td>0.0</td>\n",
       "      <td>22.0</td>\n",
       "      <td>1.0</td>\n",
       "      <td>0</td>\n",
       "      <td>1</td>\n",
       "      <td>Q3</td>\n",
       "      <td>0-64</td>\n",
       "    </tr>\n",
       "    <tr>\n",
       "      <th>42</th>\n",
       "      <td>4.1</td>\n",
       "      <td>3.3</td>\n",
       "      <td>21.0</td>\n",
       "      <td>0.0</td>\n",
       "      <td>67.0</td>\n",
       "      <td>0.0</td>\n",
       "      <td>0</td>\n",
       "      <td>1</td>\n",
       "      <td>Q4 (Highest)</td>\n",
       "      <td>65-86</td>\n",
       "    </tr>\n",
       "    <tr>\n",
       "      <th>46</th>\n",
       "      <td>4.2</td>\n",
       "      <td>1.8</td>\n",
       "      <td>26.0</td>\n",
       "      <td>1.0</td>\n",
       "      <td>57.0</td>\n",
       "      <td>8.0</td>\n",
       "      <td>1</td>\n",
       "      <td>0</td>\n",
       "      <td>Q4 (Highest)</td>\n",
       "      <td>0-64</td>\n",
       "    </tr>\n",
       "    <tr>\n",
       "      <th>...</th>\n",
       "      <td>...</td>\n",
       "      <td>...</td>\n",
       "      <td>...</td>\n",
       "      <td>...</td>\n",
       "      <td>...</td>\n",
       "      <td>...</td>\n",
       "      <td>...</td>\n",
       "      <td>...</td>\n",
       "      <td>...</td>\n",
       "      <td>...</td>\n",
       "    </tr>\n",
       "    <tr>\n",
       "      <th>89801</th>\n",
       "      <td>4.8</td>\n",
       "      <td>2.8</td>\n",
       "      <td>13.0</td>\n",
       "      <td>1.0</td>\n",
       "      <td>100.0</td>\n",
       "      <td>0.0</td>\n",
       "      <td>0</td>\n",
       "      <td>1</td>\n",
       "      <td>Q2</td>\n",
       "      <td>87-100</td>\n",
       "    </tr>\n",
       "    <tr>\n",
       "      <th>89810</th>\n",
       "      <td>3.4</td>\n",
       "      <td>3.4</td>\n",
       "      <td>14.0</td>\n",
       "      <td>0.0</td>\n",
       "      <td>54.0</td>\n",
       "      <td>5.0</td>\n",
       "      <td>1</td>\n",
       "      <td>0</td>\n",
       "      <td>Q2</td>\n",
       "      <td>0-64</td>\n",
       "    </tr>\n",
       "    <tr>\n",
       "      <th>89855</th>\n",
       "      <td>4.0</td>\n",
       "      <td>1.9</td>\n",
       "      <td>11.0</td>\n",
       "      <td>1.0</td>\n",
       "      <td>60.0</td>\n",
       "      <td>0.0</td>\n",
       "      <td>1</td>\n",
       "      <td>0</td>\n",
       "      <td>Q1 (Lowest)</td>\n",
       "      <td>0-64</td>\n",
       "    </tr>\n",
       "    <tr>\n",
       "      <th>89866</th>\n",
       "      <td>4.4</td>\n",
       "      <td>3.6</td>\n",
       "      <td>14.0</td>\n",
       "      <td>1.0</td>\n",
       "      <td>88.0</td>\n",
       "      <td>0.0</td>\n",
       "      <td>0</td>\n",
       "      <td>1</td>\n",
       "      <td>Q2</td>\n",
       "      <td>87-100</td>\n",
       "    </tr>\n",
       "    <tr>\n",
       "      <th>89877</th>\n",
       "      <td>3.6</td>\n",
       "      <td>3.4</td>\n",
       "      <td>10.0</td>\n",
       "      <td>0.0</td>\n",
       "      <td>50.0</td>\n",
       "      <td>1.0</td>\n",
       "      <td>1</td>\n",
       "      <td>0</td>\n",
       "      <td>Q1 (Lowest)</td>\n",
       "      <td>0-64</td>\n",
       "    </tr>\n",
       "  </tbody>\n",
       "</table>\n",
       "<p>5963 rows × 10 columns</p>\n",
       "</div>"
      ],
      "text/plain": [
       "       Average Rating  Average Difficulty  Number of ratings  \\\n",
       "5                 3.5                 3.3               22.0   \n",
       "25                4.3                 3.3               16.0   \n",
       "40                1.8                 3.8               15.0   \n",
       "42                4.1                 3.3               21.0   \n",
       "46                4.2                 1.8               26.0   \n",
       "...               ...                 ...                ...   \n",
       "89801             4.8                 2.8               13.0   \n",
       "89810             3.4                 3.4               14.0   \n",
       "89855             4.0                 1.9               11.0   \n",
       "89866             4.4                 3.6               14.0   \n",
       "89877             3.6                 3.4               10.0   \n",
       "\n",
       "       Received a pepper  \\\n",
       "5                    0.0   \n",
       "25                   1.0   \n",
       "40                   0.0   \n",
       "42                   0.0   \n",
       "46                   1.0   \n",
       "...                  ...   \n",
       "89801                1.0   \n",
       "89810                0.0   \n",
       "89855                1.0   \n",
       "89866                1.0   \n",
       "89877                0.0   \n",
       "\n",
       "       Proportion of students that said they would take the class again  \\\n",
       "5                                                   56.0                  \n",
       "25                                                  83.0                  \n",
       "40                                                  22.0                  \n",
       "42                                                  67.0                  \n",
       "46                                                  57.0                  \n",
       "...                                                  ...                  \n",
       "89801                                              100.0                  \n",
       "89810                                               54.0                  \n",
       "89855                                               60.0                  \n",
       "89866                                               88.0                  \n",
       "89877                                               50.0                  \n",
       "\n",
       "       Number of ratings coming from online classes  Male Professor  \\\n",
       "5                                               7.0               1   \n",
       "25                                              0.0               0   \n",
       "40                                              1.0               0   \n",
       "42                                              0.0               0   \n",
       "46                                              8.0               1   \n",
       "...                                             ...             ...   \n",
       "89801                                           0.0               0   \n",
       "89810                                           5.0               1   \n",
       "89855                                           0.0               1   \n",
       "89866                                           0.0               0   \n",
       "89877                                           1.0               1   \n",
       "\n",
       "       Female Professor Ratings Quartile Proportion Groups  \n",
       "5                     0     Q4 (Highest)              0-64  \n",
       "25                    1               Q3             65-86  \n",
       "40                    1               Q3              0-64  \n",
       "42                    1     Q4 (Highest)             65-86  \n",
       "46                    0     Q4 (Highest)              0-64  \n",
       "...                 ...              ...               ...  \n",
       "89801                 1               Q2            87-100  \n",
       "89810                 0               Q2              0-64  \n",
       "89855                 0      Q1 (Lowest)              0-64  \n",
       "89866                 1               Q2            87-100  \n",
       "89877                 0      Q1 (Lowest)              0-64  \n",
       "\n",
       "[5963 rows x 10 columns]"
      ]
     },
     "execution_count": 21,
     "metadata": {},
     "output_type": "execute_result"
    }
   ],
   "source": [
    "numDat"
   ]
  },
  {
   "cell_type": "code",
   "execution_count": 75,
   "metadata": {},
   "outputs": [
    {
     "name": "stderr",
     "output_type": "stream",
     "text": [
      "/var/folders/n6/6_dwq_bx4v7_20bszmc0y28w0000gn/T/ipykernel_9322/2094907362.py:5: SettingWithCopyWarning: \n",
      "A value is trying to be set on a copy of a slice from a DataFrame.\n",
      "Try using .loc[row_indexer,col_indexer] = value instead\n",
      "\n",
      "See the caveats in the documentation: https://pandas.pydata.org/pandas-docs/stable/user_guide/indexing.html#returning-a-view-versus-a-copy\n",
      "  numDat['Difficulty Groups'] = pd.cut(\n"
     ]
    }
   ],
   "source": [
    "# Calculate the median of Average Difficulty\n",
    "median_difficulty = numDat['Average Difficulty'].median()\n",
    "\n",
    "# Create Difficulty Groups using the median\n",
    "numDat['Difficulty Groups'] = pd.cut(\n",
    "    numDat['Average Difficulty'],\n",
    "    bins=[numDat['Average Difficulty'].min(), median_difficulty, numDat['Average Difficulty'].max()],\n",
    "    labels=[f'Below Median (≤{median_difficulty:.2f})', f'Above Median (> {median_difficulty:.2f})'],\n",
    "    include_lowest=True\n",
    ")"
   ]
  },
  {
   "cell_type": "code",
   "execution_count": 76,
   "metadata": {},
   "outputs": [
    {
     "data": {
      "image/png": "[encoded data removed]",
      "text/plain": [
       "<Figure size 1000x600 with 1 Axes>"
      ]
     },
     "metadata": {},
     "output_type": "display_data"
    }
   ],
   "source": [
    "plt.figure(figsize=(10, 6))\n",
    "sns.boxplot(x='Difficulty Groups', y='Average Rating', data=numDat)\n",
    "plt.title('Distribution of Average Rating Across Difficulty Groups')\n",
    "plt.xlabel('Difficulty Groups')\n",
    "plt.ylabel('Average Rating')\n",
    "plt.show()"
   ]
  },
  {
   "cell_type": "code",
   "execution_count": 78,
   "metadata": {},
   "outputs": [
    {
     "name": "stdout",
     "output_type": "stream",
     "text": [
      "Pairwise Levene's Test Results:\n",
      "Comparing Above Median (> 2.90) vs Below Median (≤2.90): Levene's Test Statistic = 922.5902, P-value = 0.0000\n",
      "  The variances are significantly different (reject the null hypothesis).\n",
      "--------------------------------------------------\n"
     ]
    }
   ],
   "source": [
    "# Step 2: Get all unique group names\n",
    "groups = numDat['Difficulty Groups'].unique()\n",
    "\n",
    "# Step 3: Perform Levene's Test for each pair of groups\n",
    "print(\"Pairwise Levene's Test Results:\")\n",
    "\n",
    "# Compare groups using nested loops\n",
    "for i in range(len(groups)):\n",
    "    for j in range(i + 1, len(groups)):\n",
    "        group1 = groups[i]\n",
    "        group2 = groups[j]\n",
    "\n",
    "        # Extract data for the two groups\n",
    "        group1_data = numDat[numDat['Difficulty Groups'] == group1]['Average Rating']\n",
    "        group2_data = numDat[numDat['Difficulty Groups'] == group2]['Average Rating']\n",
    "        \n",
    "        # Ensure both groups have enough data points\n",
    "        if len(group1_data) > 1 and len(group2_data) > 1:\n",
    "            stat, p_value = levene(group1_data, group2_data)\n",
    "            print(f\"Comparing {group1} vs {group2}: Levene's Test Statistic = {stat:.4f}, P-value = {p_value:.4f}\")\n",
    "            \n",
    "            # Interpretation\n",
    "            if p_value < 0.005:\n",
    "                print(\"  The variances are significantly different (reject the null hypothesis).\")\n",
    "            else:\n",
    "                print(\"  The variances are not significantly different (fail to reject the null hypothesis).\")\n",
    "        else:\n",
    "            print(f\"Not enough data to compare {group1} vs {group2}.\")\n",
    "        print(\"-\" * 50)\n"
   ]
  },
  {
   "cell_type": "code",
   "execution_count": 79,
   "metadata": {},
   "outputs": [
    {
     "name": "stdout",
     "output_type": "stream",
     "text": [
      "Pearson Correlation between Average Difficulty and Average Rating: -0.6219\n"
     ]
    }
   ],
   "source": [
    "# Calculate the Pearson correlation\n",
    "correlation = numDat['Average Difficulty'].corr(numDat['Average Rating'])\n",
    "\n",
    "# Print the result\n",
    "print(f\"Pearson Correlation between Average Difficulty and Average Rating: {correlation:.4f}\")"
   ]
  },
  {
   "cell_type": "markdown",
   "metadata": {},
   "source": [
    "The Average Difficulty alone has a huge impact on the variance in the distribution of average ratings of the professors.$\\newline$ Additionally, there is a large correlation,"
   ]
  },
  {
   "cell_type": "markdown",
   "metadata": {},
   "source": [
    "Now we test the association between Average Difficulty and Male and Female professors."
   ]
  },
  {
   "cell_type": "code",
   "execution_count": 26,
   "metadata": {},
   "outputs": [
    {
     "name": "stdout",
     "output_type": "stream",
     "text": [
      "Mean Average Difficulty for Male Professors: 2.9368\n",
      "Mean Average Difficulty for Female Professors: 2.9238\n"
     ]
    }
   ],
   "source": [
    "# Calculate means\n",
    "male_mean_diff = numDat[numDat['Male Professor'] == 1]['Average Difficulty'].mean()\n",
    "female_mean_diff = numDat[numDat['Female Professor'] == 1]['Average Difficulty'].mean()\n",
    "\n",
    "# Print results\n",
    "print(f\"Mean Average Difficulty for Male Professors: {male_mean_diff:.4f}\")\n",
    "print(f\"Mean Average Difficulty for Female Professors: {female_mean_diff:.4f}\")\n"
   ]
  },
  {
   "cell_type": "markdown",
   "metadata": {},
   "source": [
    "While the means are close, we know that the Average Difficulty greatly affects the variance in distribution of ratings, so we will consider it a confound"
   ]
  },
  {
   "cell_type": "markdown",
   "metadata": {},
   "source": [
    "We will now control for the confound."
   ]
  },
  {
   "cell_type": "markdown",
   "metadata": {},
   "source": [
    "#### Does Pepper versus No Pepper impact the distributions of average rating of professors?"
   ]
  },
  {
   "cell_type": "code",
   "execution_count": 31,
   "metadata": {},
   "outputs": [
    {
     "name": "stdout",
     "output_type": "stream",
     "text": [
      "Levene's Test Statistic: 996.0266, P-value: 0.0000\n",
      "The variances are significantly different (reject the null hypothesis).\n"
     ]
    }
   ],
   "source": [
    "# Step 1: Split the data into two groups based on 'Received a pepper'\n",
    "no_pepper = numDat[numDat['Received a pepper'] == 0]['Average Rating']\n",
    "pepper = numDat[numDat['Received a pepper'] == 1]['Average Rating']\n",
    "\n",
    "# Step 2: Perform Levene's Test to compare variances\n",
    "if len(no_pepper) > 1 and len(pepper) > 1:  # Ensure both groups have enough data\n",
    "    stat, p_value = levene(no_pepper, pepper)\n",
    "    print(f\"Levene's Test Statistic: {stat:.4f}, P-value: {p_value:.4f}\")\n",
    "    \n",
    "    # Interpretation\n",
    "    if p_value < 0.005:\n",
    "        print(\"The variances are significantly different (reject the null hypothesis).\")\n",
    "    else:\n",
    "        print(\"The variances are not significantly different (fail to reject the null hypothesis).\")\n",
    "else:\n",
    "    print(\"Not enough data in one or both groups to perform Levene's Test.\")"
   ]
  },
  {
   "cell_type": "code",
   "execution_count": 32,
   "metadata": {},
   "outputs": [
    {
     "name": "stdout",
     "output_type": "stream",
     "text": [
      "Correlation between Received a Pepper and Average Rating: 0.4992\n"
     ]
    }
   ],
   "source": [
    "# Calculate correlation\n",
    "correlation = numDat['Received a pepper'].corr(numDat['Average Rating'])\n",
    "\n",
    "# Print the result\n",
    "print(f\"Correlation between Received a Pepper and Average Rating: {correlation:.4f}\")\n"
   ]
  },
  {
   "cell_type": "code",
   "execution_count": 33,
   "metadata": {},
   "outputs": [
    {
     "data": {
      "image/png": "[encoded data removed]",
      "text/plain": [
       "<Figure size 800x600 with 1 Axes>"
      ]
     },
     "metadata": {},
     "output_type": "display_data"
    }
   ],
   "source": [
    "plt.figure(figsize=(8, 6))\n",
    "sns.boxplot(x='Received a pepper', y='Average Rating', data=numDat)\n",
    "plt.title('Distribution of Average Rating for Pepper vs. No Pepper')\n",
    "plt.xlabel('Received a Pepper (0 = No, 1 = Yes)')\n",
    "plt.ylabel('Average Rating')\n",
    "plt.show()"
   ]
  },
  {
   "cell_type": "markdown",
   "metadata": {},
   "source": [
    "Yes, Pepper (attractiveness of a professor) affects the variance of the distribution of average ratings."
   ]
  },
  {
   "cell_type": "markdown",
   "metadata": {},
   "source": [
    "Now we check if there is a correlation between Pepper and Male and Female professors."
   ]
  },
  {
   "cell_type": "code",
   "execution_count": 81,
   "metadata": {},
   "outputs": [
    {
     "name": "stdout",
     "output_type": "stream",
     "text": [
      "Correlation between Received a Pepper and Average Rating (Male Professors): 0.4907\n",
      "Correlation between Received a Pepper and Average Rating (Female Professors): 0.5146\n"
     ]
    }
   ],
   "source": [
    "# Filter data for male and female professors\n",
    "male_prof_data = numDat[numDat['Male Professor'] == 1]\n",
    "female_prof_data = numDat[numDat['Female Professor'] == 1]\n",
    "\n",
    "# Calculate correlations\n",
    "male_correlation = male_prof_data['Received a pepper'].corr(male_prof_data['Average Rating'])\n",
    "female_correlation = female_prof_data['Received a pepper'].corr(female_prof_data['Average Rating'])\n",
    "\n",
    "# Print results\n",
    "print(f\"Correlation between Received a Pepper and Average Rating (Male Professors): {male_correlation:.4f}\")\n",
    "print(f\"Correlation between Received a Pepper and Average Rating (Female Professors): {female_correlation:.4f}\")\n"
   ]
  },
  {
   "cell_type": "code",
   "execution_count": 82,
   "metadata": {},
   "outputs": [
    {
     "name": "stdout",
     "output_type": "stream",
     "text": [
      "Proportion of Male Professors who received a pepper: 0.4870\n",
      "Proportion of Male Professors who did not receive a pepper: 0.5130\n",
      "Proportion of Female Professors who received a pepper: 0.5230\n",
      "Proportion of Female Professors who did not receive a pepper: 0.4770\n"
     ]
    }
   ],
   "source": [
    "# Filter data for male and female professors\n",
    "male_prof_data = numDat[numDat['Male Professor'] == 1]\n",
    "female_prof_data = numDat[numDat['Female Professor'] == 1]\n",
    "\n",
    "# Calculate proportions for male professors\n",
    "male_pepper_proportion = male_prof_data['Received a pepper'].mean()  # Proportion of 1s\n",
    "male_no_pepper_proportion = 1 - male_pepper_proportion  # Proportion of 0s\n",
    "\n",
    "# Calculate proportions for female professors\n",
    "female_pepper_proportion = female_prof_data['Received a pepper'].mean()  # Proportion of 1s\n",
    "female_no_pepper_proportion = 1 - female_pepper_proportion  # Proportion of 0s\n",
    "\n",
    "# Print results\n",
    "print(f\"Proportion of Male Professors who received a pepper: {male_pepper_proportion:.4f}\")\n",
    "print(f\"Proportion of Male Professors who did not receive a pepper: {male_no_pepper_proportion:.4f}\")\n",
    "print(f\"Proportion of Female Professors who received a pepper: {female_pepper_proportion:.4f}\")\n",
    "print(f\"Proportion of Female Professors who did not receive a pepper: {female_no_pepper_proportion:.4f}\")\n"
   ]
  },
  {
   "cell_type": "markdown",
   "metadata": {},
   "source": [
    "We conclude Pepper is a confound. We will control for the confound and analyze result"
   ]
  },
  {
   "cell_type": "markdown",
   "metadata": {},
   "source": [
    "#### Controlling for Confounds: Number of Ratings, Average Difficulty, and Pepper are all confounds."
   ]
  },
  {
   "cell_type": "code",
   "execution_count": 106,
   "metadata": {},
   "outputs": [
    {
     "name": "stdout",
     "output_type": "stream",
     "text": [
      "Levene's Test Results with Cohen's d for Male vs. Female within Subgroups:\n",
      "                               Stratification Group  Levene Stat   P-value  \\\n",
      "0  Above Median (> 2.90)_Above Median (> 15.00)_0.0     1.876821  0.171081   \n",
      "1  Above Median (> 2.90)_Above Median (> 15.00)_1.0     5.185654  0.023134   \n",
      "2   Above Median (> 2.90)_Below Median (≤15.00)_0.0     0.102224  0.749244   \n",
      "3   Below Median (≤2.90)_Above Median (> 15.00)_1.0     1.193524  0.274896   \n",
      "4   Below Median (≤2.90)_Above Median (> 15.00)_0.0     2.655316  0.103942   \n",
      "5    Below Median (≤2.90)_Below Median (≤15.00)_0.0     0.072619  0.787636   \n",
      "6   Above Median (> 2.90)_Below Median (≤15.00)_1.0     2.093211  0.148553   \n",
      "7    Below Median (≤2.90)_Below Median (≤15.00)_1.0     5.561216  0.018570   \n",
      "\n",
      "   Significant  Male Sample Size  Female Sample Size  Total Sample Size  \\\n",
      "0        False               472                 328                800   \n",
      "1        False               342                 246                588   \n",
      "2        False               552                 435                987   \n",
      "3        False               529                 427                956   \n",
      "4        False               270                 159                429   \n",
      "5        False               428                 321                749   \n",
      "6        False               271                 255                526   \n",
      "7        False               493                 435                928   \n",
      "\n",
      "   Cohen's d  \n",
      "0   0.286305  \n",
      "1   0.237874  \n",
      "2   0.130069  \n",
      "3  -0.010660  \n",
      "4   0.189499  \n",
      "5   0.022539  \n",
      "6   0.095726  \n",
      "7   0.189563  \n"
     ]
    }
   ],
   "source": [
    "from scipy.stats import levene\n",
    "import numpy as np\n",
    "import pandas as pd\n",
    "\n",
    "# Assuming numDat is loaded with the necessary data\n",
    "\n",
    "# Calculate median splits for Average Difficulty and Number of ratings\n",
    "median_difficulty = numDat['Average Difficulty'].median()\n",
    "median_ratings = numDat['Number of ratings'].median()\n",
    "\n",
    "# Create stratification groups based on the conditions\n",
    "numDat.loc[:, 'Difficulty Groups'] = pd.cut(\n",
    "    numDat['Average Difficulty'],\n",
    "    bins=[numDat['Average Difficulty'].min(), median_difficulty, numDat['Average Difficulty'].max()],\n",
    "    labels=[f'Below Median (≤{median_difficulty:.2f})', f'Above Median (> {median_difficulty:.2f})'],\n",
    "    include_lowest=True\n",
    ")\n",
    "\n",
    "numDat.loc[:, 'Ratings Groups'] = pd.cut(\n",
    "    numDat['Number of ratings'],\n",
    "    bins=[numDat['Number of ratings'].min(), median_ratings, numDat['Number of ratings'].max()],\n",
    "    labels=[f'Below Median (≤{median_ratings:.2f})', f'Above Median (> {median_ratings:.2f})'],\n",
    "    include_lowest=True\n",
    ")\n",
    "\n",
    "# Create a combined stratification group\n",
    "numDat.loc[:, 'Stratification Group'] = (\n",
    "    numDat['Difficulty Groups'].astype(str) + \"_\" +\n",
    "    numDat['Ratings Groups'].astype(str) + \"_\" +\n",
    "    numDat['Received a pepper'].astype(str)\n",
    ")\n",
    "\n",
    "# Initialize a list to store Levene's test results and effect sizes\n",
    "levene_results = []\n",
    "\n",
    "# Get unique stratification groups\n",
    "stratification_groups = numDat['Stratification Group'].unique()\n",
    "\n",
    "# Iterate through each stratification group\n",
    "for group in stratification_groups:\n",
    "    # Filter data for males and females in the current group\n",
    "    male_data = numDat[(numDat['Male Professor'] == 1) & (numDat['Stratification Group'] == group)]['Average Rating']\n",
    "    female_data = numDat[(numDat['Female Professor'] == 1) & (numDat['Stratification Group'] == group)]['Average Rating']\n",
    "    \n",
    "    # Calculate sample sizes for the subgroup\n",
    "    male_sample_size = len(male_data)\n",
    "    female_sample_size = len(female_data)\n",
    "    total_sample_size = male_sample_size + female_sample_size\n",
    "    \n",
    "    # Ensure both groups have enough data for Levene's test\n",
    "    if male_sample_size > 1 and female_sample_size > 1:\n",
    "        stat, p_value = levene(male_data, female_data)\n",
    "        \n",
    "        # Calculate Cohen's d for the group\n",
    "        mean_male = male_data.mean()\n",
    "        mean_female = female_data.mean()\n",
    "        std_male = male_data.std()\n",
    "        std_female = female_data.std()\n",
    "        pooled_std = np.sqrt(((male_sample_size - 1) * std_male**2 + (female_sample_size - 1) * std_female**2) / (male_sample_size + female_sample_size - 2))\n",
    "        effect_size = (mean_male - mean_female) / pooled_std\n",
    "        \n",
    "        levene_results.append({\n",
    "            'Stratification Group': group,\n",
    "            'Levene Stat': stat,\n",
    "            'P-value': p_value,\n",
    "            'Significant': p_value < 0.005,  # Using a significance level of 0.005\n",
    "            'Male Sample Size': male_sample_size,\n",
    "            'Female Sample Size': female_sample_size,\n",
    "            'Total Sample Size': total_sample_size,\n",
    "            'Cohen\\'s d': effect_size\n",
    "        })\n",
    "    else:\n",
    "        levene_results.append({\n",
    "            'Stratification Group': group,\n",
    "            'Levene Stat': None,\n",
    "            'P-value': None,\n",
    "            'Significant': \"Insufficient Data\",\n",
    "            'Male Sample Size': male_sample_size,\n",
    "            'Female Sample Size': female_sample_size,\n",
    "            'Total Sample Size': total_sample_size,\n",
    "            'Cohen\\'s d': None\n",
    "        })\n",
    "\n",
    "# Convert results to a DataFrame\n",
    "levene_results_df = pd.DataFrame(levene_results)\n",
    "\n",
    "# Print the results\n",
    "print(\"Levene's Test Results with Cohen's d for Male vs. Female within Subgroups:\")\n",
    "print(levene_results_df)\n"
   ]
  },
  {
   "cell_type": "markdown",
   "metadata": {},
   "source": [
    "#### Analysis on Effect Size and Power"
   ]
  },
  {
   "cell_type": "markdown",
   "metadata": {},
   "source": [
    "We find effect size for the most significant difference (lowest p value) even though this is still not significant with pvalue of .005\n",
    "\n",
    "Row 7 Below Median (≤2.90)_Below Median (≤15.00)_1.0     5.561216  0.018570 "
   ]
  },
  {
   "cell_type": "code",
   "execution_count": 101,
   "metadata": {},
   "outputs": [
    {
     "name": "stdout",
     "output_type": "stream",
     "text": [
      "95% Confidence Interval for Cohen's d: [0.0599, 0.3212]\n"
     ]
    }
   ],
   "source": [
    "# Bootstrap to calculate the 95% confidence interval for Cohen's d\n",
    "bootstrap_effect_sizes = []\n",
    "n_bootstrap = 1000\n",
    "\n",
    "if not male_data.empty and not female_data.empty:\n",
    "    for _ in range(n_bootstrap):\n",
    "        # Resample data with replacement\n",
    "        male_sample = np.random.choice(male_data, size=len(male_data), replace=True)\n",
    "        female_sample = np.random.choice(female_data, size=len(female_data), replace=True)\n",
    "\n",
    "        # Calculate means and standard deviations for resampled data\n",
    "        mean_male_sample = np.mean(male_sample)\n",
    "        mean_female_sample = np.mean(female_sample)\n",
    "        std_male_sample = np.std(male_sample, ddof=1)\n",
    "        std_female_sample = np.std(female_sample, ddof=1)\n",
    "\n",
    "        # Calculate pooled standard deviation\n",
    "        pooled_std_sample = np.sqrt(\n",
    "            ((len(male_sample) - 1) * std_male_sample**2 + (len(female_sample) - 1) * std_female_sample**2) /\n",
    "            (len(male_sample) + len(female_sample) - 2)\n",
    "        )\n",
    "\n",
    "        # Calculate Cohen's d for the resampled data\n",
    "        bootstrap_effect_sizes.append((mean_male_sample - mean_female_sample) / pooled_std_sample)\n",
    "\n",
    "    # Calculate the confidence interval\n",
    "    lower_bound = np.percentile(bootstrap_effect_sizes, 2.5)\n",
    "    upper_bound = np.percentile(bootstrap_effect_sizes, 97.5)\n",
    "\n",
    "    # Print the results\n",
    "    print(f\"95% Confidence Interval for Cohen's d: [{lower_bound:.4f}, {upper_bound:.4f}]\")\n",
    "else:\n",
    "    print(\"No data available for the specified group to perform bootstrap analysis.\")\n",
    "\n"
   ]
  },
  {
   "cell_type": "markdown",
   "metadata": {},
   "source": [
    "Power for the lowest sig result using the .0599 as effect size  "
   ]
  }
 ],
 "metadata": {
  "kernelspec": {
   "display_name": "base",
   "language": "python",
   "name": "python3"
  },
  "language_info": {
   "codemirror_mode": {
    "name": "ipython",
    "version": 3
   },
   "file_extension": ".py",
   "mimetype": "text/x-python",
   "name": "python",
   "nbconvert_exporter": "python",
   "pygments_lexer": "ipython3",
   "version": "3.10.15"
  }
 },
 "nbformat": 4,
 "nbformat_minor": 2
}
