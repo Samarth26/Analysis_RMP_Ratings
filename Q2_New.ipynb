{
 "cells": [
  {
   "cell_type": "code",
<<<<<<< HEAD
   "execution_count": 1,
=======
   "execution_count": 54,
>>>>>>> refs/remotes/origin/master
   "metadata": {},
   "outputs": [],
   "source": [
    "# Importing libraries\n",
    "import pandas as pd\n",
    "import numpy as np\n",
    "import matplotlib.pyplot as plt\n",
    "import seaborn as sns\n",
    "from scipy import stats\n",
    "from scipy.stats import levene"
   ]
  },
  {
<<<<<<< HEAD
   "cell_type": "code",
   "execution_count": null,
   "metadata": {},
   "outputs": [],
   "source": []
  },
  {
=======
>>>>>>> refs/remotes/origin/master
   "cell_type": "markdown",
   "metadata": {},
   "source": [
    "Definition of confounding variable: (1) they affect the dependent variable and (2) the groups differ on the confounding variable.$\\newline$, 3) They cannot be part of causal link between Dependent and Indepoendent\n",
    "\n",
    "Analysis Plan:$\\newline$\n",
    "\n",
    "Step 1) Test wether or not there is a significant difference in the two groups without controlling for potential confounds.$\\newline$\n",
    "\n",
    "Step 2) Check for potential confounding variables. We use significance testing and correlation tests to see if 1) the there is a correlation between the potential confound and the dependent variable, and 2), to see if there is a correlation between the potential confound and the idependent variable.$\\newline$\n",
    "\n",
    "Step 3) If not a confound, we forget about it and start over.$\\newline$\n",
    "\n",
    "Step 4) If it is a confound, we will control for it using stratification and see what has changed between the relationship between the independent variable and the dependent variable.$\\newline$\n",
    "\n",
    "NOTE: To avoid Type 1 errors, we set alpha = .005. Also, to avoid p-hacking, we stick with a plan to divide subgroups for stratification within each question and use the same grouping throughout the problem. We will use the median split for this problem.\n"
   ]
  },
  {
   "cell_type": "code",
<<<<<<< HEAD
   "execution_count": 2,
=======
   "execution_count": 55,
>>>>>>> refs/remotes/origin/master
   "metadata": {},
   "outputs": [],
   "source": [
    "'''\n",
    "Columns are:\n",
    "1. Average Rating (the arithmetic mean of all individual quality ratings of this professor)\n",
    "2. Average Difficulty (the arithmetic mean of all individual difficulty ratings of this professor)\n",
    "3. Number of ratings (simply the total number of ratings these averages are based on)\n",
    "4. Received a “pepper”? (Boolean - was this professor judged as “hot” by the students?)\n",
    "5. The proportion of students that said they would take the class again\n",
    "6. The number of ratings coming from online classes\n",
    "7. Male gender (Boolean – 1: determined with high confidence that professor is male)\n",
    "8. Female (Boolean – 1: determined with high confidence that professor is female)\n",
    "'''\n",
    "numDat = pd.read_csv('rmpCapstoneNum.csv', header=None)\n",
    "numDat.columns = ['Average Rating', 'Average Difficulty', 'Number of ratings', 'Received a pepper', \n",
    "                       'Proportion of students that said they would take the class again', \n",
    "                       'Number of ratings coming from online classes', 'Male Professor', 'Female Professor']"
   ]
  },
  {
   "cell_type": "markdown",
   "metadata": {},
   "source": [
    "2.) Is there a gender difference in the spread (variance/dispersion) of the ratings distribution?\n",
    "\n",
    "The Null Hyp: There is no difference in the distribution of the variance of the distribution of Average Ratings among Men and Women professors.$\\newline$\n",
    "\n",
    "Alternate Hyp: There is a significant difference between the variance of the distribution of average ratings between Men and Women.\n",
    "\n",
    "Plan for stratification grouping is to use median. Levenes test does not require evenly spaced groups."
   ]
  },
  {
   "cell_type": "markdown",
   "metadata": {},
   "source": [
    "First, we only consider professors with at least 10 ratings, and we only consider those with high confidence gender"
   ]
  },
  {
   "cell_type": "code",
<<<<<<< HEAD
   "execution_count": 3,
=======
   "execution_count": 56,
>>>>>>> refs/remotes/origin/master
   "metadata": {},
   "outputs": [
    {
     "data": {
      "text/html": [
       "<div>\n",
       "<style scoped>\n",
       "    .dataframe tbody tr th:only-of-type {\n",
       "        vertical-align: middle;\n",
       "    }\n",
       "\n",
       "    .dataframe tbody tr th {\n",
       "        vertical-align: top;\n",
       "    }\n",
       "\n",
       "    .dataframe thead th {\n",
       "        text-align: right;\n",
       "    }\n",
       "</style>\n",
       "<table border=\"1\" class=\"dataframe\">\n",
       "  <thead>\n",
       "    <tr style=\"text-align: right;\">\n",
       "      <th></th>\n",
       "      <th>Average Rating</th>\n",
       "      <th>Average Difficulty</th>\n",
       "      <th>Number of ratings</th>\n",
       "      <th>Received a pepper</th>\n",
       "      <th>Proportion of students that said they would take the class again</th>\n",
       "      <th>Number of ratings coming from online classes</th>\n",
       "      <th>Male Professor</th>\n",
       "      <th>Female Professor</th>\n",
       "    </tr>\n",
       "  </thead>\n",
       "  <tbody>\n",
       "    <tr>\n",
       "      <th>5</th>\n",
       "      <td>3.5</td>\n",
       "      <td>3.3</td>\n",
       "      <td>22.0</td>\n",
       "      <td>0.0</td>\n",
       "      <td>56.0</td>\n",
       "      <td>7.0</td>\n",
       "      <td>1</td>\n",
       "      <td>0</td>\n",
       "    </tr>\n",
       "    <tr>\n",
       "      <th>21</th>\n",
       "      <td>2.6</td>\n",
       "      <td>4.1</td>\n",
       "      <td>10.0</td>\n",
       "      <td>0.0</td>\n",
       "      <td>NaN</td>\n",
       "      <td>0.0</td>\n",
       "      <td>1</td>\n",
       "      <td>0</td>\n",
       "    </tr>\n",
       "    <tr>\n",
       "      <th>25</th>\n",
       "      <td>4.3</td>\n",
       "      <td>3.3</td>\n",
       "      <td>16.0</td>\n",
       "      <td>1.0</td>\n",
       "      <td>83.0</td>\n",
       "      <td>0.0</td>\n",
       "      <td>0</td>\n",
       "      <td>1</td>\n",
       "    </tr>\n",
       "    <tr>\n",
       "      <th>39</th>\n",
       "      <td>3.5</td>\n",
       "      <td>3.2</td>\n",
       "      <td>20.0</td>\n",
       "      <td>1.0</td>\n",
       "      <td>NaN</td>\n",
       "      <td>0.0</td>\n",
       "      <td>1</td>\n",
       "      <td>0</td>\n",
       "    </tr>\n",
       "    <tr>\n",
       "      <th>40</th>\n",
       "      <td>1.8</td>\n",
       "      <td>3.8</td>\n",
       "      <td>15.0</td>\n",
       "      <td>0.0</td>\n",
       "      <td>22.0</td>\n",
       "      <td>1.0</td>\n",
       "      <td>0</td>\n",
       "      <td>1</td>\n",
       "    </tr>\n",
       "    <tr>\n",
       "      <th>...</th>\n",
       "      <td>...</td>\n",
       "      <td>...</td>\n",
       "      <td>...</td>\n",
       "      <td>...</td>\n",
       "      <td>...</td>\n",
       "      <td>...</td>\n",
       "      <td>...</td>\n",
       "      <td>...</td>\n",
       "    </tr>\n",
       "    <tr>\n",
       "      <th>89810</th>\n",
       "      <td>3.4</td>\n",
       "      <td>3.4</td>\n",
       "      <td>14.0</td>\n",
       "      <td>0.0</td>\n",
       "      <td>54.0</td>\n",
       "      <td>5.0</td>\n",
       "      <td>1</td>\n",
       "      <td>0</td>\n",
       "    </tr>\n",
       "    <tr>\n",
       "      <th>89841</th>\n",
       "      <td>4.2</td>\n",
       "      <td>3.8</td>\n",
       "      <td>11.0</td>\n",
       "      <td>0.0</td>\n",
       "      <td>NaN</td>\n",
       "      <td>0.0</td>\n",
       "      <td>0</td>\n",
       "      <td>1</td>\n",
       "    </tr>\n",
       "    <tr>\n",
       "      <th>89855</th>\n",
       "      <td>4.0</td>\n",
       "      <td>1.9</td>\n",
       "      <td>11.0</td>\n",
       "      <td>1.0</td>\n",
       "      <td>60.0</td>\n",
       "      <td>0.0</td>\n",
       "      <td>1</td>\n",
       "      <td>0</td>\n",
       "    </tr>\n",
       "    <tr>\n",
       "      <th>89866</th>\n",
       "      <td>4.4</td>\n",
       "      <td>3.6</td>\n",
       "      <td>14.0</td>\n",
       "      <td>1.0</td>\n",
       "      <td>88.0</td>\n",
       "      <td>0.0</td>\n",
       "      <td>0</td>\n",
       "      <td>1</td>\n",
       "    </tr>\n",
       "    <tr>\n",
       "      <th>89877</th>\n",
       "      <td>3.6</td>\n",
       "      <td>3.4</td>\n",
       "      <td>10.0</td>\n",
       "      <td>0.0</td>\n",
       "      <td>50.0</td>\n",
       "      <td>1.0</td>\n",
       "      <td>1</td>\n",
       "      <td>0</td>\n",
       "    </tr>\n",
       "  </tbody>\n",
       "</table>\n",
       "<p>7105 rows × 8 columns</p>\n",
       "</div>"
      ],
      "text/plain": [
       "       Average Rating  Average Difficulty  Number of ratings  \\\n",
       "5                 3.5                 3.3               22.0   \n",
       "21                2.6                 4.1               10.0   \n",
       "25                4.3                 3.3               16.0   \n",
       "39                3.5                 3.2               20.0   \n",
       "40                1.8                 3.8               15.0   \n",
       "...               ...                 ...                ...   \n",
       "89810             3.4                 3.4               14.0   \n",
       "89841             4.2                 3.8               11.0   \n",
       "89855             4.0                 1.9               11.0   \n",
       "89866             4.4                 3.6               14.0   \n",
       "89877             3.6                 3.4               10.0   \n",
       "\n",
       "       Received a pepper  \\\n",
       "5                    0.0   \n",
       "21                   0.0   \n",
       "25                   1.0   \n",
       "39                   1.0   \n",
       "40                   0.0   \n",
       "...                  ...   \n",
       "89810                0.0   \n",
       "89841                0.0   \n",
       "89855                1.0   \n",
       "89866                1.0   \n",
       "89877                0.0   \n",
       "\n",
       "       Proportion of students that said they would take the class again  \\\n",
       "5                                                   56.0                  \n",
       "21                                                   NaN                  \n",
       "25                                                  83.0                  \n",
       "39                                                   NaN                  \n",
       "40                                                  22.0                  \n",
       "...                                                  ...                  \n",
       "89810                                               54.0                  \n",
       "89841                                                NaN                  \n",
       "89855                                               60.0                  \n",
       "89866                                               88.0                  \n",
       "89877                                               50.0                  \n",
       "\n",
       "       Number of ratings coming from online classes  Male Professor  \\\n",
       "5                                               7.0               1   \n",
       "21                                              0.0               1   \n",
       "25                                              0.0               0   \n",
       "39                                              0.0               1   \n",
       "40                                              1.0               0   \n",
       "...                                             ...             ...   \n",
       "89810                                           5.0               1   \n",
       "89841                                           0.0               0   \n",
       "89855                                           0.0               1   \n",
       "89866                                           0.0               0   \n",
       "89877                                           1.0               1   \n",
       "\n",
       "       Female Professor  \n",
       "5                     0  \n",
       "21                    0  \n",
       "25                    1  \n",
       "39                    0  \n",
       "40                    1  \n",
       "...                 ...  \n",
       "89810                 0  \n",
       "89841                 1  \n",
       "89855                 0  \n",
       "89866                 1  \n",
       "89877                 0  \n",
       "\n",
       "[7105 rows x 8 columns]"
      ]
     },
<<<<<<< HEAD
     "execution_count": 3,
=======
     "execution_count": 56,
>>>>>>> refs/remotes/origin/master
     "metadata": {},
     "output_type": "execute_result"
    }
   ],
   "source": [
    "# Keep rows where 'Number of ratings' is greater or equal to 10\n",
    "numDat = numDat.loc[numDat['Number of ratings'] >= 10]\n",
    "\n",
    "# Remove rows where 'Male Professor' and 'Female Professor' are both 0 or both 1\n",
    "numDat = numDat.loc[\n",
    "    ~((numDat['Male Professor'] == 0) & (numDat['Female Professor'] == 0)) &\n",
    "    ~((numDat['Male Professor'] == 1) & (numDat['Female Professor'] == 1))\n",
    "]\n",
    "\n",
    "# Display the final filtered dataset\n",
    "numDat"
   ]
  },
  {
   "cell_type": "markdown",
   "metadata": {},
   "source": [
    "We first visualize the variation in the distributions among men and women"
   ]
  },
  {
   "cell_type": "code",
<<<<<<< HEAD
   "execution_count": 4,
=======
   "execution_count": 57,
>>>>>>> refs/remotes/origin/master
   "metadata": {},
   "outputs": [],
   "source": [
    "# Create DataFrames for Male and Female Professors\n",
    "numDat_male = numDat[numDat['Male Professor'] == 1]\n",
    "numDat_female = numDat[numDat['Female Professor'] == 1]"
   ]
  },
  {
   "cell_type": "code",
<<<<<<< HEAD
   "execution_count": 5,
=======
   "execution_count": 58,
>>>>>>> refs/remotes/origin/master
   "metadata": {},
   "outputs": [
    {
     "data": {
      "text/html": [
       "<div>\n",
       "<style scoped>\n",
       "    .dataframe tbody tr th:only-of-type {\n",
       "        vertical-align: middle;\n",
       "    }\n",
       "\n",
       "    .dataframe tbody tr th {\n",
       "        vertical-align: top;\n",
       "    }\n",
       "\n",
       "    .dataframe thead th {\n",
       "        text-align: right;\n",
       "    }\n",
       "</style>\n",
       "<table border=\"1\" class=\"dataframe\">\n",
       "  <thead>\n",
       "    <tr style=\"text-align: right;\">\n",
       "      <th></th>\n",
       "      <th>Average Rating</th>\n",
       "      <th>Average Difficulty</th>\n",
       "      <th>Number of ratings</th>\n",
       "      <th>Received a pepper</th>\n",
       "      <th>Proportion of students that said they would take the class again</th>\n",
       "      <th>Number of ratings coming from online classes</th>\n",
       "      <th>Male Professor</th>\n",
       "      <th>Female Professor</th>\n",
       "    </tr>\n",
       "  </thead>\n",
       "  <tbody>\n",
       "    <tr>\n",
       "      <th>count</th>\n",
       "      <td>3987.000000</td>\n",
       "      <td>3987.000000</td>\n",
       "      <td>3987.000000</td>\n",
       "      <td>3987.000000</td>\n",
       "      <td>3357.000000</td>\n",
       "      <td>3987.000000</td>\n",
       "      <td>3987.0</td>\n",
       "      <td>3987.0</td>\n",
       "    </tr>\n",
       "    <tr>\n",
       "      <th>mean</th>\n",
       "      <td>3.964184</td>\n",
       "      <td>2.940030</td>\n",
       "      <td>18.892902</td>\n",
       "      <td>0.482318</td>\n",
       "      <td>78.855824</td>\n",
       "      <td>0.653373</td>\n",
       "      <td>1.0</td>\n",
       "      <td>0.0</td>\n",
       "    </tr>\n",
       "    <tr>\n",
       "      <th>std</th>\n",
       "      <td>0.857271</td>\n",
       "      <td>0.769503</td>\n",
       "      <td>16.879471</td>\n",
       "      <td>0.499750</td>\n",
       "      <td>23.712334</td>\n",
       "      <td>1.938917</td>\n",
       "      <td>0.0</td>\n",
       "      <td>0.0</td>\n",
       "    </tr>\n",
       "    <tr>\n",
       "      <th>min</th>\n",
       "      <td>1.000000</td>\n",
       "      <td>1.000000</td>\n",
       "      <td>10.000000</td>\n",
       "      <td>0.000000</td>\n",
       "      <td>4.000000</td>\n",
       "      <td>0.000000</td>\n",
       "      <td>1.0</td>\n",
       "      <td>0.0</td>\n",
       "    </tr>\n",
       "    <tr>\n",
       "      <th>25%</th>\n",
       "      <td>3.500000</td>\n",
       "      <td>2.400000</td>\n",
       "      <td>11.000000</td>\n",
       "      <td>0.000000</td>\n",
       "      <td>67.000000</td>\n",
       "      <td>0.000000</td>\n",
       "      <td>1.0</td>\n",
       "      <td>0.0</td>\n",
       "    </tr>\n",
       "    <tr>\n",
       "      <th>50%</th>\n",
       "      <td>4.300000</td>\n",
       "      <td>2.900000</td>\n",
       "      <td>14.000000</td>\n",
       "      <td>0.000000</td>\n",
       "      <td>86.000000</td>\n",
       "      <td>0.000000</td>\n",
       "      <td>1.0</td>\n",
       "      <td>0.0</td>\n",
       "    </tr>\n",
       "    <tr>\n",
       "      <th>75%</th>\n",
       "      <td>4.600000</td>\n",
       "      <td>3.500000</td>\n",
       "      <td>20.000000</td>\n",
       "      <td>1.000000</td>\n",
       "      <td>100.000000</td>\n",
       "      <td>0.000000</td>\n",
       "      <td>1.0</td>\n",
       "      <td>0.0</td>\n",
       "    </tr>\n",
       "    <tr>\n",
       "      <th>max</th>\n",
       "      <td>5.000000</td>\n",
       "      <td>5.000000</td>\n",
       "      <td>393.000000</td>\n",
       "      <td>1.000000</td>\n",
       "      <td>100.000000</td>\n",
       "      <td>19.000000</td>\n",
       "      <td>1.0</td>\n",
       "      <td>0.0</td>\n",
       "    </tr>\n",
       "  </tbody>\n",
       "</table>\n",
       "</div>"
      ],
      "text/plain": [
       "       Average Rating  Average Difficulty  Number of ratings  \\\n",
       "count     3987.000000         3987.000000        3987.000000   \n",
       "mean         3.964184            2.940030          18.892902   \n",
       "std          0.857271            0.769503          16.879471   \n",
       "min          1.000000            1.000000          10.000000   \n",
       "25%          3.500000            2.400000          11.000000   \n",
       "50%          4.300000            2.900000          14.000000   \n",
       "75%          4.600000            3.500000          20.000000   \n",
       "max          5.000000            5.000000         393.000000   \n",
       "\n",
       "       Received a pepper  \\\n",
       "count        3987.000000   \n",
       "mean            0.482318   \n",
       "std             0.499750   \n",
       "min             0.000000   \n",
       "25%             0.000000   \n",
       "50%             0.000000   \n",
       "75%             1.000000   \n",
       "max             1.000000   \n",
       "\n",
       "       Proportion of students that said they would take the class again  \\\n",
       "count                                        3357.000000                  \n",
       "mean                                           78.855824                  \n",
       "std                                            23.712334                  \n",
       "min                                             4.000000                  \n",
       "25%                                            67.000000                  \n",
       "50%                                            86.000000                  \n",
       "75%                                           100.000000                  \n",
       "max                                           100.000000                  \n",
       "\n",
       "       Number of ratings coming from online classes  Male Professor  \\\n",
       "count                                   3987.000000          3987.0   \n",
       "mean                                       0.653373             1.0   \n",
       "std                                        1.938917             0.0   \n",
       "min                                        0.000000             1.0   \n",
       "25%                                        0.000000             1.0   \n",
       "50%                                        0.000000             1.0   \n",
       "75%                                        0.000000             1.0   \n",
       "max                                       19.000000             1.0   \n",
       "\n",
       "       Female Professor  \n",
       "count            3987.0  \n",
       "mean                0.0  \n",
       "std                 0.0  \n",
       "min                 0.0  \n",
       "25%                 0.0  \n",
       "50%                 0.0  \n",
       "75%                 0.0  \n",
       "max                 0.0  "
      ]
     },
<<<<<<< HEAD
     "execution_count": 5,
=======
     "execution_count": 58,
>>>>>>> refs/remotes/origin/master
     "metadata": {},
     "output_type": "execute_result"
    }
   ],
   "source": [
    "numDat_male.describe()"
   ]
  },
  {
   "cell_type": "code",
<<<<<<< HEAD
   "execution_count": 6,
=======
   "execution_count": 59,
>>>>>>> refs/remotes/origin/master
   "metadata": {},
   "outputs": [
    {
     "data": {
      "text/html": [
       "<div>\n",
       "<style scoped>\n",
       "    .dataframe tbody tr th:only-of-type {\n",
       "        vertical-align: middle;\n",
       "    }\n",
       "\n",
       "    .dataframe tbody tr th {\n",
       "        vertical-align: top;\n",
       "    }\n",
       "\n",
       "    .dataframe thead th {\n",
       "        text-align: right;\n",
       "    }\n",
       "</style>\n",
       "<table border=\"1\" class=\"dataframe\">\n",
       "  <thead>\n",
       "    <tr style=\"text-align: right;\">\n",
       "      <th></th>\n",
       "      <th>Average Rating</th>\n",
       "      <th>Average Difficulty</th>\n",
       "      <th>Number of ratings</th>\n",
       "      <th>Received a pepper</th>\n",
       "      <th>Proportion of students that said they would take the class again</th>\n",
       "      <th>Number of ratings coming from online classes</th>\n",
       "      <th>Male Professor</th>\n",
       "      <th>Female Professor</th>\n",
       "    </tr>\n",
       "  </thead>\n",
       "  <tbody>\n",
       "    <tr>\n",
       "      <th>count</th>\n",
       "      <td>3118.000000</td>\n",
       "      <td>3118.000000</td>\n",
       "      <td>3118.000000</td>\n",
       "      <td>3118.000000</td>\n",
       "      <td>2606.000000</td>\n",
       "      <td>3118.000000</td>\n",
       "      <td>3118.0</td>\n",
       "      <td>3118.0</td>\n",
       "    </tr>\n",
       "    <tr>\n",
       "      <th>mean</th>\n",
       "      <td>3.888775</td>\n",
       "      <td>2.946985</td>\n",
       "      <td>17.611931</td>\n",
       "      <td>0.509942</td>\n",
       "      <td>76.599770</td>\n",
       "      <td>0.878768</td>\n",
       "      <td>0.0</td>\n",
       "      <td>1.0</td>\n",
       "    </tr>\n",
       "    <tr>\n",
       "      <th>std</th>\n",
       "      <td>0.898383</td>\n",
       "      <td>0.765935</td>\n",
       "      <td>13.335368</td>\n",
       "      <td>0.499981</td>\n",
       "      <td>24.699061</td>\n",
       "      <td>2.260269</td>\n",
       "      <td>0.0</td>\n",
       "      <td>0.0</td>\n",
       "    </tr>\n",
       "    <tr>\n",
       "      <th>min</th>\n",
       "      <td>1.000000</td>\n",
       "      <td>1.000000</td>\n",
       "      <td>10.000000</td>\n",
       "      <td>0.000000</td>\n",
       "      <td>5.000000</td>\n",
       "      <td>0.000000</td>\n",
       "      <td>0.0</td>\n",
       "      <td>1.0</td>\n",
       "    </tr>\n",
       "    <tr>\n",
       "      <th>25%</th>\n",
       "      <td>3.400000</td>\n",
       "      <td>2.400000</td>\n",
       "      <td>11.000000</td>\n",
       "      <td>0.000000</td>\n",
       "      <td>63.000000</td>\n",
       "      <td>0.000000</td>\n",
       "      <td>0.0</td>\n",
       "      <td>1.0</td>\n",
       "    </tr>\n",
       "    <tr>\n",
       "      <th>50%</th>\n",
       "      <td>4.200000</td>\n",
       "      <td>2.900000</td>\n",
       "      <td>14.000000</td>\n",
       "      <td>1.000000</td>\n",
       "      <td>83.000000</td>\n",
       "      <td>0.000000</td>\n",
       "      <td>0.0</td>\n",
       "      <td>1.0</td>\n",
       "    </tr>\n",
       "    <tr>\n",
       "      <th>75%</th>\n",
       "      <td>4.600000</td>\n",
       "      <td>3.500000</td>\n",
       "      <td>19.000000</td>\n",
       "      <td>1.000000</td>\n",
       "      <td>100.000000</td>\n",
       "      <td>1.000000</td>\n",
       "      <td>0.0</td>\n",
       "      <td>1.0</td>\n",
       "    </tr>\n",
       "    <tr>\n",
       "      <th>max</th>\n",
       "      <td>5.000000</td>\n",
       "      <td>5.000000</td>\n",
       "      <td>247.000000</td>\n",
       "      <td>1.000000</td>\n",
       "      <td>100.000000</td>\n",
       "      <td>19.000000</td>\n",
       "      <td>0.0</td>\n",
       "      <td>1.0</td>\n",
       "    </tr>\n",
       "  </tbody>\n",
       "</table>\n",
       "</div>"
      ],
      "text/plain": [
       "       Average Rating  Average Difficulty  Number of ratings  \\\n",
       "count     3118.000000         3118.000000        3118.000000   \n",
       "mean         3.888775            2.946985          17.611931   \n",
       "std          0.898383            0.765935          13.335368   \n",
       "min          1.000000            1.000000          10.000000   \n",
       "25%          3.400000            2.400000          11.000000   \n",
       "50%          4.200000            2.900000          14.000000   \n",
       "75%          4.600000            3.500000          19.000000   \n",
       "max          5.000000            5.000000         247.000000   \n",
       "\n",
       "       Received a pepper  \\\n",
       "count        3118.000000   \n",
       "mean            0.509942   \n",
       "std             0.499981   \n",
       "min             0.000000   \n",
       "25%             0.000000   \n",
       "50%             1.000000   \n",
       "75%             1.000000   \n",
       "max             1.000000   \n",
       "\n",
       "       Proportion of students that said they would take the class again  \\\n",
       "count                                        2606.000000                  \n",
       "mean                                           76.599770                  \n",
       "std                                            24.699061                  \n",
       "min                                             5.000000                  \n",
       "25%                                            63.000000                  \n",
       "50%                                            83.000000                  \n",
       "75%                                           100.000000                  \n",
       "max                                           100.000000                  \n",
       "\n",
       "       Number of ratings coming from online classes  Male Professor  \\\n",
       "count                                   3118.000000          3118.0   \n",
       "mean                                       0.878768             0.0   \n",
       "std                                        2.260269             0.0   \n",
       "min                                        0.000000             0.0   \n",
       "25%                                        0.000000             0.0   \n",
       "50%                                        0.000000             0.0   \n",
       "75%                                        1.000000             0.0   \n",
       "max                                       19.000000             0.0   \n",
       "\n",
       "       Female Professor  \n",
       "count            3118.0  \n",
       "mean                1.0  \n",
       "std                 0.0  \n",
       "min                 1.0  \n",
       "25%                 1.0  \n",
       "50%                 1.0  \n",
       "75%                 1.0  \n",
       "max                 1.0  "
      ]
     },
<<<<<<< HEAD
     "execution_count": 6,
=======
     "execution_count": 59,
>>>>>>> refs/remotes/origin/master
     "metadata": {},
     "output_type": "execute_result"
    }
   ],
   "source": [
    "numDat_female.describe()"
   ]
  },
  {
   "cell_type": "code",
<<<<<<< HEAD
   "execution_count": 44,
=======
   "execution_count": 60,
>>>>>>> refs/remotes/origin/master
   "metadata": {},
   "outputs": [
    {
     "data": {
<<<<<<< HEAD
      "image/png": "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",
      "text/plain": [
       "<Figure size 1000x600 with 1 Axes>"
=======
      "image/png": "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",
      "text/plain": [
       "<Figure size 1200x600 with 2 Axes>"
>>>>>>> refs/remotes/origin/master
      ]
     },
     "metadata": {},
     "output_type": "display_data"
    }
   ],
   "source": [
<<<<<<< HEAD
    "# Extract Average Rating for male and female professors\n",
    "male_ratings = numDat[numDat['Male Professor'] == 1]['Average Rating']\n",
    "female_ratings = numDat[numDat['Female Professor'] == 1]['Average Rating']\n",
    "\n",
    "# Plot histogram\n",
    "plt.figure(figsize=(10, 6))\n",
    "sns.histplot(male_ratings, color='blue', label='Male Professors', kde=True, alpha=0.6)\n",
    "sns.histplot(female_ratings, color='pink', label='Female Professors', kde=True, alpha=0.6)\n",
    "\n",
    "# Add labels and title\n",
    "plt.title('Histogram of Average Ratings by Gender', fontsize=14)\n",
    "plt.xlabel('Average Rating', fontsize=12)\n",
    "plt.ylabel('Frequency', fontsize=12)\n",
    "plt.legend()\n",
    "plt.grid(axis='y', linestyle='--', alpha=0.7)\n",
    "\n",
    "# Show the plot\n",
=======
    "# Create subplots for violin plots\n",
    "fig, axes = plt.subplots(1, 2, figsize=(12, 6), sharey=True)\n",
    "\n",
    "# Violin plot for Male Professors\n",
    "sns.violinplot(ax=axes[0], y=numDat_male['Average Rating'])\n",
    "axes[0].set_title('Male Professors')\n",
    "axes[0].set_ylabel('Average Rating')\n",
    "\n",
    "# Violin plot for Female Professors\n",
    "sns.violinplot(ax=axes[1], y=numDat_female['Average Rating'])\n",
    "axes[1].set_title('Female Professors')\n",
    "\n",
    "# Overall adjustments\n",
    "plt.tight_layout()\n",
>>>>>>> refs/remotes/origin/master
    "plt.show()"
   ]
  },
  {
   "cell_type": "code",
<<<<<<< HEAD
   "execution_count": 8,
=======
   "execution_count": 61,
>>>>>>> refs/remotes/origin/master
   "metadata": {},
   "outputs": [
    {
     "data": {
      "image/png": "iVBORw0KGgoAAAANSUhEUgAAAxYAAAJOCAYAAAAqFJGJAAAAOXRFWHRTb2Z0d2FyZQBNYXRwbG90bGliIHZlcnNpb24zLjkuMiwgaHR0cHM6Ly9tYXRwbG90bGliLm9yZy8hTgPZAAAACXBIWXMAAA9hAAAPYQGoP6dpAABiX0lEQVR4nO3deVxUZf//8fewoyzugAooqZiaaWpFlku4YqaV2p27tpmalrlkZmlllFlxV7eiiZKaWoapmbkmVKblmuV254oLuN6CoCDL+f3hj/k6ggQOMAy+no/HPORc5zoznxlkmDfXdZ1jMgzDEAAAAABYwcHWBQAAAACwfwQLAAAAAFYjWAAAAACwGsECAAAAgNUIFgAAAACsRrAAAAAAYDWCBQAAAACrESwAAAAAWI1gAQAAAMBqBAsAeYqOjpbJZLK4Va1aVW3atNHKlSttXZ5ZrVq1NHDgwEIfd/nyZU2aNEmxsbFFXtPRo0fVpUsXVapUSSaTSS+99NI/HpORkSFfX1+ZTCZ98803RV6TPYuNjbX4f+jo6KiqVauqa9eu2rZt2y3f7/Tp0xUdHZ2r/ejRozKZTHnuKw0mTZokk8mkc+fOlcjjrVy5Ut26dVP16tXl4uIiT09PNW3aVG+++abi4+NLpIYblfbvEXC7crJ1AQBKt7lz56p+/foyDEOJiYn67LPP1LVrV61YsUJdu3a1dXm37PLly5o8ebIkqU2bNkV63y+//LJ+++03zZkzR76+vvLz8/vHY1auXKnTp09LkqKiotSjR48iraksePfdd9W2bVtlZGRo586dmjx5slq3bq1du3apbt26hb6/6dOnq0qVKrmCqZ+fnzZv3qw77rijiCq3T9nZ2Ro0aJDmzZunzp07Kzw8XLVq1dKVK1e0detWzZ07V3PmzNHx48dtXSqAUoJgASBfjRo1UvPmzc3bnTp1UsWKFbVo0SK7DhbF6a+//tK9996r7t27F/iYqKgoubi4qHXr1lq7dq1OnDihmjVrFl+Rebh8+bLKlStXoo9ZGHXr1tX9998vSXrooYdUoUIFDRgwQAsWLDCHxKLg6upqfpzb2fvvv6958+YpPDxcr776qsW+Tp06afz48Zo5c6aNqitaV65ckZubm0wmk61LAewaU6EAFIqbm5tcXFzk7Oxs0X7hwgUNHTpUNWrUkIuLi4KCgjRhwgSlp6dLktLS0tS0aVPVqVNHSUlJ5uMSExPl6+urNm3aKCsrS5I0cOBAeXh4aM+ePQoNDVX58uVVtWpVDR8+XJcvX/7HGuPj49W3b19Vq1ZNrq6uuvPOO/Xhhx8qOztb0rVpFFWrVpUkTZ482TzF5p+mVP3T/eZM2Tl48KB++OEH8/0ePXo03/s9deqUVq9era5du2rMmDHKzs62mOIRERFhvt8bjRs3Ti4uLhbTYtavX6/Q0FB5eXmpXLlyatmypTZs2GBxXM50mh07dqhHjx6qWLGi+S/027Zt07/+9S/VqlVL7u7uqlWrlp566ikdO3Ys1+P/8ssvCgkJkZubm2rUqKGJEydq9uzZeT7vr776SiEhISpfvrw8PDzUsWNH7dy5M9/XJj85gTdnpCfH5MmTdd9996lSpUry8vLSPffco6ioKBmGYe5Tq1Yt7dmzR3FxcebvU61atSTlPc0m5/Xas2ePnnrqKXl7e8vHx0eDBw+2+P8sSRcvXtTTTz+tSpUqycPDQ126dNHhw4dlMpk0adIkc7+zZ8/queeek7+/v1xdXVW1alW1bNlS69evL9DzP378uB5//HF5eXnJ29tbffv21dmzZ837c2rI62fm4YcfVsOGDW9631evXtXUqVPVqFGjXKEih5OTk4YNG5arvSDf55yf8YMHDyosLEweHh7y9/fXK6+8Yn7PyHHq1Cn16tVLnp6e8vb21pNPPqnExMQ8a9q2bZseffRRVapUSW5ubmratKm+/vpriz450zzXrl2rwYMHq2rVqipXrlyuxwVQeAQLAPnKyspSZmamMjIydOLECb300ktKTU1V7969zX3S0tLUtm1bzZs3T6NGjdL333+vvn37aurUqXr88cclXQskX3/9tc6cOaPBgwdLujbVok+fPjIMQ4sWLZKjo6P5PjMyMhQWFqbQ0FAtW7ZMw4cP18yZM/Xkk0/mW+/Zs2f1wAMPaO3atXr77be1YsUKtWvXTqNHj9bw4cMlXZvqsnr1aknXPnxt3rxZmzdv1sSJE62633vuuUebN2+Wr6+vWrZsab7ff5oKFR0draysLA0ePFjt2rVTYGCg5syZY/4g3LdvX7m4uOSaT56VlaUFCxaoa9euqlKliiRpwYIF6tChg7y8vPTFF1/o66+/VqVKldSxY8dc4UKSHn/8cdWpU0dLlixRZGSkpGsfrIODgxUREaE1a9bo/fffV0JCglq0aGERYHbv3q327dvr8uXL+uKLLxQZGakdO3ZoypQpuR7n3Xff1VNPPaUGDRro66+/1vz583Xp0iU99NBD2rt3b76vz80cOXJEklSvXj2L9qNHj+r555/X119/raVLl+rxxx/Xiy++qLffftvc59tvv1VQUJCaNm1q/j59++23//iYTzzxhOrVq6eYmBi9+uqrWrhwoV5++WXz/uzsbHXt2lULFy7UuHHj9O233+q+++5Tp06dct1Xv379tGzZMr3xxhtau3atZs+erXbt2un8+fMFev6PPfaY6tSpo2+++UaTJk3SsmXL1LFjR2VkZEiSRo4cqf/9739auHChxXF79+7Vxo0b8wwFObZt26aLFy8WelSyMN/njIwMPfroowoNDdXy5cs1ePBgffzxx3r//ffNfa5cuaJ27dpp7dq1Cg8P15IlS+Tr65vn+8DGjRvVsmVLXbx4UZGRkVq+fLmaNGmiJ598Ms+1GIMHD5azs7Pmz5+vb775JtcfSwDcAgMA8jB37lxDUq6bq6urMX36dIu+kZGRhiTj66+/tmh///33DUnG2rVrzW1fffWVIcmIiIgw3njjDcPBwcFiv2EYxoABAwxJxr///W+L9ilTphiSjF9++cXcFhgYaAwYMMC8/eqrrxqSjN9++83i2BdeeMEwmUzGgQMHDMMwjLNnzxqSjDfffLNAr0dB7zenpi5duhTofrOzs406deoYNWrUMDIzMw3DMIw333zTkGRs2LDB3O/xxx83atasaWRlZZnbVq1aZUgyvvvuO8MwDCM1NdWoVKmS0bVrV4vHyMrKMu6++27j3nvvNbflPMYbb7zxjzVmZmYaKSkpRvny5S2+Jz179jTKly9vnD171uKxGjRoYEgyjhw5YhiGYcTHxxtOTk7Giy++aHG/ly5dMnx9fY1evXrl+/gbN240JBlfffWVkZGRYVy+fNnYtGmTERwcbDRo0MD43//+d9Njs7KyjIyMDOOtt94yKleubGRnZ5v3NWzY0GjdunWuY44cOWJIMubOnWtuy3m9pk6datF36NChhpubm/l+v//+e0OSMWPGDIt+4eHhuf6/eXh4GC+99FK+zz0vObW8/PLLFu1ffvmlIclYsGCBua1169ZGkyZNLPq98MILhpeXl3Hp0qWbPsbixYsNSUZkZGSufRkZGRa3HIX5Puf8jN/4nhEWFmYEBwebt2fMmGFIMpYvX27R79lnn831Papfv77RtGlTi5oMwzAeeeQRw8/Pz/yzk/Pe1r9//5s+fwC3hhELAPmaN2+etm7dqq1bt+qHH37QgAEDNGzYMH322WfmPj/++KPKly+fa8FxztSi6/9S3qtXL73wwgsaM2aM3nnnHb322mtq3759no/dp08fi+2cUZKNGzfetN4ff/xRDRo00L333purFsMw9OOPP/7zky7B+42Li9PBgwc1YMAA84jNoEGDZDKZNGfOHHO/QYMG6cSJExbTZObOnStfX1917txZkvTrr7/qwoULGjBggDIzM8237OxsderUSVu3blVqaqrF4z/xxBO5akpJSdG4ceNUp04dOTk5ycnJSR4eHkpNTdW+ffssan/44YfNoyWS5ODgoF69elnc35o1a5SZman+/ftb1OXm5qbWrVsX+MxcTz75pJydnc3Tu5KTk/X999+rQoUKFv1+/PFHtWvXTt7e3nJ0dJSzs7PeeOMNnT9/XmfOnCnQY93Mo48+arHduHFjpaWlme83Li5OknK9Bk899VSu+7r33nsVHR2td955R1u2bDGPNBTUjT8fvXr1kpOTk8XPx8iRI7Vr1y5t2rRJkpScnKz58+drwIAB8vDwKNTjSdemeTk7O1vccs7MVdjvs8lkyjUi0rhxY4spdxs3bpSnp2eu1/36EVNJOnjwoPbv329+Ta5//LCwMCUkJOjAgQMWx+T1fx+AdQgWAPJ15513qnnz5mrevLk6deqkmTNnqkOHDho7dqwuXrwoSTp//rz5VKnXq1atmpycnHJN7Rg8eLAyMjLk5OSkESNG5Pm4Tk5Oqly5skWbr6+v+fFu5vz583lOPapevfo/Hpuf4rrfqKgoSdemtVy8eFEXL16Ut7e3HnzwQcXExJhf486dO8vPz09z586VJP3vf//TihUr1L9/f3MgyVlr0KNHj1wf/t5//30ZhqELFy5YPH5ez6l379767LPP9Mwzz2jNmjX6/ffftXXrVlWtWlVXrlyxeE18fHxyHX9jW05dLVq0yFXXV199VeDTpr7//vvaunWr4uLiNGHCBJ0+fVrdu3e3mBv/+++/q0OHDpKkzz//XJs2bdLWrVs1YcIESbKo/1bc+H/S1dXV4n7Pnz8vJycnVapUyaJfXq/TV199pQEDBmj27NkKCQlRpUqV1L9//5uuH7hRzs9Djpyfmev/L3br1k21atXSf/7zH0nXpt2lpqbmOw1KkgICAiQp17oaT09P8x8a3nzzTYt9hf0+lytXTm5ubhZtrq6uSktLM2/f7P/Yjc8957FHjx6d67GHDh0qSbkevyBnawNQOJwVCkChNW7cWGvWrNF///tf3XvvvapcubJ+++03GYZhES7OnDmjzMxMi79op6amql+/fqpXr55Onz6tZ555RsuXL8/1GJmZmTp//rzFB7mcD1w3fri7XuXKlZWQkJCr/dSpU5JkUUthFMf9JiUlKSYmRtK1D2N5WbhwoYYOHSpHR0f169dPn3zyiS5evKiFCxcqPT1dgwYNMvfNqeHTTz+96VmNbvyQdmMYTEpK0sqVK/Xmm29aLNpNT0/PFUoqV66ca+G0pFwfjHPq+uabbxQYGJhnXQURFBRkXrDdqlUrubu76/XXX9enn36q0aNHS5IWL14sZ2dnrVy50uJD67Jly275cQujcuXKyszM1IULFyzCRV5hoUqVKoqIiFBERITi4+O1YsUKvfrqqzpz5ox5DVB+EhMTVaNGDfN2Xj8zDg4OGjZsmF577TV9+OGHmj59ukJDQxUcHJzvfTdr1kwVK1bUd999p3fffdfc7ujoaP4e/PXXX7mej2T99/l6lStX1u+//56r/Wb/x8aPH29e13WjG58zZ4ACih4jFgAKbdeuXZJkPrNSaGioUlJScn14mzdvnnl/jiFDhig+Pl5Lly5VVFSUVqxYoY8//jjPx/nyyy8ttnMWoeZ33YnQ0FDt3btXO3bsyFWLyWRS27ZtJeX+S/M/Kej9FsbChQt15coVvf3229q4cWOuW5UqVXJNh0pLS9OiRYsUHR2tkJAQ1a9f37y/ZcuWqlChgvbu3WseZbrx5uLikm9NJpNJhmGYX58cs2fPNp+1K0fr1q31448/WvwlODs7W0uWLLHo17FjRzk5OenQoUM3retWjB07VnXq1NF7772nS5cumet3cnKyOBHAlStXNH/+/FzHu7q6Wj2CcaPWrVtLujYacb3Fixfne1xAQICGDx+u9u3b5/o/djM3/nx8/fXXyszMzPXz8cwzz8jFxUV9+vTRgQMHzCcbyI+Li4vGjBmjv/76y2IxdX6K4/vctm1bXbp0SStWrLBov3FBenBwsOrWras//vjjpo/t6elZ6McHUDiMWADI119//aXMzExJ16YlLF26VOvWrdNjjz2m2rVrS5L69++v//znPxowYICOHj2qu+66S7/88oveffddhYWFqV27dpKufThdsGCB5s6dq4YNG6phw4YaPny4xo0bp5YtW1qsX3BxcdGHH36olJQUtWjRQr/++qveeecdde7cWQ8++OBN63355Zc1b948denSRW+99ZYCAwP1/fffa/r06XrhhRfMZxDy9PRUYGCgli9frtDQUFWqVElVqlQxn3L0Vu+3MKKiolSxYkWNHj0615SQnNf1o48+0h9//KG7775b9evXV0hIiMLDw3X8+HHNmjXLor+Hh4c+/fRTDRgwQBcuXFCPHj1UrVo1nT17Vn/88YfOnj2rGTNm5FuTl5eXWrVqpQ8++MD8esTFxSkqKirXWoYJEybou+++U2hoqCZMmCB3d3dFRkaa13E4OFz721WtWrX01ltvacKECTp8+LD5WiinT5/W77//rvLly9/SdSicnZ317rvvqlevXvr3v/+t119/XV26dNFHH32k3r1767nnntP58+c1bdq0XEFJku666y4tXrxYX331lYKCguTm5qa77rqr0HVcr1OnTmrZsqVeeeUVJScnq1mzZtq8ebM5ZOe8JklJSWrbtq169+6t+vXrm6cYrV69+qZ/cb/R0qVL5eTkpPbt22vPnj2aOHGi7r777lzrOypUqKD+/ftrxowZCgwMLPCZnsaNG6f9+/fr1Vdf1U8//aQnn3xStWrVUnp6ug4fPqzZs2fL0dHRfO2T4vg+9+/fXx9//LH69++vKVOmqG7dulq1apXWrFmTq+/MmTPVuXNndezYUQMHDlSNGjV04cIF7du3Tzt27MgVeAEUA5suHQdQauV1Vihvb2+jSZMmxkcffWSkpaVZ9D9//rwxZMgQw8/Pz3BycjICAwON8ePHm/vt3r3bcHd3tziDk2EYRlpamtGsWTOjVq1a5rP7DBgwwChfvryxe/duo02bNoa7u7tRqVIl44UXXjBSUlIsjr/xrFCGYRjHjh0zevfubVSuXNlwdnY2goODjQ8++MDijEqGYRjr1683mjZtari6uhqSct3PjQp6vwU5K9Qff/xhSMr3rED79+83JFmcZWfWrFmGJMPd3d1ISkrK87i4uDijS5cuRqVKlQxnZ2ejRo0aRpcuXYwlS5aY++ScWej6MzrlOHHihPHEE08YFStWNDw9PY1OnToZf/31V56v9c8//2zcd999hqurq+Hr62uMGTPGfDawixcvWvRdtmyZ0bZtW8PLy8twdXU1AgMDjR49ehjr16/P97XKOSvU9fVf77777jMqVqxofrw5c+YYwcHBhqurqxEUFGSEh4cbUVFRFmeqMgzDOHr0qNGhQwfD09PTkGQEBgYahpH/WaFufL1yfk6uv98LFy4YgwYNMipUqGCUK1fOaN++vbFlyxaLM52lpaUZQ4YMMRo3bmx4eXkZ7u7uRnBwsPHmm28aqamp+b4eObVs377d6Nq1q+Hh4WF4enoaTz31lHH69Ok8j4mNjTUkGe+9916+952XFStWGF27djV8fHwMJycnw9PT02jSpInxyiuvGPv378/VvyDf55yf8Zs9t+vl/H/MeZ5PPPGE8euvv+b6HhnGtZ+rXr16GdWqVTOcnZ0NX19f4+GHH7Y4u1XO92zr1q2Ffi0A5M9kGNddMQgASoGBAwfqm2++UUpKiq1LwS3o0KGDjh49qv/+97+2LqXUWLhwofr06aNNmzbpgQceKPHHf+WVVzRjxgwdP3483zVKAGANpkIBAG7ZqFGj1LRpU/n7++vChQv68ssvtW7dOvPZrm5HixYt0smTJ3XXXXfJwcFBW7Zs0QcffKBWrVqVeKjYsmWL/vvf/2r69Ol6/vnnCRUAihXBAgBwy7KysvTGG28oMTFRJpNJDRo00Pz589W3b19bl2Yznp6eWrx4sd555x2lpqbKz89PAwcO1DvvvFPitYSEhKhcuXJ65JFHbPL4AG4vTIUCAAAAYDVONwsAAADAagQLAAAAAFYjWAAAAACw2m23eDs7O1unTp2Sp6enTCaTrcsBAAAASi3DMHTp0iVVr17dfJHPm7ntgsWpU6fk7+9v6zIAAAAAu3H8+HHVrFkz3z63XbDw9PSUdO3F8fLysnE1AAAAQOmVnJwsf39/82fo/Nx2wSJn+pOXlxfBAgAAACiAgiwhYPE2AAAAAKsRLAAAAABYjWABAAAAwGoECwAAAABWI1gAAAAAsBrBAgAAAIDVCBYAAAAArEawAAAAAGA1ggUAAAAAqxEsAAAAAFiNYAEAAADAagQLAAAAAFYjWAAAAACwGsECAAAAgNUIFgAAAACsRrAAAAAAYDWbBotJkybJZDJZ3Hx9ffM9Ji4uTs2aNZObm5uCgoIUGRlZQtUCAAAAuBknWxfQsGFDrV+/3rzt6Oh4075HjhxRWFiYnn32WS1YsECbNm3S0KFDVbVqVT3xxBMlUS4AAACAPNg8WDg5Of3jKEWOyMhIBQQEKCIiQpJ05513atu2bZo2bRrBAgAAALAhmweLv//+W9WrV5erq6vuu+8+vfvuuwoKCsqz7+bNm9WhQweLto4dOyoqKkoZGRlydnbOdUx6errS09PN28nJyUX7BFCs0tLSFB8fb+syYOcCAgLk5uZm6zKAMoP3ZhQF3pvLHpsGi/vuu0/z5s1TvXr1dPr0ab3zzjt64IEHtGfPHlWuXDlX/8TERPn4+Fi0+fj4KDMzU+fOnZOfn1+uY8LDwzV58uRiew4oXvHx8XruuedsXQbs3KxZs1SvXj1blwGUGbw3oyjw3lz2mAzDMGxdRI7U1FTdcccdGjt2rEaNGpVrf7169TRo0CCNHz/e3LZp0yY9+OCDSkhIyHNKVV4jFv7+/kpKSpKXl1fxPBEUGf4qlr9jx45pypQpmjBhggIDA21dTqnFX8WAosV7c/54by4Y3pvtQ3Jysry9vQv02dnmU6GuV758ed111136+++/89zv6+urxMREi7YzZ87IyckpzxEOSXJ1dZWrq2uR14qS4ebmxl8zCiAwMJDXCUCJ4b25YHhvxu2mVF3HIj09Xfv27ctzSpMkhYSEaN26dRZta9euVfPmzfNcXwEAAACgZNg0WIwePVpxcXE6cuSIfvvtN/Xo0UPJyckaMGCAJGn8+PHq37+/uf+QIUN07NgxjRo1Svv27dOcOXMUFRWl0aNH2+opAAAAAJCNp0KdOHFCTz31lM6dO6eqVavq/vvv15YtW8zzERMSEizmcNauXVurVq3Syy+/rP/85z+qXr26PvnkE041CwAAANiYTYPF4sWL890fHR2dq61169basWNHMVUEAAAA4FaUqjUWAAAAAOwTwQIAAACA1QgWAAAAAKxGsAAAAABgNYIFAAAAAKsRLAAAAABYjWABAAAAwGoECwAAAABWI1gAAAAAsBrBAgAAAIDVCBYAAAAArEawAAAAAGA1ggUAAAAAqxEsAAAAAFiNYAEAAADAagQLAAAAAFYjWAAAAACwGsECAAAAgNUIFgAAAACsRrAAAAAAYDWCBQAAAACrESwAAAAAWI1gAQAAAMBqBAsAAAAAViNYAAAAALAawQIAAACA1QgWAAAAAKxGsAAAAABgNYIFAAAAAKsRLAAAAABYjWABAAAAwGoECwAAAABWI1gAAAAAsBrBAgAAAIDVCBYAAAAArEawAAAAAGA1ggUAAAAAqxEsAAAAAFjNydYFQDp9+rSSkpJsXQbs0LFjxyz+BQrL29tbPj4+ti6j1OL9GbeC92ZYy17fm02GYRi2LqIkJScny9vbW0lJSfLy8rJ1OTp9+rT69uuvjKvpti4FwG3I2cVVC+bPs8tfYMWN92cAtlKa3psL89mZEQsbS0pKUsbVdF0Jaq1sN29blwPgNuKQliQdjlNSUlKp+OVV2vD+DMAW7Pm9mWBRSmS7eSu7fBVblwEAuAHvzwBQMCzeBgAAAGA1ggUAAAAAqxEsAAAAAFiNYAEAAADAaqUmWISHh8tkMumll166aZ/Y2FiZTKZct/3795dcoQAAAAByKRVnhdq6datmzZqlxo0bF6j/gQMHLM6jW7Vq1eIqDQAAAEAB2HzEIiUlRX369NHnn3+uihUrFuiYatWqydfX13xzdHQs5ioBAAAA5MfmwWLYsGHq0qWL2rVrV+BjmjZtKj8/P4WGhmrjxo3FWB0AAACAgrDpVKjFixdrx44d2rp1a4H6+/n5adasWWrWrJnS09M1f/58hYaGKjY2Vq1atcrzmPT0dKWnp5u3k5OTi6R2AAAAAP/HZsHi+PHjGjlypNauXSs3N7cCHRMcHKzg4GDzdkhIiI4fP65p06bdNFiEh4dr8uTJRVIzAAAAgLzZbCrU9u3bdebMGTVr1kxOTk5ycnJSXFycPvnkEzk5OSkrK6tA93P//ffr77//vun+8ePHKykpyXw7fvx4UT0FAAAAAP+fzUYsQkND9eeff1q0DRo0SPXr19e4ceMKvCB7586d8vPzu+l+V1dXubq6WlUrAAAAgPzZLFh4enqqUaNGFm3ly5dX5cqVze3jx4/XyZMnNW/ePElSRESEatWqpYYNG+rq1atasGCBYmJiFBMTU+L1AwAAAPg/peI6FjeTkJCg+Ph48/bVq1c1evRonTx5Uu7u7mrYsKG+//57hYWF2bBKAAAAAKUqWMTGxlpsR0dHW2yPHTtWY8eOLbmCAAAAABSIza9jAQAAAMD+ESwAAAAAWI1gAQAAAMBqBAsAAAAAViNYAAAAALAawQIAAACA1QgWAAAAAKxGsAAAAABgNYIFAAAAAKsRLAAAAABYjWABAAAAwGoECwAAAABWI1gAAAAAsBrBAgAAAIDVCBYAAAAArEawAAAAAGA1J1sXgGscrly0dQkAbjO87wAAihLBopRwP/KTrUsAAAAAbhnBopS4UruVst0r2LoMALcRhysX+aMGAKDIECxKiWz3CsouX8XWZQAAAAC3hMXbAAAAAKxGsAAAAABgNYIFAAAAAKsRLAAAAABYjWABAAAAwGoECwAAAABWI1gAAAAAsBrXsQAAIB8OVy7augQAtxF7fs8hWAAAkA+uTg4ABUOwAAAgH1dqt1K2ewVblwHgNuFw5aLd/kGDYAEAQD6y3Ssou3wVW5cBAKUei7cBAAAAWI1gAQAAAMBqBAsAAAAAViNYAAAAALAawQIAAACA1QgWAAAAAKxGsAAAAABgNYIFAAAAAKsRLAAAAABYjWABAAAAwGoECwAAAABWI1gAAAAAsBrBAgAAAIDVCBYAAAAArEawAAAAAGA1ggUAAAAAq5WaYBEeHi6TyaSXXnop335xcXFq1qyZ3NzcFBQUpMjIyJIpEAAAAMBNlYpgsXXrVs2aNUuNGzfOt9+RI0cUFhamhx56SDt37tRrr72mESNGKCYmpoQqBQAAAJAXmweLlJQU9enTR59//rkqVqyYb9/IyEgFBAQoIiJCd955p5555hkNHjxY06ZNK6FqAQAAAOTF5sFi2LBh6tKli9q1a/ePfTdv3qwOHTpYtHXs2FHbtm1TRkZGnsekp6crOTnZ4gYAAACgaNk0WCxevFg7duxQeHh4gfonJibKx8fHos3Hx0eZmZk6d+5cnseEh4fL29vbfPP397e6bgAAAACWbBYsjh8/rpEjR2rBggVyc3Mr8HEmk8li2zCMPNtzjB8/XklJSebb8ePHb71oAAAAAHlystUDb9++XWfOnFGzZs3MbVlZWfrpp5/02WefKT09XY6OjhbH+Pr6KjEx0aLtzJkzcnJyUuXKlfN8HFdXV7m6uhb9EwAAAABgZrNgERoaqj///NOibdCgQapfv77GjRuXK1RIUkhIiL777juLtrVr16p58+ZydnYu1noBAAAA3JzNgoWnp6caNWpk0Va+fHlVrlzZ3D5+/HidPHlS8+bNkyQNGTJEn332mUaNGqVnn31WmzdvVlRUlBYtWlTi9QMAAAD4PzY/K1R+EhISFB8fb96uXbu2Vq1apdjYWDVp0kRvv/22PvnkEz3xxBM2rBIAAACAzUYs8hIbG2uxHR0dnatP69attWPHjpIpCAAAAECBlOoRCwAAAAD2gWABAAAAwGoECwAAAABWI1gAAAAAsBrBAgAAAIDVCBYAAAAArEawAAAAAGA1ggUAAAAAqxEsAAAAAFiNYAEAAADAagQLAAAAAFYjWAAAAACwGsECAAAAgNUIFgAAAACsRrAAAAAAYDWCBQAAAACrESwAAAAAWI1gAQAAAMBqBAsAAAAAViNYAAAAALAawQIAAACA1QgWAAAAAKxGsAAAAABgNYIFAAAAAKsRLAAAAABYjWABAAAAwGoECwAAAABWI1gAAAAAsBrBAgAAAIDVCBYAAAAArEawAAAAAGA1ggUAAAAAqxEsAAAAAFiNYAEAAADAagQLAAAAAFYjWAAAAACwGsECAAAAgNUIFgAAAACsRrAAAAAAYDWCBQAAAACrESwAAAAAWI1gAQAAAMBqBAsAAAAAViNYAAAAALAawQIAAACA1QgWAAAAAKxm02AxY8YMNW7cWF5eXvLy8lJISIh++OGHm/aPjY2VyWTKddu/f38JVg0AAADgRk62fPCaNWvqvffeU506dSRJX3zxhbp166adO3eqYcOGNz3uwIED8vLyMm9XrVq12GsFAAAAcHM2DRZdu3a12J4yZYpmzJihLVu25BssqlWrpgoVKhRzdQAAAAAKqtSsscjKytLixYuVmpqqkJCQfPs2bdpUfn5+Cg0N1caNG0uoQgAAAAA3Y9MRC0n6888/FRISorS0NHl4eOjbb79VgwYN8uzr5+enWbNmqVmzZkpPT9f8+fMVGhqq2NhYtWrVKs9j0tPTlZ6ebt5OTk4uludhLYe0JFuXAOA2w/sOAKAo2TxYBAcHa9euXbp48aJiYmI0YMAAxcXF5RkugoODFRwcbN4OCQnR8ePHNW3atJsGi/DwcE2ePLnY6reWt7e3nF1cpcNxti4FwG3I2cVV3t7eti4DAFAG2DxYuLi4mBdvN2/eXFu3btW///1vzZw5s0DH33///VqwYMFN948fP16jRo0ybycnJ8vf39+6oouQj4+PFsyfp6Qk/nKIwjt27JimTJmiCRMmKDAw0NblwA55e3vLx8fH1mUAAMoAmweLGxmGYTF16Z/s3LlTfn5+N93v6uoqV1fXoiit2Pj4+PCLHVYJDAxUvXr1bF0GAAC4jdk0WLz22mvq3Lmz/P39denSJS1evFixsbFavXq1pGujDSdPntS8efMkSREREapVq5YaNmyoq1evasGCBYqJiVFMTIwtnwYAAABw27NpsDh9+rT69eunhIQEeXt7q3Hjxlq9erXat28vSUpISFB8fLy5/9WrVzV69GidPHlS7u7uatiwob7//nuFhYXZ6ikAAAAAkI2DRVRUVL77o6OjLbbHjh2rsWPHFmNFAAAAAG5FoYPFihUr8mw3mUxyc3NTnTp1VLt2basLAwAAAGA/Ch0sunfvLpPJJMMwLNpz2kwmkx588EEtW7ZMFStWLLJCAQAAAJRehb7y9rp169SiRQutW7dOSUlJSkpK0rp163Tvvfdq5cqV+umnn3T+/HmNHj26OOoFAAAAUAoVesRi5MiRmjVrlh544AFzW2hoqNzc3PTcc89pz549ioiI0ODBg4u0UAAAAAClV6GDxaFDh+Tl5ZWr3cvLS4cPH5Yk1a1bV+fOnbO+OgAAbMwhjQuYAig59vyeU+hg0axZM40ZM0bz5s1T1apVJUlnz57V2LFj1aJFC0nS33//rZo1axZtpQAAlCBvb285u7hKh+NsXQqA24yzi6u8vb1tXUahFTpYREVFqVu3bqpZs6b8/f1lMpkUHx+voKAgLV++XJKUkpKiiRMnFnmxAACUFB8fHy2YP09JSfb710PYxrFjxzRlyhRNmDBBgYGBti4Hdsjb21s+Pj62LqPQCh0sgoODtW/fPq1Zs0b//e9/ZRiG6tevr/bt28vB4dpa8O7duxd1nQAAlDgfHx+7/OWO0iEwMFD16tWzdRlAibmlC+SZTCZ16tRJnTp1Kup6AAAAANihWwoWGzZs0IYNG3TmzBllZ2db7JszZ06RFAYAAADAfhQ6WEyePFlvvfWWmjdvLj8/P5lMpuKoCwAAAIAdKXSwiIyMVHR0tPr161cc9QAAAACwQ4W+8vbVq1ctLo4HAAAAAIUOFs8884wWLlxYHLUAAAAAsFOFngqVlpamWbNmaf369WrcuLGcnZ0t9n/00UdFVhwAAAAA+1DoYLF79241adJEkvTXX39Z7GMhNwAAAHB7KnSw2LhxY3HUAQAAAMCOFXqNBQAAAADcqEAjFo8//riio6Pl5eWlxx9/PN++S5cuLZLCAAAAANiPAgULb29v8/oJLy8v1lIAAAAAsFCgYDF37lzz19HR0cVVCwAAAAA7Veg1Fg8//LAuXryYqz05OVkPP/xwUdQEAAAAwM4UOljExsbq6tWrudrT0tL0888/F0lRAAAAAOxLgU83u3v3bvPXe/fuVWJionk7KytLq1evVo0aNYq2OgAAAAB2ocDBokmTJjKZTDKZTHlOeXJ3d9enn35apMUBAAAAsA8FDhZHjhyRYRgKCgrS77//rqpVq5r3ubi4qFq1anJ0dCyWIgEAAACUbgUOFoGBgZKk7OzsYisGAAAAgH0qcLC40d69exUfH59rIfejjz5qdVEAAAAA7Euhg8Xhw4f12GOP6c8//5TJZJJhGJJkvmheVlZW0VYIAAAAoNQr9OlmR44cqdq1a+v06dMqV66c9uzZo59++knNmzdXbGxsMZQIAAAAoLQr9IjF5s2b9eOPP6pq1apycHCQg4ODHnzwQYWHh2vEiBHauXNncdQJAAAAoBQr9IhFVlaWPDw8JElVqlTRqVOnJF1b3H3gwIGirQ4AAACAXSj0iEWjRo20e/duBQUF6b777tPUqVPl4uKiWbNmKSgoqDhqBAAAAFDKFTpYvP7660pNTZUkvfPOO3rkkUf00EMPqXLlylq8eHGRFwgAAACg9Ct0sOjYsaP566CgIO3du1cXLlxQxYoVzWeGAgAAAHB7KfQai7xUqlRJiYmJGj58eFHcHQAAAAA7U6gRi71792rjxo1ydnZWr169VKFCBZ07d05TpkxRZGSkateuXVx1AgAAACjFCjxisXLlSjVt2lQvvviihgwZoubNm2vjxo268847tWvXLi1ZskR79+4tzloBAAAAlFIFDhZTpkzRkCFDlJycrGnTpunw4cMaMmSIYmJitHHjRj3yyCPFWScAAACAUqzAwWLfvn0aNmyYPDw8NGLECDk4OCgiIkKtWrUqzvoAAAAA2IECB4vk5GRVqFBBkuTk5CR3d3fVq1evuOoCAAAAYEcKvXg7MTFRkmQYhg4cOGC+pkWOxo0bF111AAAAAOxCoYJFaGioDMMwb+esqzCZTDIMQyaTSVlZWUVbIQAAAIBSr8DB4siRI8VZBwAAAAA7VuBgERgYWJx1AAAAALBjRXLlbQAAAAC3N4IFAAAAAKvZNFjMmDFDjRs3lpeXl7y8vBQSEqIffvgh32Pi4uLUrFkzubm5KSgoSJGRkSVULQAAAICbsWmwqFmzpt577z1t27ZN27Zt08MPP6xu3bppz549efY/cuSIwsLC9NBDD2nnzp167bXXNGLECMXExJRw5QAAAACuV6jTzebIzMxUbGysDh06pN69e8vT01OnTp2Sl5eXPDw8Cnw/Xbt2tdieMmWKZsyYoS1btqhhw4a5+kdGRiogIEARERGSpDvvvFPbtm3TtGnT9MQTT9zKUwEAAABQBAodLI4dO6ZOnTopPj5e6enpat++vTw9PTV16lSlpaXd8tSkrKwsLVmyRKmpqQoJCcmzz+bNm9WhQweLto4dOyoqKkoZGRlydna+pccGAAAAYJ1CT4UaOXKkmjdvrv/9739yd3c3tz/22GPasGFDoQv4888/5eHhIVdXVw0ZMkTffvutGjRokGffxMRE+fj4WLT5+PgoMzNT586dy/OY9PR0JScnW9wAAAAAFK1Cj1j88ssv2rRpk1xcXCzaAwMDdfLkyUIXEBwcrF27dunixYuKiYnRgAEDFBcXd9NwYTKZLLZzrgR+Y3uO8PBwTZ48udB1AQAAACi4Qo9YZGdnKysrK1f7iRMn5OnpWegCXFxcVKdOHTVv3lzh4eG6++679e9//zvPvr6+vkpMTLRoO3PmjJycnFS5cuU8jxk/frySkpLMt+PHjxe6RgAAAAD5K3SwaN++vXnxtHRtpCAlJUVvvvmmwsLCrC7IMAylp6fnuS8kJETr1q2zaFu7dq2aN29+0/UVrq6u5tPZ5twAAAAAFK1CT4X6+OOP1bZtWzVo0EBpaWnq3bu3/v77b1WpUkWLFi0q1H299tpr6ty5s/z9/XXp0iUtXrxYsbGxWr16taRrow0nT57UvHnzJElDhgzRZ599plGjRunZZ5/V5s2bFRUVVejHBQAAAFC0Ch0sqlevrl27dmnRokXasWOHsrOz9fTTT6tPnz4Wi7kL4vTp0+rXr58SEhLk7e2txo0ba/Xq1Wrfvr0kKSEhQfHx8eb+tWvX1qpVq/Tyyy/rP//5j6pXr65PPvmEU80CAAAANnZL17Fwd3fX4MGDNXjwYKsePCoqKt/90dHRudpat26tHTt2WPW4AAAAAIpWoYPFihUr8mw3mUxyc3NTnTp1VLt2basLAwAAAGA/Ch0sunfvLpPJZD7Na46cNpPJpAcffFDLli1TxYoVi6xQAAAAAKVXoc8KtW7dOrVo0ULr1q0zn8J13bp1uvfee7Vy5Ur99NNPOn/+vEaPHl0c9QIAAAAohQo9YjFy5EjNmjVLDzzwgLktNDRUbm5ueu6557Rnzx5FRERYvf4CAAAAgP0o9IjFoUOH8rwWhJeXlw4fPixJqlu3rs6dO2d9dQAAAADsQqGDRbNmzTRmzBidPXvW3Hb27FmNHTtWLVq0kCT9/fffqlmzZtFVCQAAAKBUK/RUqKioKHXr1k01a9aUv7+/TCaT4uPjFRQUpOXLl0uSUlJSNHHixCIvFgAAAEDpVOhgERwcrH379mnNmjX673//K8MwVL9+fbVv314ODtcGQLp3717UdQIAAAAoxW7pAnkmk0mdOnVSp06diroeAAAAAHboloJFamqq4uLiFB8fr6tXr1rsGzFiRJEUBgAAAMB+FDpY7Ny5U2FhYbp8+bJSU1NVqVIlnTt3TuXKlVO1atUIFgAAAMBtqNBnhXr55ZfVtWtXXbhwQe7u7tqyZYuOHTumZs2aadq0acVRIwAAAIBSrtDBYteuXXrllVfk6OgoR0dHpaeny9/fX1OnTtVrr71WHDUCAAAAKOUKHSycnZ1lMpkkST4+PoqPj5ckeXt7m78GAAAAcHsp9BqLpk2batu2bapXr57atm2rN954Q+fOndP8+fN11113FUeNAAAAAEq5Qo9YvPvuu/Lz85Mkvf3226pcubJeeOEFnTlzRrNmzSryAgEAAACUfoUasTAMQ1WrVlXDhg0lSVWrVtWqVauKpTAAAAAA9qNQIxaGYahu3bo6ceJEcdUDAAAAwA4VKlg4ODiobt26On/+fHHVAwAAAMAOFXqNxdSpUzVmzBj99ddfxVEPAAAAADtU6LNC9e3bV5cvX9bdd98tFxcXubu7W+y/cOFCkRUHAAAAwD4UOlhEREQUQxkAAAAA7Fmhg8WAAQOKow4AAAAAdqzQaywk6dChQ3r99df11FNP6cyZM5Kk1atXa8+ePUVaHAAAAAD7UOhgERcXp7vuuku//fabli5dqpSUFEnS7t279eabbxZ5gQAAAABKv0IHi1dffVXvvPOO1q1bJxcXF3N727ZttXnz5iItDgAAAIB9KHSw+PPPP/XYY4/laq9atSrXtwAAAABuU4UOFhUqVFBCQkKu9p07d6pGjRpFUhQAAAAA+1LoYNG7d2+NGzdOiYmJMplMys7O1qZNmzR69Gj179+/OGoEAAAAUMoVOlhMmTJFAQEBqlGjhlJSUtSgQQO1atVKDzzwgF5//fXiqBEAAABAKVfo61g4Ozvryy+/1FtvvaWdO3cqOztbTZs2Vd26dYujPgAAAAB2oNDBIi4uTq1bt9Ydd9yhO+64ozhqAgAAAGBnCj0Vqn379goICNCrr76qv/76qzhqAgAAAGBnCh0sTp06pbFjx+rnn39W48aN1bhxY02dOlUnTpwojvoAAAAA2IFCB4sqVapo+PDh2rRpkw4dOqQnn3xS8+bNU61atfTwww8XR40AAAAASrlCB4vr1a5dW6+++qree+893XXXXYqLiyuqugAAAADYkVsOFps2bdLQoUPl5+en3r17q2HDhlq5cmVR1gYAAADAThT6rFCvvfaaFi1apFOnTqldu3aKiIhQ9+7dVa5cueKoDwAAAIAdKHSwiI2N1ejRo/Xkk0+qSpUqFvt27dqlJk2aFFVtAAAAAOxEoYPFr7/+arGdlJSkL7/8UrNnz9Yff/yhrKysIisOAAAAgH245TUWP/74o/r27Ss/Pz99+umnCgsL07Zt24qyNgAAAAB2olAjFidOnFB0dLTmzJmj1NRU9erVSxkZGYqJiVGDBg2Kq0YAAAAApVyBRyzCwsLUoEED7d27V59++qlOnTqlTz/9tDhrAwAAAGAnCjxisXbtWo0YMUIvvPCC6tatW5w1AQAAALAzBR6x+Pnnn3Xp0iU1b95c9913nz777DOdPXu2OGsDAAAAYCcKHCxCQkL0+eefKyEhQc8//7wWL16sGjVqKDs7W+vWrdOlS5eKs04AAAAApVihzwpVrlw5DR48WL/88ov+/PNPvfLKK3rvvfdUrVo1Pfroo8VRIwAAAIBS7pZPNytJwcHBmjp1qk6cOKFFixYV+vjw8HC1aNFCnp6eqlatmrp3764DBw7ke0xsbKxMJlOu2/79+2/1aQAAAACwklXBIoejo6O6d++uFStWFOq4uLg4DRs2TFu2bNG6deuUmZmpDh06KDU19R+PPXDggBISEsw3FpQDAAAAtlPoK28XpdWrV1tsz507V9WqVdP27dvVqlWrfI+tVq2aKlSoUIzVAQAAACioIhmxKCpJSUmSpEqVKv1j36ZNm8rPz0+hoaHauHHjTfulp6crOTnZ4gYAAACgaJWaYGEYhkaNGqUHH3xQjRo1umk/Pz8/zZo1SzExMVq6dKmCg4MVGhqqn376Kc/+4eHh8vb2Nt/8/f2L6ykAAAAAty2bToW63vDhw7V792798ssv+fYLDg5WcHCweTskJETHjx/XtGnT8pw+NX78eI0aNcq8nZycTLgAAAAAilipGLF48cUXtWLFCm3cuFE1a9Ys9PH333+//v777zz3ubq6ysvLy+IGAAAAoGjZdMTCMAy9+OKL+vbbbxUbG6vatWvf0v3s3LlTfn5+RVwdAAAAgIKyabAYNmyYFi5cqOXLl8vT01OJiYmSJG9vb7m7u0u6NpXp5MmTmjdvniQpIiJCtWrVUsOGDXX16lUtWLBAMTExiomJsdnzAAAAAG53Ng0WM2bMkCS1adPGon3u3LkaOHCgJCkhIUHx8fHmfVevXtXo0aN18uRJubu7q2HDhvr+++8VFhZWUmUDAAAAuIHNp0L9k+joaIvtsWPHauzYscVUEQAAAIBbUSoWbwMAAACwbwQLAAAAAFYjWAAAAACwGsECAAAAgNUIFgAAAACsRrAAAAAAYDWCBQAAAACrESwAAAAAWI1gAQAAAMBqBAsAAAAAViNYAAAAALAawQIAAACA1QgWAAAAAKxGsAAAAABgNYIFAAAAAKsRLAAAAABYjWABAAAAwGoECwAAAABWI1gAAAAAsBrBAgAAAIDVCBYAAAAArEawAAAAAGA1ggUAAAAAqxEsAAAAAFiNYAEAAADAagQLAAAAAFYjWAAAAACwGsECAAAAgNUIFgAAAACsRrAAAAAAYDWCBQAAAACrESwAAAAAWI1gAQAAAMBqBAsAAAAAViNYAAAAALAawQIAAACA1QgWAAAAAKxGsAAAAABgNYIFAAAAAKsRLAAAAABYjWABAAAAwGoECwAAAABWI1gAAAAAsBrBAgAAAIDVCBYAAAAArEawAAAAAGA1mwaL8PBwtWjRQp6enqpWrZq6d++uAwcO/ONxcXFxatasmdzc3BQUFKTIyMgSqBYAAADAzdg0WMTFxWnYsGHasmWL1q1bp8zMTHXo0EGpqak3PebIkSMKCwvTQw89pJ07d+q1117TiBEjFBMTU4KVAwAAALieky0ffPXq1Rbbc+fOVbVq1bR9+3a1atUqz2MiIyMVEBCgiIgISdKdd96pbdu2adq0aXriiSeKu2QAAAAAeShVayySkpIkSZUqVbppn82bN6tDhw4WbR07dtS2bduUkZFRrPUBAAAAyJtNRyyuZxiGRo0apQcffFCNGjW6ab/ExET5+PhYtPn4+CgzM1Pnzp2Tn5+fxb709HSlp6ebt5OTk4u2cAAAAAClZ8Ri+PDh2r17txYtWvSPfU0mk8W2YRh5tkvXFoh7e3ubb/7+/kVTMAAAAACzUhEsXnzxRa1YsUIbN25UzZo18+3r6+urxMREi7YzZ87IyclJlStXztV//PjxSkpKMt+OHz9epLUDAAAAsPFUKMMw9OKLL+rbb79VbGysateu/Y/HhISE6LvvvrNoW7t2rZo3by5nZ+dc/V1dXeXq6lpkNQMAAADIzaYjFsOGDdOCBQu0cOFCeXp6KjExUYmJibpy5Yq5z/jx49W/f3/z9pAhQ3Ts2DGNGjVK+/bt05w5cxQVFaXRo0fb4ikAAAAAkI2DxYwZM5SUlKQ2bdrIz8/PfPvqq6/MfRISEhQfH2/erl27tlatWqXY2Fg1adJEb7/9tj755BNONQsAAADYkM2nQv2T6OjoXG2tW7fWjh07iqEiAAAAALeiVCzeBgAAAGDfCBYAAAAArEawAAAAAGA1ggUAAAAAq9l08TbwT9LS0izOCgZLx44ds/gXeQsICJCbm5utywAAoEwjWKBUi4+P13PPPWfrMkq9KVOm2LqEUm3WrFmqV6+ercsAAKBMI1igVAsICNCsWbNsXQbsXEBAgK1LAACgzCNYoFRzc3PjL80AAAB2gMXbAAAAAKxGsAAAAABgNYIFAAAAAKsRLAAAAABYjWAB2Kldu3apTZs25tuuXbtsXRIAALiNcVYowA61adMmV9tLL70kSYqNjS3RWgAAACRGLAC7c2OoCA0NzXc/AABASSBYAHbk+ulOkZGRio2N1cSJExUbG6vIyMg8+wEAAJQEggVgR3KmO0lS/fr1LfZdv319PwAAgJJAsADs0I3Tn3K0atWqhCsBAAC4hmAB2KENGzbk2f7TTz+VcCUAAADXECwAOxIREWH+ev/+/Rb7rt++vh8AAEBJ4HSzgB1p0qSJ+eshQ4ZIujb96caRiuv7AQAAlARGLAA7c+N1Km4MFVzHAgAA2ALBArBDsbGxuaY7RUREECoAAIDNECwAAAAAWI01FoAdyuvq2jnXrmDUAgAA2AIjFoCduTFU3HhNi7xCBwAAQHEjWAB2ZNeuXeavIyMjFRsbq4kTJyo2NlaRkZF59gMAACgJTIUC7EjOdCdJql+/vsW+67dfeuklpkQBKDZpaWmKj4+3dRml1rFjxyz+Rd4CAgLk5uZm6zJQhAgWgB26cfpTjryuaQEARS0+Pl7PPfecrcso9aZMmWLrEkq1WbNmqV69erYuA0WIYAHYoQ0bNmjixIm52gkVAEpCQECAZs2aZesyYOcCAgJsXQKKGMECsCMRERHm6VD79++3mP60f/9+i34AUFzc3Nz4SzOAXAgWgB1p0qSJ+eshQ4ZIynv60/X9AAAASgJnhQLszI2Lsm8MFSzaBgAAtkCwAOxQbGxsrulOERERhAoAAGAzTIUC7FSTJk0IEgAAoNRgxAKwU7GxsWrTpo35RsgAANvbsWOHxXvzjh07bF0SUGJMhmEYti6iJCUnJ8vb21tJSUny8vKydTnALWnTps1N9xEwAMA2eG9GWVSYz86MWAB25sZfXA0aNMh3PwCg+N343tu6det89wNlEWssADty/V+83nvvPd1///3m7S1btujVV1819+OXGACUjOunO02fPt3iDz579+7V0KFDzf3uueeeEq8PKClMhQLsyPVhIa9h9X/aDwAoerw3oyxjKhRQxt04/SlH3bp1S7gSAECOG6c/5XjggQdKuBLANggWgB3au3dvnu1///13CVcCAMgRFxeXZ/uvv/5awpUAtkGwAOzIpEmTzF9v2bLFYt/129f3AwAUr48++sj89Y1/+Ll++/p+QFnEGgvAzty4KLtu3bq5RiqYwwsAJevG9+YHHngg10gF782wR6yxAMqwG38xESoAwPZufO8lVOB2RLAA7FBsbGyu6U6TJk3iFxcA2FBsbGyu6U4fffQR7824bRAsADsVEBAgB4drP8IODg4KCAiwcUUAgGrVqsnNzU0mk0lubm6qVq2arUsCSoxN11j89NNP+uCDD7R9+3YlJCTo22+/Vffu3W/aPzY2Vm3bts3Vvm/fPtWvX79Aj8kaC5QF+V38jr+MAYBthIaGKisrK1e7o6OjNmzYYIOKAOvZzRqL1NRU3X333frss88KddyBAweUkJBgvnHuftxOrg8Vzs7OGjx4sJydnfPcDwAoGdeHCi8vL73yyivmD2FZWVkKDQ21ZXlAiXCy5YN37txZnTt3LvRx1apVU4UKFYq+IKCUO3z4sPnrhQsXqnr16pKk/v3769SpU+rdu7e5X1BQkE1qBIDbzYkTJ8yh4ptvvlGVKlUkSV27dtW5c+fUo0cPZWVl6cSJE6pZs6YtSwWKlV2usWjatKn8/PwUGhqqjRs35ts3PT1dycnJFjfAXj3zzDOSro1U5ISKHNWrVzePXOT0AwAUv5z3XC8vL3OoyFGlShV5enpa9APKKrsKFn5+fpo1a5ZiYmK0dOlSBQcHKzQ0VD/99NNNjwkPD5e3t7f55u/vX4IVA0UrOztbktSvX7889//rX/+y6AcAKH7p6emSpGeffTbP/YMGDbLoB5RVpeYCeSaT6R8Xb+ela9euMplMWrFiRZ7709PTLX6Qk5OT5e/vz+Jt2KWHH35Y2dnZcnZ21rp163Ltb9++vTIyMuTg4KAff/zRBhUCwO2nU6dOSktLk5eXV56fR7p27apLly7Jzc1Nq1evtkGFwK2zm8XbReH+++/PdYGw67m6usrLy8viBtir2bNnS5IyMjJ06tQpi32nTp1SRkaGRT8AQPHLec9NTk7WuXPnLPadO3dOly5dsugHlFU2XbxdFHbu3Ck/Pz9blwGUiOsXZPfu3VvOzs7617/+pcWLF5tDxY39AADFq2bNmnJ0dFRWVpZ69OghT09PDRo0SHPnzjWHCkdHRxZuo8yzabBISUnRwYMHzdtHjhzRrl27VKlSJQUEBGj8+PE6efKk5s2bJ0mKiIhQrVq11LBhQ129elULFixQTEyMYmJibPUUgBIXGxtrPqVsRkaG5s+fn2s/AKBkbdiwwXzK2UuXLumTTz4x7+M6Frhd2DRYbNu2zeKCd6NGjZIkDRgwQNHR0UpISFB8fLx5/9WrVzV69GidPHlS7u7uatiwob7//nuFhYWVeO2ALcXGxurw4cN65plnlJ2dLQcHB82ePZuRCgCwoQ0bNujEiRN65plnlJ6eLldXV82ePZuRCtw2Ss3i7ZLClbcBAACAgrmtFm8Dt6u//vpLbdq0Md/++usvW5cEALe9vXv3Wrw3792719YlASWGEQvADuWsscgLaywAwDZ4b0ZZxIgFUIbd+IurS5cu+e4HABS/G997u3Xrlu9+oCyy+9PNAreT66c7zZ49W3Xq1JEkjRkzRgcPHtQzzzxj7teoUSOb1AgAt5vrpzvNmTPHfCKNl19+WYcPH9bgwYPN/Ro0aGCTGoGSwIgFYEeGDx9u/jonVOS1fX0/AEDxGjp0qPnrG8/Od/329f2AsohgAdihG6c/5ejQoUMJVwIAyHHj9KccnBYftwuCBWCHvv/++zzb165dW8KVAAByLF++PM/2VatWlXAlgG0QLAA78tlnn5m/vv6q9TduX98PAFC8pk+fbv768OHDFvuu376+H1AWsXgbsCPXL8jOWajdoUOHXCMVLNwGgJJz/YLsnIXaYWFhuUYqWLiNso7rWAB2iHOlA0Dpw3szyiKuYwGUcbGxsbmmO3322Wf84gIAG4qNjc013Wn69Om8N+O2wVQowE7VqlVLLVu21KlTp1S9enXVqlXL1iUBwG3PxcVFJpNJhmHIZDLJxcXF1iUBJYapUIAdGjJkiPbv35+rvX79+oqMjLRBRQAApkKhLGIqFFCG5YQKk8mkDh06aPbs2erQoYNMJpP279+vIUOG2LpEALjtXB8qHB0d1a9fPzk6Oua5HyirmAoF2JGUlBRzqPjhhx/k5uYmSXrttdc0atQode7cWfv371dKSoo8PDxsXC0A3B6uP933ggULVLNmTUnS008/rRMnTqhv377mfnXq1LFJjUBJYMQCsCPh4eGSpPbt25tDRQ43Nze1a9fOoh8AoPg9++yzkq6NVOSEihw1a9Y0j1zk9APKKoIFYEdOnTolSerVq1ee+3v27GnRDwBQ/HKWq/bu3TvP/TnvzbfZslbchggWgB2pXr26JOnrr7/Oc/+SJUss+gEAip/JZJIkLVy4MM/9Oe/NOf2AsopgAdiR8ePHS5LWrVuntLQ0i31paWlav369RT8AQPH7/PPPJUlZWVk6ceKExb4TJ04oKyvLoh9QVrF4G7AjHh4eql+/vvbv36/OnTurXbt26tmzp5YsWaL169fLMAzVr1+fhdsAUIKuX5Ddt29fOTo6mt+bc0LFjf2AsojrWAB2iOtYAEDpw3UsUBYV5rMzwQKwUykpKQoPDzdfeXv8+PGMVACAjR08eFDPPvus+crbn3/+OSMVsGsEi3wQLAAAAICCKcxnZ9ZYAHaKEQsAKH2SkpI0YcIEnT59Wj4+PpoyZYq8vb1tXRZQIhixAOwQaywAoPTp06ePTp48mau9Ro0a+vLLL21QEWC9wnx25nSzgJ3JCRUmk0kdOnTQ7Nmz1aFDB5lMJu3fv19DhgyxdYkAcNu5PlTce++9+uyzz3TvvfdKkk6ePKk+ffrYsjygRDBiAdiRlJQUPfLIIzKZTPrhhx/k5uZm3peWlqbOnTvLMAytXLmSaVEAUEKSkpLUrVs3SdKqVatUrlw5877Lly8rLCxMkrR8+XKmRcHuMGIBlFHh4eGSpPbt21uECklyc3NTu3btLPoBAIrfhAkTJF0bqbg+VEhSuXLl1KJFC4t+QFlFsADsyKlTpyRJvXr1ynN/z549LfoBAIrf6dOnJUn9+/fPc3+/fv0s+gFlFcECsCPVq1eXJH399dd57l+yZIlFPwBA8fPx8ZEkzZs3L8/98+fPt+gHlFUEC8COjB8/XpK0bt06paWlWexLS0vT+vXrLfoBAIrflClTJEm///67Ll++bLHv8uXL2rp1q0U/oKziOhaAHfHw8FD9+vW1f/9+de7cWe3atVPPnj21ZMkSrV+/XoZhqH79+izcBoAS5O3trRo1aujkyZMKCwtTixYt1K9fP82fP98cKmrUqMHCbZR5nBUKsENcxwIASh+uY4GyqDCfnQkWgJ3iytsAUPpw5W2UNYX57MxUKMBOOTo6qmrVqkpPT1fVqlXl6Oho65IA4LZ35coVnTx5UikpKcrMzNSVK1cIFrhtMGIB2KEJEyZo06ZNudpbtmzJ4kAAsJFOnTrlOrGGdO06Q6tXr7ZBRYD1uEAeUIblhApnZ2f17t1bCxYsUO/eveXs7KxNmzZxASYAsIHrQ4Wvr6/efPNN+fr6Srp21r5OnTrZsjygRDAVCrAjV65cMYeK77//Xi4uLpKk5557TgMHDlSXLl20adMmXblyRe7u7jauFgBuD4mJieZQsWzZMlWoUEGS1LZtW128eFHdu3dXWlqaEhMTzWEDKIsYsQDsyMyZMyVdu8J2TqjI4eLioh49elj0AwAUvxdeeEHStZGKnFCRo0KFCuYwkdMPKKsIFoAdOXHihCQpLCwsz/057Tn9AADFLyUlRZL0/PPP57n/6aeftugHlFUEC8CO1KxZU5K0atWqPPfntOf0AwAUv5xTfd9stDgqKsqiH1BWESwAO5Lz17AlS5bo6tWrFvuuXr2qb775xqIfAKD4zZgxQ9K1tRYXL1602Hfx4kUlJiZa9APKKhZvA3bE3d1dLVu21KZNm9SlSxf16NFDYWFhWrVqlb755htlZGSoZcuWLNwGgBLk6+srNzc3paWlqXv37vL19dXTTz+tqKgoc6hwc3Nj4TbKPK5jAdghrmMBAKUP17FAWVSYz84EC8BOXblyRTNnztSJEydUs2ZNPf/884xUAICNJSYm6oUXXlBKSoo8PDw0Y8YMRipg1wgW+SBYAAAAAAVjN1fe/umnn9S1a1dVr15dJpNJy5Yt+8dj4uLi1KxZM7m5uSkoKEiRkZHFXyhQCiUlJWn48OHq2bOnhg8frqSkJFuXBAC3vatXr2rJkiX697//neeJNoCyzKaLt1NTU3X33Xdr0KBBeuKJJ/6x/5EjRxQWFqZnn31WCxYs0KZNmzR06FBVrVq1QMcDZUWfPn108uRJ8/bZs2fVrVs31ahRQ19++aUNKwOA21dkZKSWLFmirKwsi7aePXtqyJAhNqwMKBmlZiqUyWTSt99+q+7du9+0z7hx47RixQrt27fP3DZkyBD98ccf2rx5c4Eeh6lQsHfXh4p7771X/fv317x58/T7779LEuECAGwgMjJSixcvVsWKFfX0008rJCREmzdvVlRUlP73v//pX//6F+ECdqkwn53t6nSzmzdvVocOHSzaOnbsqKioKGVkZMjZ2dlGlQElIykpyRwqVq1apXLlykmSpk6dqsuXLyssLEwnT55UUlKSvL29bVkqANw2cqY/VaxYUUuWLJGT07WPV4888og6deqknj17asmSJRo8eLBcXFxsXC1QfOzqAnmJiYny8fGxaPPx8VFmZqbOnTuX5zHp6elKTk62uAH2asKECZKujVTkhIoc5cqVU4sWLSz6AQCK3/Lly5WVlaWnn37aHCpyODk5afDgwcrKytLy5cttVCFQMuwqWEjXpkxdL2cm143tOcLDw+Xt7W2++fv7F3uNQHE5ffq0JKl///557u/Xr59FPwBA8Tt16pQkKSQkJM/9Oe05/YCyyq6Cha+vr/kKljnOnDkjJycnVa5cOc9jxo8fr6SkJPPt+PHjJVEqUCxyRuzmzZuX5/758+db9AMAFL/q1atL0k3Xe+a05/QDyiq7ChYhISFat26dRdvatWvVvHnzm66vcHV1lZeXl8UNsFc5V9X+/fffdfnyZYt9ly9f1tatWy36AQCKX7du3eTo6KioqChlZmZa7MvMzNScOXPk6Oiobt262ahCoGTYNFikpKRo165d2rVrl6Rrp5PdtWuX4uPjJV0bbbh+yseQIUN07NgxjRo1Svv27dOcOXMUFRWl0aNH26J8oMR5e3urRo0akqSwsDCNGTNGu3fv1pgxYxQWFibp2lmhWLgNACXHxcVFPXv21P/+9z/17NlT3333nc6dO6fvvvvOop2F2yjrbHq62djYWLVt2zZX+4ABAxQdHa2BAwfq6NGjio2NNe+Li4vTyy+/rD179qh69eoaN25coU7fxulmURbceB2LHJxqFgBsJ6/rWDg6OnIdC9i1wnx2LjXXsSgpBAuUFUlJSZowYYJOnz4tHx8fTZkyhZEKALCxq1evavny5Tp16pSqV6+ubt26MVIBu0awyAfBAgAAACiYwnx2tqvF2wAAAABKJ4IFAAAAAKsRLAAAAABYjWABAAAAwGoECwAAAABWI1gAAAAAsBrBAgAAAIDVCBYAAAAArEawAAAAAGA1ggUAAAAAqxEsAAAAAFiNYAEAAADAagQLAAAAAFYjWAAAAACwGsECAAAAgNWcbF1ASTMMQ5KUnJxs40oAAACA0i3nM3POZ+j83HbB4tKlS5Ikf39/G1cCAAAA2IdLly7J29s73z4moyDxowzJzs7WqVOn5OnpKZPJZOtyAKskJyfL399fx48fl5eXl63LAQCI92aULYZh6NKlS6pevbocHPJfRXHbjVg4ODioZs2ati4DKFJeXl788gKAUob3ZpQV/zRSkYPF2wAAAACsRrAAAAAAYDWCBWDHXF1d9eabb8rV1dXWpQAA/j/em3G7uu0WbwMAAAAoeoxYAAAAALAawQIAAACA1QgWQBlz9OhRmUwm7dq1y9alAAAKqVatWoqIiLB1GcAtIVgApcDAgQNlMpk0ZMiQXPuGDh0qk8mkgQMHlnxhAFCG5bz33ng7ePCgrUsD7BLBAigl/P39tXjxYl25csXclpaWpkWLFikgIMCGlQFA2dWpUyclJCRY3GrXrm3rsgC7RLAASol77rlHAQEBWrp0qblt6dKl8vf3V9OmTc1tq1ev1oMPPqgKFSqocuXKeuSRR3To0KF873vv3r0KCwuTh4eHfHx81K9fP507d67YngsA2AtXV1f5+vpa3BwdHfXdd9+pWbNmcnNzU1BQkCZPnqzMzEzzcSaTSTNnztQjjzyicuXK6c4779TmzZt18OBBtWnTRuXLl1dISIjF+/OhQ4fUrVs3+fj4yMPDQy1atND69evzrS8pKUnPPfecqlWrJi8vLz388MP6448/iu31AKxBsABKkUGDBmnu3Lnm7Tlz5mjw4MEWfVJTUzVq1Cht3bpVGzZskIODgx577DFlZ2fneZ8JCQlq3bq1mjRpom3btmn16tU6ffq0evXqVazPBQDs1Zo1a9S3b1+NGDFCe/fu1cyZMxUdHa0pU6ZY9Hv77bfVv39/7dq1S/Xr11fv3r31/PPPa/z48dq2bZskafjw4eb+KSkpCgsL0/r167Vz50517NhRXbt2VXx8fJ51GIahLl26KDExUatWrdL27dt1zz33KDQ0VBcuXCi+FwC4VQYAmxswYIDRrVs34+zZs4arq6tx5MgR4+jRo4abm5tx9uxZo1u3bsaAAQPyPPbMmTOGJOPPP/80DMMwjhw5Ykgydu7caRiGYUycONHo0KGDxTHHjx83JBkHDhwozqcFAKXagAEDDEdHR6N8+fLmW48ePYyHHnrIePfddy36zp8/3/Dz8zNvSzJef/118/bmzZsNSUZUVJS5bdGiRYabm1u+NTRo0MD49NNPzduBgYHGxx9/bBiGYWzYsMHw8vIy0tLSLI654447jJkzZxb6+QLFzcmmqQaAhSpVqqhLly764osvzH+pqlKlikWfQ4cOaeLEidqyZYvOnTtnHqmIj49Xo0aNct3n9u3btXHjRnl4eOTad+jQIdWrV694ngwA2IG2bdtqxowZ5u3y5curTp062rp1q8UIRVZWltLS0nT58mWVK1dOktS4cWPzfh8fH0nSXXfdZdGWlpam5ORkeXl5KTU1VZMnT9bKlSt16tQpZWZm6sqVKzcdsdi+fbtSUlJUuXJli/YrV6784xRYwBYIFkApM3jwYPPQ+X/+859c+7t27Sp/f399/vnnql69urKzs9WoUSNdvXo1z/vLzs5W165d9f777+fa5+fnV7TFA4CdyQkS18vOztbkyZP1+OOP5+rv5uZm/trZ2dn8tclkumlbzh+AxowZozVr1mjatGmqU6eO3N3d1aNHj3zfv/38/BQbG5trX4UKFQr2BIESRLAASplOnTqZf8l07NjRYt/58+e1b98+zZw5Uw899JAk6Zdffsn3/u655x7FxMSoVq1acnLiRx4A/sk999yjAwcO5Aoc1vr55581cOBAPfbYY5Kurbk4evRovnUkJibKyclJtWrVKtJagOLA4m2glHF0dNS+ffu0b98+OTo6WuyrWLGiKleurFmzZungwYP68ccfNWrUqHzvb9iwYbpw4YKeeuop/f777zp8+LDWrl2rwYMHKysrqzifCgDYpTfeeEPz5s3TpEmTtGfPHu3bt09fffWVXn/9davut06dOlq6dKl27dqlP/74Q717977piTckqV27dgoJCVH37t21Zs0aHT16VL/++qtef/118+JwoDQhWAClkJeXl7y8vHK1Ozg4aPHixdq+fbsaNWqkl19+WR988EG+91W9enVt2rRJWVlZ6tixoxo1aqSRI0fK29tbDg68BQDAjTp27KiVK1dq3bp1atGihe6//3599NFHCgwMtOp+P/74Y1WsWFEPPPCAunbtqo4dO+qee+65aX+TyaRVq1apVatWGjx4sOrVq6d//etfOnr0qHlNB1CamAzDMGxdBAAAAAD7xp8rAQAAAFiNYAEAAADAagQLAAAAAFYjWAAAAACwGsECAAAAgNUIFgAAAACsRrAAAAAAYDWCBQAAAACrESwA4DY2a9Ys+fv7y8HBQREREbYux24cPXpUJpNJu3btsnUpAFBqECwAoJQbOHCgTCaTTCaTnJ2dFRQUpNGjRys1NdWq+01OTtbw4cM1btw4nTx5Us8991wRVVwyNm7cqEceeURVq1aVm5ub7rjjDj355JP66aefbF0aANyWCBYAYAc6deqkhIQEHT58WO+8846mT5+u0aNH59k3IyOjQPcZHx+vjIwMdenSRX5+fipXrlxRlmw1wzCUmZmZ577p06crNDRUlStX1ldffaV9+/Zp/vz5euCBB/Tyyy+XcKW35urVq7YuAQCKFMECAOyAq6urfH195e/vr969e6tPnz5atmyZJGnSpElq0qSJ5syZo6CgILm6usowDMXHx6tbt27y8PCQl5eXevXqpdOnT0uSoqOjddddd0mSgoKCZDKZdPToUUnSd999p2bNmsnNzU1BQUGaPHmyxQf8SZMmKSAgQK6urqpevbpGjBhh3jd9+nTVrVtXbm5u8vHxUY8ePcz70tPTNWLECFWrVk1ubm568MEHtXXrVvP+2NhYmUwmrVmzRs2bN5erq6t+/vnnXK9FfHy8XnrpJb300kv64osv9PDDD6t27dp64IEHNHLkSG3bts2i/6+//qpWrVrJ3d1d/v7+GjFihMVoT61atfTuu+9q8ODB8vT0VEBAgGbNmmVxH7///ruaNm0qNzc3NW/eXDt37sxV1969exUWFiYPDw/5+PioX79+OnfunHl/mzZtNHz4cI0aNUpVqlRR+/bt8/5mA4CdIlgAgB1yd3e3GJk4ePCgvv76a8XExJjn/Xfv3l0XLlxQXFyc1q1bp0OHDunJJ5+UJD355JNav369pGsfmhMSEuTv7681a9aob9++GjFihPbu3auZM2cqOjpaU6ZMkSR98803+vjjjzVz5kz9/fffWrZsmTmgbNu2TSNGjNBbb72lAwcOaPXq1WrVqpW5xrFjxyomJkZffPGFduzYoTp16qhjx466cOGCxXMbO3aswsPDtW/fPjVu3DjXc4+JiVFGRobGjh2b52tjMpnMX//555/q2LGjHn/8ce3evVtfffWVfvnlFw0fPtzimA8//NAcGIYOHaoXXnhB+/fvlySlpqbqkUceUXBwsLZv365JkyblGi1KSEhQ69at1aRJE23btk2rV6/W6dOn1atXL4t+X3zxhZycnLRp0ybNnDkzz/oBwG4ZAIBSbcCAAUa3bt3M27/99ptRuXJlo1evXoZhGMabb75pODs7G2fOnDH3Wbt2reHo6GjEx8eb2/bs2WNIMn7//XfDMAxj586dhiTjyJEj5j4PPfSQ8e6771o8/vz58w0/Pz/DMAzjww8/NOrVq2dcvXo1V50xMTGGl5eXkZycnGtfSkqK4ezsbHz55ZfmtqtXrxrVq1c3pk6dahiGYWzcuNGQZCxbtizf12PIkCGGl5eXRds333xjlC9f3nzbvXu3YRiG0a9fP+O5556z6Pvzzz8bDg4OxpUrVwzDMIzAwECjb9++5v3Z2dlGtWrVjBkzZhiGYRgzZ840KlWqZKSmppr7zJgxw5Bk7Ny50zAMw5g4caLRoUMHi8c5fvy4Ick4cOCAYRiG0bp1a6NJkyb5PjcAsGeMWACAHVi5cqU8PDzk5uamkJAQtWrVSp9++ql5f2BgoKpWrWre3rdvn/z9/eXv729ua9CggSpUqKB9+/bd9HG2b9+ut956Sx4eHubbs88+q4SEBF2+fFk9e/bUlStXFBQUpGeffVbffvuteZpU+/btFRgYqKCgIPXr109ffvmlLl++LEk6dOiQMjIy1LJlS/NjOTs76957781VT/Pmzf/x9bh+VEKSOnbsqF27dun7779XamqqsrKyzM8nOjra4vl07NhR2dnZOnLkiPn460dGTCaTfH19debMGfNreffdd1usQQkJCcn1um3cuNHicerXr29+7oV5bgBgr5xsXQAA4J+1bdtWM2bMkLOzs6pXry5nZ2eL/eXLl7fYNgwj14fv/NpzZGdna/LkyXr88cdz7XNzc5O/v78OHDigdevWaf369Ro6dKg++OADxcXFydPTUzt27FBsbKzWrl2rN954Q5MmTdLWrVtlGIak3IEgr3pufC43qlu3rpKSkpSYmChfX19JkoeHh+rUqSMnJ8tfa9nZ2Xr++ect1oHkCAgIMH994+tpMpmUnZ1trvGfZGdnq2vXrnr//fdz7fPz8zN//U/PDQDsGSMWAGAHypcvrzp16igwMDDXh+C8NGjQQPHx8Tp+/Li5be/evUpKStKdd9550+PuueceHThwQHXq1Ml1c3C49ivD3d1djz76qD755BPFxsZq8+bN+vPPPyVJTk5OateunaZOnardu3fr6NGj+vHHH1WnTh25uLjol19+MT9WRkaGtm3blm89eenRo4ecnZ3z/BCf1/PZs2dPns/HxcWlQI/XoEED/fHHH7py5Yq5bcuWLXk+Tq1atXI9DmECwO2CEQsAKIPatWunxo0bq0+fPoqIiFBmZqaGDh2q1q1b5zsd54033tAjjzwif39/9ezZUw4ODtq9e7f+/PNPvfPOO4qOjlZWVpbuu+8+lStXTvPnz5e7u7sCAwO1cuVKHT58WK1atVLFihW1atUqZWdnKzg4WOXLl9cLL7ygMWPGqFKlSgoICNDUqVN1+fJlPf3004V6bgEBAfrwww81cuRIXbhwQQMHDlTt2rV14cIFLViwQJLk6OgoSRo3bpzuv/9+DRs2TM8++6zKly+vffv2ad26dRZTyfLTu3dvTZgwQU8//bRef/11HT16VNOmTbPoM2zYMH3++ed66qmnNGbMGFWpUkUHDx7U4sWL9fnnn5vrAYCyjBELACiDTCaTli1bpooVK6pVq1Zq166dgoKC9NVXX+V7XMeOHbVy5UqtW7dOLVq00P3336+PPvpIgYGBkqQKFSro888/V8uWLdW4cWNt2LBB3333nSpXrqwKFSpo6dKlevjhh3XnnXcqMjJSixYtUsOGDSVJ7733np544gn169dP99xzjw4ePKg1a9aoYsWKhX5+L774otauXauzZ8+qR48eqlu3rsLCwnTkyBGtXr3afKaqxo0bKy4uTn///bceeughNW3aVBMnTrSYnvRPPDw89N1332nv3r1q2rSpJkyYkGu0pHr16tq0aZOysrLUsWNHNWrUSCNHjpS3t7d5pAcAyjqTUZDJowAAAACQD/6MAgAAAMBqBAsAAAAAViNYAAAAALAawQIAAACA1QgWAAAAAKxGsAAAAABgNYIFAAAAAKsRLAAAAABYjWABAAAAwGoECwAAAABWI1gAAAAAsBrBAgAAAIDV/h9gOGphSI0ISgAAAABJRU5ErkJggg==",
      "text/plain": [
       "<Figure size 800x600 with 1 Axes>"
      ]
     },
     "metadata": {},
     "output_type": "display_data"
    }
   ],
   "source": [
    "# Filter data for Male and Female Professors\n",
    "numDat_male = numDat[numDat['Male Professor'] == 1].copy()\n",
    "numDat_female = numDat[numDat['Female Professor'] == 1].copy()\n",
    "\n",
    "# Add Gender column\n",
    "numDat_male['Gender'] = 'Male'\n",
    "numDat_female['Gender'] = 'Female'\n",
    "\n",
    "# Concatenate both dataframes\n",
    "boxplot_data = pd.concat([numDat_male, numDat_female])\n",
    "\n",
    "# Create the boxplot\n",
    "plt.figure(figsize=(8, 6))\n",
    "sns.boxplot(x='Gender', y='Average Rating', data=boxplot_data)\n",
    "\n",
    "# Add title and labels\n",
    "plt.title('Boxplot of Average Ratings by Gender')\n",
    "plt.xlabel('Professor Gender')\n",
    "plt.ylabel('Average Rating')\n",
    "\n",
    "# Show the plot\n",
    "plt.tight_layout()\n",
    "plt.show()"
   ]
  },
  {
   "cell_type": "markdown",
   "metadata": {},
   "source": [
    "Lets test the difference in variance before we consider confounds"
   ]
  },
  {
   "cell_type": "code",
<<<<<<< HEAD
   "execution_count": 39,
=======
   "execution_count": 62,
>>>>>>> refs/remotes/origin/master
   "metadata": {},
   "outputs": [
    {
     "name": "stdout",
     "output_type": "stream",
     "text": [
      "Levene's Test Statistic: 9.2405\n",
      "P-value: 0.0024\n",
      "The variances are significantly different (reject the null hypothesis).\n"
     ]
    }
   ],
   "source": [
    "# Filter data for Male and Female Professors\n",
    "numDat_male = numDat[numDat['Male Professor'] == 1]\n",
    "numDat_female = numDat[numDat['Female Professor'] == 1]\n",
    "\n",
    "# Extract Average Ratings for Male and Female Professors\n",
    "ratings_male = numDat_male['Average Rating']\n",
    "ratings_female = numDat_female['Average Rating']\n",
    "\n",
    "# Perform Levene's Test\n",
    "stat, p_value = levene(ratings_male, ratings_female)\n",
    "\n",
    "# Display the results\n",
    "print(f\"Levene's Test Statistic: {stat:.4f}\")\n",
    "print(f\"P-value: {p_value:.4f}\")\n",
    "\n",
    "# Interpretation\n",
    "if p_value < 0.005:  # Using significance level of 0.005\n",
    "    print(\"The variances are significantly different (reject the null hypothesis).\")\n",
    "else:\n",
    "    print(\"The variances are not significantly different (fail to reject the null hypothesis).\")"
   ]
  },
  {
<<<<<<< HEAD
   "cell_type": "code",
   "execution_count": 10,
   "metadata": {},
   "outputs": [
    {
     "name": "stdout",
     "output_type": "stream",
     "text": [
      "Sample size for Male Professors: 3987\n",
      "Sample size for Female Professors: 3118\n"
     ]
    }
   ],
   "source": [
    "print(f\"Sample size for Male Professors: {len(ratings_male)}\")\n",
    "print(f\"Sample size for Female Professors: {len(ratings_female)}\")"
   ]
  },
  {
   "cell_type": "code",
   "execution_count": 11,
   "metadata": {},
   "outputs": [
    {
     "name": "stdout",
     "output_type": "stream",
     "text": [
      "Cohen's d (Effect Size): 0.086\n",
      "95% Confidence Interval for Cohen's d: (0.039, 0.133)\n"
     ]
    }
   ],
   "source": [
    "from math import sqrt\n",
    "import numpy as np\n",
    "from scipy.stats import t\n",
    "\n",
    "# Function to calculate pooled standard deviation\n",
    "def pooled_std(group1, group2):\n",
    "    n1, n2 = len(group1), len(group2)\n",
    "    return sqrt(((n1 - 1) * np.var(group1, ddof=1) + (n2 - 1) * np.var(group2, ddof=1)) / (n1 + n2 - 2))\n",
    "\n",
    "# Function to calculate confidence interval for Cohen's d\n",
    "def cohen_d_confidence_interval(group1, group2, alpha=0.05):\n",
    "    n1, n2 = len(group1), len(group2)\n",
    "    d = (np.mean(group1) - np.mean(group2)) / pooled_std(group1, group2)\n",
    "    se_d = sqrt((n1 + n2) / (n1 * n2) + (d**2 / (2 * (n1 + n2))))\n",
    "    dof = n1 + n2 - 2\n",
    "    t_crit = t.ppf(1 - alpha / 2, dof)\n",
    "    margin_of_error = t_crit * se_d\n",
    "    lower = d - margin_of_error\n",
    "    upper = d + margin_of_error\n",
    "    return d, lower, upper\n",
    "\n",
    "# Calculate Cohen's d and its confidence interval\n",
    "effect_size, lower_ci, upper_ci = cohen_d_confidence_interval(ratings_male, ratings_female)\n",
    "\n",
    "# Display the results\n",
    "print(f\"Cohen's d (Effect Size): {effect_size:.3f}\")\n",
    "print(f\"95% Confidence Interval for Cohen's d: ({lower_ci:.3f}, {upper_ci:.3f})\")\n"
   ]
  },
  {
   "cell_type": "markdown",
   "metadata": {},
   "source": [
    "Power = .098 using conservative effect size of .039"
   ]
  },
  {
=======
>>>>>>> refs/remotes/origin/master
   "cell_type": "markdown",
   "metadata": {},
   "source": [
    "Here we see that the variance in the distributions of average rating among men and women is significantly different.$\\newline$\n",
    "This does not necessarily imply that gender is the CAUSE of this difference.$\\newline$\n",
    "To investigate gender bias, we will test the impact of the potential confounds."
   ]
  },
  {
   "cell_type": "markdown",
   "metadata": {},
   "source": [
    "What are potential confounds in our data? Number of ratings, Average Difficulty, the number of ratings from online courses, and finally if the professor received a pepper."
   ]
  },
  {
   "cell_type": "markdown",
   "metadata": {},
   "source": [
    "#### Number of Rating as a confound"
   ]
  },
  {
   "cell_type": "markdown",
   "metadata": {},
   "source": [
    "Does number of ratings impact the variance of distributions of average rating of professors?$\\newline$ Is there a difference between the number of ratings among male and female professors?"
   ]
  },
  {
   "cell_type": "markdown",
   "metadata": {},
   "source": [
    "Using Sig Test and correlation level to test the potential confound:$\\newline$\n",
    "\n",
    "The null hypothesis: None of the 4 groups have significantly different variances in their distributions.$\\newline$\n",
    "\n",
    "The alternative hypothesis: At least one group has a variance that is significantly different from the others.$\\newline$\n",
    "If the p-value is less than the significance level (e.g., 0.005), you reject the null hypothesis and conclude that there are significant differences in variances across the groups."
   ]
  },
  {
   "cell_type": "code",
<<<<<<< HEAD
   "execution_count": 12,
=======
   "execution_count": 63,
>>>>>>> refs/remotes/origin/master
   "metadata": {},
   "outputs": [
    {
     "name": "stdout",
     "output_type": "stream",
     "text": [
      "Levene's Test Statistic: 8.6050, P-value: 0.0034\n",
      "The variances are significantly different (reject the null hypothesis).\n"
     ]
    },
    {
     "data": {
      "image/png": "iVBORw0KGgoAAAANSUhEUgAAA04AAAIhCAYAAAB5deq6AAAAOXRFWHRTb2Z0d2FyZQBNYXRwbG90bGliIHZlcnNpb24zLjkuMiwgaHR0cHM6Ly9tYXRwbG90bGliLm9yZy8hTgPZAAAACXBIWXMAAA9hAAAPYQGoP6dpAABy9ElEQVR4nO3dd3gU1f/28XsT0kijJ6GE3rugGHpHAggC+kVEQJCiICgiSFGKIIoo/BApUYqIggUEpCktNAOC9I60UBI6CSAkIZnnD55dWbJhE0iyIXm/rmsvsmfOzHy2DvfOzBmTYRiGAAAAAABJcnJ0AQAAAACQ0RGcAAAAAMAOghMAAAAA2EFwAgAAAAA7CE4AAAAAYAfBCQAAAADsIDgBAAAAgB0EJwAAAACwg+AEAAAAAHYQnPBEmTNnjkwmk+Xm7u4uf39/NWjQQOPGjdPFixcTzTNy5EiZTKYUrefff//VyJEjFRoamqL5bK2rSJEiatmyZYqWY88PP/ygSZMm2ZxmMpk0cuTIVF1falu7dq2qV68uT09PmUwmLV682O48+/btk8lkkouLiyIiItK+yCeI+X1nvrm4uCgwMFA9evRQZGTkIy3zYZ8B8+fw1KlTj1f4Y5o8ebJMJpMqVKjg0DrSUv369ZN8fJcvX36sz/uT8F1hz6lTp9SiRQvlypVLJpNJb7/9dpJ9ixQpIpPJpN69eyeaFhoaKpPJpF9++SUNq03aw17njOjLL79UiRIl5OrqKpPJpOvXr9vs9+A2O1u2bAoICFCHDh107NixR17/xx9/bHO7YX4dU7rtBpKL4IQn0uzZsxUWFqbVq1frq6++UpUqVfTpp5+qbNmyWrNmjVXf119/XWFhYSla/r///qtRo0al+Mv3Udb1KB4WnMLCwvT666+neQ2PyjAMvfTSS3JxcdHSpUsVFhamevXq2Z3vm2++kSTdvXtXc+fOTesyn0irVq1SWFiYVq5cqQ4dOmjWrFlq1KiR4uLiUrysh30GWrRoobCwMAUEBKRC1Y9u1qxZkqQDBw5o27ZtDq0FjvHOO+9o27ZtmjVrlsLCwvTOO+/YnWfmzJk6cuRIOlSXOe3evVv9+vVTgwYNtG7dOoWFhcnb2/uh85i32WvWrFHfvn21dOlS1a5dW9euXXukGpIKTk899ZTCwsL01FNPPdJyAXuyOboA4FFUqFBB1atXt9xv166d3nnnHdWuXVtt27bVsWPH5OfnJ0kqWLCgChYsmKb1/Pvvv8qePXu6rMueZ5991qHrt+f8+fO6evWqXnjhBTVq1ChZ88TExOj7779X5cqVdfnyZc2aNUuDBw9O40oTM7/OGVW1atWUJ08eSVLjxo11+fJlzZ49W5s3b1aDBg1SbT158+ZV3rx5U215j2LHjh3as2ePWrRooeXLl2vmzJmqUaNGqiw7Li7O8us4Mrb9+/frmWeeUZs2bZLVPygoSAcPHtTQoUO1cOHCtC0uA7p9+7Y8PDweaxkHDhyQJPXo0UPPPPNMsua5f5tdv359xcfHa8SIEVq8eLFee+21x6rnfj4+Phl+G4gnG3uckGkEBgbq888/140bNzRjxgxLu63D59atW6f69esrd+7c8vDwUGBgoNq1a6d///1Xp06dsvyncNSoUZZDDLp27Wq1vJ07d6p9+/bKmTOnihcvnuS6zH799VdVqlRJ7u7uKlasmCZPnmw1PanDnx489KB+/fpavny5Tp8+bXUIhJmtw2/279+v1q1bK2fOnHJ3d1eVKlX07bff2lzP/PnzNWzYMOXPn18+Pj5q3Lhxsn+d3bx5sxo1aiRvb29lz55dNWvW1PLlyy3TR44caQmWgwcPlslkUpEiRewud/Hixbpy5Ypef/11denSRUePHtXmzZst09u0aaPChQsrISEh0bw1atSw+vXRMAxNnTpVVapUkYeHh3LmzKn27dvrxIkTVvOZD53ZuHGjatasqezZs6tbt26SpB9//FFNmzZVQECAPDw8VLZsWb3//vu6detWovV//fXXKlWqlNzc3FSuXDn98MMP6tq1a6LHHRsbqzFjxqhMmTJyc3NT3rx59dprr+nSpUt2n5+kmP+jcuHCBUvbpUuX9Oabb6pcuXLy8vJSvnz51LBhQ23atMnSx95nwNZ71fx8bd++XXXq1FH27NlVrFgxffLJJ4lelwMHDqhp06bKnj278ubNqz59+mj58uUpOsRm5syZkqRPPvlENWvW1IIFC/Tvv/8m6nfu3Dn17NlThQoVkqurq/Lnz6/27dtbnhPz+/67777Tu+++qwIFCsjNzU3//POPpHt7tSpXrix3d3flypVLL7zwgg4dOmS1jhMnTqhDhw7Knz+/3Nzc5Ofnp0aNGmn37t2WPg/7zklNyXl9bdmzZ49MJpPleb3fypUrZTKZtHTpUkvbsWPH1LFjR+XLl09ubm4qW7asvvrqK6v5EhISNGbMGJUuXVoeHh7KkSOHKlWqpP/7v/+z+zjCw8PVqVMnq+V//vnnlveS+XX7559/LPUl5/DRXLly6f3339eiRYu0devWh/a19TmVbH/Pm0wm9e3bV7Nnz7Y83urVq2vr1q0yDEOfffaZihYtKi8vLzVs2NDy/nrQpk2b9Oyzz8rDw0MFChTQBx98oPj4eKs+yf2uMB8mvmjRIlWtWlXu7u4aNWrUQx+zvfd7/fr11alTJ0n3vlvv/15ICVvfTXfu3NG7776rKlWqyNfXV7ly5VJQUJCWLFliNa/JZNKtW7f07bffWl73+vXrS7J9qF7Xrl3l5eWlf/75R8HBwfLy8lKhQoX07rvvKiYmxmrZZ8+eVfv27eXt7a0cOXLolVde0fbt22UymTRnzhxLv+R85pE58XMaMpXg4GA5Oztr48aNSfYxHxNfp04dzZo1Szly5NC5c+e0atUqxcbGKiAgQKtWrdJzzz2n7t27Ww57e/AX9rZt26pDhw7q3bu3zf8w32/37t16++23NXLkSPn7++v7779X//79FRsbq4EDB6boMU6dOlU9e/bU8ePH9euvv9rtf+TIEdWsWVP58uXT5MmTlTt3bs2bN09du3bVhQsXNGjQIKv+Q4cOVa1atfTNN98oOjpagwcPVqtWrXTo0CE5OzsnuZ4NGzaoSZMmqlSpkmbOnCk3NzdNnTpVrVq10vz58/W///1Pr7/+uipXrqy2bdvqrbfeUseOHeXm5mb3MZiX98orr+jq1asaN26cZs6cqdq1a0uSunXrptatW2vdunVq3LixZb7Dhw/rr7/+sgqpvXr10pw5c9SvXz99+umnunr1qkaPHq2aNWtqz549lj2VkhQREaFOnTpp0KBB+vjjj+XkdO+3pmPHjik4OFhvv/22PD09dfjwYX366af666+/tG7dOsv8ISEh6tWrl9q1a6eJEycqKipKo0aNSrSxTkhIUOvWrbVp0yYNGjRINWvW1OnTpzVixAjVr19fO3bseKRfiU+ePClJKlWqlKXt6tWrkqQRI0bI399fN2/e1K+//qr69etr7dq1ql+/frI/Aw+KjIzUK6+8onfffVcjRozQr7/+qiFDhih//vzq3Lmz5TmtV6+ePD09NW3aNOXLl0/z589X3759k/24bt++rfnz5+vpp59WhQoV1K1bN73++uv6+eef1aVLF0u/c+fO6emnn1ZcXJyGDh2qSpUq6cqVK/r999917do1q9d6yJAhCgoK0vTp0+Xk5KR8+fJp3LhxGjp0qF5++WWNGzdOV65c0ciRIxUUFKTt27erZMmSku5978THx2v8+PEKDAzU5cuX9eeff1rO+7D3nZOcvZh3795N1Pbgf6il5L2+tlSuXFlVq1bV7Nmz1b17d6tpc+bMUb58+RQcHCxJOnjwoGrWrGn5scrf31+///67+vXrp8uXL2vEiBGSpPHjx2vkyJEaPny46tatq7i4OB0+fDjJ82HMLl26pJo1ayo2NlYfffSRihQpomXLlmngwIE6fvy4pk6dajkk64UXXlDx4sU1YcIESUrW4aP9+/fXlClTNGjQoIduK1Jq2bJl2rVrlz755BOZTCYNHjxYLVq0UJcuXXTixAlNmTJFUVFRGjBggNq1a6fdu3dbBbDIyEh16NBB77//vkaPHq3ly5drzJgxunbtmqZMmSIp5d8VO3fu1KFDhzR8+HAVLVpUnp6eSdafnPf71KlTNX/+fI0ZM0azZ89WmTJlHmnvs63vppiYGF29elUDBw5UgQIFFBsbqzVr1qht27aaPXu25TskLCxMDRs2VIMGDfTBBx9Iuren6WHi4uL0/PPPq3v37nr33Xe1ceNGffTRR/L19dWHH34oSbp165YaNGigq1ev6tNPP1WJEiW0atUq/e9//0u0PHufeWRiBvAEmT17tiHJ2L59e5J9/Pz8jLJly1rujxgxwrj/rf7LL78Ykozdu3cnuYxLly4ZkowRI0YkmmZe3ocffpjktPsVLlzYMJlMidbXpEkTw8fHx7h165bVYzt58qRVv/Xr1xuSjPXr11vaWrRoYRQuXNhm7Q/W3aFDB8PNzc0IDw+36te8eXMje/bsxvXr163WExwcbNXvp59+MiQZYWFhNtdn9uyzzxr58uUzbty4YWm7e/euUaFCBaNgwYJGQkKCYRiGcfLkSUOS8dlnnz10eWanTp0ynJycjA4dOlja6tWrZ3h6ehrR0dGGYRhGXFyc4efnZ3Ts2NFq3kGDBhmurq7G5cuXDcMwjLCwMEOS8fnnn1v1O3PmjOHh4WEMGjTIah2SjLVr1z60voSEBCMuLs7YsGGDIcnYs2ePYRiGER8fb/j7+xs1atSw6n/69GnDxcXF6vWbP3++IclYuHChVd/t27cbkoypU6c+tAbz+y4yMtKIi4szrl27Zvz000+Gp6en8fLLLz903rt37xpxcXFGo0aNjBdeeMHS/rDPgK33qvn52rZtm1XfcuXKGc2aNbPcf++99wyTyWQcOHDAql+zZs0Svc+TMnfuXEOSMX36dMMwDOPGjRuGl5eXUadOHat+3bp1M1xcXIyDBw8muSzz+75u3bpW7deuXTM8PDwSfR7Cw8MNNzc3y3vt8uXLhiRj0qRJSa4jOd85STE/rw+72XqNzJJ6fQ0j8XfF5MmTDUnGkSNHLG1Xr1413NzcjHfffdfS1qxZM6NgwYJGVFSU1fL69u1ruLu7G1evXjUMwzBatmxpVKlSJcWP+f3337f5XnrjjTcMk8lkVV/hwoWNFi1aJGu59/f9+uuvDUnGb7/9ZhjGf++Dn3/+2dK/S5cuNr9nbX3PSzL8/f2NmzdvWtoWL15sSDKqVKli+f4zDMOYNGmSIcnYu3evpc38Oi9ZssRquT169DCcnJyM06dPG4aRsu+KwoULG87OzlbPV1KS+343jORthx/su3XrViMuLs64ceOGsWrVKsPf39+oW7euERcXl+S85vdu9+7djapVq1pN8/T0NLp06ZJoHlvbyy5duhiSjJ9++smqb3BwsFG6dGnL/a+++sqQZKxcudKqX69evQxJxuzZsw3DSN5nHpkXh+oh0zEM46HTq1SpIldXV/Xs2VPffvttokO0kqtdu3bJ7lu+fHlVrlzZqq1jx46Kjo7Wzp07H2n9ybVu3To1atRIhQoVsmrv2rWr/v3330SDWTz//PNW9ytVqiRJOn36dJLruHXrlrZt26b27dvLy8vL0u7s7KxXX31VZ8+efeSTsWfPnq2EhATLYXLSvT1Mt27d0o8//ihJypYtmzp16qRFixYpKipK0r1f47/77ju1bt1auXPnlnTvF2GTyaROnTrp7t27lpu/v78qV66c6DCxnDlzqmHDholqOnHihDp27Ch/f385OzvLxcXFMsCF+bCWI0eOKDIyUi+99JLVvIGBgapVq5ZV27Jly5QjRw61atXKqq4qVarI398/2Yev+fv7y8XFRTlz5tRLL72katWqJTokU5KmT5+up556Su7u7sqWLZtcXFy0du3aRIegpZS/v3+icx4qVapk9d7ZsGGDKlSooHLlyln1e/nll5O9npkzZ8rDw0MdOnSQJHl5eenFF1/Upk2brEbqWrlypRo0aKCyZcvaXeaDn+ewsDDdvn070WFIhQoVUsOGDbV27VpJ9w79Kl68uD777DN98cUX2rVrV6JDEx/3O6d48eLavn17otuDA+GYPerr+8orr8jNzc3qkKT58+crJibGch7KnTt3tHbtWr3wwgvKnj271fs1ODhYd+7csRwC98wzz2jPnj1688039fvvvys6OjpZj3fdunUqV65covdS165dZRiG1V7dR/Xaa6+pXLlyev/9920e4vsoGjRoYLVHx/y+a968udWeJXP7g9+p3t7eib5/O3bsqISEBMuesZR+V1SqVMlqr05Skvt+f1TPPvusXFxc5O3treeee045c+bUkiVLEp1H+PPPP6tWrVry8vKyvHdnzpz52N9NJpNJrVq1smqz9d1kru9+D343Jeczj8yL4IRM5datW7py5Yry58+fZJ/ixYtrzZo1ypcvn/r06aPixYurePHiyTru/n4pGVHM398/ybYrV66kaL0pdeXKFZu1mp+jB9dvDhlm5kPpbt++neQ6rl27JsMwUrSe5EhISNCcOXOUP39+VatWTdevX9f169fVuHFjeXp6Wp2P0a1bN925c0cLFiyQJP3++++KiIiwOvH4woULMgxDfn5+cnFxsbpt3bpVly9ftlq/rcdz8+ZN1alTR9u2bdOYMWMUGhqq7du3a9GiRZL+e57Mj/f+w8HMHmy7cOGCrl+/LldX10R1RUZGJqorKWvWrNH27dv1+++/q127dtq4caPeeustqz5ffPGF3njjDdWoUUMLFy7U1q1btX37dj333HMPfY2T48H3jnTv/XP/cq9cuZKs5yQp//zzjzZu3KgWLVrIMAzLe6J9+/aS/htpT7p3yFdyB2t58LU2v35JvafN000mk9auXatmzZpp/Pjxeuqpp5Q3b17169dPN27ckPT43znu7u6qXr16otuDP8ZIj/f65sqVS88//7zmzp1rOQxwzpw5euaZZ1S+fHnL83L37l19+eWXid6r5kP5zO/XIUOGaMKECdq6dauaN2+u3Llzq1GjRtqxY8dD60jpd9ajcHZ21scff6wDBw7Y/HHhUeTKlcvqvqur60Pb79y5Y9Vu6zPw4HYipd8Vyd1OJff9/qjmzp2r7du3a926derVq5cOHTqUKJAsWrRIL730kgoUKKB58+YpLCxM27dvt3y3P47s2bPL3d3dqs3Nzc1qucn9bkrOZx6ZF+c4IVNZvny54uPjkzyO36xOnTqqU6eO4uPjtWPHDn355Zd6++235efnZ/kV256UXBvK1rV0zG3m/2yav9QfPP8luf9pTkru3LltXvfo/PnzkmQZhe1x5MyZU05OTqm+njVr1lh+EbT1n/KtW7fq4MGDKleunOUX6tmzZ6tXr16aPXu28ufPr6ZNm1r658mTRyaTSZs2bbJ5btWDbbZe43Xr1un8+fMKDQ21Gkb9wWPbzfXef/Kz2YPvhzx58ih37txatWpVor6S7A71a1a5cmXL89ykSRM1a9ZMISEh6t69u55++mlJ0rx581S/fn1NmzbNat702uDnzp07Wc9JUmbNmiXDMPTLL7/YvObOt99+qzFjxsjZ2Vl58+bV2bNnk7XcB19r8+uX1Hv6/vdz4cKFLSH+6NGj+umnnzRy5EjFxsZq+vTpklLnOyc5Hvf1fe211/Tzzz9r9erVCgwM1Pbt262WlTNnTsue5D59+thcRtGiRSXd2xM8YMAADRgwQNevX9eaNWs0dOhQNWvWTGfOnEny3K70+M6SpNatW6tWrVoaMWKEQkJCEk13d3dP9H0sPf53clIe9rkwvx9T+l2R3O1USt7vj6Js2bKWASEaNGig+Ph4ffPNN/rll18sP3rMmzdPRYsW1Y8//mhVt63XIC3kzp1bf/31V6J2W99NyfnMI3NijxMyjfDwcA0cOFC+vr7q1atXsuZxdnZWjRo1LKNBmQ+bS85elpQ4cOCA9uzZY9X2ww8/yNvb2zLim3n0pr1791r1u38kK7MHf8V/mEaNGln+s3+/uXPnKnv27KkydKunp6dq1KihRYsWWdWVkJCgefPmqWDBgsk6XORBM2fOlJOTkxYvXqz169db3b777jtJ1nsYXnvtNW3btk2bN2/Wb7/9pi5dulgNaNGyZUsZhqFz587Z/AW/YsWKdmsyb9AfDFn3j+QoSaVLl5a/v79++uknq/bw8HD9+eefVm0tW7bUlStXFB8fb7Ou0qVLJ+PZSlznV199JWdnZw0fPtyq/cHa9+7dm+iQzdT+DJjVq1dP+/fv18GDB63azXsKHyY+Pl7ffvutihcvnuj9sH79er377ruKiIjQypUrJd07RGr9+vWPdJhoUFCQPDw8NG/ePKv2s2fPWg5/taVUqVIaPny4KlasaPMw3KS+c1JLcl/fpDRt2lQFChTQ7NmzNXv2bLm7u1vtGciePbsaNGigXbt2qVKlSjbfr7Z+5MiRI4fat2+vPn366OrVqw8d/a5Ro0Y6ePBgoudm7ty5MplMqTq0/qeffqozZ84kGuVUuvedfPHiRatAExsbq99//z3V1n+/GzduJPq+/+GHH+Tk5KS6detKSpvvCunR3++Pavz48cqZM6c+/PBDy2FuJpPJckFds8jIyESj6kkp2wYmV7169XTjxg3L94eZve8me595ZC7sccITaf/+/ZZjuy9evKhNmzZp9uzZcnZ21q+//vrQUX6mT5+udevWqUWLFgoMDNSdO3cs//k2j8jm7e2twoULa8mSJWrUqJFy5cqlPHnyJGvobFvy58+v559/XiNHjlRAQIDmzZun1atX69NPP7X86vr000+rdOnSGjhwoO7evaucOXPq119/tRp226xixYpatGiRpk2bpmrVqsnJycnqulb3GzFihJYtW6YGDRroww8/VK5cufT9999r+fLlGj9+vHx9fR/pMT1o3LhxatKkiRo0aKCBAwfK1dVVU6dO1f79+zV//vwU7aGT7h02sWTJEjVr1kytW7e22WfixImaO3euxo0bJxcXF7388ssaMGCAXn75ZcXExCQ6Xr9WrVrq2bOnXnvtNe3YsUN169aVp6enIiIitHnzZlWsWFFvvPHGQ+uqWbOmcubMqd69e2vEiBFycXHR999/nygYOzk5adSoUerVq5fat2+vbt266fr16xo1apQCAgIsI/RJUocOHfT9998rODhY/fv31zPPPCMXFxedPXtW69evV+vWrfXCCy+k6PmTpJIlS6pnz56aOnWqNm/erNq1a6tly5b66KOPNGLECNWrV09HjhzR6NGjVbRoUauR21L7M2D29ttva9asWWrevLlGjx4tPz8//fDDDzp8+LDleUvKypUrdf78eX366ac29ypXqFBBU6ZM0cyZM9WyZUuNHj1aK1euVN26dTV06FBVrFhR169f16pVqzRgwACVKVMmyXXlyJFDH3zwgYYOHarOnTvr5Zdf1pUrVzRq1Ci5u7tbRo7bu3ev+vbtqxdffFElS5aUq6ur1q1bp7179+r999+XlLzvnNSS3Nc3Kc7OzurcubO++OIL+fj4qG3btom+I/7v//5PtWvXVp06dfTGG2+oSJEiunHjhv755x/99ttvlnOQWrVqZbl+T968eXX69GlNmjRJhQsXtoxIaMs777yjuXPnqkWLFho9erQKFy6s5cuXa+rUqXrjjTce6UeYpNSqVUutW7e2+Z/z//3vf/rwww/VoUMHvffee7pz544mT55sczTD1JA7d2698cYbCg8PV6lSpbRixQp9/fXXeuONNxQYGCgp7b4rkvt+Ty05c+bUkCFDNGjQIP3www/q1KmTZej0N998U+3bt9eZM2f00UcfKSAgwOrcReneNjA0NFS//fabAgIC5O3t/cih0axLly6aOHGiOnXqpDFjxqhEiRJauXKlJSibv5uS85lHJubAgSmAFDOP0GO+ubq6Gvny5TPq1atnfPzxx8bFixcTzfPgCEhhYWHGCy+8YBQuXNhwc3MzcufObdSrV89YunSp1Xxr1qwxqlatari5uRmSLCP4mJd36dIlu+syjP9Gcvrll1+M8uXLG66urkaRIkWML774ItH8R48eNZo2bWr4+PgYefPmNd566y1j+fLliUYJunr1qtG+fXsjR44chslkslqnbIyytW/fPqNVq1aGr6+v4erqalSuXNkyQpCZrVGlDOO/UfAe7G/Lpk2bjIYNGxqenp6Gh4eH8eyzz1pGrXpwefZG1TOPPLV48eIk+0yfPj3RCFMdO3Y0JBm1atVKcr5Zs2YZNWrUsNRZvHhxo3PnzsaOHTssferVq2eUL1/e5vx//vmnERQUZGTPnt3Imzev8frrrxs7d+60+TyFhIQYJUqUMFxdXY1SpUoZs2bNMlq3bp1olKi4uDhjwoQJRuXKlQ13d3fDy8vLKFOmjNGrVy/j2LFjD3uqHvqevHDhguHl5WU0aNDAMAzDiImJMQYOHGgUKFDAcHd3N5566ilj8eLFNkcQS+ozkNSoeraeL1vL3b9/v9G4cWPD3d3dyJUrl9G9e3fj22+/tRqV0JY2bdoYrq6uNj/nZh06dDCyZctmREZGGoZxb8TEbt26Gf7+/oaLi4uRP39+46WXXjIuXLhgGEbS73uzb775xqhUqZLh6upq+Pr6Gq1bt7YaEfDChQtG165djTJlyhienp6Gl5eXUalSJWPixInG3bt3DcNI/neOLQ97H9oa+TAlr6+t7wrDuPc9ZP6OXb16tc11nzx50ujWrZtRoEABw8XFxcibN69Rs2ZNY8yYMZY+n3/+uVGzZk0jT548hqurqxEYGGh0797dOHXqlN3Hffr0aaNjx45G7ty5DRcXF6N06dLGZ599ZsTHx1v1e9RR9e538OBBw9nZ2eb7YMWKFUaVKlUMDw8Po1ixYsaUKVOSHFWvT58+Vm1JfdfZes+ZX+fQ0FCjevXqhpubmxEQEGAMHTo00chzyf2uSMlzY2bv/W4Yjzaqnq2+t2/fNgIDA42SJUtaPiuffPKJUaRIEcPNzc0oW7as8fXXX9t8vnfv3m3UqlXLyJ49uyHJqFevnmEYSY+q5+npmWj9tpYbHh5utG3b1vDy8jK8vb2Ndu3aGStWrLAa8TA5n3lkXibDsDMEGQAg1Vy/fl2lSpVSmzZtbJ5XkVX17NlT8+fP15UrVywnzwOAo3388ccaPny4wsPDkz3YDDIvDtUDgDQSGRmpsWPHqkGDBsqdO7dOnz6tiRMn6saNG+rfv7+jy3OY0aNHK3/+/CpWrJhu3rypZcuW6ZtvvtHw4cMJTQAcxnyh4TJlyiguLk7r1q3T5MmT1alTJ0ITJBGcACDNuLm56dSpU3rzzTd19epVy2Ac06dPtwzvnBW5uLjos88+09mzZ3X37l2VLFlSX3zxRZYOkwAcL3v27Jo4caJOnTqlmJgYBQYGavDgwVYD7CBr41A9AAAAALCD4cgBAAAAwA6CEwAAAADYQXACAAAAADuy3OAQCQkJOn/+vLy9vVN8QU4AAAAAmYdhGLpx44by58//0IuwS1kwOJ0/f16FChVydBkAAAAAMogzZ87YHXY+ywUnb29vSfeeHB8fHwdXAwAAAMBRoqOjVahQIUtGeJgsF5zMh+f5+PgQnAAAAAAk6xQeBocAAAAAADsITgAAAABgB8EJAAAAAOwgOAEAAACAHQQnAAAAALCD4AQAAAAAdhCcAAAAAMAOghMAAAAA2EFwAgAAAAA7CE4AAAAAYAfBCQAAAADsIDgBAAAAgB0EJwAAAACwg+AEAAAAAHY4NDiNHDlSJpPJ6ubv7//QeTZs2KBq1arJ3d1dxYoV0/Tp09OpWgAAAABZVTZHF1C+fHmtWbPGct/Z2TnJvidPnlRwcLB69OihefPmacuWLXrzzTeVN29etWvXLj3KBQAAAJAFOTw4ZcuWze5eJrPp06crMDBQkyZNkiSVLVtWO3bs0IQJEwhOAAAAANKMw4PTsWPHlD9/frm5ualGjRr6+OOPVaxYMZt9w8LC1LRpU6u2Zs2aaebMmYqLi5OLi0uieWJiYhQTE2O5Hx0dnboPAA53584dhYeHO7oMZCGBgYFyd3d3dBkA7sO2AOmNbUHW49DgVKNGDc2dO1elSpXShQsXNGbMGNWsWVMHDhxQ7ty5E/WPjIyUn5+fVZufn5/u3r2ry5cvKyAgINE848aN06hRo9LsMcDxwsPD1bNnT0eXgSwkJCREpUqVcnQZAO7DtgDpjW1B1mMyDMNwdBFmt27dUvHixTVo0CANGDAg0fRSpUrptdde05AhQyxtW7ZsUe3atRUREWHzkD9be5wKFSqkqKgo+fj4pM0DQbriV8aUO336tMaOHathw4apcOHCji7nicOvjEDGw7bg0bA9eHRsCzKH6Oho+fr6JisbOPxQvft5enqqYsWKOnbsmM3p/v7+ioyMtGq7ePGismXLZnMPlSS5ubnJzc0t1WtFxuHu7s4vPo+ocOHCPHcAMgW2BY+H7QFgX4a6jlNMTIwOHTpk85A7SQoKCtLq1aut2v744w9Vr17d5vlNAAAAAJAaHBqcBg4cqA0bNujkyZPatm2b2rdvr+joaHXp0kWSNGTIEHXu3NnSv3fv3jp9+rQGDBigQ4cOadasWZo5c6YGDhzoqIcAAAAAIAtw6KF6Z8+e1csvv6zLly8rb968evbZZ7V161bLMbYRERFWxysXLVpUK1as0DvvvKOvvvpK+fPn1+TJkxmKHAAAAECacmhwWrBgwUOnz5kzJ1FbvXr1tHPnzjSqCAAAAAASy1DnOAEAAABARkRwAgAAAAA7CE4AAAAAYAfBCQAAAADsIDgBAAAAgB0EJwAAAACwg+AEAAAAAHYQnAAAAADADoITAAAAANhBcAIAAAAAOwhOAAAAAGAHwQkAAAAA7CA4AQAAAIAdBCcAAAAAsIPgBAAAAAB2EJwAAAAAwA6CEwAAAADYQXACAAAAADsITgAAAABgB8EJAAAAAOwgOAEAAACAHQQnAAAAALCD4AQAAAAAdhCcAAAAAMAOghMAAAAA2EFwAgAAAAA7CE4AAAAAYAfBCQAAAADsIDgBAAAAgB0EJwAAAACwg+AEAAAAAHYQnAAAAADADoITAAAAANhBcAIAAAAAO7I5ugBYu3DhgqKiohxdBjK506dPW/0LpCVfX1/5+fk5uownDtsDpAe2B0hPT/r2wGQYhuHoItJTdHS0fH19FRUVJR8fH0eXY+XChQvq9GpnxcXGOLoUAEg1Lq5umvfd3Cd6Y5ne2B4AyIwy4vYgJdmAPU4ZSFRUlOJiY3S7WD0luPs6uhwAeGxOd6KkExsUFRWVoTaUGR3bAwCZTWbYHhCcMqAEd18leOZxdBkAAAdjewAAGQeDQwAAAACAHQQnAAAAALCD4AQAAAAAdmSY4DRu3DiZTCa9/fbbSfYJDQ2VyWRKdDt8+HD6FQoAAAAgy8kQg0Ns375dISEhqlSpUrL6HzlyxGq4wLx586ZVaQAAAADg+D1ON2/e1CuvvKKvv/5aOXPmTNY8+fLlk7+/v+Xm7OycxlUCAAAAyMocHpz69OmjFi1aqHHjxsmep2rVqgoICFCjRo20fv36h/aNiYlRdHS01Q0AAAAAUsKhh+otWLBAO3fu1Pbt25PVPyAgQCEhIapWrZpiYmL03XffqVGjRgoNDVXdunVtzjNu3DiNGjUqNcsGAAAAkMU4LDidOXNG/fv31x9//CF3d/dkzVO6dGmVLl3acj8oKEhnzpzRhAkTkgxOQ4YM0YABAyz3o6OjVahQoccrHgAAAECW4rBD9f7++29dvHhR1apVU7Zs2ZQtWzZt2LBBkydPVrZs2RQfH5+s5Tz77LM6duxYktPd3Nzk4+NjdQMAAACAlHDYHqdGjRpp3759Vm2vvfaaypQpo8GDByd7wIddu3YpICAgLUoEAAAAAEkODE7e3t6qUKGCVZunp6dy585taR8yZIjOnTunuXPnSpImTZqkIkWKqHz58oqNjdW8efO0cOFCLVy4MN3rBwAAAJB1ZIjrOCUlIiJC4eHhlvuxsbEaOHCgzp07Jw8PD5UvX17Lly9XcHCwA6sEAAAAkNllqOAUGhpqdX/OnDlW9wcNGqRBgwalX0EAAAAAoAxwHScAAAAAyOgITgAAAABgB8EJAAAAAOwgOAEAAACAHQQnAAAAALCD4AQAAAAAdhCcAAAAAMAOghMAAAAA2EFwAgAAAAA7CE4AAAAAYAfBCQAAAADsIDgBAAAAgB0EJwAAAACwI5ujCwAAALY53b7u6BIAIFVkhu8zghMAABmUx8mNji4BAPD/EZwAAMigbhetqwSPHI4uAwAem9Pt60/8j0EEJwAAMqgEjxxK8Mzj6DIAAGJwCAAAAACwi+AEAAAAAHYQnAAAAADADoITAAAAANhBcAIAAAAAOwhOAAAAAGAHwQkAAAAA7OA6ThmQ0+3rji4BAFIF32cAgMyC4JQBPelXVQYAAAAyG4JTBnS7aF0leORwdBkA8Nicbl/nxyAAQKZAcMqAEjxyKMEzj6PLAAAAAPD/MTgEAAAAANhBcAIAAAAAOwhOAAAAAGAHwQkAAAAA7CA4AQAAAIAdBCcAAAAAsIPgBAAAAAB2EJwAAAAAwA6CEwAAAADYQXACAAAAADsITgAAAABgB8EJAAAAAOwgOAEAAACAHQQnAAAAALAjwwSncePGyWQy6e23335ovw0bNqhatWpyd3dXsWLFNH369PQpEAAAAECWlSGC0/bt2xUSEqJKlSo9tN/JkycVHBysOnXqaNeuXRo6dKj69eunhQsXplOlAAAAALIihwenmzdv6pVXXtHXX3+tnDlzPrTv9OnTFRgYqEmTJqls2bJ6/fXX1a1bN02YMCGdqgUAAACQFTk8OPXp00ctWrRQ48aN7fYNCwtT06ZNrdqaNWumHTt2KC4uzuY8MTExio6OtroBAAAAQEo4NDgtWLBAO3fu1Lhx45LVPzIyUn5+flZtfn5+unv3ri5fvmxznnHjxsnX19dyK1So0GPXDQAAACBrcVhwOnPmjPr376958+bJ3d092fOZTCar+4Zh2Gw3GzJkiKKioiy3M2fOPHrRAAAAALKkbI5a8d9//62LFy+qWrVqlrb4+Hht3LhRU6ZMUUxMjJydna3m8ff3V2RkpFXbxYsXlS1bNuXOndvmetzc3OTm5pb6DwAAAABAluGw4NSoUSPt27fPqu21115TmTJlNHjw4EShSZKCgoL022+/WbX98ccfql69ulxcXNK0XgAAAABZl8OCk7e3typUqGDV5unpqdy5c1vahwwZonPnzmnu3LmSpN69e2vKlCkaMGCAevToobCwMM2cOVPz589P9/oBAAAAZB0OH1XvYSIiIhQeHm65X7RoUa1YsUKhoaGqUqWKPvroI02ePFnt2rVzYJUAAAAAMjuH7XGyJTQ01Or+nDlzEvWpV6+edu7cmT4FAQAAAIAy+B4nAAAAAMgICE4AAAAAYAfBCQAAAADsIDgBAAAAgB0EJwAAAACwg+AEAAAAAHYQnAAAAADADoITAAAAANhBcAIAAAAAOwhOAAAAAGAHwQkAAAAA7CA4AQAAAIAdBCcAAAAAsIPgBAAAAAB2EJwAAAAAwA6CEwAAAADYQXACAAAAADsITgAAAABgB8EJAAAAAOwgOAEAAACAHQQnAAAAALCD4AQAAAAAdhCcAAAAAMAOghMAAAAA2EFwAgAAAAA7CE4AAAAAYAfBCQAAAADsIDgBAAAAgB0EJwAAAACwg+AEAAAAAHYQnAAAAADADoITAAAAANhBcAIAAAAAOwhOAAAAAGAHwQkAAAAA7CA4AQAAAIAdBCcAAAAAsIPgBAAAAAB2EJwAAAAAwA6CEwAAAADYQXACAAAAADscGpymTZumSpUqycfHRz4+PgoKCtLKlSuT7B8aGiqTyZTodvjw4XSsGgAAAEBWk82RKy9YsKA++eQTlShRQpL07bffqnXr1tq1a5fKly+f5HxHjhyRj4+P5X7evHnTvFYAAAAAWZdDg1OrVq2s7o8dO1bTpk3T1q1bHxqc8uXLpxw5cqRxdQAAAABwj0OD0/3i4+P1888/69atWwoKCnpo36pVq+rOnTsqV66chg8frgYNGiTZNyYmRjExMZb70dHRqVYzAABpyelOlKNLAIBUkRm+zxwenPbt26egoCDduXNHXl5e+vXXX1WuXDmbfQMCAhQSEqJq1aopJiZG3333nRo1aqTQ0FDVrVvX5jzjxo3TqFGj0vIhAACQqnx9feXi6iad2ODoUgAg1bi4usnX19fRZTwyk2EYhiMLiI2NVXh4uK5fv66FCxfqm2++0YYNG5IMTw9q1aqVTCaTli5danO6rT1OhQoVUlRUlNV5UhnB0aNH1bNnT90q97wSPPM4uhwAeGxOty7L8+BShYSEqFSpUo4u54ly4cIFRUU9+b/QImM7ffq0xo4dq2HDhqlw4cKOLgeZnK+vr/z8/BxdhpXo6Gj5+vomKxukeI9TUgHFZDLJ3d1dJUqUUNGiRZO9PFdXV8vgENWrV9f27dv1f//3f5oxY0ay5n/22Wc1b968JKe7ubnJzc0t2fUAAJAR+Pn5Zbj/YCDzKly4MD9uAHakODi1adNGJpNJD+6oMreZTCbVrl1bixcvVs6cOVNckGEYVnuI7Nm1a5cCAgJSvB4AAAAASK4UX8dp9erVevrpp7V69WpFRUUpKipKq1ev1jPPPKNly5Zp48aNunLligYOHGh3WUOHDtWmTZt06tQp7du3T8OGDVNoaKheeeUVSdKQIUPUuXNnS/9JkyZp8eLFOnbsmA4cOKAhQ4Zo4cKF6tu3b0ofBgAAAAAkW4r3OPXv318hISGqWbOmpa1Ro0Zyd3dXz549deDAAU2aNEndunWzu6wLFy7o1VdfVUREhHx9fVWpUiWtWrVKTZo0kSRFREQoPDzc0j82NlYDBw7UuXPn5OHhofLly2v58uUKDg5O6cMAAAAAgGRLcXA6fvy4zROnfHx8dOLECUlSyZIldfnyZbvLmjlz5kOnz5kzx+r+oEGDNGjQoOQXCwAAAACpIMWH6lWrVk3vvfeeLl26ZGm7dOmSBg0apKefflqSdOzYMRUsWDD1qgQAAAAAB0rxHqeZM2eqdevWKliwoAoVKiSTyaTw8HAVK1ZMS5YskSTdvHlTH3zwQaoXCwAAAACOkOLgVLp0aR06dEi///67jh49KsMwVKZMGTVp0kROTvd2YLVp0ya16wQAAAAAh0lxcJLuDT3+3HPP6bnnnkvteiDJ6Q4XPASQOfB9BgDILB4pOK1du1Zr167VxYsXlZCQYDVt1qxZqVJYVuTr6ysXVzfpxAZHlwIAqcbF1U2+vr6OLgMAgMeS4uA0atQojR49WtWrV1dAQIBMJlNa1JUl+fn5ad53cxUVxS+0SFunT5/W2LFjNWzYMBUuXNjR5SCT8/X1lZ+fn6PLAADgsaQ4OE2fPl1z5szRq6++mhb1ZHl+fn78BwPppnDhwipVqpSjywAAAMjwUjwceWxsrNXFbwEAAAAgs0txcHr99df1ww8/pEUtAAAAAJAhpfhQvTt37igkJERr1qxRpUqV5OLiYjX9iy++SLXiAAAAACAjSHFw2rt3r6pUqSJJ2r9/v9U0BooAAAAAkBmlODitX78+LeoAAAAAgAwrxec4AQAAAEBWk6w9Tm3bttWcOXPk4+Ojtm3bPrTvokWLUqUwAAAAAMgokhWcfH19Lecv+fj4cC4TAAAAgCwlWcFp9uzZlr/nzJmTVrUAAAAAQIaU4nOcGjZsqOvXrydqj46OVsOGDVOjJgAAAADIUFIcnEJDQxUbG5uo/c6dO9q0aVOqFAUAAAAAGUmyhyPfu3ev5e+DBw8qMjLScj8+Pl6rVq1SgQIFUrc6AAAAAMgAkh2cqlSpIpPJJJPJZPOQPA8PD3355ZepWhwAAAAAZATJDk4nT56UYRgqVqyY/vrrL+XNm9cyzdXVVfny5ZOzs3OaFAkAAAAAjpTs4FS4cGFJUkJCQpoVAwAAAAAZUbKD04MOHjyo8PDwRANFPP/8849dFAAAAABkJCkOTidOnNALL7ygffv2yWQyyTAMSbJcFDc+Pj51KwQAAAAAB0vxcOT9+/dX0aJFdeHCBWXPnl0HDhzQxo0bVb16dYWGhqZBiQAAAADgWCne4xQWFqZ169Ypb968cnJykpOTk2rXrq1x48apX79+2rVrV1rUCQAAAAAOk+I9TvHx8fLy8pIk5cmTR+fPn5d0b/CII0eOpG51AAAAAJABpHiPU4UKFbR3714VK1ZMNWrU0Pjx4+Xq6qqQkBAVK1YsLWoEAAAAAIdKcXAaPny4bt26JUkaM2aMWrZsqTp16ih37txasGBBqhcIAAAAAI6W4uDUrFkzy9/FihXTwYMHdfXqVeXMmdMysh4AAAAAZCYpPsfJlly5cikyMlJ9+/ZNjcUBAAAAQIaSoj1OBw8e1Pr16+Xi4qKXXnpJOXLk0OXLlzV27FhNnz5dRYsWTas6AQAAAMBhkr3HadmyZapatareeust9e7dW9WrV9f69etVtmxZ7d69Wz///LMOHjyYlrUCAAAAgEMkOziNHTtWvXv3VnR0tCZMmKATJ06od+/eWrhwodavX6+WLVumZZ0AAAAA4DDJDk6HDh1Snz595OXlpX79+snJyUmTJk1S3bp107I+AAAAAHC4ZAen6Oho5ciRQ5KULVs2eXh4qFSpUmlVFwAAAABkGCkeHCIyMlKSZBiGjhw5Yrmmk1mlSpVSrzoAAAAAyABSFJwaNWokwzAs983nNZlMJhmGIZPJpPj4+NStEAAAAAAcLNnB6eTJk2lZBwAAAABkWMkOToULF07LOgAAAAAgw0r24BAAAAAAkFURnAAAAADADocGp2nTpqlSpUry8fGRj4+PgoKCtHLlyofOs2HDBlWrVk3u7u4qVqyYpk+fnk7VAgAAAMiqHBqcChYsqE8++UQ7duzQjh071LBhQ7Vu3VoHDhyw2f/kyZMKDg5WnTp1tGvXLg0dOlT9+vXTwoUL07lyAAAAAFlJioYjN7t7965CQ0N1/PhxdezYUd7e3jp//rx8fHzk5eWV7OW0atXK6v7YsWM1bdo0bd26VeXLl0/Uf/r06QoMDNSkSZMkSWXLltWOHTs0YcIEtWvX7lEeCgAAAADYleLgdPr0aT333HMKDw9XTEyMmjRpIm9vb40fP1537tx55EPn4uPj9fPPP+vWrVsKCgqy2ScsLExNmza1amvWrJlmzpypuLg4ubi4JJonJiZGMTExlvvR0dGPVB8AAACArCvFh+r1799f1atX17Vr1+Th4WFpf+GFF7R27doUF7Bv3z55eXnJzc1NvXv31q+//qpy5crZ7BsZGSk/Pz+rNj8/P929e1eXL1+2Oc+4cePk6+truRUqVCjFNQIAAADI2lIcnDZv3qzhw4fL1dXVqr1w4cI6d+5cigsoXbq0du/era1bt+qNN95Qly5ddPDgwST7m0wmq/uGYdhsNxsyZIiioqIstzNnzqS4RgAAAABZW4oP1UtISFB8fHyi9rNnz8rb2zvFBbi6uqpEiRKSpOrVq2v79u36v//7P82YMSNRX39/f0VGRlq1Xbx4UdmyZVPu3LltLt/NzU1ubm4prgsAAAAAzFK8x6lJkyaWwRmke3t6bt68qREjRig4OPixCzIMw+qcpPsFBQVp9erVVm1//PGHqlevbvP8JgAAAABIDSne4zRx4kQ1aNBA5cqV0507d9SxY0cdO3ZMefLk0fz581O0rKFDh6p58+YqVKiQbty4oQULFig0NFSrVq2SdO8wu3Pnzmnu3LmSpN69e2vKlCkaMGCAevToobCwMM2cOTPF6wUAAACAlEhxcMqfP792796t+fPna+fOnUpISFD37t31yiuvWA0WkRwXLlzQq6++qoiICPn6+qpSpUpatWqVmjRpIkmKiIhQeHi4pX/RokW1YsUKvfPOO/rqq6+UP39+TZ48maHIAQAAAKSpR7qOk4eHh7p166Zu3bo91spnzpz50Olz5sxJ1FavXj3t3LnzsdYLAAAAACmR4uC0dOlSm+0mk0nu7u4qUaKEihYt+tiFAQAAAEBGkeLg1KZNG5lMJssw4GbmNpPJpNq1a2vx4sXKmTNnqhUKAAAAAI6S4lH1Vq9eraefflqrV6+2XBtp9erVeuaZZ7Rs2TJt3LhRV65c0cCBA9OiXgAAAABIdyne49S/f3+FhISoZs2alrZGjRrJ3d1dPXv21IEDBzRp0qTHPv8JAAAAADKKFO9xOn78uHx8fBK1+/j46MSJE5KkkiVL6vLly49fHQAAAABkACkOTtWqVdN7772nS5cuWdouXbqkQYMG6emnn5YkHTt2TAULFky9KgEAAADAgVJ8qN7MmTPVunVrFSxYUIUKFZLJZFJ4eLiKFSumJUuWSJJu3rypDz74INWLBQAAAABHSHFwKl26tA4dOqTff/9dR48elWEYKlOmjJo0aSInp3s7sNq0aZPadQIAAACAwzzSBXBNJpOee+45Pffcc6ldDwAAAABkOI8UnG7duqUNGzYoPDxcsbGxVtP69euXKoUBAAAAQEaR4uC0a9cuBQcH699//9WtW7eUK1cuXb58WdmzZ1e+fPkITgAAAAAynRSPqvfOO++oVatWunr1qjw8PLR161adPn1a1apV04QJE9KiRgAAAABwqBQHp927d+vdd9+Vs7OznJ2dFRMTo0KFCmn8+PEaOnRoWtQIAAAAAA6V4uDk4uIik8kkSfLz81N4eLgkydfX1/I3AAAAAGQmKT7HqWrVqtqxY4dKlSqlBg0a6MMPP9Tly5f13XffqWLFimlRIwAAAAA4VIr3OH388ccKCAiQJH300UfKnTu33njjDV28eFEhISGpXiAAAAAAOFqK9jgZhqG8efOqfPnykqS8efNqxYoVaVIYAAAAAGQUKdrjZBiGSpYsqbNnz6ZVPQAAAACQ4aQoODk5OalkyZK6cuVKWtUDAAAAABlOis9xGj9+vN577z3t378/LeoBAAAAgAwnxaPqderUSf/++68qV64sV1dXeXh4WE2/evVqqhUHAAAAABlBioPTpEmT0qAMAAAAAMi4UhycunTpkhZ1AAAAAECGleJznCTp+PHjGj58uF5++WVdvHhRkrRq1SodOHAgVYsDAAAAgIwgxcFpw4YNqlixorZt26ZFixbp5s2bkqS9e/dqxIgRqV4gAAAAADhaioPT+++/rzFjxmj16tVydXW1tDdo0EBhYWGpWhwAAAAAZAQpDk779u3TCy+8kKg9b968XN8JAAAAQKaU4uCUI0cORUREJGrftWuXChQokCpFAQAAAEBGkuLg1LFjRw0ePFiRkZEymUxKSEjQli1bNHDgQHXu3DktagQAAAAAh0pxcBo7dqwCAwNVoEAB3bx5U+XKlVPdunVVs2ZNDR8+PC1qBAAAAACHSvF1nFxcXPT9999r9OjR2rVrlxISElS1alWVLFkyLeoDAAAAAIdLcXDasGGD6tWrp+LFi6t48eJpURMAAAAAZCgpPlSvSZMmCgwM1Pvvv6/9+/enRU0AAAAAkKGkODidP39egwYN0qZNm1SpUiVVqlRJ48eP19mzZ9OiPgAAAABwuBQHpzx58qhv377asmWLjh8/rv/973+aO3euihQpooYNG6ZFjQAAAADgUCkOTvcrWrSo3n//fX3yySeqWLGiNmzYkFp1AQAAAECG8cjBacuWLXrzzTcVEBCgjh07qnz58lq2bFlq1gYAAAAAGUKKR9UbOnSo5s+fr/Pnz6tx48aaNGmS2rRpo+zZs6dFfQAAAADgcCkOTqGhoRo4cKD+97//KU+ePFbTdu/erSpVqqRWbQAAAACQIaQ4OP35559W96OiovT999/rm2++0Z49exQfH59qxQEAAABARvDI5zitW7dOnTp1UkBAgL788ksFBwdrx44dqVkbAAAAAGQIKQpOZ8+e1ZgxY1SsWDG9/PLLypkzp+Li4rRw4UKNGTNGVatWTdHKx40bp6efflre3t7Kly+f2rRpoyNHjjx0ntDQUJlMpkS3w4cPp2jdAAAAAJBcyQ5OwcHBKleunA4ePKgvv/xS58+f15dffvlYK9+wYYP69OmjrVu3avXq1bp7966aNm2qW7du2Z33yJEjioiIsNxKliz5WLUAAAAAQFKSfY7TH3/8oX79+umNN95ItZCyatUqq/uzZ89Wvnz59Pfff6tu3boPnTdfvnzKkSNHqtQBAAAAAA+T7D1OmzZt0o0bN1S9enXVqFFDU6ZM0aVLl1K1mKioKElSrly57PatWrWqAgIC1KhRI61fvz7JfjExMYqOjra6AQAAAEBKJDs4BQUF6euvv1ZERIR69eqlBQsWqECBAkpISNDq1at148aNxyrEMAwNGDBAtWvXVoUKFZLsFxAQoJCQEC1cuFCLFi1S6dKl1ahRI23cuNFm/3HjxsnX19dyK1So0GPVCQAAACDrMRmGYTzqzEeOHNHMmTP13Xff6fr162rSpImWLl36SMvq06ePli9frs2bN6tgwYIpmrdVq1YymUw21x0TE6OYmBjL/ejoaBUqVEhRUVHy8fF5pFqBJ93Ro0fVs2dPhYSEqFSpUo4uBwDgIGwPkNVFR0fL19c3WdngkYcjl6TSpUtr/PjxOnv2rObPn//Iy3nrrbe0dOlSrV+/PsWhSZKeffZZHTt2zOY0Nzc3+fj4WN0AAAAAICUeKziZOTs7q02bNine22QYhvr27atFixZp3bp1Klq06COtf9euXQoICHikeQEAAADAnmSPqpcW+vTpox9++EFLliyRt7e3IiMjJUm+vr7y8PCQJA0ZMkTnzp3T3LlzJUmTJk1SkSJFVL58ecXGxmrevHlauHChFi5c6LDHAQAAACBzc2hwmjZtmiSpfv36Vu2zZ89W165dJUkREREKDw+3TIuNjdXAgQN17tw5eXh4qHz58lq+fLmCg4PTq2wAAAAAWYxDg1NyxqWYM2eO1f1BgwZp0KBBaVQRAAAAACSWKuc4AQAAAEBmRnACAAAAADsITgAAAABgB8EJAAAAAOwgOAEAAACAHQQnAAAAALCD4AQAAAAAdhCcAAAAAMAOghMAAAAA2EFwAgAAAAA7CE4AAAAAYAfBCQAAAADsIDgBAAAAgB0EJwAAAACwg+AEAAAAAHYQnAAAAADADoITAAAAANhBcAIAAAAAOwhOAAAAAGAHwQkAAAAA7CA4AQAAAIAdBCcAAAAAsIPgBAAAAAB2EJwAAAAAwA6CEwAAAADYQXACAAAAADsITgAAAABgB8EJAAAAAOwgOAEAAACAHQQnAAAAALCD4AQAAAAAdhCcAAAAAMAOghMAAAAA2EFwAgAAAAA7CE4AAAAAYAfBCQAAAADsIDgBAAAAgB0EJwAAAACwg+AEAAAAAHYQnAAAAADADoITAAAAANhBcAIAAAAAOxwanMaNG6enn35a3t7eypcvn9q0aaMjR47YnW/Dhg2qVq2a3N3dVaxYMU2fPj0dqgUAAACQVTk0OG3YsEF9+vTR1q1btXr1at29e1dNmzbVrVu3kpzn5MmTCg4OVp06dbRr1y4NHTpU/fr108KFC9OxcgAAAABZSTZHrnzVqlVW92fPnq18+fLp77//Vt26dW3OM336dAUGBmrSpEmSpLJly2rHjh2aMGGC2rVrl9YlAwAAAMiCMtQ5TlFRUZKkXLlyJdknLCxMTZs2tWpr1qyZduzYobi4uET9Y2JiFB0dbXUDAAAAgJTIMMHJMAwNGDBAtWvXVoUKFZLsFxkZKT8/P6s2Pz8/3b17V5cvX07Uf9y4cfL19bXcChUqlOq1AwAAAMjcMkxw6tu3r/bu3av58+fb7WsymazuG4Zhs12ShgwZoqioKMvtzJkzqVMwAAAAgCzDoec4mb311ltaunSpNm7cqIIFCz60r7+/vyIjI63aLl68qGzZsil37tyJ+ru5ucnNzS1V6wUAAACQtTh0j5NhGOrbt68WLVqkdevWqWjRonbnCQoK0urVq63a/vjjD1WvXl0uLi5pVSoAAACALMyhwalPnz6aN2+efvjhB3l7eysyMlKRkZG6ffu2pc+QIUPUuXNny/3evXvr9OnTGjBggA4dOqRZs2Zp5syZGjhwoCMeAgAAAIAswKHBadq0aYqKilL9+vUVEBBguf3444+WPhEREQoPD7fcL1q0qFasWKHQ0FBVqVJFH330kSZPnsxQ5AAAAADSjEPPcTIP6vAwc+bMSdRWr1497dy5Mw0qAgAAAIDEMsyoegAAAACQURGcAAAAAMCODDEcOQAAwOO4c+eO1TnRSJ7Tp09b/YvkCwwMlLu7u6PLQDoiOAEAgCdeeHi4evbs6egynlhjx451dAlPnJCQEJUqVcrRZSAdEZwAAMATLzAwUCEhIY4uA1lIYGCgo0tAOiM4AQCAJ567uzu//gNIUwwOAQAAAAB2EJwAAAAAwA6CEwAAAADYQXACAADIgg4ePKj69etbbgcPHnR0SUCGxuAQAAAAWUz9+vUTtb355puSpNDQ0PQtBnhCsMcJAAAgC3kwNLVu3fqh0wHcwx4nAACALOL+w/FmzZqlYsWKSZLeeecdnThxQt26dbP0K1eunENqBDIq9jgBAABkEebD8SRZQpOt+/f3A3APwQkAACCLefDwPLPg4OB0rgR4chCcAAAAspglS5bYbF+xYkU6VwI8OQhOAAAAWcTUqVMtf584ccJq2v337+8H4B4GhwAAAMgi7h/wwTwQRHBwcKI9TQwMASTGHicAAIAs5MHrND0YmriOE2AbwQkAACCLCQ0N1aBBg6zaBg0aRGgCHoLgBAAAkMXUr19f48ePt2obP348F78FHoLgBAAAkIXcH45MJpPatWsnk8lkczqA/zA4BAAAQBZx+PBhy99z5sxRkSJFJElvvfWWTp06pa5du1r6lSlTxgEVAhkXwQlPvDt37ig8PNzRZTxRTp8+bfUvUiYwMFDu7u6OLgMAUqx3796S7u1pMocmsyJFishkMskwDPXu3ZvznYAHEJzwxAsPD1fPnj0dXcYTaezYsY4u4YkUEhKiUqVKOboMAHhkbdu2tdneqlUrLV26NJ2rAZ4MBCc88QIDAxUSEuLoMpCFBAYGOroEAHgsixYt0ltvvZWo/bfffnNANcCTgeCEJ567uzu//gMAkAzTp09X7969ZRiGTp06ZXW43qlTp2QYhqUfAGsEJwAAgCzi/gEfunbtKpPJpFatWum3336zhKYH+wG4h+HIAQAAspD7B30wDENLly61Ck0MCgHYRnACAADIYkJDQxMdjjd9+nRCE/AQBCcgi9m4caPq169vuW3cuNHRJQEAHODmzZsPvQ/Amsm4f99sFhAdHS1fX19FRUXJx8fH0eUA6ephV4PnV0YAyDrYHgD3pCQbsMcJyCIe3EhWrFjxodMBAJnTg9/3tWvXfuh0APcwqh6QBdx/ON748eP1zDPPWO7/9ddfGjRokKVf3bp1070+AED62LFjh+XvKVOmqEKFCpb7+/fvV9++fS39qlevnu71ARkZh+oBWcD9vx7aOgTD3nQAQObA9gCwxqF6AGx68PA8M67XAQBZy4OH55nVqFEjnSsBnhwEJyAL2bdvn832w4cPp3MlAABH2rx5s832bdu2pXMlwJOD4ARkAaNHj7b8/ddff1lNu//+/f0AAJnPhAkTLH/v37/fatr99+/vB+AeznECsogHR0kqU6ZMoj1NHM8OAJnfg9uDGjVqJNrTxPYAWQXnOAFI5MGNIKEJALKmB7/vCU1A8hCcgCwkNDRUPXv2tGrr2bMnG0kAyGJCQ0M1dOhQq7ahQ4eyPQAewqGH6m3cuFGfffaZ/v77b0VEROjXX39VmzZtkuwfGhqqBg0aJGo/dOhQskcF41A9ZGVcKR4AIElNmjRRXFxconYXFxetXr3aARUBjvHEHKp369YtVa5cWVOmTEnRfEeOHFFERITlVrJkyTSqEMg87g9Nzs7OevXVV+Xs7GxzOgAg87o/NOXKlUtDhgxRrly5JElxcXFq0qSJI8sDMqxsjlx58+bN1bx58xTPly9fPuXIkSP1CwIyqX/++cfy97x581SwYEFJUvfu3XX27Fl16tTJ0q9EiRIOqREAkPbOnz9vCU2LFi2yBKZmzZrp6tWratu2reLi4nT+/Hnlz5/fkaUCGc4TeY5T1apVFRAQoEaNGmn9+vUP7RsTE6Po6GirG5DV9OjRQ9K9PU3m0GRWsGBBy54ncz8AQOZkPs81V65cltBkdn/bg+fDAnjCglNAQIBCQkK0cOFCLVq0SKVLl1ajRo20cePGJOcZN26cfH19LbdChQqlY8VAxmA+lbFjx442p7/44otW/QAAmdPt27clSb169bI5vVu3blb9APwnw1zHyWQy2R0cwpZWrVrJZDJp6dKlNqfHxMQoJibGcj86OlqFChVicAhkKQ0aNJBhGHJ2dtbatWsTTW/UqJHi4+NlMpns7sUFADy5WrZsqZs3bypXrlxatGhRoult27bV1atX5eXlpWXLljmgQiB9PTGDQ6SGZ599VseOHUtyupubm3x8fKxuQFbz9ddfS5Li4+N19uxZq2lnz55VfHy8VT8AQOYUEhIiSbp69aquXr1qNe3+NnM/AP9x6OAQqWHXrl0KCAhwdBlAhnb/gA+dOnWSs7OzXnzxRf3888+W0PRgPwBA5pM/f365uLgoLi5Obdu2Va5cudStWzfNmjXLEppcXFwYGAKwwaHB6ebNm1ajfZ08eVK7d+9Wrly5FBgYqCFDhujcuXOaO3euJGnSpEkqUqSIypcvr9jYWM2bN08LFy7UwoULHfUQgCdGaGioZcjx+Ph4LViwINF0AEDmt3r1asuQ5FevXtWECRMs07iOE5A0hwanHTt2WF3QdsCAAZKkLl26aM6cOYqIiFB4eLhlemxsrAYOHKhz587Jw8ND5cuX1/LlyxUcHJzutQNPotDQUP3zzz/q0aOHDMOQyWTS119/zZ4mAMhiVq9erfPnz6tnz566ffu2PDw8FBISwp4m4CEcGpzq16//0FG85syZY3V/0KBBGjRoUBpXBWRuV69etXzuDMNIdIw7ACBriI2N1e3btxUfH6/bt28rNjbW0SUBGVqGGVUvvaRk5AwgszEfqmcLh+oBQNZhHm31QYyuiqwmS42qByB5HgxNQUFBD50OAMic7g9Nbm5u6tWrl9zc3CTdOxLh/tMoAPzniR9VD4B9f/31l+XvyZMnq1KlSpb7e/fuVb9+/Sz9nnnmmXSvDwCQPk6dOmUJTQsWLJC/v78k6eWXX1ZkZKQ6dOggwzB06tQpFSlSxIGVAhkPe5yALOD+cwPvD00P3uccQgDI3Lp37y7p3p4mc2gy8/f3t+x5MvcD8B+CE5CFPHh4nln16tXTuRIAgCOYr93XtWtXm9NfeeUVq34A/kNwArKQsLAwm+07duxI50oAAI7g7OwsKfHIxWbff/+9VT8A/yE4AVnA+PHjLX/v3bvXatr99+/vBwDIfGbOnClJiomJUWRkpNW0yMhIxcTEWPUD8B8GhwCygPsHfDAPBFG9evVEe5oYGAIAMrciRYrIZDLJMAx16NBBbm5ueuWVV/T9999bQpPJZGJgCMAGruMEZCFcxwkAIHEdJ8CM6zgBsCk0NFQDBw60ahs4cCChCQCymPXr12vy5MlWbZMnTyY0AQ/BHicgC2nYsKESEhIStTs5OWndunUOqAgA4AgtW7bUzZs3E7V7eXlp2bJlDqgIcAz2OAFI5P7QlD17dr311lvKnj27JCkhIUENGzZ0ZHkAgHRyf2gqUqSIPv74Y8s5TTdv3lTLli0dWB2QcTE4BJAFhIeHW0LTTz/9pHz58kmS2rVrp4sXL+qll15SQkKCwsPDFRgY6MhSAQBp6NKlS5bQtHTpUssv7DVr1lR0dLSef/553bx5U5cuXVLevHkdWSqQ4bDHCcgCzFeAz549uyU0meXLl8+y54krxQNA5ta3b19J9/Y0PXhYko+PjwoXLmzVD8B/CE5AFhAXFycp6WDUuXNnq34AgMwpKipKktSzZ0+b083bCXM/AP8hOAFZgIuLi6SkL2g4d+5cq34AgMzJ19dXkhQSEmJzunk7Ye4H4D8EJyALMG8I//33X128eNFq2sWLF/Xvv/9a9QMAZE5TpkyRJJ06dUrR0dFW06Kjo3X69GmrfgD+w+AQQBYQGBgoJycnJSQk6KWXXlL27NnVuXNnzZ071xKanJycGBgCADK5vHnzysvLSzdv3tTzzz+vwoULq3v37po5c6YlNHl5eTEwBGAD13ECshCu4wQAkLiOE2CWkmxAcAKymPDwcHXv3l1xcXFycXHRzJkz2dMEAFnQpUuX1LdvX0VFRcnX11dTpkxhTxOynJRkAw7VA7IYLy8vFShQQFeuXFHu3Lnl5eXl6JIAAA7g5eWloKAgnT17VgULFmR7ANjBHicgC2nbtq2uXr2aqD1XrlxatGiRAyoCADjCsGHDtGXLlkTttWrV0tixYx1QEeAYKckGjKoHZBH3h6Zy5crp888/V7ly5SRJV69eVdu2bR1ZHgAgnZhDk4uLizp27Kh58+apY8eOcnFx0ZYtWzRs2DBHlwhkSByqB2QBV69etYSmZcuWWQ7HqFatmm7evKmWLVta+uTKlcuRpQIA0tDt27ctoWn58uVydXWVdO+CuF27dlWLFi20ZcsW3b59Wx4eHg6uFshY2OMEZAEDBgyQdG9P04PHsHt5eals2bJW/QAAmdOMGTMkSS+++KIlNJm5urqqffv2Vv0A/IfgBGQBV65ckSR1797d5vTXXnvNqh8AIHM6e/asJCk4ONjmdHO7uR+A/xCcgCwgd+7ckqSZM2fanD579myrfgCAzKlgwYKSpBUrVticbm439wPwH4ITkAV88cUXkqSDBw8muuDhzZs3dejQIat+AIDMqVevXpKkn3/+WbGxsVbTYmNj9csvv1j1A/AfghOQBeTKlcsy6EPLli31xhtv6K+//tIbb7yhli1bJuoDAMicPDw8VKtWLcXFxalFixaaMWOGzpw5oxkzZqhFixaKi4tTrVq1GBgCsIHrOAFZCNdxAgBIXMcJMEtJNiA4AVnM0aNH1bNnT8v9kJAQlSpVyoEVAQAcISoqSsOGDdOFCxfk5+ensWPHytfX19FlAemK4PQQBCdkZU2aNFFcXFyidhcXF61evdoBFQEAHGH69On6+eefFR8fb2lzdnbWiy++qN69ezuwMiB9pSQbcI4TkEXcH5py5cqlIUOGWM5piouLU5MmTRxZHgAgnUyfPl0LFiyQj4+PBg4cqIULF2rgwIHy8fHRggULNH36dEeXCGRI7HECsoDz58+rY8eOkqRFixZZDQJx9epVtW3bVpL0ww8/KH/+/A6pEQCQ9mJjY9W8eXP5+Pjo559/VrZs2SzT7t69qxdffFHR0dFauXJlogvkApkRe5wAWDGf02Rr5Lz72+4/9wkAkPksWbJE8fHx6t69u1VokqRs2bKpW7duio+P15IlSxxUIZBxEZyALOD27duSkr4uR7du3az6AQAyp/Pnz0uSgoKCbE43t5v7AfgPwQnIAszX45gxY4bN6bNmzbLqBwDInMyHY4eFhdmcbm7nsG0gMYITkAWEhIRIunc+04PXcbq/zdwPAJA5tW7dWs7Ozpo5c6bu3r1rNe3u3buaNWuWnJ2d1bp1awdVCGRcBCcgC8ifP79cXFwk3bsIbtu2bbVs2TLL39K9Icn5hREAMjdXV1e9+OKLunbtml588UX99ttvunz5sn777TerdgaGABJjVD0gC+E6TgAAies4AWZcAPchCE7I6s6fP6+ePXvq9u3b8vDwUEhICHuaACALio2N1ZIlS3T+/Hnlz59frVu3Zk8TspyUZINsD50KINPJmTOnGjdurLNnz6pgwYLKmTOno0sCADhAbGysdu/erfPnz+vixYtq3rw5wQl4CIee47Rx40a1atVK+fPnl8lk0uLFi+3Os2HDBlWrVk3u7u4qVqwYV7cGUmDYsGFq3ry5Fi9erB07dmjx4sVq3ry5hg0b5ujSAADpqHfv3mrZsqW2bNmikydPasuWLWrZsiWH6QEP4dDgdOvWLVWuXFlTpkxJVv+TJ08qODhYderU0a5duzR06FD169dPCxcuTONKgSffsGHDtGXLFrm4uKhjx46aN2+eOnbsKBcXF23ZsoXwBABZRO/evXX48GGZTCY1bdpU33zzjZo2bSqTyaTDhw8TnoAkZJhznEwmk3799Ve1adMmyT6DBw/W0qVLdejQIUtb7969tWfPniSvR/AgznFCVnT79m01b95cLi4uWr58udWhGLGxsWrRooXi4uK0cuVKruUEAJnYzZs31bJlS5lMJq1cuVLu7u6WaXfu3FHz5s1lGIaWLVsmLy8vB1YKpI+UZIMnajjysLAwNW3a1KqtWbNm2rFjh82RwiQpJiZG0dHRVjcgqzFf+NbWELOurq5q3769VT8AQOY0btw4SfdGWb0/NEmSu7u7GjdubNUPwH+eqOAUGRkpPz8/qzY/Pz/dvXtXly9ftjnPuHHj5Ovra7kVKlQoPUoFMpSzZ89KkoKDg21ON7eb+wEAMqfz589Lkl566SWb01988UWrfgD+80QFJ+neIX33Mx9p+GC72ZAhQxQVFWW5nTlzJs1rBDKaggULSpJWrFhhc7q53dwPAJA5mS8/8dNPP9mc/vPPP1v1A/CfJyo4+fv7KzIy0qrt4sWLypYtm3Lnzm1zHjc3N/n4+FjdgKymV69eku5tEGNjY62mxcbG6pdffrHqBwDInIYMGSJJWr16te7cuWM17c6dO1qzZo1VPwD/eaKCU1BQkFavXm3V9scff6h69epycXFxUFVAxufh4aFatWopLi5OLVq00IwZM3TmzBnNmDHDMjBErVq1GBgCADI5Ly8vlSlTRoZhqHnz5ho7dqyOHj2qsWPHWgaGKFOmDANDADY4dFS9mzdv6p9//pEkVa1aVV988YUaNGigXLlyKTAwUEOGDNG5c+c0d+5cSfeGI69QoYJ69eqlHj16KCwsTL1799b8+fPVrl27ZK2TUfWQlZmHJH9QrVq1NHbsWAdUBABwBPOQ5A8qU6YM18hElpKSbODQ4BQaGqoGDRokau/SpYvmzJmjrl276tSpUwoNDbVM27Bhg9555x0dOHBA+fPn1+DBg1N0vQGCE7K627dva8aMGTp79qwKFiyoXr16sacJALKgmzdvaty4cTp//rzy58+vIUOGsKcJWc4TE5wcgeAEAAAAQMrE13ECAAAAAEcgOAEAAACAHQQnAAAAALCD4AQAAAAAdhCcAAAAAMAOghMAAAAA2EFwAgAAAAA7CE4AAAAAYAfBCQAAAADsIDgBAAAAgB0EJwAAAACwg+AEAAAAAHYQnAAAAADAjmyOLiC9GYYhSYqOjnZwJQAAAAAcyZwJzBnhYbJccLpx44YkqVChQg6uBAAAAEBGcOPGDfn6+j60j8lITrzKRBISEnT+/Hl5e3vLZDI5uhzAIaKjo1WoUCGdOXNGPj4+ji4HAOAgbA+Q1RmGoRs3bih//vxycnr4WUxZbo+Tk5OTChYs6OgygAzBx8eHDSUAgO0BsjR7e5rMGBwCAAAAAOwgOAEAAACAHQQnIAtyc3PTiBEj5Obm5uhSAAAOxPYASL4sNzgEAAAAAKQUe5wAAAAAwA6CEwAAAADYQXACAAAAADsITgDSTf369fX2229b7v/7779q166dfHx8ZDKZdP36dYfVBgBIH6dOnZLJZNLu3bstbVu2bFHFihXl4uKiNm3aOKw24GEITkA66dq16xO5MUiq7tDQ0McOO99++602bdqkP//8UxEREcm+AB0APKke/AHJbPHixTKZTOlfUAqYTCYtXrw4UXtqbN8GDBigKlWq6OTJk5ozZ85jLQtIKwQnAJKk2NjYdF/n8ePHVbZsWVWoUEH+/v4Z/j8NAJDZGYahu3fvpvt6jx8/roYNG6pgwYLKkSNHuq8fSA6CE5BBbNiwQc8884zc3NwUEBCg999/37Lx+u2335QjRw4lJCRIknbv3i2TyaT33nvPMn+vXr308ssvW+7/+eefqlu3rjw8PFSoUCH169dPt27dskwvUqSIxowZo65du8rX11c9evR4rPqvXLmil19+WQULFlT27NlVsWJFzZ8/P8n+9evX1+eff66NGzfKZDKpfv36j7V+AMhMRo4cqSpVqmjGjBkqVKiQsmfPrhdffNFqL795T8+oUaOUL18++fj4qFevXlY/hBmGofHjx6tYsWLy8PBQ5cqV9csvv1imm48e+P3331W9enW5ublp06ZNj1X7qlWrVLt2beXIkUO5c+dWy5Ytdfz4cZt9zYftXblyRd26dZPJZGKPEzIsghOQAZw7d07BwcF6+umntWfPHk2bNk0zZ87UmDFjJEl169bVjRs3tGvXLkn3QlaePHm0YcMGyzJCQ0NVr149SdK+ffvUrFkztW3bVnv37tWPP/6ozZs3q2/fvlbr/eyzz1ShQgX9/fff+uCDDx7rMdy5c0fVqlXTsmXLtH//fvXs2VOvvvqqtm3bZrP/okWL1KNHDwUFBSkiIkKLFi16rPUDQGbzzz//6KefftJvv/2mVatWaffu3erTp49Vn7Vr1+rQoUNav3695s+fr19//VWjRo2yTB8+fLhmz56tadOm6cCBA3rnnXfUqVMnq+2HJA0aNEjjxo3ToUOHVKlSpceq+9atWxowYIC2b9+utWvXysnJSS+88ILlx7/7FSpUSBEREfLx8dGkSZMUERGh//3vf4+1fiDNGADSRZcuXYzWrVvbnDZ06FCjdOnSRkJCgqXtq6++Mry8vIz4+HjDMAzjqaeeMiZMmGAYhmG0adPGGDt2rOHq6mpER0cbERERhiTj0KFDhmEYxquvvmr07NnTah2bNm0ynJycjNu3bxuGYRiFCxc22rRpk6y6nZ2dDU9PT6ubu7u7Icm4du1akvMGBwcb7777ruV+vXr1jP79+1vu9+/f36hXr57dGgAgs3jwe9Ds119/Ne7/b9mIESMMZ2dn48yZM5a2lStXGk5OTkZERIRhGPe+n3PlymXcunXL0mfatGmWbcfNmzcNd3d3488//7RaV/fu3Y2XX37ZMAzDWL9+vSHJWLx4sd3aJRnu7u6JtgfZsmVLcvtmGIZx8eJFQ5Kxb98+wzAM4+TJk4YkY9euXZY+vr6+xuzZs+3WADhSNgdmNgD/36FDhxQUFGR1jk+tWrV08+ZNnT17VoGBgapfv75CQ0M1YMAAbdq0SWPGjNHChQu1efNmXb9+XX5+fipTpowk6e+//9Y///yj77//3rI8wzCUkJCgkydPqmzZspKk6tWrJ6u+Bg0aaNq0aVZt27ZtU6dOnSz34+Pj9cknn+jHH3/UuXPnFBMTo5iYGHl6ej7y8wIAWVlgYKAKFixouR8UFKSEhAQdOXJE/v7+kqTKlSsre/bsVn1u3rypM2fO6OLFi7pz546aNGlitdzY2FhVrVrVqi2524OJEyeqcePGVm2DBw9WfHy85f7x48f1wQcfaOvWrbp8+bJlT1N4eLgqVKiQrPUAGRHBCcgADMNINDCCYRiSZGmvX7++Zs6cqT179sjJyUnlypVTvXr1tGHDBl27ds1ymJ4kJSQkqFevXurXr1+idQUGBlr+Tm6o8fT0VIkSJazazp49a3X/888/18SJEzVp0iRVrFhRnp6eevvttx0y6AQAZFQ+Pj6KiopK1H79+nX5+Pg8dF7z9iA5A+mYTCZLYFm+fLkKFChgNd3Nzc3qfnK3B/7+/om2B97e3lbnXrVq1UqFChXS119/rfz58yshIUEVKlRge4AnHsEJyADKlSunhQsXWgWoP//8U97e3paNnfk8p0mTJqlevXoymUyqV6+exo0bp2vXrql///6W5T311FM6cOBAoo1bWtq0aZNat25t2QuVkJCgY8eOWfZuAQCkMmXKaOXKlYnat2/frtKlS1u1hYeH6/z588qfP78kKSwsTE5OTipVqpSlz549e3T79m15eHhIkrZu3SovLy8VLFhQOXPmlJubm8LDw61+XEtLV65c0aFDhzRjxgzVqVNHkrR58+Z0WTeQ1hgcAkhHUVFR2r17t9UtPDxcb775ps6cOaO33npLhw8f1pIlSzRixAgNGDBATk73Pqa+vr6qUqWK5s2bZxmBrm7dutq5c6eOHj1qNSrd4MGDFRYWpj59+mj37t06duyYli5dqrfeeivNHluJEiW0evVq/fnnnzp06JB69eqlyMjINFsfADyJ3nzzTR0/flx9+vTRnj17dPToUX311VeaOXOm1UipkuTu7q4uXbpoz5492rRpk/r166eXXnrJcpiedO+wu+7du+vgwYNauXKlRowYob59+8rJyUne3t4aOHCg3nnnHX377bc6fvy4du3apa+++krffvttmjy+nDlzKnfu3AoJCdE///yjdevWacCAAWmyLiC9sccJSEehoaGJjivv0qWL5syZoxUrVui9995T5cqVlStXLnXv3l3Dhw+36tugQQPt3LnTEpJy5sypcuXK6fz581Z7dipVqqQNGzZo2LBhqlOnjgzDUPHixdN0pKIPPvhAJ0+eVLNmzZQ9e3b17NlTbdq0sXlICgBkVUWKFNGmTZs0bNgwNW3aVHfu3FGpUqU0Z84cvfjii1Z9S5QoobZt2yo4OFhXr15VcHCwpk6datWnUaNGKlmypOrWrauYmBh16NBBI0eOtEz/6KOPlC9fPo0bN04nTpxQjhw59NRTT2no0KFp8vicnJy0YMEC9evXTxUqVFDp0qU1efJkLjmBTMFkmE+kAAAAQIYwcuRILV68WLt3706yT9euXXX9+nUtXrw43eoCsjIO1QMAAAAAOwhOAAAAAGAHh+oBAAAAgB3scQIAAAAAOwhOAAAAAGAHwQkAAAAA7CA4AQAAAIAdBCcAAAAAsIPgBABIF4sXL1aJEiXk7Oyst99+29Hl2DRnzhzlyJHD0WVYcfTzlhGfEwBwBIITAKSzyMhI9e/fXyVKlJC7u7v8/PxUu3ZtTZ8+Xf/++6+jy0szvXr1Uvv27XXmzBl99NFHNvsUKVJEJpNJW7dutWp/++23Vb9+/XSoMuNJyfNmMpnk4eGhMmXK6LPPPlNKrzhSpEgRTZo0yartf//7n44ePfqo5QNAppHN0QUAQFZy4sQJ1apVSzly5NDHH3+sihUr6u7duzp69KhmzZql/Pnz6/nnn7c5b1xcnFxcXNK54tRx8+ZNXbx4Uc2aNVP+/Pkf2tfd3V2DBw/Whg0b0qm6tPeor11KnrfRo0erR48eunPnjtasWaM33nhDPj4+6tWr16OWLUny8PCQh4fHYy0DADID9jgBQDp68803lS1bNu3YsUMvvfSSypYtq4oVK6pdu3Zavny5WrVqZelrMpk0ffp0tW7dWp6enhozZowkadq0aSpevLhcXV1VunRpfffdd5Z5Tp06JZPJpN27d1varl+/LpPJpNDQUElSaGioTCaTli9frsqVK8vd3V01atTQvn37LPOcPn1arVq1Us6cOeXp6any5ctrxYoVST6ua9euqXPnzsqZM6eyZ8+u5s2b69ixY5b1eXt7S5IaNmxoVYstvXr10tatWx+6vvr16yc6bK1Nmzbq2rWr5X6RIkU0ZswYde7cWV5eXipcuLCWLFmiS5cuqXXr1vLy8lLFihW1Y8eORMtfvHixSpUqJXd3dzVp0kRnzpyxmv7bb7+pWrVqcnd3V7FixTRq1CjdvXvXMj2p1y4tnzdvb2/5+/urSJEiev3111WpUiX98ccflunHjx9X69at5efnJy8vLz399NNas2aN1XN6+vRpvfPOO5a9V1LiQ/VGjhypKlWq6LvvvlORIkXk6+urDh066MaNG5Y+N27c0CuvvCJPT08FBARo4sSJiV6zqVOnqmTJkpa9ru3bt0/ysQFARkBwAoB0cuXKFf3xxx/q06ePPD09bfYx/2fVbMSIEWrdurX27dunbt266ddff1X//v317rvvav/+/erVq5dee+01rV+/PsX1vPfee5owYYK2b9+ufPny6fnnn1dcXJwkqU+fPoqJidHGjRu1b98+ffrpp/Ly8kpyWV27dtWOHTu0dOlShYWFyTAMBQcHKy4uTjVr1tSRI0ckSQsXLlRERIRq1qyZ5LKKFCmi3r17a8iQIUpISEjx47rfxIkTVatWLe3atUstWrTQq6++qs6dO6tTp07auXOnSpQooc6dO1sd0vbvv/9q7Nix+vbbb7VlyxZFR0erQ4cOlum///67OnXqpH79+ungwYOaMWOG5syZo7Fjx1qt+8HXzpbUfN7MDMNQaGioDh06ZLWX6+bNmwoODtaaNWu0a9cuNWvWTK1atVJ4eLgkadGiRSpYsKBGjx6tiIgIRUREJLmO48ePa/HixVq2bJmWLVumDRs26JNPPrFMHzBggLZs2aKlS5dq9erV2rRpk3bu3GmZvmPHDvXr10+jR4/WkSNHtGrVKtWtW9fuYwMAhzIAAOli69athiRj0aJFVu25c+c2PD09DU9PT2PQoEGWdknG22+/bdW3Zs2aRo8ePazaXnzxRSM4ONgwDMM4efKkIcnYtWuXZfq1a9cMScb69esNwzCM9evXG5KMBQsWWPpcuXLF8PDwMH788UfDMAyjYsWKxsiRI5P1uI4ePWpIMrZs2WJpu3z5suHh4WH89NNPNmtISuHChY2JEycaFy9eNLy9vY25c+cahmEY/fv3N+rVq2fpV69ePaN///5W87Zu3dro0qWL1bI6depkuR8REWFIMj744ANLW1hYmCHJiIiIMAzDMGbPnm1IMrZu3Wrpc+jQIUOSsW3bNsMwDKNOnTrGxx9/bLXu7777zggICLDct/XaPSi1nzdXV1fD09PTcHFxMSQZ7u7uVsu2pVy5csaXX35ptZyJEyda9Zk9e7bh6+truT9ixAgje/bsRnR0tKXtvffeM2rUqGEYhmFER0cbLi4uxs8//2yZfv36dSN79uyW12zhwoWGj4+P1TIAIKNjjxMApLMH9yr99ddf2r17t8qXL6+YmBiradWrV7e6f+jQIdWqVcuqrVatWjp06FCK6wgKCrL8nStXLpUuXdqynH79+mnMmDGqVauWRowYob179ya5nEOHDilbtmyqUaOGpS137txWy0upvHnzauDAgfrwww8VGxv7SMuQpEqVKln+9vPzkyRVrFgxUdvFixctbdmyZbN63suUKaMcOXJYHsvff/+t0aNHy8vLy3Lr0aOHIiIirAb3ePC1e1BqP2/vvfeedu/erQ0bNqhBgwYaNmyY1R6qW7duadCgQSpXrpxy5MghLy8vHT582LLHKSWKFCliOYxQkgICAizP4YkTJxQXF6dnnnnGMt3X11elS5e23G/SpIkKFy6sYsWK6dVXX9X333+fqQdGAZA5EJwAIJ2UKFFCJpNJhw8ftmovVqyYSpQoYfMEfFuH9D0YvAzDsLQ5OTlZ2szMh98lh3k5r7/+uk6cOKFXX31V+/btU/Xq1fXll1/anMdIYuS2++t6FAMGDNDt27c1derURNOcnJwSrdfW47z/UDVzLbbaHjwk0Fbd9/cdNWqUdu/ebbnt27dPx44dk7u7u6V/UodjmqX285YnTx6VKFFCQUFBWrhwoSZOnGh1DtN7772nhQsXauzYsdq0aZN2796tihUrPlIwfXCgC5PJZHkOzY/L1vvUzNvbWzt37tT8+fMVEBCgDz/8UJUrV9b169dTXAsApBeCEwCkk9y5c6tJkyaaMmWKbt269UjLKFu2rDZv3mzV9ueff6ps2bKS7u2pkWR1fsr9A0Xc7/4hv69du6ajR4+qTJkylrZChQqpd+/eWrRokd599119/fXXNpdTrlw53b17V9u2bbO0XblyRUePHrXU9Si8vLz0wQcfaOzYsYqOjraaljdvXqvHGB8fr/379z/yuu539+5dqwEjjhw5ouvXr1uem6eeekpHjhxRiRIlEt3MwTU50up5k6ScOXPqrbfe0sCBAy2BZdOmTeratateeOEFVaxYUf7+/jp16pTVfK6uroqPj3+sdRcvXlwuLi7666+/LG3R0dGWQS/MsmXLpsaNG2v8+PHau3evTp06pXXr1j3WugEgLRGcACAdTZ06VXfv3lX16tX1448/6tChQzpy5IjmzZunw4cPy9nZ+aHzv/fee5ozZ46mT5+uY8eO6YsvvtCiRYs0cOBASfeGjn722Wf1ySef6ODBg9q4caOGDx9uc1mjR4/W2rVrtX//fnXt2lV58uRRmzZtJN27btLvv/+ukydPaufOnVq3bl2S/5kvWbKkWrdurR49emjz5s3as2ePOnXqpAIFCqh169aP/mRJ6tmzp3x9fTV//nyr9oYNG2r58uVavny5Dh8+rDfffDPV9la4uLjorbfe0rZt27Rz50699tprevbZZy2Hnn344YeaO3euRo4cqQMHDujQoUP68ccfk3yek5KWz5t0b4CPI0eOaOHChZLu7fFctGiRdu/erT179qhjx46J9rQVKVJEGzdu1Llz53T58uVHWq+3t7e6dOmi9957T+vXr9eBAwfUrVs3OTk5WfZCLVu2TJMnT9bu3bt1+vRpzZ07VwkJCVaH8wFARkNwAoB0VLx4ce3atUuNGzfWkCFDVLlyZcthcAMHDkzyAqdmbdq00f/93//ps88+U/ny5TVjxgzNnj3b6uKws2bNUlxcnKpXr67+/fsnORT2J598ov79+6tatWqKiIjQ0qVL5erqKuneHpw+ffqobNmyeu6551S6dGmbh8yZzZ49W9WqVVPLli0VFBQkwzC0YsWKx77ulIuLiz766CPduXPHqr1bt27q0qWLOnfurHr16qlo0aJq0KDBY63LLHv27Bo8eLA6duyooKAgeXh4aMGCBZbpzZo107Jly7R69Wo9/fTTevbZZ/XFF1+ocOHCKV5XWj1v0r29cq+++qpGjhyphIQETZw4UTlz5lTNmjXVqlUrNWvWTE899ZTVPKNHj9apU6dUvHhxy97LR/HFF18oKChILVu2VOPGjVWrVi2VLVvWcihjjhw5tGjRIjVs2FBly5bV9OnTNX/+fJUvX/6xHjMApCWTkdRB1gCATCk0NFQNGjTQtWvXrK7PA6SVW7duqUCBAvr888/VvXt3R5cDAI8km6MLAAAAmcuuXbt0+PBhPfPMM4qKitLo0aMlKVUOQQQARyE4AQCAVDdhwgQdOXJErq6uqlatmjZt2qQ8efI4uiwAeGQcqgcAAAAAdjA4BAAAAADYQXACAAAAADsITgAAAABgB8EJAAAAAOwgOAEAAACAHQQnAAAAALCD4AQAAAAAdhCcAAAAAMCO/wdSAV83bmtthgAAAABJRU5ErkJggg==",
      "text/plain": [
       "<Figure size 1000x600 with 1 Axes>"
      ]
     },
     "metadata": {},
     "output_type": "display_data"
    }
   ],
   "source": [
    "# Step 1: Create Two Groups (Half and Half) for Number of Ratings\n",
    "numDat['Ratings Group'] = pd.qcut(\n",
    "    numDat['Number of ratings'], \n",
    "    q=2,  # Divide into 2 groups\n",
    "    labels=['Lower Half', 'Upper Half']\n",
    ")\n",
    "\n",
    "# Step 2: Extract Distributions of Average Rating for Each Group\n",
    "group_distributions = [\n",
    "    numDat[numDat['Ratings Group'] == group]['Average Rating']\n",
    "    for group in numDat['Ratings Group'].unique()\n",
    "]\n",
    "\n",
    "# Step 3: Perform Levene's Test to Compare Variances of Average Rating Between Groups\n",
    "stat, p_value = levene(*group_distributions)  # Unpack the list of distributions\n",
    "print(f\"Levene's Test Statistic: {stat:.4f}, P-value: {p_value:.4f}\")\n",
    "\n",
    "# Interpretation\n",
    "if p_value < 0.005:\n",
    "    print(\"The variances are significantly different (reject the null hypothesis).\")\n",
    "else:\n",
    "    print(\"The variances are not significantly different (fail to reject the null hypothesis).\")\n",
    "\n",
    "# Step 4: Visualize the Distributions Using Boxplots\n",
    "plt.figure(figsize=(10, 6))\n",
    "sns.boxplot(x='Ratings Group', y='Average Rating', data=numDat)\n",
    "plt.title('Distribution of Average Rating Across Halves of Number of Ratings')\n",
    "plt.xlabel('Groups of Number of Ratings')\n",
    "plt.ylabel('Average Rating')\n",
    "plt.show()\n"
   ]
  },
  {
   "cell_type": "markdown",
   "metadata": {},
   "source": [
    "The Number of Ratings significantly impacts the variance of the distributions of Average Rating.$\\newline$"
   ]
  },
  {
   "cell_type": "code",
<<<<<<< HEAD
   "execution_count": 13,
=======
   "execution_count": 65,
>>>>>>> refs/remotes/origin/master
   "metadata": {},
   "outputs": [
    {
     "name": "stdout",
     "output_type": "stream",
     "text": [
      "Correlation between Number of Ratings and Average Rating: 0.0545\n"
     ]
    }
   ],
   "source": [
    "# Calculate the correlation\n",
    "correlation = numDat['Number of ratings'].corr(numDat['Average Rating'])\n",
    "\n",
    "# Print the result\n",
    "print(f\"Correlation between Number of Ratings and Average Rating: {correlation:.4f}\")"
   ]
  },
  {
   "cell_type": "code",
<<<<<<< HEAD
   "execution_count": 14,
=======
   "execution_count": 69,
>>>>>>> refs/remotes/origin/master
   "metadata": {},
   "outputs": [
    {
     "name": "stdout",
     "output_type": "stream",
     "text": [
      "Mean Number of Ratings for Male Professors: 18.89\n",
      "Mean Number of Ratings for Female Professors: 17.61\n"
     ]
    }
   ],
   "source": [
    "# Calculate the mean Number of Ratings for Male and Female Professors\n",
    "mean_male = numDat[numDat['Male Professor'] == 1]['Number of ratings'].mean()\n",
    "mean_female = numDat[numDat['Female Professor'] == 1]['Number of ratings'].mean()\n",
    "\n",
    "# Print the results\n",
    "print(f\"Mean Number of Ratings for Male Professors: {mean_male:.2f}\")\n",
    "print(f\"Mean Number of Ratings for Female Professors: {mean_female:.2f}\")"
   ]
  },
  {
   "cell_type": "markdown",
   "metadata": {},
   "source": [
    "Here we see that Number of Ratings in a confound because its related to both the Dependent variable (Variance of distribution of average rating) and the Independent variable (Female and Male) "
   ]
  },
  {
   "cell_type": "markdown",
   "metadata": {},
   "source": [
    "#### Number of ratings coming from online classes as a confound"
   ]
  },
  {
   "cell_type": "markdown",
   "metadata": {},
   "source": [
    "Does number of ratings coming from online classes impact the distributions of average rating of professors?"
   ]
  },
  {
   "cell_type": "code",
<<<<<<< HEAD
   "execution_count": 15,
=======
   "execution_count": 17,
>>>>>>> refs/remotes/origin/master
   "metadata": {},
   "outputs": [
    {
     "name": "stdout",
     "output_type": "stream",
     "text": [
<<<<<<< HEAD
      "count    7105.000000\n",
      "mean        0.752287\n",
      "std         2.088890\n",
      "min         0.000000\n",
      "25%         0.000000\n",
      "50%         0.000000\n",
      "75%         0.000000\n",
=======
      "count    5963.000000\n",
      "mean        0.821231\n",
      "std         2.201728\n",
      "min         0.000000\n",
      "25%         0.000000\n",
      "50%         0.000000\n",
      "75%         1.000000\n",
>>>>>>> refs/remotes/origin/master
      "max        19.000000\n",
      "Name: Number of ratings coming from online classes, dtype: float64\n"
     ]
    }
   ],
   "source": [
    "print(numDat['Number of ratings coming from online classes'].describe())"
   ]
  },
  {
   "cell_type": "code",
<<<<<<< HEAD
   "execution_count": 16,
=======
   "execution_count": 18,
>>>>>>> refs/remotes/origin/master
   "metadata": {},
   "outputs": [
    {
     "name": "stdout",
     "output_type": "stream",
     "text": [
<<<<<<< HEAD
      "Levene's Test Statistic: 2.5937, P-value: 0.1073\n",
=======
      "Levene's Test Statistic: 2.1937, P-value: 0.1386\n",
>>>>>>> refs/remotes/origin/master
      "The variances are not significantly different (fail to reject the null hypothesis).\n"
     ]
    }
   ],
   "source": [
    "# Step 1: Split data into two groups\n",
    "online_ratings_0 = numDat[numDat['Number of ratings coming from online classes'] == 0]\n",
    "online_ratings_1plus = numDat[numDat['Number of ratings coming from online classes'] >= 1]\n",
    "\n",
    "# Step 2: Extract Average Ratings for Each Group\n",
    "ratings_0 = online_ratings_0['Average Rating']\n",
    "ratings_1plus = online_ratings_1plus['Average Rating']\n",
    "\n",
    "# Step 3: Perform Levene's Test\n",
    "if len(ratings_0) > 1 and len(ratings_1plus) > 1:  # Ensure sufficient data for the test\n",
    "    stat, p_value = levene(ratings_0, ratings_1plus)\n",
    "    print(f\"Levene's Test Statistic: {stat:.4f}, P-value: {p_value:.4f}\")\n",
    "    \n",
    "    # Interpretation\n",
    "    if p_value < 0.005:\n",
    "        print(\"The variances are significantly different (reject the null hypothesis).\")\n",
    "    else:\n",
    "        print(\"The variances are not significantly different (fail to reject the null hypothesis).\")\n",
    "else:\n",
    "    print(\"Not enough data for one or both groups to perform Levene's test.\")"
   ]
  },
  {
   "cell_type": "code",
<<<<<<< HEAD
   "execution_count": 17,
=======
   "execution_count": 19,
>>>>>>> refs/remotes/origin/master
   "metadata": {},
   "outputs": [
    {
     "name": "stdout",
     "output_type": "stream",
     "text": [
<<<<<<< HEAD
      "Pearson Correlation between Number of Ratings from Online Classes and Average Rating: 0.0081\n"
=======
      "Pearson Correlation between Number of Ratings from Online Classes and Average Rating: 0.0017\n"
>>>>>>> refs/remotes/origin/master
     ]
    }
   ],
   "source": [
    "# Calculate the Pearson correlation\n",
    "correlation = numDat['Number of ratings coming from online classes'].corr(numDat['Average Rating'])\n",
    "\n",
    "# Print the result\n",
    "print(f\"Pearson Correlation between Number of Ratings from Online Classes and Average Rating: {correlation:.4f}\")"
   ]
  },
  {
   "cell_type": "markdown",
   "metadata": {},
   "source": [
    "Here we see that when we consider Online classes there is no difference in the variation of the distributions of average ratings.$\\newline$ Additionally, there is very week correlation.$\\newline$ We conclude that Number of ratings coming from online classes is not a likely confound."
   ]
  },
  {
   "cell_type": "markdown",
   "metadata": {},
   "source": [
    "#### Average Difficulty as a Confound"
   ]
  },
  {
   "cell_type": "markdown",
   "metadata": {},
   "source": [
    "Does average difficulty impact the distributions of average rating of professors?"
   ]
  },
  {
   "cell_type": "code",
<<<<<<< HEAD
   "execution_count": 18,
=======
   "execution_count": 20,
>>>>>>> refs/remotes/origin/master
   "metadata": {},
   "outputs": [
    {
     "data": {
      "text/plain": [
<<<<<<< HEAD
       "count    7105.000000\n",
       "mean        2.943082\n",
       "std         0.767893\n",
=======
       "count    5963.000000\n",
       "mean        2.931092\n",
       "std         0.740288\n",
>>>>>>> refs/remotes/origin/master
       "min         1.000000\n",
       "25%         2.400000\n",
       "50%         2.900000\n",
       "75%         3.500000\n",
       "max         5.000000\n",
       "Name: Average Difficulty, dtype: float64"
      ]
     },
<<<<<<< HEAD
     "execution_count": 18,
=======
     "execution_count": 20,
>>>>>>> refs/remotes/origin/master
     "metadata": {},
     "output_type": "execute_result"
    }
   ],
   "source": [
    "numDat['Average Difficulty'].describe()"
   ]
  },
  {
   "cell_type": "code",
<<<<<<< HEAD
   "execution_count": 19,
=======
   "execution_count": 21,
>>>>>>> refs/remotes/origin/master
   "metadata": {},
   "outputs": [
    {
     "data": {
      "text/html": [
       "<div>\n",
       "<style scoped>\n",
       "    .dataframe tbody tr th:only-of-type {\n",
       "        vertical-align: middle;\n",
       "    }\n",
       "\n",
       "    .dataframe tbody tr th {\n",
       "        vertical-align: top;\n",
       "    }\n",
       "\n",
       "    .dataframe thead th {\n",
       "        text-align: right;\n",
       "    }\n",
       "</style>\n",
       "<table border=\"1\" class=\"dataframe\">\n",
       "  <thead>\n",
       "    <tr style=\"text-align: right;\">\n",
       "      <th></th>\n",
       "      <th>Average Rating</th>\n",
       "      <th>Average Difficulty</th>\n",
       "      <th>Number of ratings</th>\n",
       "      <th>Received a pepper</th>\n",
       "      <th>Proportion of students that said they would take the class again</th>\n",
       "      <th>Number of ratings coming from online classes</th>\n",
       "      <th>Male Professor</th>\n",
       "      <th>Female Professor</th>\n",
<<<<<<< HEAD
       "      <th>Ratings Group</th>\n",
=======
       "      <th>Ratings Quartile</th>\n",
       "      <th>Proportion Groups</th>\n",
>>>>>>> refs/remotes/origin/master
       "    </tr>\n",
       "  </thead>\n",
       "  <tbody>\n",
       "    <tr>\n",
       "      <th>5</th>\n",
       "      <td>3.5</td>\n",
       "      <td>3.3</td>\n",
       "      <td>22.0</td>\n",
       "      <td>0.0</td>\n",
       "      <td>56.0</td>\n",
       "      <td>7.0</td>\n",
       "      <td>1</td>\n",
       "      <td>0</td>\n",
<<<<<<< HEAD
       "      <td>Upper Half</td>\n",
       "    </tr>\n",
       "    <tr>\n",
       "      <th>21</th>\n",
       "      <td>2.6</td>\n",
       "      <td>4.1</td>\n",
       "      <td>10.0</td>\n",
       "      <td>0.0</td>\n",
       "      <td>NaN</td>\n",
       "      <td>0.0</td>\n",
       "      <td>1</td>\n",
       "      <td>0</td>\n",
       "      <td>Lower Half</td>\n",
=======
       "      <td>Q4 (Highest)</td>\n",
       "      <td>0-64</td>\n",
>>>>>>> refs/remotes/origin/master
       "    </tr>\n",
       "    <tr>\n",
       "      <th>25</th>\n",
       "      <td>4.3</td>\n",
       "      <td>3.3</td>\n",
       "      <td>16.0</td>\n",
       "      <td>1.0</td>\n",
       "      <td>83.0</td>\n",
       "      <td>0.0</td>\n",
       "      <td>0</td>\n",
       "      <td>1</td>\n",
<<<<<<< HEAD
       "      <td>Upper Half</td>\n",
       "    </tr>\n",
       "    <tr>\n",
       "      <th>39</th>\n",
       "      <td>3.5</td>\n",
       "      <td>3.2</td>\n",
       "      <td>20.0</td>\n",
       "      <td>1.0</td>\n",
       "      <td>NaN</td>\n",
       "      <td>0.0</td>\n",
       "      <td>1</td>\n",
       "      <td>0</td>\n",
       "      <td>Upper Half</td>\n",
=======
       "      <td>Q3</td>\n",
       "      <td>65-86</td>\n",
>>>>>>> refs/remotes/origin/master
       "    </tr>\n",
       "    <tr>\n",
       "      <th>40</th>\n",
       "      <td>1.8</td>\n",
       "      <td>3.8</td>\n",
       "      <td>15.0</td>\n",
       "      <td>0.0</td>\n",
       "      <td>22.0</td>\n",
       "      <td>1.0</td>\n",
       "      <td>0</td>\n",
       "      <td>1</td>\n",
<<<<<<< HEAD
       "      <td>Upper Half</td>\n",
=======
       "      <td>Q3</td>\n",
       "      <td>0-64</td>\n",
       "    </tr>\n",
       "    <tr>\n",
       "      <th>42</th>\n",
       "      <td>4.1</td>\n",
       "      <td>3.3</td>\n",
       "      <td>21.0</td>\n",
       "      <td>0.0</td>\n",
       "      <td>67.0</td>\n",
       "      <td>0.0</td>\n",
       "      <td>0</td>\n",
       "      <td>1</td>\n",
       "      <td>Q4 (Highest)</td>\n",
       "      <td>65-86</td>\n",
       "    </tr>\n",
       "    <tr>\n",
       "      <th>46</th>\n",
       "      <td>4.2</td>\n",
       "      <td>1.8</td>\n",
       "      <td>26.0</td>\n",
       "      <td>1.0</td>\n",
       "      <td>57.0</td>\n",
       "      <td>8.0</td>\n",
       "      <td>1</td>\n",
       "      <td>0</td>\n",
       "      <td>Q4 (Highest)</td>\n",
       "      <td>0-64</td>\n",
>>>>>>> refs/remotes/origin/master
       "    </tr>\n",
       "    <tr>\n",
       "      <th>...</th>\n",
       "      <td>...</td>\n",
       "      <td>...</td>\n",
       "      <td>...</td>\n",
       "      <td>...</td>\n",
       "      <td>...</td>\n",
       "      <td>...</td>\n",
       "      <td>...</td>\n",
       "      <td>...</td>\n",
       "      <td>...</td>\n",
<<<<<<< HEAD
=======
       "      <td>...</td>\n",
       "    </tr>\n",
       "    <tr>\n",
       "      <th>89801</th>\n",
       "      <td>4.8</td>\n",
       "      <td>2.8</td>\n",
       "      <td>13.0</td>\n",
       "      <td>1.0</td>\n",
       "      <td>100.0</td>\n",
       "      <td>0.0</td>\n",
       "      <td>0</td>\n",
       "      <td>1</td>\n",
       "      <td>Q2</td>\n",
       "      <td>87-100</td>\n",
>>>>>>> refs/remotes/origin/master
       "    </tr>\n",
       "    <tr>\n",
       "      <th>89810</th>\n",
       "      <td>3.4</td>\n",
       "      <td>3.4</td>\n",
       "      <td>14.0</td>\n",
       "      <td>0.0</td>\n",
       "      <td>54.0</td>\n",
       "      <td>5.0</td>\n",
       "      <td>1</td>\n",
       "      <td>0</td>\n",
<<<<<<< HEAD
       "      <td>Lower Half</td>\n",
       "    </tr>\n",
       "    <tr>\n",
       "      <th>89841</th>\n",
       "      <td>4.2</td>\n",
       "      <td>3.8</td>\n",
       "      <td>11.0</td>\n",
       "      <td>0.0</td>\n",
       "      <td>NaN</td>\n",
       "      <td>0.0</td>\n",
       "      <td>0</td>\n",
       "      <td>1</td>\n",
       "      <td>Lower Half</td>\n",
=======
       "      <td>Q2</td>\n",
       "      <td>0-64</td>\n",
>>>>>>> refs/remotes/origin/master
       "    </tr>\n",
       "    <tr>\n",
       "      <th>89855</th>\n",
       "      <td>4.0</td>\n",
       "      <td>1.9</td>\n",
       "      <td>11.0</td>\n",
       "      <td>1.0</td>\n",
       "      <td>60.0</td>\n",
       "      <td>0.0</td>\n",
       "      <td>1</td>\n",
       "      <td>0</td>\n",
<<<<<<< HEAD
       "      <td>Lower Half</td>\n",
=======
       "      <td>Q1 (Lowest)</td>\n",
       "      <td>0-64</td>\n",
>>>>>>> refs/remotes/origin/master
       "    </tr>\n",
       "    <tr>\n",
       "      <th>89866</th>\n",
       "      <td>4.4</td>\n",
       "      <td>3.6</td>\n",
       "      <td>14.0</td>\n",
       "      <td>1.0</td>\n",
       "      <td>88.0</td>\n",
       "      <td>0.0</td>\n",
       "      <td>0</td>\n",
       "      <td>1</td>\n",
<<<<<<< HEAD
       "      <td>Lower Half</td>\n",
=======
       "      <td>Q2</td>\n",
       "      <td>87-100</td>\n",
>>>>>>> refs/remotes/origin/master
       "    </tr>\n",
       "    <tr>\n",
       "      <th>89877</th>\n",
       "      <td>3.6</td>\n",
       "      <td>3.4</td>\n",
       "      <td>10.0</td>\n",
       "      <td>0.0</td>\n",
       "      <td>50.0</td>\n",
       "      <td>1.0</td>\n",
       "      <td>1</td>\n",
       "      <td>0</td>\n",
<<<<<<< HEAD
       "      <td>Lower Half</td>\n",
       "    </tr>\n",
       "  </tbody>\n",
       "</table>\n",
       "<p>7105 rows × 9 columns</p>\n",
=======
       "      <td>Q1 (Lowest)</td>\n",
       "      <td>0-64</td>\n",
       "    </tr>\n",
       "  </tbody>\n",
       "</table>\n",
       "<p>5963 rows × 10 columns</p>\n",
>>>>>>> refs/remotes/origin/master
       "</div>"
      ],
      "text/plain": [
       "       Average Rating  Average Difficulty  Number of ratings  \\\n",
       "5                 3.5                 3.3               22.0   \n",
<<<<<<< HEAD
       "21                2.6                 4.1               10.0   \n",
       "25                4.3                 3.3               16.0   \n",
       "39                3.5                 3.2               20.0   \n",
       "40                1.8                 3.8               15.0   \n",
       "...               ...                 ...                ...   \n",
       "89810             3.4                 3.4               14.0   \n",
       "89841             4.2                 3.8               11.0   \n",
=======
       "25                4.3                 3.3               16.0   \n",
       "40                1.8                 3.8               15.0   \n",
       "42                4.1                 3.3               21.0   \n",
       "46                4.2                 1.8               26.0   \n",
       "...               ...                 ...                ...   \n",
       "89801             4.8                 2.8               13.0   \n",
       "89810             3.4                 3.4               14.0   \n",
>>>>>>> refs/remotes/origin/master
       "89855             4.0                 1.9               11.0   \n",
       "89866             4.4                 3.6               14.0   \n",
       "89877             3.6                 3.4               10.0   \n",
       "\n",
       "       Received a pepper  \\\n",
       "5                    0.0   \n",
<<<<<<< HEAD
       "21                   0.0   \n",
       "25                   1.0   \n",
       "39                   1.0   \n",
       "40                   0.0   \n",
       "...                  ...   \n",
       "89810                0.0   \n",
       "89841                0.0   \n",
=======
       "25                   1.0   \n",
       "40                   0.0   \n",
       "42                   0.0   \n",
       "46                   1.0   \n",
       "...                  ...   \n",
       "89801                1.0   \n",
       "89810                0.0   \n",
>>>>>>> refs/remotes/origin/master
       "89855                1.0   \n",
       "89866                1.0   \n",
       "89877                0.0   \n",
       "\n",
       "       Proportion of students that said they would take the class again  \\\n",
       "5                                                   56.0                  \n",
<<<<<<< HEAD
       "21                                                   NaN                  \n",
       "25                                                  83.0                  \n",
       "39                                                   NaN                  \n",
       "40                                                  22.0                  \n",
       "...                                                  ...                  \n",
       "89810                                               54.0                  \n",
       "89841                                                NaN                  \n",
=======
       "25                                                  83.0                  \n",
       "40                                                  22.0                  \n",
       "42                                                  67.0                  \n",
       "46                                                  57.0                  \n",
       "...                                                  ...                  \n",
       "89801                                              100.0                  \n",
       "89810                                               54.0                  \n",
>>>>>>> refs/remotes/origin/master
       "89855                                               60.0                  \n",
       "89866                                               88.0                  \n",
       "89877                                               50.0                  \n",
       "\n",
       "       Number of ratings coming from online classes  Male Professor  \\\n",
       "5                                               7.0               1   \n",
<<<<<<< HEAD
       "21                                              0.0               1   \n",
       "25                                              0.0               0   \n",
       "39                                              0.0               1   \n",
       "40                                              1.0               0   \n",
       "...                                             ...             ...   \n",
       "89810                                           5.0               1   \n",
       "89841                                           0.0               0   \n",
=======
       "25                                              0.0               0   \n",
       "40                                              1.0               0   \n",
       "42                                              0.0               0   \n",
       "46                                              8.0               1   \n",
       "...                                             ...             ...   \n",
       "89801                                           0.0               0   \n",
       "89810                                           5.0               1   \n",
>>>>>>> refs/remotes/origin/master
       "89855                                           0.0               1   \n",
       "89866                                           0.0               0   \n",
       "89877                                           1.0               1   \n",
       "\n",
<<<<<<< HEAD
       "       Female Professor Ratings Group  \n",
       "5                     0    Upper Half  \n",
       "21                    0    Lower Half  \n",
       "25                    1    Upper Half  \n",
       "39                    0    Upper Half  \n",
       "40                    1    Upper Half  \n",
       "...                 ...           ...  \n",
       "89810                 0    Lower Half  \n",
       "89841                 1    Lower Half  \n",
       "89855                 0    Lower Half  \n",
       "89866                 1    Lower Half  \n",
       "89877                 0    Lower Half  \n",
       "\n",
       "[7105 rows x 9 columns]"
      ]
     },
     "execution_count": 19,
=======
       "       Female Professor Ratings Quartile Proportion Groups  \n",
       "5                     0     Q4 (Highest)              0-64  \n",
       "25                    1               Q3             65-86  \n",
       "40                    1               Q3              0-64  \n",
       "42                    1     Q4 (Highest)             65-86  \n",
       "46                    0     Q4 (Highest)              0-64  \n",
       "...                 ...              ...               ...  \n",
       "89801                 1               Q2            87-100  \n",
       "89810                 0               Q2              0-64  \n",
       "89855                 0      Q1 (Lowest)              0-64  \n",
       "89866                 1               Q2            87-100  \n",
       "89877                 0      Q1 (Lowest)              0-64  \n",
       "\n",
       "[5963 rows x 10 columns]"
      ]
     },
     "execution_count": 21,
>>>>>>> refs/remotes/origin/master
     "metadata": {},
     "output_type": "execute_result"
    }
   ],
   "source": [
    "numDat"
   ]
  },
  {
   "cell_type": "code",
<<<<<<< HEAD
   "execution_count": 20,
   "metadata": {},
   "outputs": [],
=======
   "execution_count": 75,
   "metadata": {},
   "outputs": [
    {
     "name": "stderr",
     "output_type": "stream",
     "text": [
      "/var/folders/n6/6_dwq_bx4v7_20bszmc0y28w0000gn/T/ipykernel_9322/2094907362.py:5: SettingWithCopyWarning: \n",
      "A value is trying to be set on a copy of a slice from a DataFrame.\n",
      "Try using .loc[row_indexer,col_indexer] = value instead\n",
      "\n",
      "See the caveats in the documentation: https://pandas.pydata.org/pandas-docs/stable/user_guide/indexing.html#returning-a-view-versus-a-copy\n",
      "  numDat['Difficulty Groups'] = pd.cut(\n"
     ]
    }
   ],
>>>>>>> refs/remotes/origin/master
   "source": [
    "# Calculate the median of Average Difficulty\n",
    "median_difficulty = numDat['Average Difficulty'].median()\n",
    "\n",
    "# Create Difficulty Groups using the median\n",
    "numDat['Difficulty Groups'] = pd.cut(\n",
    "    numDat['Average Difficulty'],\n",
    "    bins=[numDat['Average Difficulty'].min(), median_difficulty, numDat['Average Difficulty'].max()],\n",
    "    labels=[f'Below Median (≤{median_difficulty:.2f})', f'Above Median (> {median_difficulty:.2f})'],\n",
    "    include_lowest=True\n",
    ")"
   ]
  },
  {
   "cell_type": "code",
<<<<<<< HEAD
   "execution_count": 21,
=======
   "execution_count": 76,
>>>>>>> refs/remotes/origin/master
   "metadata": {},
   "outputs": [
    {
     "data": {
<<<<<<< HEAD
      "image/png": "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",
=======
      "image/png": "iVBORw0KGgoAAAANSUhEUgAAA04AAAIhCAYAAAB5deq6AAAAOXRFWHRTb2Z0d2FyZQBNYXRwbG90bGliIHZlcnNpb24zLjkuMiwgaHR0cHM6Ly9tYXRwbG90bGliLm9yZy8hTgPZAAAACXBIWXMAAA9hAAAPYQGoP6dpAAB8IElEQVR4nO3deVxV1f7/8fcBmURAcQCcJRUVQ82hcDZn1CybJcfKcijLa5bDzTTJm9fKyinLWdIyzVtOZSqiSeYYzlk5IjiRKA6osH5/+ON8PTIcUPRgvJ6PBw/da6+99+cA5xzeZ+29tsUYYwQAAAAAyJKTowsAAAAAgPyO4AQAAAAAdhCcAAAAAMAOghMAAAAA2EFwAgAAAAA7CE4AAAAAYAfBCQAAAADsIDgBAAAAgB0EJwAAAACwg+AEOMCsWbNksVisX+7u7vL391eLFi00duxYnTx5MsM277zzjiwWS66Oc/HiRb3zzjuKiorK1XaZHatixYrq2LFjrvZjz5dffqkJEyZkus5iseidd97J0+PltdWrV6tevXry9PSUxWLRkiVL7G6zc+dOWSwWubi4KD4+/s4XeQ9J/71L/3JxcVH58uX14osvKiEh4Zb2md1zIP15eOjQodsr/DZ98sknslgsqlmzpkPruJOaN29u/bk6OTnJy8tLlStX1pNPPqlvvvlGaWlpGbapWLGievbsadO2fft2NWvWTD4+PrJYLNbXj8yei3fj53vz69SePXv0zjvv3LFjbtiwQc8++6zKly8vNzc3eXp6Kjg4WP/617+0b9++O3JMAP+nkKMLAAqymTNnqlq1arp69apOnjypDRs26P3339f48eP11VdfqVWrVta+L7zwgtq1a5er/V+8eFGjRo2SdP0Pl5y6lWPdii+//FK7du3Sa6+9lmFdTEyMypYte8druFXGGD311FOqWrWqvvvuO3l6eiooKMjudl988YUk6dq1a5ozZ47efPPNO13qPWflypXy8fFRcnKyfvzxR33wwQfauHGjduzYIRcXl1ztK7vnQIcOHRQTE6OAgIC8Kv2WzJgxQ5K0e/dubdq0SQ8++KBD67lTAgMDFRkZKUm6cOGCDh48qCVLlujJJ59UkyZN9P3338vHx8fa/9tvv5W3t7fNPnr37q0LFy5owYIFKlasmCpWrJjlc/HatWt3/ee7Z88ejRo1Ss2bN1fFihXzdN8jRoxQRESEQkNDNWLECFWpUkXXrl1TbGysZs+erQ8//FDXrl2Ts7Nznh4XwA0MgLtu5syZRpLZvHlzhnWHDx825cqVM15eXiYhIeG2jnPq1CkjyYwcOTJH/S9cuJDlugoVKpgOHTrcVj0369Chg6lQoUKe7vNuOXbsmJFk3n///Rxvc/nyZVO8eHFTq1YtU6ZMGVO1atU7WGHWsvs5O9LIkSONJHPq1Cmb9l69ehlJZs2aNbneZ26fA3fb5s2bjSTToUMHI8m8+OKLebbvK1eumKtXr+bZ/m5Hs2bNTHBwcKbrZsyYYSSZp556yu5+ChUqZPr27WvTdivPxbxy8+/WwoULjSSzdu3aPD3Ol19+aSSZl19+2aSlpWVYn5aWZiZOnGiuXbuW7X7y63MfuFcQnAAHyC44GWPM119/bSSZUaNGWdvS/6i80erVq02zZs2Mr6+vcXd3N+XKlTNdunQxFy5cMAcPHjSSMnz16NHDZn9bt241jz/+uClatKjx9/fP8ljpwWnx4sXm/vvvN25ubqZSpUrm448/zvSxHTx40KZ97dq1Nn9QNGvWLNP60mX2x+7OnTvNI488YooWLWrc3NxMrVq1zKxZszI9zpdffmmGDRtmAgICjJeXl2nZsqXZt29fpt/vm61fv948/PDDpkiRIsbDw8OEhoaapUuXZvhZ3PiVkwC4YMECI8l8+umnZtiwYUaSWb9+vXV9586dTfny5U1qamqGbRs0aGDq1KljXU5LSzOTJk0ytWrVMu7u7qZo0aLm8ccfN3/++afNdul/sK5bt86EhoYaDw8P8/TTT1vrad26tfH39zfu7u6mWrVq5s033zTJyckZjj9t2jRTpUoV4+rqaqpXr24iIyNNjx49MjzulJQU8+6775qgoCDj6upqSpQoYXr27GlOnjxp9/uTVXCaNGmSkWTmz59vbTt58qTp27evqV69uvH09DQlS5Y0LVq0MNHR0dY+9p4Dmf2upn+/fv31V9O4cWPj4eFhKlWqZMaOHZvh57Jr1y7TunVr4+HhYUqUKGH69etnli5dmqs/nF9++WUjyezcudM0bNjQeHl5ZfrH7bFjx8yLL75oypYta1xcXExAQIB5/PHHrR+upP/ez5kzxwwaNMiULl3aWCwWs3fvXmOMMdOnTzchISHGzc3NFCtWzDz66KNmz549Nsf4888/zdNPP20CAgKMq6urKVWqlHn44YfN9u3brX2ye83JTnbByRhjwsLCjMViMYcOHbK2VahQIcPP6uav7J6LWb0WrVixwjz88MPG29vbeHh4mGrVqpn33nvPptZmzZplqDGz3/cbX6eyqnHmzJlm9OjRxtnZ2Rw5ciTDfnv16mV8fX3NpUuXsvz+1KhRw5QoUSLbPjfL7rl/+PBhEx4ebkqWLGlcXV1NtWrVzPjx421+x29+zU6X/ryaOXOmzffG09PT7Nq1yzz88MOmcOHCpkSJEqZ///4Zfje+/vpr06BBA+v3v1KlSqZXr145flyAI3GNE5APhYWFydnZWdHR0Vn2OXTokDp06CBXV1fNmDFDK1eu1H/+8x95enrqypUrCggI0MqVKyVJzz//vGJiYhQTE6N///vfNvvp0qWLKleurIULF2rq1KnZ1rVjxw699tprev311/Xtt9+qYcOGGjhwoMaPH5/rxzh58mQ1atRI/v7+1tpiYmKy7L9//341bNhQu3fv1ieffKLFixerRo0a6tmzp8aNG5eh/7Bhw3T48GF98cUXmjZtmg4cOKBOnTopNTU127rWrVunhx9+WElJSZo+fbrmz58vLy8vderUSV999ZWk66cyLl68WJL0yiuvKCYmRt9++63dxzx9+nS5ubkpPDxcvXv3lsVi0fTp063re/furSNHjmjNmjU22+3bt0+//vqrevXqZW176aWX9Nprr6lVq1ZasmSJJk+erN27d6thw4Y6ceKEzfbx8fF67rnn1LVrVy1fvlz9+vWTJB04cEBhYWGaPn26Vq5cqddee01ff/21OnXqZLP9tGnT1KdPH4WEhGjx4sUaMWKERo0aleG6obS0NHXu3Fn/+c9/1LVrVy1btkz/+c9/tGrVKjVv3lyXLl2y+z3KzMGDByVJVatWtbYlJiZKkkaOHKlly5Zp5syZCgwMVPPmza115fQ5cLOEhASFh4frueee03fffaf27dtr6NChmjdvnrVPfHy8mjVrpv3792vKlCmaM2eOzp8/rwEDBuT4cV26dEnz589X/fr1VbNmTfXu3Vvnz5/XwoULbfrFxcWpfv36+vbbbzVo0CCtWLFCEyZMkI+Pj/7++2+bvkOHDtWRI0c0depUff/99ypVqpTGjh2r559/XsHBwVq8eLE+/vhjxcbGKjQ0VAcOHLBuGxYWpq1bt2rcuHFatWqVpkyZojp16ujs2bOS7L/m3I5HHnlExhitX78+0/Xpp1VK0hNPPGH9Web2uTh9+nSFhYUpLS3N+j169dVXdezYsduqP73G9957T5I0adIka40dOnTQSy+9pEKFCumzzz6z2SYxMVELFizQ888/L3d390z3e/z4ce3Zs0etW7fOsk9WMnvunzp1Sg0bNtSPP/6od999V999951atWqlwYMH5+r392ZXr15VWFiYWrZsqSVLlmjAgAH67LPP9PTTT1v7xMTE6Omnn1ZgYKAWLFigZcuW6e2339a1a9du+bjAXeXo5AYURPZGnIwxxs/Pz1SvXt26fPMo0DfffGMkmR07dmS5j+xOU0rf39tvv53luhtVqFDBWCyWDMdr3bq18fb2tn6qmNMRJ2OyP1Xv5rqfeeYZ4+bmluET2/bt25vChQubs2fP2hwnLCzMpl/6KF5MTEymx0v30EMPmVKlSpnz589b265du2Zq1qxpypYtaz1NJv1T1//+97/Z7i/doUOHjJOTk3nmmWesbc2aNTOenp7m3Llzxhhjrl69avz8/EzXrl1tth0yZIhxdXU1p0+fNsYYExMTYySZDz74wKbf0aNHjYeHhxkyZIjNMSSZ1atXZ1tfWlqauXr1qlm3bp2RZH777TdjjDGpqanG39/fPPjggzb9Dx8+bFxcXGx+fvPnzzeSzKJFi2z6pp+ONnny5GxrSP+9S0hIMFevXjV///23+frrr42np6d59tlns9322rVr5urVq6Zly5bmscces7Zn9xzIasRJktm0aZNN3xo1api2bdtal9944w1jsVjM7t27bfq1bds2xyNOc+bMMZLM1KlTjTHGnD9/3hQpUsQ0adLEpl/v3r2Ni4tLhhGiG6X/3jdt2tSm/e+//zYeHh4Zng9Hjhwxbm5u1t+106dPG0lmwoQJWR4jJ685WbE34rRixYoMp9vdOOKUTpLp37+/TVtWz8Wbf77nz5833t7epnHjxpme7nZjrbcy4mRM9qfq9ejRw5QqVcqkpKRY295//33j5OSU4fXyRr/88ouRZN56660M69J/79O/bnxcWT3333rrrUx/x/v27WssFovZv3+/MSb3I06SMpyBEBERYSSZDRs2GGOMGT9+vJFkfb0G7jWMOAH5lDEm2/W1a9eWq6ur+vTpo9mzZ+uvv/66peM8/vjjOe4bHBysWrVq2bR17dpV586d07Zt227p+Dm1Zs0atWzZUuXKlbNp79mzpy5evJhhtOqRRx6xWQ4JCZEkHT58OMtjXLhwQZs2bdITTzyhIkWKWNudnZ3VrVs3HTt2TPv377+l+mfOnKm0tDT17t3b2pZ+oXv6SFahQoX03HPPafHixUpKSpIkpaamau7cuercubOKFy8uSVq6dKksFouee+45Xbt2zfrl7++vWrVqZRgJKlasmB5++OEMNf3111/q2rWr/P395ezsLBcXFzVr1kyStHfvXknXR/oSEhL01FNP2Wxbvnx5NWrUyKZt6dKlKlq0qDp16mRTV+3ateXv75/j2R39/f3l4uKiYsWK6amnnlLdunU1e/bsDP2mTp2qBx54QO7u7ipUqJBcXFy0evVqa+23yt/fXw0aNLBpCwkJsfndWbdunWrWrKkaNWrY9Hv22WdzfJzp06fLw8NDzzzzjCSpSJEievLJJ7V+/XqbkaAVK1aoRYsWql69ut193vx8jomJ0aVLlzLMTleuXDk9/PDDWr16tSTJ19dX9913n/773//qww8/1Pbt2zPMdJdXrzmZsfd6lxc2btyoc+fOqV+/frmeoTQvDBw4UCdPnrSOKKalpWnKlCnq0KHDLU8kUbx4cbm4uFi/Fi1aZLM+s+f+mjVrVKNGjQy/4z179pQxJsOId26Eh4fbLHft2lWStHbtWklS/fr1JUlPPfWUvv76a8XFxd3ysQBHIDgB+dCFCxd05swZlS5dOss+9913n3766SeVKlVK/fv313333af77rtPH3/8ca6OlZsZp/z9/bNsO3PmTK6Om1tnzpzJtNb079HNx08PGenc3NwkKdvTxf7++28ZY3J1nJxIS0vTrFmzVLp0adWtW1dnz57V2bNn1apVK3l6emY4Xe/y5ctasGCBJOmHH35QfHy8zWl6J06ckDFGfn5+Nn80ubi46JdfftHp06dtjp/Z40lOTlaTJk20adMmjRkzRlFRUdq8ebP1tKf071P64/Xz88uwj5vbTpw4obNnz8rV1TVDXQkJCRnqyspPP/2kzZs364cfftDjjz+u6OhovfLKKzZ9PvzwQ/Xt21cPPvigFi1apF9++UWbN29Wu3btbvmUwHQ3/+5I139/btzvmTNncvQ9ycoff/yh6OhodejQQcYY6+/EE088Ien/ZtqTpFOnTuV4hsmbf9bpP7+sfqfT11ssFq1evVpt27bVuHHj9MADD6hkyZJ69dVXdf78eUl595qTmfRQmt1r3u06deqUJDlsts46deqoSZMmmjRpkqTrHzQcOnTI7ulx6R8WZfahT/rzNqvTrDP7uef2tTSnChUqlOG5c/P7Q9OmTbVkyRJdu3ZN3bt3V9myZVWzZk3Nnz//lo4J3G1MRw7kQ8uWLVNqaqrdKcSbNGmiJk2aKDU1VVu2bNGnn36q1157TX5+ftZPse3JzSevmd1LJ70t/Q0z/Rz8lJQUm345/aM5K8WLF8/0vkfHjx+XJJUoUeK29i9d/3TWyckpz4/z008/Wf/oyeyP8l9++UV79uxRjRo1rJ8Ez5w5Uy+99JJmzpyp0qVLq02bNtb+JUqUkMVi0fr1662B8EY3t2X2M16zZo2OHz+uqKgo6yiTJOv1LOnS6735uikp4+9DiRIlVLx4cet1RTfz8vLKtP1mtWrVsn6fW7durbZt22ratGl6/vnnrZ9Yz5s3T82bN9eUKVNstk3/I/9OK168eI6+J1mZMWOGjDH65ptv9M0332RYP3v2bI0ZM0bOzs4qWbJkjq/Buflnnf7zy+p3+sbf5woVKlhD/O+//66vv/5a77zzjq5cuWL9wzwvXnMy891338lisahp06a3vA97SpYsKUl2v5fu7u7WEd8b3e5rmCS9+uqrevLJJ7Vt2zZNnDhRVatWVevWrbPdpnTp0goODtaqVat0+fJlm+ucateuLen6ByGZyey5n9PX0ty+ll+7dk1nzpyxeY27+f1Bkjp37qzOnTsrJSVFv/zyi8aOHauuXbuqYsWKCg0NzXTfQH7BiBOQzxw5ckSDBw+Wj4+PXnrppRxt4+zsrAcffND6SWb6aXM5GWXJjd27d+u3336zafvyyy/l5eWlBx54QJKsp5zExsba9Pvuu+8y7O/mT/Gz07JlS+sf+zeaM2eOChcurIceeiinDyNLnp6eevDBB7V48WKbutLS0jRv3jyVLVvWZoKCnJo+fbqcnJy0ZMkSrV271uZr7ty5kmxHGHr16qVNmzZpw4YN+v7779WjRw+be7N07NhRxhjFxcWpXr16Gb7uv/9+uzWl/0F1c8i6+eL1oKAg+fv76+uvv7ZpP3LkiDZu3GjT1rFjR505c0apqamZ1pWT+1xlVuekSZPk7OysESNG2LTfXHtsbGyGUzbz+jmQrlmzZtq1a5f27Nlj054+Upid1NRUzZ49W/fdd1+G34e1a9fqX//6l+Lj47VixQpJUvv27bV27dpbOk00NDRUHh4eNhNbSNfDQ/rpr5mpWrWqRowYofvvvz/T03Czes25FTNnztSKFSusN3a9Uxo2bCgfHx9NnTo121MDK1asqN9//90mMJw5cybD73tm7P2+PfbYYypfvrz+9a9/6aeffsrxaYPDhw/X6dOnNWjQoNs+rbFly5bas2dPhp/ZnDlzZLFY1KJFC0m5ey1Pl36frnRffvmlpMzvI+jm5qZmzZrp/fffl3T95sZAfseIE+BAu3btsl4HcvLkSa1fv14zZ86Us7Ozvv32W+snpJmZOnWq1qxZow4dOqh8+fK6fPmy9Y/v9Bvnenl5qUKFCvrf//6nli1bytfXVyVKlLjl8+lLly6tRx55RO+8844CAgI0b948rVq1Su+//74KFy4s6fo57EFBQRo8eLCuXbumYsWK6dtvv9WGDRsy7O/+++/X4sWLNWXKFNWtW1dOTk6qV69epsceOXKkli5dqhYtWujtt9+Wr6+vIiMjtWzZMo0bN87mxpm3Y+zYsWrdurVatGihwYMHy9XVVZMnT9auXbs0f/78XF8bcebMGf3vf/9T27Zt1blz50z7fPTRR5ozZ47Gjh0rFxcXPfvssxo0aJCeffZZpaSkZLg+pVGjRurTp4969eqlLVu2qGnTpvL09FR8fLw2bNig+++/X3379s22roYNG6pYsWJ6+eWXNXLkSLm4uCgyMjJDMHZyctKoUaP00ksv6YknnlDv3r119uxZjRo1SgEBAXJy+r/P35555hlFRkYqLCxMAwcOVIMGDeTi4qJjx45p7dq16ty5sx577LFcff8kqUqVKurTp48mT56sDRs2qHHjxurYsaPeffddjRw50jq73ejRo1WpUiWbGbry+jmQ7rXXXtOMGTPUvn17jR49Wn5+fvryyy+1b98+6/ctKytWrNDx48f1/vvvZ/oHZc2aNTVx4kRNnz5dHTt21OjRo7VixQo1bdpUw4YN0/3336+zZ89q5cqVGjRokKpVq5blsYoWLap///vfGjZsmLp3765nn31WZ86c0ahRo+Tu7q6RI0dKuv7H8YABA/Tkk0+qSpUqcnV11Zo1axQbG6u33npLUs5ec7Jz6dIl/fLLL9b///XXX1qyZImWLl2qZs2a2Z3V83YVKVJEH3zwgV544QW1atVKL774ovz8/PTHH3/ot99+08SJEyVJ3bp102effabnnntOL774os6cOaNx48ZluBlvZmrWrCnp+kyUXl5ecnd3V6VKlawjLs7Ozurfv7/efPNNeXp6ZnhuZ+XZZ5/V7t27FRERod9++009e/ZUlSpVlJaWpqNHj1o/gMnJqO7rr7+uOXPmqEOHDho9erQqVKigZcuWafLkyerbt6/1wyF/f3+1atVKY8eOVbFixVShQgWtXr3aejrvzVxdXfXBBx8oOTlZ9evX18aNGzVmzBi1b99ejRs3liS9/fbbOnbsmFq2bKmyZcvq7Nmz+vjjj22urwTyNUfNSgEUZDff7yP9ninNmjUz7733Xqb3vLl5pruYmBjz2GOPmQoVKhg3NzdTvHhx06xZM/Pdd9/ZbPfTTz+ZOnXqGDc3t0zv43TzPXMyO5Yx/3cfp2+++cYEBwcbV1dXU7FiRfPhhx9m2P733383bdq0Md7e3qZkyZLmlVdeMcuWLcswQ1NiYqJ54oknTNGiRY3FYsnRfZw6depkfHx8jKurq6lVq5bNzE7G/N9MUAsXLrRpz2wmqKyk38fJ09PTeHh4mIceesh8//33me7P3qx6EyZMMJLMkiVLsuwzderUDLPRde3a1UgyjRo1ynK7GTNmmAcffNBa53333We6d+9utmzZYu2T3WxmGzduNKGhoaZw4cKmZMmS5oUXXjDbtm3L9Ps0bdo0U7lyZePq6mqqVq1qZsyYYTp37mxzbyljrs8MOH78eOv9pYoUKWKqVatmXnrpJXPgwIHsvlXZ/k6eOHHCFClSxLRo0cIYc/1+UYMHDzZlypQx7u7u5oEHHjBLlizJdOazrJ4D2d3H6WaZ7XfXrl2mVatWxt3d3fj6+prnn3/ezJ4922ZWwsw8+uijxtXVNdt7Wz3zzDOmUKFC1vs0HT161PTu3dv4+/sbFxcXU7p0afPUU0+ZEydOGGOy/r1P98UXX5iQkBDj6upqfHx8TOfOnW1mBDxx4oTp2bOnqVatmvH09DRFihQxISEh5qOPPrLeVDWnrzmZufm+bZ6eniYwMNA88cQTZuHChZneuyyvZ9VLt3z5cuuMloULFzY1atTIcPPc2bNnm+rVqxt3d3dTo0YN89VXX+VoVj1jrj/nK1WqZJydnTN9Lh06dMhI129mm1vR0dHm6aeftt7PK73+vn372jzvjcn+uX/48GHTtWtXU7x4cePi4mKCgoLMf//73ww/h/j4ePPEE08YX19f4+PjY5577jmzZcuWLO/jFBsba5o3b248PDyMr6+v6du3r8194ZYuXWrat29vypQpY33fCwsLs7mfHZCfWYy5C1PZAAD+Uc6ePauqVavq0Ucf1bRp0xxdTr7Rp08fzZ8/X2fOnJGrq6ujy0E+9Omnn+rVV1/Vrl27FBwc7Ohy8kTPnj31zTffZHmtFfBPwal6AIBsJSQkKCIiQi1atFDx4sV1+PBhffTRRzp//rwGDhzo6PIcZvTo0SpdurQCAwOVnJyspUuX6osvvtCIESMITchg+/btOnjwoEaPHq3OnTv/Y0ITUJAQnAAA2XJzc9OhQ4fUr18/JSYmWifjmDp1aoH+48/FxUX//e9/dezYMV27dk1VqlTRhx9+WKDDJLL22GOPKSEhQU2aNLnj13MBuDM4VQ8AAAAA7GA6cgAAAACwg+AEAAAAAHYQnAAAAADAjgI3OURaWpqOHz8uLy+vXN/IEgAAAMA/hzFG58+fV+nSpbO9eblUAIPT8ePHVa5cOUeXAQAAACCfOHr0qMqWLZttnwIXnLy8vCRd/+Z4e3s7uBoAAAAAjnLu3DmVK1fOmhGyU+CCU/rped7e3gQnAAAAADm6hIfJIQAAAADADoITAAAAANhBcAIAAAAAOwhOAAAAAGAHwQkAAAAA7CA4AQAAAIAdBCcAAAAAsIPgBAAAAAB2EJwAAAAAwA6CEwAAAADYQXACAAAAADsITgAAAABgB8EJAAAAAOwgOAEAAACAHQ4NTu+8844sFovNl7+/f7bbrFu3TnXr1pW7u7sCAwM1derUu1QtAAAAgIKqkKMLCA4O1k8//WRddnZ2zrLvwYMHFRYWphdffFHz5s3Tzz//rH79+qlkyZJ6/PHH70a5AAAAAAoghwenQoUK2R1lSjd16lSVL19eEyZMkCRVr15dW7Zs0fjx4wlOAAAAAO4YhwenAwcOqHTp0nJzc9ODDz6o9957T4GBgZn2jYmJUZs2bWza2rZtq+nTp+vq1atycXHJsE1KSopSUlKsy+fOncvbBwCHu3z5so4cOeLoMlCAlC9fXu7u7o4uA8ANeC/A3cZ7QcHj0OD04IMPas6cOapatapOnDihMWPGqGHDhtq9e7eKFy+eoX9CQoL8/Pxs2vz8/HTt2jWdPn1aAQEBGbYZO3asRo0adcceAxzvyJEj6tOnj6PLQAEybdo0Va1a1dFlALgB7wW423gvKHgsxhjj6CLSXbhwQffdd5+GDBmiQYMGZVhftWpV9erVS0OHDrW2/fzzz2rcuLHi4+MzPeUvsxGncuXKKSkpSd7e3nfmgeCu4lPG3Dt8+LAiIiI0fPhwVahQwdHl3HP4lBHIf3gvuDW8H9w63gv+Gc6dOycfH58cZQOHn6p3I09PT91///06cOBApuv9/f2VkJBg03by5EkVKlQo0xEqSXJzc5Obm1ue14r8w93dnU98blGFChX43gH4R+C94PbwfgDYl6/u45SSkqK9e/dmesqdJIWGhmrVqlU2bT/++KPq1auX6fVNAAAAAJAXHBqcBg8erHXr1ungwYPatGmTnnjiCZ07d049evSQJA0dOlTdu3e39n/55Zd1+PBhDRo0SHv37tWMGTM0ffp0DR482FEPAQAAAEAB4NBT9Y4dO6Znn31Wp0+fVsmSJfXQQw/pl19+sZ5jGx8fb3O+cqVKlbR8+XK9/vrrmjRpkkqXLq1PPvmEqcgBAAAA3FEODU4LFizIdv2sWbMytDVr1kzbtm27QxUBAAAAQEb56honAAAAAMiPCE4AAAAAYAfBCQAAAADsIDgBAAAAgB0EJwAAAACwg+AEAAAAAHYQnAAAAADADoITAAAAANhBcAIAAAAAOwhOAAAAAGAHwQkAAAAA7CA4AQAAAIAdBCcAAAAAsIPgBAAAAAB2FHJ0AbB14sQJJSUlOboM/MMdPnzY5l/gTvLx8ZGfn5+jywAA4LYQnPKREydO6Llu3XX1SoqjS0EBERER4egSUAC4uLpp3tw5hCcAwD2N4JSPJCUl6eqVFF0KbKY0dx9HlwMAt83pcpL01zolJSURnAAA9zSCUz6U5u6jNM8Sji4DAAAAwP/H5BAAAAAAYAfBCQAAAADsIDgBAAAAgB0EJwAAAACwg+AEAAAAAHYQnAAAAADADoITAAAAANhBcAIAAAAAOwhOAAAAAGAHwQkAAAAA7CA4AQAAAIAdBCcAAAAAsIPgBAAAAAB2EJwAAAAAwA6CEwAAAADYQXACAAAAADsITgAAAABgB8EJAAAAAOwgOAEAAACAHQQnAAAAALCD4AQAAAAAdhCcAAAAAMAOghMAAAAA2EFwAgAAAAA7CE4AAAAAYAfBCQAAAADsIDgBAAAAgB0EJwAAAACwI98Ep7Fjx8pisei1117Lsk9UVJQsFkuGr3379t29QgEAAAAUOIUcXYAkbd68WdOmTVNISEiO+u/fv1/e3t7W5ZIlS96p0gAAAADA8cEpOTlZ4eHh+vzzzzVmzJgcbVOqVCkVLVo0R31TUlKUkpJiXT537tytlHlXOV066+gSACBP8HoGAPincHhw6t+/vzp06KBWrVrlODjVqVNHly9fVo0aNTRixAi1aNEiy75jx47VqFGj8qrcu8LjYLSjSwAAAABwA4cGpwULFmjbtm3avHlzjvoHBARo2rRpqlu3rlJSUjR37ly1bNlSUVFRatq0aabbDB06VIMGDbIunzt3TuXKlcuT+u+US5WaKs2jqKPLAIDb5nTpLB8GAQD+ERwWnI4ePaqBAwfqxx9/lLu7e462CQoKUlBQkHU5NDRUR48e1fjx47MMTm5ubnJzc8uTmu+WNI+iSvMs4egyAAAAAPx/DptVb+vWrTp58qTq1q2rQoUKqVChQlq3bp0++eQTFSpUSKmpqTnaz0MPPaQDBw7c4WoBAAAAFGQOG3Fq2bKldu7cadPWq1cvVatWTW+++aacnZ1ztJ/t27crICDgTpQIAAAAAJIcGJy8vLxUs2ZNmzZPT08VL17c2j506FDFxcVpzpw5kqQJEyaoYsWKCg4O1pUrVzRv3jwtWrRIixYtuuv1AwAAACg4HD6rXnbi4+N15MgR6/KVK1c0ePBgxcXFycPDQ8HBwVq2bJnCwsIcWCUAAACAf7p8FZyioqJslmfNmmWzPGTIEA0ZMuTuFQQAAAAAcuDkEAAAAABwryA4AQAAAIAdBCcAAAAAsIPgBAAAAAB2EJwAAAAAwA6CEwAAAADYQXACAAAAADsITgAAAABgB8EJAAAAAOwgOAEAAACAHQQnAAAAALCD4AQAAAAAdhCcAAAAAMAOghMAAAAA2FHI0QUAAICMTpw4oaSkJEeXgX+4w4cP2/wL3Ek+Pj7y8/NzdBm3jOAEAEA+c+LECT3XrbuuXklxdCkoICIiIhxdAgoAF1c3zZs7554NTwQnAADymaSkJF29kqJLgc2U5u7j6HIA4LY5XU6S/lqnpKQkghMAAMhbae4+SvMs4egyAABicggAAAAAsIvgBAAAAAB2EJwAAAAAwA6CEwAAAADYQXACAAAAADsITgAAAABgB8EJAAAAAOwgOAEAAACAHdwANx9yupzk6BIAIE/wegYA+KcgOOUjPj4+cnF1k/5a5+hSACDPuLi6ycfHx9FlAABwWwhO+Yifn5/mzZ2jpCQ+ocWddfjwYUVERGj48OGqUKGCo8vBP5yPj4/8/PwcXQYAALeF4JTP+Pn58QcG7poKFSqoatWqji4DAAAg32NyCAAAAACwg+AEAAAAAHYQnAAAAADADoITAAAAANhBcAIAAAAAOwhOAAAAAGAHwQkAAAAA7CA4AQAAAIAdBCcAAAAAsIPgBAAAAAB2EJwAAAAAwA6CEwAAAADYQXACAAAAADsITgAAAABgB8EJAAAAAOzIN8Fp7Nixslgseu2117Ltt27dOtWtW1fu7u4KDAzU1KlT706BAAAAAAqsfBGcNm/erGnTpikkJCTbfgcPHlRYWJiaNGmi7du3a9iwYXr11Ve1aNGiu1QpAAAAgILI4cEpOTlZ4eHh+vzzz1WsWLFs+06dOlXly5fXhAkTVL16db3wwgvq3bu3xo8ff5eqBQAAAFAQOTw49e/fXx06dFCrVq3s9o2JiVGbNm1s2tq2bastW7bo6tWrmW6TkpKic+fO2XwBAAAAQG44NDgtWLBA27Zt09ixY3PUPyEhQX5+fjZtfn5+unbtmk6fPp3pNmPHjpWPj4/1q1y5crddNwAAAICCxWHB6ejRoxo4cKDmzZsnd3f3HG9nsVhslo0xmbanGzp0qJKSkqxfR48evfWiAQAAABRIhRx14K1bt+rkyZOqW7eutS01NVXR0dGaOHGiUlJS5OzsbLONv7+/EhISbNpOnjypQoUKqXjx4pkex83NTW5ubnn/AAAAAAAUGA4LTi1bttTOnTtt2nr16qVq1arpzTffzBCaJCk0NFTff/+9TduPP/6oevXqycXF5Y7WCwAAAKDgclhw8vLyUs2aNW3aPD09Vbx4cWv70KFDFRcXpzlz5kiSXn75ZU2cOFGDBg3Siy++qJiYGE2fPl3z58+/6/UDAAAAKDgcPqteduLj43XkyBHrcqVKlbR8+XJFRUWpdu3aevfdd/XJJ5/o8ccfd2CVAAAAAP7pHDbilJmoqCib5VmzZmXo06xZM23btu3uFAQAAAAAyucjTgAAAACQHxCcAAAAAMAOghMAAAAA2EFwAgAAAAA7CE4AAAAAYAfBCQAAAADsIDgBAAAAgB0EJwAAAACwg+AEAAAAAHYQnAAAAADADoITAAAAANhBcAIAAAAAOwhOAAAAAGAHwQkAAAAA7CA4AQAAAIAdBCcAAAAAsIPgBAAAAAB2EJwAAAAAwA6CEwAAAADYQXACAAAAADsITgAAAABgB8EJAAAAAOwgOAEAAACAHQQnAAAAALCD4AQAAAAAdhCcAAAAAMCOQo4uAAAAZM7p0llHlwAAeeKf8HpGcAIAIJ/yOBjt6BIAAP8fwQkAgHzqUqWmSvMo6ugyAOC2OV06e89/GERwAgAgn0rzKKo0zxKOLgMAICaHAAAAAAC7CE4AAAAAYAfBCQAAAADsIDgBAAAAgB0EJwAAAACwg+AEAAAAAHYQnAAAAADADoITAAAAANhBcAIAAAAAOwrldoPvvvsu03aLxSJ3d3dVrlxZlSpVuu3CAAAAACC/yHVwevTRR2WxWGSMsWlPb7NYLGrcuLGWLFmiYsWK5VmhAAAAAOAouT5Vb9WqVapfv75WrVqlpKQkJSUladWqVWrQoIGWLl2q6OhonTlzRoMHD74T9QIAAADAXZfrEaeBAwdq2rRpatiwobWtZcuWcnd3V58+fbR7925NmDBBvXv3ztNCAQAAAMBRcj3i9Oeff8rb2ztDu7e3t/766y9JUpUqVXT69Onbrw4AAAAA8oFcB6e6devqjTfe0KlTp6xtp06d0pAhQ1S/fn1J0oEDB1S2bNm8qxIAAAAAHCjXp+pNnz5dnTt3VtmyZVWuXDlZLBYdOXJEgYGB+t///idJSk5O1r///e88LxYAAAAAHCHXwSkoKEh79+7VDz/8oN9//13GGFWrVk2tW7eWk9P1AaxHH300R/uaMmWKpkyZokOHDkmSgoOD9fbbb6t9+/aZ9o+KilKLFi0ytO/du1fVqlXL7UMBAAAAgBzJdXCSrk893q5dO7Vr1+62Dl62bFn95z//UeXKlSVJs2fPVufOnbV9+3YFBwdnud3+/fttrrMqWbLkbdUBAAAAANm5peC0evVqrV69WidPnlRaWprNuhkzZuR4P506dbJZjoiI0JQpU/TLL79kG5xKlSqlokWL5qpmAAAAALhVuZ4cYtSoUWrTpo1Wr16t06dP6++//7b5ulWpqalasGCBLly4oNDQ0Gz71qlTRwEBAWrZsqXWrl2bbd+UlBSdO3fO5gsAAAAAciPXI05Tp07VrFmz1K1btzwpYOfOnQoNDdXly5dVpEgRffvtt6pRo0amfQMCAjRt2jTVrVtXKSkpmjt3rlq2bKmoqCg1bdo0023Gjh2rUaNG5UmtAAAAAAqmXAenK1eu2Nz89nYFBQVpx44dOnv2rBYtWqQePXpo3bp1mYanoKAgBQUFWZdDQ0N19OhRjR8/PsvgNHToUA0aNMi6fO7cOZUrVy7P6gcAAADwz5frU/VeeOEFffnll3lWgKurqypXrqx69epp7NixqlWrlj7++OMcb//QQw/pwIEDWa53c3OTt7e3zRcAAAAA5EauR5wuX76sadOm6aefflJISIhcXFxs1n/44Ye3VZAxRikpKTnuv337dgUEBNzWMQEAAAAgO7kOTrGxsapdu7YkadeuXTbrLBZLrvY1bNgwtW/fXuXKldP58+e1YMECRUVFaeXKlZKun2YXFxenOXPmSJImTJigihUrKjg4WFeuXNG8efO0aNEiLVq0KLcPAwAAAAByLNfByd4sdrlx4sQJdevWTfHx8fLx8VFISIhWrlyp1q1bS5Li4+N15MgRa/8rV65o8ODBiouLk4eHh4KDg7Vs2TKFhYXlWU0AAAAAcLNbuo9TXpk+fXq262fNmmWzPGTIEA0ZMuQOVgQAAAAAGeUoOHXp0kWzZs2St7e3unTpkm3fxYsX50lhAAAAAJBf5Cg4+fj4WK9f8vb2zvW1TAAAAABwL8tRcJo5c6b1/zefPgcAAAAA/3S5vsbp4Ycf1uLFi1W0aFGb9nPnzunRRx/VmjVr8qo2IEcuX75sM4kI7Dt8+LDNv8id8uXLy93d3dFlAACAuyjXwSkqKkpXrlzJ0H758mWtX78+T4oCcuPIkSPq06ePo8u4J0VERDi6hHvStGnTVLVqVUeXAQAA7qIcB6fY2Fjr//fs2aOEhATrcmpqqlauXKkyZcrkbXVADpQvX17Tpk1zdBkoQMqXL+/oEgAAwF2W4+BUu3ZtWSwWWSwWPfzwwxnWe3h46NNPP83T4oCccHd359N/AAAA3FE5Dk4HDx6UMUaBgYH69ddfVbJkSes6V1dXlSpVSs7OznekSAAAAABwpBwHpwoVKkiS0tLS7lgxAAAAAJAf5XpyiHR79uzRkSNHMkwU8cgjj9x2UQAAAACQn+Q6OP3111967LHHtHPnTlksFhljJMl6U9zU1NS8rRAAAAAAHMwptxsMHDhQlSpV0okTJ1S4cGHt3r1b0dHRqlevnqKiou5AiQDy0vLly9W8eXPr1/Llyx1dEgAAQL6X6xGnmJgYrVmzRiVLlpSTk5OcnJzUuHFjjR07Vq+++qq2b99+J+oEkAeaN2+eoW3cuHEaN24cH3wAAABkI9cjTqmpqSpSpIgkqUSJEjp+/Lik65NH7N+/P2+rA5Bnbg5NFStWzHY9AAAA/k+uR5xq1qyp2NhYBQYG6sEHH9S4cePk6uqqadOmKTAw8E7UCOA23Xg63ttvv21zL7Y1a9Zo9OjR1n5hYWF3vT4AAID8LtcjTiNGjLBOST5mzBgdPnxYTZo00fLly/Xxxx/neYEAbt+4ceOs/7/5BtY3Lt/YDwAAAP8n1yNObdu2tf4/MDBQe/bsUWJioooVK2adWQ9A/nTz6XnpypQpo7i4uLtbDAAAwD0k1yNOmfH19VVCQoIGDBiQF7sDcIccOnQo03ZCEwAAQPZyFZz27NmjSZMmadq0aTp79qwk6fTp03r99dcVGBioNWvW3IkaAdymIUOGWP9/8/P0xuUb+wEAAOD/5PhUvaVLl+rxxx/X1atXJV2/FuLzzz/XU089pZo1a2rhwoXq2LHjHSsUwK0LCwuzXr80evRojR49OtPT85gYAgAAIHM5HnGKiIjQyy+/rHPnzmn8+PH666+/9PLLL2vRokVau3YtoQnI526+T9PNoYn7OAEAAGQtx8Fp79696t+/v4oUKaJXX31VTk5OmjBhgpo2bXon6wOQh6KiojKcjjdkyBBCEwAAgB05Dk7nzp1T0aJFJUmFChWSh4eHqlateqfqAnCHpD+Ps1oGAABARrmajnzPnj1KSEiQJBljtH//fl24cMGmT0hISN5VByBPNW/ePEPbsGHDJHGqHgAAQHZyFZxatmwpY4x1Of26JovFImOMLBaLUlNT87ZCAHni5tBUt25dbd261WY94QkAACBzOQ5OBw8evJN1ALiDNm7caP3/hx9+qAceeMC6vG3bNg0aNMjar2HDhne9PgAAgPwux8GpQoUKd7IOAHdQ+ul4kmxC083Lw4YNY9QJAAAgE7m6AS6Ae1vdunUzbefaRAAAgOwRnIAC5MZrmm4UGxt7lysBAAC4txCcgALgvffes/5/27ZtNutuXL6xHwAAAP5PrmbVA3BvunHCh/SJIEJCQjKMNDExBAAAQOZuacTp2rVr+umnn/TZZ5/p/PnzkqTjx48rOTk5T4sDkHdunvTh5tDEpBAAAABZy/WI0+HDh9WuXTsdOXJEKSkpat26tby8vDRu3DhdvnxZU6dOvRN1AsgDUVFR2rhxo80se++99x4jTQAAAHbkesRp4MCBqlevnv7++295eHhY2x977DGtXr06T4sDkPdKly4tZ2dnSZKzs7NKly7t4IoAAADyv1yPOG3YsEE///yzXF1dbdorVKiguLi4PCsMQN5r0aKFjDHW5dTUVPXs2VMWi0Vr1651YGUAAAD5W65HnNLS0pSampqh/dixY/Ly8sqTogDkvRtDk5ubm1566SW5ublJkowxatGihSPLAwAAyNdyHZxat26tCRMmWJctFouSk5M1cuRIhYWF5WVtAPLIoUOHrKFpwYIF+uGHH/Tss8/qhx9+0IIFCyRdD0+HDh1yYJUAAAD5V66D00cffaR169apRo0aunz5srp27aqKFSsqLi5O77///p2oEcBtev755yVdH2ny9/e3Wefv728deUrvBwAAAFu5vsapdOnS2rFjh+bPn69t27YpLS1Nzz//vMLDw20miwCQf6SfXtuzZ89M14eHh2vGjBmZnoYLAACAW7wBroeHh3r37q3evXvndT0A7gBnZ2elpqZq1qxZevbZZzOsj4yMtPYDAABARrkOTt99912m7RaLRe7u7qpcubIqVap024UByDvTp09Xz549lZKSooSEBJvT9RISEpSSkmLtBwAAgIxyHZweffRRWSwWmymNJVnbLBaLGjdurCVLlqhYsWJ5ViiAW1exYkXrc/SZZ56Rm5ubwsPDFRkZaQ1NFotFFStWdGyhAAAA+VSuJ4dYtWqV6tevr1WrVikpKUlJSUlatWqVGjRooKVLlyo6OlpnzpzR4MGD70S9AG7R2rVrZbFYJEkpKSmaMWOGTWjiPk4AAABZy/WI08CBAzVt2jQ1bNjQ2tayZUu5u7urT58+2r17tyZMmMD1T0A+tHbtWh06dEjPP/+8UlNT5ezsrOnTpzPSBAAAYEeug9Off/4pb2/vDO3e3t7666+/JElVqlTR6dOnb786AHmuYsWKWr16taPLAAAAuKfk+lS9unXr6o033tCpU6esbadOndKQIUNUv359SdKBAwdUtmzZvKsSQJ7ZsmWLmjdvbv3asmWLo0sCAADI93IdnKZPn66DBw+qbNmyqly5sqpUqaKyZcvq0KFD+uKLLyRJycnJ+ve//213X1OmTFFISIi8vb3l7e2t0NBQrVixIttt1q1bp7p168rd3V2BgYGaOnVqbh8CUGA1b948w/WHgwcPVvPmzR1TEAAAwD0i16fqBQUFae/evfrhhx/0+++/yxijatWqqXXr1nJyup7DHn300Rztq2zZsvrPf/6jypUrS5Jmz56tzp07a/v27QoODs7Q/+DBgwoLC9OLL76oefPm6eeff1a/fv1UsmRJPf7447l9KECBcnM4aty4sTZs2GCzPioq6u4WBQAAcI+4pRvgWiwWtWvXTu3atbutg3fq1MlmOSIiQlOmTNEvv/ySaXCaOnWqypcvrwkTJkiSqlevri1btmj8+PEEJyAbN56ON3HiRNWsWdO6vGvXLg0YMMDar169ene9PgAAgPzuloLThQsXtG7dOh05ckRXrlyxWffqq6/eUiGpqalauHChLly4oNDQ0Ez7xMTEqE2bNjZtbdu21fTp03X16lW5uLhk2CYlJcU65bIknTt37pbqA+5lN56ed2Nounl58ODBjDoB+YjT5SRHlwAAeeKf8HqW6+C0fft2hYWF6eLFi7pw4YJ8fX11+vRpFS5cWKVKlcp1cNq5c6dCQ0N1+fJlFSlSRN9++61q1KiRad+EhAT5+fnZtPn5+enatWs6ffq0AgICMmwzduxYjRo1Klc1Af9UjRs3zrT9wQcf1KZNm+5yNQCy4uPjIxdXN+mvdY4uBQDyjIurm3x8fBxdxi3LdXB6/fXX1alTJ02ZMkVFixbVL7/8IhcXFz333HMaOHBgrgsICgrSjh07dPbsWS1atEg9evTQunXrsgxP6TfwTGeMybQ93dChQzVo0CDr8rlz51SuXLlc1wn8E9x4TdONCE1A/uLn56d5c+coKene/4QW+dvhw4cVERGh4cOHq0KFCo4uB/9wPj4+GQZB7iW5Dk47duzQZ599JmdnZzk7OyslJUWBgYEaN26cevTooS5duuRqf66urtbJIerVq6fNmzfr448/1meffZahr7+/vxISEmzaTp48qUKFCql48eKZ7t/NzU1ubm65qgn4pxk/frz1dL1du3ZluMbpxn4A8gc/P797+g8M3FsqVKigqlWrOroMIF/LdXBycXGxju74+fnpyJEjql69unx8fHTkyJHbLsgYY3NN0o1CQ0P1/fff27T9+OOPqlevXqbXNwG47sYJH9Ingsjs9DwmhgAAAMhcru/jVKdOHesMXS1atNDbb7+tyMhIvfbaa7r//vtzta9hw4Zp/fr1OnTokHbu3Knhw4crKipK4eHhkq6fZte9e3dr/5dfflmHDx/WoEGDtHfvXs2YMUPTp0/PcF8aABndPOnDzaGJSSEAAACyluvg9N5771knYXj33XdVvHhx9e3bVydPntS0adNyta8TJ06oW7duCgoKUsuWLbVp0yatXLlSrVu3liTFx8fbjGJVqlRJy5cvV1RUlGrXrq13331Xn3zyCVORAzkUFRWV4XS88ePHE5oAAADsyNWpesYYlSxZ0nqPpZIlS2r58uW3fPDp06dnu37WrFkZ2po1a6Zt27bd8jGBgq5o0aKyWCwyxshisaho0aKOLgkAACDfy3VwqlKlinbv3q0qVarcqZoA3CHNmze3WTbG6IUXXpDEqXoAAADZydWpek5OTqpSpYrOnDlzp+oBcIfcGJqcnZ3VrVs3OTs7Z7oeAAAAtnJ9jdO4ceP0xhtv2ExhDCB/++OPP6z/nzdvnlavXq3nn39eq1ev1rx58zLtBwAAgP+T6+nIn3vuOV28eFG1atWSq6urPDw8bNYnJibmWXEA8saLL74o6fpIU9myZW3WlS1bVs7OzkpNTdWLL76otWvXOqJEAACAfC3XwWnChAl3oAwAd5IxRpLUtWvXTNc/+eSTWrBggbUfAAAAbOU6OPXo0eNO1AHgDkqfRe/LL7/U888/n2H9woULrf0AAACQUa6vcZKkP//8UyNGjNCzzz6rkydPSpJWrlyp3bt352lxAPLG559/LklKTU3VsWPHbNYdO3ZMqampNv0AAABgK9fBad26dbr//vu1adMmLV68WMnJyZKk2NhYjRw5Ms8LBHD7KleubP3/c889p5YtW2rq1Klq2bKlnnvuuUz7AQAA4P/kOji99dZbGjNmjFatWiVXV1dre4sWLRQTE5OnxQHIOzfepyk1NVULFiywjjTdvB4AAAC2ch2cdu7cqcceeyxDe8mSJbm/E5DPRUVF6YsvvrBey2SxWPTFF18QmgAAAOzIdXAqWrSo4uPjM7Rv375dZcqUyZOiANw5hQsXlqenp5ydneXp6anChQs7uiQAAIB8L9ez6nXt2lVvvvmmFi5cKIvForS0NP38888aPHiwunfvfidqBJBHWrduratXr1qXk5OT1bVrV7m4uGjVqlUOrAwAACB/y/WIU0REhMqXL68yZcooOTlZNWrUUNOmTdWwYUONGDHiTtQIIA/cGJp8fX01dOhQ+fr6SpKuXr2q1q1bO7I8AACAfC3XI04uLi6KjIzU6NGjtX37dqWlpalOnTqqUqXKnagPQB44fvy4NTQtXrzYGpjatm2rxMREdenSRVevXtXx48dVunRpR5YKAACQL+U6OK1bt07NmjXTfffdp/vuu+9O1AQgj/Xp00fS9ZGm9NCULr0tMTFRffr00dKlSx1RIgAAQL6W61P1WrdurfLly+utt97Srl277kRNAPLYpUuXJEkvvfRSput79+5t0w8AAAC2ch2cjh8/riFDhmj9+vUKCQlRSEiIxo0bp2PHjt2J+gDkAQ8PD0nSZ599lun6GTNm2PQDAACArVwHpxIlSmjAgAH6+eef9eeff+rpp5/WnDlzVLFiRT388MN3okYAt2natGmSpMTERCUmJtqsu7EtvR8AAABs5foapxtVqlRJb731lmrVqqV///vfWrduXV7VBSAPlS5dWi4uLrp69aq6dOkiX19f9e7dWzNmzLCGJhcXFyaGAAAAyEKuR5zS/fzzz+rXr58CAgLUtWtXBQcHc1E5kI+tWrVKLi4ukq6PMo0fP94mNHEfJwAAgKzlesRp2LBhmj9/vo4fP65WrVppwoQJevTRR1W4cOE7UR+APLRq1SodP35cffr00aVLl+Th4aFp06Yx0gQAAGBHroNTVFSUBg8erKefflolSpSwWbdjxw7Vrl07r2oDcAeULl2a0WEAAIBcynVw2rhxo81yUlKSIiMj9cUXX+i3335TampqnhUHIO8lJydr7Nix1pvdDh06VEWKFHF0WQAAAPnaLU8OsWbNGs2YMUOLFy9WhQoV9Pjjj2v69Ol5WRuAPPbyyy9r37591uWDBw+qY8eOqlatmqZOnerAygAAAPK3XE0OcezYMY0ZM0aBgYF69tlnVaxYMV29elWLFi3SmDFjVKdOnTtVJ4DblB6aLBaL2rRpoy+++EJt2rSRxWLRvn379PLLLzu6RAAAgHwrx8EpLCxMNWrU0J49e/Tpp5/q+PHj+vTTT+9kbQDySHJysjU0rVixQsOGDVPlypU1bNgwrVixwhqekpOTHV0qAABAvpTj4PTjjz/qhRde0KhRo9ShQwc5OzvfyboA5KGxY8dKklq3bi13d3ebde7u7mrVqpVNPwAAANjKcXBav369zp8/r3r16unBBx/UxIkTderUqTtZG4A8cvz4cUnSU089len6J5980qYfAAAAbOU4OIWGhurzzz9XfHy8XnrpJS1YsEBlypRRWlqaVq1apfPnz9/JOgHchvT7NH399deZrl+4cKFNPwAAANjK1eQQklS4cGH17t1bGzZs0M6dO/Wvf/1L//nPf1SqVCk98sgjd6JGALdp6NChkq7fAPfy5cs26y5fvqyffvrJph8AAABs5To43SgoKEjjxo3TsWPHNH/+/LyqCUAeK1KkiKpVqyZjjNq3b6+IiAj9/vvvioiIUPv27WWMUbVq1bifEwAAQBYsxhjj6CLupnPnzsnHx0dJSUny9vZ2dDnAXXXzfZzScR8nACiYfv/9d/Xp00fTpk1T1apVHV0OcNflJhvc8g1wAdx7pk6dquTkZI0dO1bHjx9X6dKlNXToUEaaAAAA7LitU/UA3HtSU1OVlJSk5ORkJSUlKTU11dElAQAA5HuMOAEFSHh4uOLi4qzLp06dUufOnVWmTBlFRkY6sDIAAID8jREnoIC4MTQ1aNBAEydOVIMGDSRJcXFxCg8Pd2R5AAAA+RojTkABkJSUZA1Ny5cvV+HChSVJ48aN08WLFxUWFqa4uDglJSXJx8fHkaUCAADkS4w4AQXA8OHDJV0faUoPTekKFy6s+vXr2/QDAACALYITUACcOHFCktS9e/dM13fr1s2mHwAAAGwRnIACwM/PT5I0Z86cTNfPnTvXph8AAABsEZyAAiAiIkKS9Ouvv+rixYs26y5evKjNmzfb9AMAAIAtJocACgAfHx+VKVNGcXFxCgsLU/369dWtWzfNnTvXGprKlCnDxBAAAABZIDgBBURkZKR1SvLNmzdbA5Mk7uMEAABgB8EJKEAiIyOVlJSk4cOH68SJE/Lz81NERAQjTQAAAHYQnIACxsfHRxMnTnR0GQAAAPcUghNQwDDiBAAAkHsOnVVv7Nixql+/vry8vFSqVCk9+uij2r9/f7bbREVFyWKxZPjat2/fXaoauHeFh4erc+fO2rVrl06dOqVdu3apc+fOCg8Pd3RpAAAA+ZpDg9O6devUv39//fLLL1q1apWuXbumNm3a6MKFC3a33b9/v+Lj461fVapUuQsVA/eu9IkhJKlBgwaaOHGiGjRoIEmKi4sjPAEAAGTDoafqrVy50mZ55syZKlWqlLZu3aqmTZtmu22pUqVUtGjRO1gd8M+RlJRkDU3Lly9X4cKFJUnjxo3TxYsXFRYWpri4OCUlJXHaHgAAQCby1Q1wk5KSJEm+vr52+9apU0cBAQFq2bKl1q5dm2W/lJQUnTt3zuYLKGiGDx8u6fpIU3poSle4cGHVr1/fph8AAABs5ZvgZIzRoEGD1LhxY9WsWTPLfgEBAZo2bZoWLVqkxYsXKygoSC1btlR0dHSm/ceOHSsfHx/rV7ly5e7UQwDyrRMnTkiSunfvnun6bt262fQDAACArXwzq96AAQMUGxurDRs2ZNsvKChIQUFB1uXQ0FAdPXpU48ePz/T0vqFDh2rQoEHW5XPnzhGeUOD4+fnp1KlTmjNnjsaNG5dh/dy5c639AAAAkFG+GHF65ZVX9N1332nt2rUqW7Zsrrd/6KGHdODAgUzXubm5ydvb2+YLKGgiIiIkSb/++qsuXrxos+7ixYvavHmzTT8AAADYcuiIkzFGr7zyir799ltFRUWpUqVKt7Sf7du3KyAgII+rA/45fHx8VKZMGcXFxSksLEz169dXt27dNHfuXGtoKlOmDBNDAAAAZMGhwal///768ssv9b///U9eXl5KSEiQdP2PPA8PD0nXT7WLi4vTnDlzJEkTJkxQxYoVFRwcrCtXrmjevHlatGiRFi1a5LDHAdwLIiMjrVOSb9682RqYpOuhKTIy0oHVAQAA5G8ODU5TpkyRJDVv3tymfebMmerZs6ckKT4+XkeOHLGuu3LligYPHqy4uDh5eHgoODhYy5YtU1hY2N0qG7hnRUZGKikpScOHD9eJEyfk5+eniIgIRpoAAADscPipevbMmjXLZnnIkCEaMmTIHaoI+OdzdnaWj4+PLly4IB8fHzk7Ozu6JAAAgHwv38yqB+DOe/nll7Vv3z7r8sGDB9WxY0dVq1ZNU6dOdWBlAAAA+Vu+mFUPwJ2XHposFovatGmjL774Qm3atJHFYtG+ffv08ssvO7pEAACAfIsRJ6AASE5OtoamFStWyN3dXZI0bNgwDRo0SO3bt9e+ffuUnJysIkWKOLhaAACA/IcRJ6AAGDt2rCSpdevW1tCUzt3dXa1atbLpBwAAAFsEJ6AAOH78uCTpqaeeynT9k08+adMPAAAAtghOQAFQunRpSdLXX3+d6fqFCxfa9AMAAIAtghNQAAwdOlSStGrVKl2+fNlm3eXLl/XTTz/Z9AMAAIAtJocACoAiRYqoWrVq2rdvn9q3b69WrVrpySef1MKFC/XTTz/JGKNq1aoxMQQAAEAWGHECCoipU6eqWrVqMsZo1apV6tOnj1atWmUNTdzHCQAAIGuMOAEFyNSpU5WcnKyxY8fq+PHjKl26tIYOHcpIEwAAgB0EJ6CAuXLliuLi4nTmzBkZY3TlyhVHlwQAAJDvEZyAAqRLly5KTEy0Lp8/f15dunSRr6+vFi9e7MDKAAAA8jeucQIKiBtDU40aNfTBBx+oRo0akqTExER16dLFkeUBAADka4w4AQVAYmKiNTQtXbrUek1T3bp1lZycrI4dO1r7+Pr6OrJUAACAfIkRJ6AAGDRokKTrI003TwRRpEgRVa9e3aYfAAAAbBGcgALgzJkzkqTnn38+0/W9evWy6QcAAABbBCegAChevLgkafr06Zmunzlzpk0/AAAA2CI4AQXAhx9+KEnas2ePkpOTbdYlJydr7969Nv0AAABgi8khgALA19dXvr6+SkxMVMeOHVW9enX16tVLM2fOtIam9D4AAADIiBEnoIBYvHixNRjt3btXQ4YMsQlN3McJAAAga4w4AQXI4sWLlZiYqEGDBunMmTMqXry4PvzwQ0aaAAAA7CA4AQWMr6+vZs2a5egyAAAA7ikEJ6CASUpK0vDhw3XixAn5+fkpIiJCPj4+ji4LAAAgXyM4AQVIeHi44uLirMunTp1S586dVaZMGUVGRjqwMgAAgPyNySGAAuLG0NSgQQNNnDhRDRo0kCTFxcUpPDzckeUBAADka4w4AQVAUlKSNTQtX75chQsXliSNGzdOFy9eVFhYmOLi4pSUlMRpewAAAJlgxAkoAIYPHy7p+khTemhKV7hwYdWvX9+mHwAAAGwRnIAC4MSJE5Kk7t27Z7q+W7duNv0AAABgi+AEFAB+fn6SpDlz5mS6fu7cuTb9AAAAYIvgBBQAERERkqRff/1VFy9etFl38eJFbd682aYfAAAAbDE5BFAA+Pj4qEyZMoqLi1NYWJjq16+vbt26ae7cudbQVKZMGSaGAAAAyALBCSggIiMjrVOSb9682RqYJHEfJwAAADsITkABEhkZqaSkJA0fPlwnTpyQn5+fIiIiGGkCAACwg+AEFDCurq6qXLmy3N3dVbZsWbm6ujq6JAAAgHyP4AQUIMOHD9fPP/9sXd6yZYuWLFmiRo0aMTEEAABANphVDygg0kOTi4uLunbtqnnz5qlr165ycXHRzz//zM1vAQAAssGIE1AAXLp0yRqali1bZj09r0+fPurZs6c6dOign3/+WZcuXZKHh4eDqwUAAMh/GHECCoDPPvtMkvTkk09muKbJ1dVVTzzxhE0/AAAA2CI4AQXAsWPHJElhYWGZrk9vT+8HAAAAWwQnoAAoW7asJGn58uWZrk9vT+8HAAAAWwQnoAB46aWXJEkLFy7UlStXbNZduXJF33zzjU0/AAAA2CI4AQWAh4eHGjVqpKtXr6pDhw767LPPdPToUX322Wfq0KGDrl69qkaNGjExBAAAQBYITkABERERYQ1P8+fPV7du3TR//nxraOI+TgAAAFljOnKgAImIiNClS5f02Wef6dixYypbtqxeeuklRpoAAADsIDgBBYyrq6uaNWumxMRE+fr6ZpieHAAAABk59FS9sWPHqn79+vLy8lKpUqX06KOPav/+/Xa3W7dunerWrSt3d3cFBgZq6tSpd6Fa4N4XHR2t8PBwvf7663r33Xf1+uuvKzw8XNHR0Y4uDQAAIF9zaHBat26d+vfvr19++UWrVq3StWvX1KZNG124cCHLbQ4ePKiwsDA1adJE27dv17Bhw/Tqq69q0aJFd7Fy4N4THR2tkSNHKjAwUJMmTdLy5cs1adIkBQYGauTIkYQnAACAbFiMMcbRRaQ7deqUSpUqpXXr1qlp06aZ9nnzzTf13Xffae/evda2l19+Wb/99ptiYmLsHuPcuXPy8fFRUlKSvL2986x2ID9LTU1VeHi4AgMDNWbMGDk5/d9nJmlpaRoxYoQOHjyoefPmydnZ2YGVAgDupt9//119+vTRtGnTVLVqVUeXA9x1uckG+WpWvaSkJEmSr69vln1iYmLUpk0bm7a2bdtqy5Ytunr1aob+KSkpOnfunM0XUNDExsYqISFB4eHhNqFJkpycnBQeHq74+HjFxsY6qEIAAID8Ld8EJ2OMBg0apMaNG6tmzZpZ9ktISJCfn59Nm5+fn65du6bTp09n6D927Fj5+PhYv8qVK5fntQP5XWJioiSpUqVKma5Pb0/vBwAAAFv5JjgNGDBAsbGxmj9/vt2+FovFZjn9bMOb2yVp6NChSkpKsn4dPXo0bwoG7iHpo7gHDx7MdH16e3ajvQAAAAVZvghOr7zyir777jutXbtWZcuWzbavv7+/EhISbNpOnjypQoUKqXjx4hn6u7m5ydvb2+YLKGhCQkLk7++vyMhIpaWl2axLS0tTZGSkAgICFBIS4qAKAQAA8jeHBidjjAYMGKDFixdrzZo1WZ5GdKPQ0FCtWrXKpu3HH39UvXr15OLicqdKBe5pzs7O6tevn2JiYjRixAjt3r1bFy9e1O7duzVixAjFxMSob9++TAwBAACQBYfeALd///768ssv9b///U9eXl7WkSQfHx95eHhIun6qXVxcnObMmSPp+gx6EydO1KBBg/Tiiy8qJiZG06dPz9EpfkBB1rRpU40aNUqTJ09W//79re0BAQEaNWpUljNZAgAAwMHBacqUKZKk5s2b27TPnDlTPXv2lCTFx8fryJEj1nWVKlXS8uXL9frrr2vSpEkqXbq0PvnkEz3++ON3q2zgntW0aVM1atRIsbGxSkxMlK+vr0JCQhhpAgAAsMOhwSknt5CaNWtWhrZmzZpp27Ztd6Ai4J/P2dlZderUcXQZAAAA9xSHBicAd19qaiojTgAAALlEcAIKkOjoaE2ePNlmZkp/f3/169ePa5wAAACykS+mIwdw50VHR2vkyJEKDAzUpEmTtHz5ck2aNEmBgYEaOXKkoqOjHV0iAABAvkVwAgqA1NRUTZ48WaGhoRozZoyCg4NVuHBhBQcHa8yYMQoNDdWUKVOUmprq6FIBAADyJYITUADExsYqISFB4eHhcnKyfdo7OTkpPDxc8fHxio2NdVCFAAAA+RvBCSgAEhMTJSnLm0ynt6f3AwAAgC2CE1AA+Pr6SpIOHjyY6fr09vR+AAAAsEVwAgqAkJAQ+fv7KzIyUmlpaTbr0tLSFBkZqYCAAIWEhDioQgAAgPyN4AQUAM7OzurXr59iYmI0YsQI7d69WxcvXtTu3bs1YsQIxcTEqG/fvtzPCQAAIAvcxwkoIJo2bapRo0Zp8uTJ6t+/v7U9ICBAo0aN4j5OAAAA2SA4AQVI06ZN1ahRI8XGxioxMVG+vr4KCQlhpAkAAMAOghNQwDg7O6tOnTqOLgMAAOCewjVOAAAAAGAHwQkAAAAA7CA4AQAAAIAdBCcAAAAAsIPgBAAAAAB2EJwAAAAAwA6CEwAAAADYQXACAAAAADsITgAAAABgB8EJAAAAAOwgOAEAAACAHQQnAAAAALCD4AQAAAAAdhCcAAAAAMAOghMAAAAA2EFwAgAAAAA7CE4AAAAAYAfBCQAAAADsIDgBAAAAgB0EJwAAAACwg+AEAAAAAHYQnAAAAADAjkKOLgDA3ZWamqrY2FglJibK19dXISEhcnZ2dnRZAAAA+RrBCShAoqOjNXnyZCUkJFjb/P391a9fPzVt2tSBlQEAAORvnKoHFBDR0dEaOXKkAgMDNWnSJC1fvlyTJk1SYGCgRo4cqejoaEeXCAAAkG8RnIACIDU1VZMnT1ZoaKjGjBmj4OBgFS5cWMHBwRozZoxCQ0M1ZcoUpaamOrpUAACAfIngBBQAsbGxSkhIUHh4uJycbJ/2Tk5OCg8PV3x8vGJjYx1UIQAAQP5GcAIKgMTERElSpUqVMl2f3p7eDwAAALYITkAB4OvrK0k6ePBgpuvT29P7AQAAwBbBCSgAQkJC5O/vr8jISKWlpdmsS0tLU2RkpAICAhQSEuKgCgEAAPI3ghNQADg7O6tfv36KiYnRiBEjtHv3bl28eFG7d+/WiBEjFBMTo759+3I/JwAAgCxwHyeggGjatKlGjRqlyZMnq3///tb2gIAAjRo1ivs4AQAAZIPgBBQgTZs2VaNGjRQbG6vExET5+voqJCSEkSYAAAA7CE5AAePs7Kw6deo4ugwAAIB7ikOvcYqOjlanTp1UunRpWSwWLVmyJNv+UVFRslgsGb727dt3dwoGAAAAUCA5dMTpwoULqlWrlnr16qXHH388x9vt379f3t7e1uWSJUveifIAAAAAQJKDg1P79u3Vvn37XG9XqlQpFS1aNO8LAgAAAIBM3JPTkdepU0cBAQFq2bKl1q5dm23flJQUnTt3zuYLAAAAAHLjngpOAQEBmjZtmhYtWqTFixcrKChILVu2VHR0dJbbjB07Vj4+PtavcuXK3cWKAQAAAPwT3FOz6gUFBSkoKMi6HBoaqqNHj2r8+PFZ3oNm6NChGjRokHX53LlzhCcAAAAAuXJPjThl5qGHHtKBAweyXO/m5iZvb2+bLwAAAADIjXs+OG3fvl0BAQGOLgMAAADAP5hDT9VLTk7WH3/8YV0+ePCgduzYIV9fX5UvX15Dhw5VXFyc5syZI0maMGGCKlasqODgYF25ckXz5s3TokWLtGjRIkc9BAAAAAAFgEOD05YtW9SiRQvrcvq1SD169NCsWbMUHx+vI0eOWNdfuXJFgwcPVlxcnDw8PBQcHKxly5YpLCzsrtcOAAAAoOBwaHBq3ry5jDFZrp81a5bN8pAhQzRkyJA7XBXwz5aamqrY2FglJibK19dXISEhcnZ2dnRZAAAA+do9NasegNsTHR2tyZMnKyEhwdrm7++vfv36ZTkzJQAAAP4Bk0MAyJno6GiNHDlSgYGBmjRpkpYvX65JkyYpMDBQI0eOzPZ+aAAAAAUdwQkoAFJTUzV58mSFhoZqzJgxCg4OVuHChRUcHKwxY8YoNDRUU6ZMUWpqqqNLBQAAyJcITkABEBsbq4SEBIWHh8vJyfZp7+TkpPDwcMXHxys2NtZBFQIAAORvBCegAEhMTJQkVapUKdP16e3p/QAAAGCL4AQUAL6+vpKu3ystM+nt6f0AAABgi+AEFAAhISHy9/dXZGSk0tLSbNalpaUpMjJSAQEBCgkJcVCFAAAA+RvBCSgAnJ2d1a9fP8XExGjEiBHavXu3Ll68qN27d2vEiBGKiYlR3759uZ8TAABAFriPE1BANG3aVKNGjdLkyZPVv39/a3tAQIBGjRrFfZwAAACyQXACCpCmTZuqUaNGio2NVWJionx9fRUSEsJIEwAAgB0EJ6CAcXZ2Vp06dRxdBgAAwD2F4AQUMKmpqYw4AQAA5BLBCShAoqOjNXnyZCUkJFjb/P391a9fP65xAgAAyAaz6gEFRHR0tEaOHKnAwEBNmjRJy5cv16RJkxQYGKiRI0cqOjra0SUCAADkWwQnoABITU3V5MmTFRoaqjFjxig4OFiFCxdWcHCwxowZo9DQUE2ZMkWpqamOLhUAACBf4lQ9oACIjY1VQkKC/v3vf8vJyfbzEicnJ4WHh6t///6KjY1l4ggA96TLly/ryJEjji7jnnP48GGbf5Fz5cuXl7u7u6PLwF1EcAIKgMTERElSpUqVMl2f3p7eDwDuNUeOHFGfPn0cXcY9KyIiwtEl3HOmTZumqlWrOroM3EUEJ6AA8PX1lSQdPHhQwcHBGdYfPHjQph8A3GvKly+vadOmOboMFCDly5d3dAm4ywhOQAEQEhIif39/RUZGasyYMTan66WlpSkyMlIBAQEKCQlxYJUAcOvc3d359B/AHcXkEEAB4OzsrH79+ikmJkYjRozQ7t27dfHiRe3evVsjRoxQTEyM+vbty/2cAAAAsmAxxhhHF3E3nTt3Tj4+PkpKSpK3t7ejywHuqszu4xQQEKC+fftyHycAAFDg5CYbEJyAAiY1NVWxsbFKTEyUr6+vQkJCGGkCAAAFUm6yAdc4AQWMs7MzU44DAADkEtc4AQAAAIAdBCcAAAAAsIPgBAAAAAB2EJwAAAAAwA6CEwAAAADYQXACAAAAADsITgAAAABgB8EJAAAAAOwgOAEAAACAHQQnAAAAALCD4AQAAAAAdhCcAAAAAMAOghMAAAAA2FHI0QXcbcYYSdK5c+ccXAkAAAAAR0rPBOkZITsFLjidP39eklSuXDkHVwIAAAAgPzh//rx8fHyy7WMxOYlX/yBpaWk6fvy4vLy8ZLFYHF0O4BDnzp1TuXLldPToUXl7ezu6HACAg/B+gILOGKPz58+rdOnScnLK/iqmAjfi5OTkpLJlyzq6DCBf8Pb25o0SAMD7AQo0eyNN6ZgcAgAAAADsIDgBAAAAgB0EJ6AAcnNz08iRI+Xm5uboUgAADsT7AZBzBW5yCAAAAADILUacAAAAAMAOghMAAAAA2EFwAgAAAAA7CE4AAAAAYAfBCbhJz5499eijjzq6jDxnsVi0ZMkSSdKhQ4dksVi0Y8eOu3Lspk2b6ssvv7wrx8pLS5cuVZ06dZSWluboUgDcpqioKFksFp09e9bRpTjEzY9/1qxZKlq06F059pkzZ1SqVCkdOnTorhzvTtq5c6fKli2rCxcuOLoUOADBCf8YPXv2lMVisX4VL15c7dq1U2xsrKNLy9asWbNksVhUvXr1DOu+/vprWSwWVaxYMU+PWa5cOcXHx6tmzZp5ut/MLF26VAkJCXrmmWduafuoqCh17txZAQEB8vT0VO3atRUZGWl3u23btql169YqWrSoihcvrj59+ig5Odmmz5EjR9SpUyd5enqqRIkSevXVV3XlyhXr+o4dO8pisdyToQ8oiDZu3ChnZ2e1a9fO0aXkSvr718svv5xhXb9+/WSxWNSzZ888PebTTz+t33//PU/3mZWxY8eqU6dOefZe9ttvv+nZZ59VuXLl5OHhoerVq+vjjz+2u92ff/6pxx57TCVLlpS3t7eeeuopnThxwqbP33//rW7dusnHx0c+Pj7q1q2bTdi+//771aBBA3300Ud58lhwbyE44R+lXbt2io+PV3x8vFavXq1ChQqpY8eOji7LLk9PT508eVIxMTE27TNmzFD58uXz/HjOzs7y9/dXoUKF8nzfN/vkk0/Uq1cvOTnl/OXmxhGejRs3KiQkRIsWLVJsbKx69+6t7t276/vvv89y++PHj6tVq1aqXLmyNm3apJUrV2r37t02f3ikpqaqQ4cOunDhgjZs2KAFCxZo0aJF+te//mWzr169eunTTz/N+QMG4DAzZszQK6+8og0bNujIkSOOLidXypUrpwULFujSpUvWtsuXL2v+/Pl35H3Aw8NDpUqVyvP93uzSpUuaPn26XnjhBZv22/n5bN26VSVLltS8efO0e/duDR8+XEOHDtXEiROz3ObChQtq06aNLBaL1qxZo59//llXrlxRp06dbN5zunbtqh07dmjlypVauXKlduzYoW7dutnsq1evXpoyZYpSU1Nv+THgHmWAf4gePXqYzp0727RFR0cbSebkyZPWtmPHjpmnnnrKFC1a1Pj6+ppHHnnEHDx4MMv9XL582bzyyiumZMmSxs3NzTRq1Mj8+uuv1vUPPPCAGT9+vHW5c+fOxtnZ2SQlJRljjImPjzeSzL59+zKte+bMmcbHx8cMGDDAvPDCC9b2o0ePGjc3N/PWW2+ZChUq2Gzz3XffmQceeMC4ubmZSpUqmXfeecdcvXrVuv733383TZo0MW5ubqZ69ermxx9/NJLMt99+a4wx5uDBg0aS2b59uzHGmGvXrpnevXubihUrGnd3d1O1alUzYcKETL+///3vf42/v7/x9fU1/fr1M1euXMn0cRljzKlTp4zFYjG7du3Ksk+6+Ph4M3PmTPPUU0+ZsmXLZts3LCzM9OrVK8v1n332mSlVqpRJTU21tm3fvt1IMgcOHDDGGLN8+XLj5ORk4uLirH3mz59v3NzcrD87Y4w5dOiQkWT+/PNPu48BgOMkJycbLy8vs2/fPvP000+bUaNG2axfu3atkWSWLl1qQkJCjJubm2nQoIGJjY216ffNN9+YGjVqGFdXV1OhQgWb1/e33nrLPPjggxmOff/995u3337bujxjxgxTrVo14+bmZoKCgsykSZOyrT399fX+++838+bNs7ZHRkaa+++/33Tu3Nn06NHD2p6Wlmbef/99U6lSJePu7m5CQkLMwoULbfa5bNkyU6VKFePu7m6aN29uZs6caSSZv//+2xjzf+896f744w/zyCOPmFKlShlPT09Tr149s2rVKpt9VqhQwURERJhevXqZIkWKmHLlypnPPvss28e2aNEiU6JEiQztTk5OpmXLlmbOnDkmOTk5233kRL9+/UyLFi2yXP/DDz8YJycnm9f3xMREI8n6OPfs2WMkmV9++cXaJyYmJsN7eEpKinFzczOrV6++7bpxb2HECf9YycnJioyMVOXKlVW8eHFJ0sWLF9WiRQsVKVJE0dHR2rBhg4oUKaJ27drZnKJ1oyFDhmjRokWaPXu2tm3bpsqVK6tt27ZKTEyUJDVv3lxRUVGSJGOM1q9fr2LFimnDhg2SpLVr18rf319BQUHZ1vv888/rq6++0sWLFyVdP4WvXbt28vPzs+n3ww8/6LnnntOrr76qPXv26LPPPtOsWbMUEREh6fpoTZcuXeTs7KxffvlFU6dO1ZtvvpntsdPS0lS2bFl9/fXX2rNnj95++20NGzZMX3/9tU2/tWvX6s8//9TatWs1e/ZszZo1S7Nmzcpyvxs2bFDhwoUzPQ0xNTVVP//8s4YPH64HHnhApUuX1kcffaTAwEDNnz8/23qTkpLk6+ub5fqUlBS5urrajHJ5eHhYa5KkmJgY1axZU6VLl7b2adu2rVJSUrR161ZrW4UKFVSqVCmtX78+25oAONZXX32loKAgBQUF6bnnntPMmTNljMnQ74033tD48eO1efNmlSpVSo888oiuXr0q6fpIxlNPPaVnnnlGO3fu1DvvvKN///vf1te58PBwbdq0SX/++ad1f7t379bOnTsVHh4uSfr88881fPhwRUREaO/evXrvvff073//W7Nnz7b7GHr16qWZM2dal2fMmKHevXtn6DdixAjNnDlTU6ZM0e7du/X666/rueee07p16yRJR48eVZcuXRQWFqYdO3bohRde0FtvvZXtsZOTkxUWFqaffvpJ27dvV9u2bdWpU6cMI0MffPCB6tWrp+3bt6tfv37q27ev9u3bl+V+o6OjVa9evQzte/bs0YMPPqgRI0bI399fvXv31rp16zL9meVETt4XLBaL3NzcrG3u7u5ycnKyeV/w8fHRgw8+aO3z0EMPycfHRxs3brS2ubq6qlatWrwvFEQODm5AnunRo4dxdnY2np6extPT00gyAQEBZuvWrdY+06dPN0FBQSYtLc3alpKSYjw8PMwPP/xg3U/6iFNycrJxcXExkZGR1v5XrlwxpUuXNuPGjTPGXB/98fHxMampqWbHjh2mZMmS5vXXXzdvvPGGMcaYPn36mKeffjrLum/81K927dpm9uzZJi0tzdx3333mf//7n/noo49sRpyaNGli3nvvPZt9zJ071wQEBBhjrn+q5uzsbI4ePWpdv2LFimxHnDLTr18/8/jjj9t8fytUqGCuXbtmbXvyySezfWwfffSRCQwMzNA+dOhQU7RoUePl5WUee+wx8/nnn5tjx45luZ8bLVy40Li6umY7irVr1y5TqFAhM27cOJOSkmISExNNly5djCTr9+7FF180rVu3zrCtq6ur+fLLL23a6tSpY955550c1QfAMRo2bGgdKb969aopUaKEzYhJ+ojTggULrG1nzpwxHh4e5quvvjLGGNO1a9cMrwtvvPGGqVGjhnU5JCTEjB492ro8dOhQU79+fetyuXLlMryGvPvuuyY0NDTL2tPfd06dOmXc3NzMwYMHzaFDh4y7u7s5deqUzYhTcnKycXd3Nxs3brTZx/PPP2+effZZa03Vq1e3ea978803sx1xykyNGjXMp59+al2uUKGCee6556zLaWlpplSpUmbKlClZ7qNz586md+/eWa5PS0sza9asMT179jReXl6mUqVKZuTIkeavv/7KtrYbbdy40bi4uJgff/wxyz4nT5403t7eZuDAgebChQsmOTnZ9O/f30gyffr0McYYExERYapUqZJh2ypVqmR4333sscdMz549c1wj/hkYccI/SosWLbRjxw7t2LFDmzZtUps2bdS+fXsdPnxY0vVPE//44w95eXmpSJEiKlKkiHx9fXX58mWbTxDT/fnnn7p69aoaNWpkbXNxcVGDBg20d+9eSddnjDt//ry2b9+udevWqVmzZmrRooX1k7+oqCg1a9YsR/X37t1bM2fO1Lp166yf/t1s69atGj16tLX+IkWK6MUXX1R8fLwuXryovXv3qnz58ipbtqx1m9DQULvHnjp1qurVq6eSJUuqSJEi+vzzzzN80hgcHCxnZ2frckBAgE6ePJnlPi9duiR3d/cM7a6urnJ1ddW1a9eUkpKiy5cv6/Lly3ZrjIqKUs+ePfX5558rODg4y37BwcGaPXu2PvjgAxUuXFj+/v4KDAyUn5+fTf0WiyXDtsaYDO0eHh7WkUAA+c/+/fv166+/WiehKVSokJ5++mnNmDEjQ98bXw99fX0VFBRkfT3fu3evzeu9JDVq1EgHDhywXs8SHh5unaDGGKP58+dbR5tOnTqlo0eP6vnnn7d5jR4zZkym7zE3K1GihDp06KDZs2dr5syZ6tChg0qUKGHTZ8+ePbp8+bJat25tc4w5c+ZYj7F371499NBDNq9l9t4HLly4oCFDhqhGjRoqWrSoihQpon379mV4HwgJCbH+32KxyN/f/5beB27cR4sWLTRz5kwdO3ZMoaGhGjVqlF5//fVs6023e/dude7cWW+//bZat26dZb+SJUtq4cKF+v7771WkSBH5+PgoKSlJDzzwAO8LyLE7f2U4cBd5enqqcuXK1uW6devKx8dHn3/+ucaMGaO0tDTVrVs301nZSpYsmaHN/P9TBm5+wbzxRdTHx0e1a9dWVFSUNm7cqIcfflhNmjTRjh07dODAAf3+++9q3rx5juoPDw/XkCFD9M4776h79+6ZTt6QlpamUaNGqUuXLhnWubu7Z3qaQ2ZvBDf6+uuv9frrr+uDDz5QaGiovLy89N///lebNm2y6efi4pJhv9lN1V2iRAn9/fffGdrfeecdjRw5Ulu3btXy5csVGRmpgQMH6r777lP79u0VFhamtm3b2myzbt06derUSR9++KG6d++e7eORrl/g27VrV504cUKenp6yWCz68MMPValSJUmSv79/hsf3999/6+rVqxlOj0xMTMz09wNA/jB9+nRdu3ZNZcqUsbYZY+Ti4qK///5bxYoVy3b79NfIzP5Avvk1tWvXrnrrrbe0bds2Xbp0SUePHrUGtvTXw88//9zmdC9JNn+cZ6d3794aMGCAJGnSpEkZ1qcfY9myZTaPV5L1NLTM3gfseeONN/TDDz9o/Pjxqly5sjw8PPTEE09kOI09r94HbrRt2zbNnTtXX375pSwWiwYNGpRhMonM7NmzRw8//LBefPFFjRgxwm7/Nm3a6M8//9Tp06dVqFAhFS1aVP7+/jbvCzfPsiddD8SZvS/cd999do+JfxaCE/7RLBaLnJycrLMUPfDAA/rqq69UqlQpeXt7292+cuXKcnV11YYNG9S1a1dJ0tWrV7Vlyxa99tpr1n7NmzfX2rVrtWnTJo0ePVpFixZVjRo1NGbMGJUqVSrTa3wy4+vrq0ceeURff/21pk6dmmmfBx54QPv377cJiDeqUaOGjhw5ouPHj1uv37l5tr6brV+/Xg0bNlS/fv2sbTn5dNSeOnXqKCEhIdM/XCwWi+rVq6d69erp7bffVmJion744QetWLFC/fr1szl+VFSUOnbsqPfff199+vTJVQ3pb3YzZsyQu7u79RPJ0NBQRUREKD4+XgEBAZKkH3/8UW5ubqpbt651+/TRyDp16tzS9wDAnXXt2jXNmTNHH3zwgdq0aWOz7vHHH1dkZKQ1iEjSL7/8Yp2l7u+//9bvv/+uatWqSbr++pl+vUu6jRs3qmrVqtbgU7ZsWTVt2lSRkZG6dOmSWrVqZX2d8fPzU5kyZfTXX39ZR6Fy68Zrbm/+ACm9Rjc3Nx05ciTLsxlq1KhhvW/fjY87O+vXr1fPnj312GOPSbp+zVNe3HepTp06mjdvXob2Y8eOKTIy0jpS1qlTJ02fPl3t2rXL0Yyvu3fv1sMPP6wePXpYr/HNqfRRvDVr1ujkyZN65JFHJF1/X0hKStKvv/6qBg0aSJI2bdqkpKQkNWzY0GYfu3bt0hNPPJGr4+IfwFHnCAJ5rUePHqZdu3YmPj7exMfHmz179ph+/foZi8Vi1q5da4wx5sKFC6ZKlSqmefPmJjo62vz1118mKirKvPrqq9Zrgm6eVW/gwIGmdOnSZsWKFWb37t2mR48eplixYiYxMdHa57vvvjPOzs6mZMmS1nPKX3vtNePs7GyefPLJbOu++TzzixcvmtOnT1uXb77GaeXKlaZQoUJm5MiRZteuXWbPnj1mwYIFZvjw4cYYY1JTU02NGjVMy5YtzY4dO0x0dLSpW7duttc4TZgwwXh7e5uVK1ea/fv3mxEjRhhvb29Tq1Ytm+/vzbMWDhw40DRr1izLx3bt2jVTqlQp8/3339u0Hz582OzduzfLrxtnL1q7dq0pXLiwGTp0qPVnGx8fb86cOWPts2nTJhMUFGRzndSnn35qtm7davbv328mTpxoPDw8zMcff2xTW82aNU3Lli3Ntm3bzE8//WTKli1rBgwYYFPr2rVrTZEiRcyFCxeyfJwAHOfbb781rq6u5uzZsxnWDRs2zNSuXdsY83/XOAUHB5uffvrJ7Ny50zzyyCOmfPnyJiUlxRhjzNatW42Tk5MZPXq02b9/v5k1a5bx8PAwM2fOtNnvtGnTTOnSpU2JEiXM3LlzbdZ9/vnnxsPDw0yYMMHs37/fxMbGmhkzZpgPPvggy8dw8+trUlKSzexvN8+qN3z4cFO8eHEza9Ys88cff5ht27aZiRMnmlmzZhljrr/Gurq6mtdff93s27fPREZGGn9//2yvcXr00UdN7dq1zfbt282OHTtMp06djJeXlxk4cKC1T4UKFcxHH31kU3utWrXMyJEjs3xssbGxplChQjbvmcZcn1WvQYMGZtKkSRnW2bNr1y5TsmRJEx4ebvO+cPMMukFBQWbTpk3WthkzZpiYmBjzxx9/mLlz5xpfX18zaNAgm323a9fOhISEmJiYGBMTE2Puv/9+07FjR5s+Bw8eNBaLxRw6dChXdePeR3DCP0aPHj2MJOuXl5eXqV+/vvnmm29s+sXHx5vu3bubEiVKGDc3NxMYGGhefPFF65vUzW9gly5dMq+88oq1/83TkRtjzNmzZ42zs7N54oknrG3ffvutkWQmTpyYbd32LtC9OTgZcz08NWzY0Hh4eBhvb2/ToEEDM23aNOv6/fv3m8aNGxtXV1dTtWpVs3LlymyD0+XLl03Pnj2Nj4+PKVq0qOnbt6956623bjs4GXN9+t5nnnnGpq1Zs2Y2P6ubvzw9PW2Om1mfG4+b/gfRjdPKd+vWzfj6+hpXV1cTEhJi5syZk6G2w4cPmw4dOhgPDw/j6+trBgwYYC5fvmzTp0+fPuall17K9jECcJyOHTuasLCwTNdt3brVSDJbt261vk58//33Jjg42Li6upr69eubHTt22GyTPh25i4uLKV++vPnvf/+bYb9///23cXNzM4ULFzbnz5/PsD4yMtLUrl3buLq6mmLFipmmTZuaxYsXZ/kYMnt9vVFm05F//PHHJigoyLi4uJiSJUuatm3bmnXr1ln7fP/996Zy5crGzc3NNGnSxMyYMSPb4HTw4EHTokUL4+HhYcqVK2cmTpxomjVrdtvByRhjHnroITN16lSbtr1792a7TXZGjhyZ6fvCje+V6e9z6R+cGnN9ggw/Pz/j4uJiqlSpYj744AObCTSMuT5hSHh4uPHy8jJeXl4mPDzc+j1L995775m2bdvecv24d1mMucV5HwEgB06cOKHg4GBt3bpVFSpUcHQ5uXLq1ClVq1ZNW7ZssZ4DDwDIneXLl2vw4MHatWtXrm6Gnh+lpKSoSpUqmj9/foaJRPDPxzVOAO4oPz8/TZ8+XUeOHLnngtPBgwc1efJkQhMA3IawsDAdOHBAcXFxKleunKPLuS2HDx/W8OHDCU0FFCNOAAAAAGDHvT1eCgAAAAB3AcEJAAAAAOwgOAEAAACAHQQnAAAAALCD4AQAAAAAdhCcAAC3zWKxaMmSJdblffv26aGHHpK7u7tq166daduhQ4dksVi0Y8eOPKujYsWKmjBhQp7tDwCAdAQnAECmevbsKYvFIovFIhcXF/n5+al169aaMWOG0tLSbPrGx8erffv21uWRI0fK09NT+/fv1+rVqzNtK1eunOLj41WzZs079hhuDnS3448//lDv3r1Vvnx5ubm5qUyZMmrZsqUiIyN17dq1PDkGACD/IjgBALLUrl07xcfH69ChQ1qxYoVatGihgQMHqmPHjjZhwd/fX25ubtblP//8U40bN1aFChVUvHjxTNucnZ3l7++vQoXy/73Yf/31Vz3wwAPau3evJk2apF27dmnp0qXq3bu3pk6dqt27d2e57dWrV+9ipQCAO4XgBADIkpubm/z9/VWmTBk98MADGjZsmP73v/9pxYoVmjVrlrXfjSM7FotFW7du1ejRo2WxWPTOO+9k2pbZqXq7d+9Whw4d5O3tLS8vLzVp0kR//vmnJKl58+Z67bXXbOp79NFH1bNnz0xrr1ixoiTpsccek8ViUcWKFXXo0CE5OTlpy5YtNn0//fRTVahQQZndE94Yo549e6pq1ar6+eef1alTJ1WpUkV16tRReHi41q9fr5CQEEmyPqavv/5azZs3l7u7u+bNm6e0tDSNHj1aZcuWlZubm2rXrq2VK1dajxEVFSWLxaKzZ89a23bs2CGLxaJDhw5JkmbNmqWiRYtqyZIlqlq1qtzd3dW6dWsdPXrUus1vv/2mFi1ayMvLS97e3qpbt26GxwoAuDUEJwBArjz88MOqVauWFi9enOn6+Ph4BQcH61//+pfi4+M1ePDgTNtuFhcXp6ZNm8rd3V1r1qzR1q1b1bt371s+DW7z5s2SpJkzZyo+Pl6bN29WxYoV1apVK82cOdOm78yZM62nJt5sx44d2rt3rwYPHiwnp8zfNm/e7s0339Srr76qvXv3qm3btvr444/1wQcfaPz48YqNjVXbtm31yCOP6MCBA7l6TBcvXlRERIRmz56tn3/+WefOndMzzzxjXR8eHq6yZctq8+bN2rp1q9566y25uLjk6hgAgMzl//MjAAD5TrVq1RQbG5vpuvTT74oUKSJ/f39JUpEiRTK0nT592ma7SZMmycfHRwsWLLD+sV+1atVbrrFkyZKSpKJFi1qPKUkvvPCCXn75ZX344Ydyc3PTb7/9ph07dmQZBH///XdJUlBQkLXt5MmTCgwMtC6PGzdO/fr1sy6/9tpr6tKli3V5/PjxevPNN60h5/3339fatWs1YcIETZo0KceP6erVq5o4caIefPBBSdLs2bNVvXp1/frrr2rQoIGOHDmiN954Q9WqVZMkValSJcf7BgBkjxEnAECuGWMyHZ25HTt27FCTJk3u+AjJo48+qkKFCunbb7+VJM2YMUMtWrSwntqXlRsfb/HixbVjxw7t2LFDRYsW1ZUrV2z61qtXz/r/c+fO6fjx42rUqJFNn0aNGmnv3r25qr1QoUI2+65WrZqKFi1q3c+gQYP0wgsvqFWrVvrPf/5jPc0RAHD7CE4AgFzbu3evKlWqlKf79PDwyHa9k5NThmuQbmXiBVdXV3Xr1k0zZ87UlStX9OWXX6p3795Z9k8ftdm3b5+1zdnZWZUrV1blypUzndzC09MzQ9vNQfPG8Jl+CuCNjy+rx5ZZYE1ve+edd6zXia1Zs0Y1atSwBkQAwO0hOAEAcmXNmjXauXOnHn/88Tzdb0hIiNavX59lYChZsqTi4+Oty6mpqdq1a1e2+3RxcVFqamqG9hdeeEE//fSTJk+erKtXr9qcVnezOnXqqFq1aho/fnyGadhzwtvbW6VLl9aGDRts2jdu3Kjq1atL+r/TCm98fJnd3+ratWs2kz3s379fZ8+etZ6aJ10/vfH111/Xjz/+qC5dumS4ngsAcGsITgCALKWkpCghIUFxcXHatm2b3nvvPXXu3FkdO3ZU9+7d8/RYAwYMsE52sGXLFh04cEBz587V/v37JV2flGLZsmVatmyZ9u3bp379+tnMQpeZihUravXq1UpISNDff/9tba9evboeeughvfnmm3r22WezHe2yWCyaOXOm9u/fr0aNGum7777TgQMHtGfPHk2dOlWnTp2Ss7NztnW88cYbev/99/XVV19p//79euutt7Rjxw4NHDhQklS5cmWVK1dO77zzjn7//XctW7ZMH3zwQYb9uLi46JVXXtGmTZu0bds29erVSw899JAaNGigS5cuacCAAYqKitLhw4f1888/a/PmzdZwBgC4PUwOAQDI0sqVKxUQEKBChQqpWLFiqlWrlj755BP16NEjyxnmblXx4sW1Zs0avfHGG2rWrJmcnZ1Vu3Zt67VBvXv31m+//abu3burUKFCev3119WiRYts9/nBBx9o0KBB+vzzz1WmTBnr1N6S9Pzzz2vjxo3ZnqaX7qGHHtLWrVv13nvvqX///kpISJCnp6dq1aqljz76yO4+Xn31VZ07d07/+te/dPLkSdWoUUPfffed9TRAFxcXzZ8/X3379lWtWrVUv359jRkzRk8++aTNfgoXLqw333xTXbt21bFjx9S4cWPNmDFD0vXTB8+cOaPu3bvrxIkTKlGihLp06aJRo0bZfXwAAPssJrObVgAA8A8XERGhBQsWaOfOnY4uJUdmzZql1157ze4oGwDgzuBUPQBAgZKcnKzNmzfr008/1auvvurocgAA9wiCEwCgQBkwYIAaN26sZs2a5eg0PQAAJE7VAwAAAAC7GHECAAAAADsITgAAAABgB8EJAAAAAOwgOAEAAACAHQQnAAAAALCD4AQAAAAAdhCcAAAAAMAOghMAAAAA2PH/ACt/33wS7cyPAAAAAElFTkSuQmCC",
>>>>>>> refs/remotes/origin/master
      "text/plain": [
       "<Figure size 1000x600 with 1 Axes>"
      ]
     },
     "metadata": {},
     "output_type": "display_data"
    }
   ],
   "source": [
    "plt.figure(figsize=(10, 6))\n",
    "sns.boxplot(x='Difficulty Groups', y='Average Rating', data=numDat)\n",
    "plt.title('Distribution of Average Rating Across Difficulty Groups')\n",
    "plt.xlabel('Difficulty Groups')\n",
    "plt.ylabel('Average Rating')\n",
    "plt.show()"
   ]
  },
  {
   "cell_type": "code",
<<<<<<< HEAD
   "execution_count": 22,
=======
   "execution_count": 78,
>>>>>>> refs/remotes/origin/master
   "metadata": {},
   "outputs": [
    {
     "name": "stdout",
     "output_type": "stream",
     "text": [
      "Pairwise Levene's Test Results:\n",
<<<<<<< HEAD
      "Comparing Above Median (> 2.90) vs Below Median (≤2.90): Levene's Test Statistic = 1236.8228, P-value = 0.0000\n",
=======
      "Comparing Above Median (> 2.90) vs Below Median (≤2.90): Levene's Test Statistic = 922.5902, P-value = 0.0000\n",
>>>>>>> refs/remotes/origin/master
      "  The variances are significantly different (reject the null hypothesis).\n",
      "--------------------------------------------------\n"
     ]
    }
   ],
   "source": [
    "# Step 2: Get all unique group names\n",
    "groups = numDat['Difficulty Groups'].unique()\n",
    "\n",
    "# Step 3: Perform Levene's Test for each pair of groups\n",
    "print(\"Pairwise Levene's Test Results:\")\n",
    "\n",
    "# Compare groups using nested loops\n",
    "for i in range(len(groups)):\n",
    "    for j in range(i + 1, len(groups)):\n",
    "        group1 = groups[i]\n",
    "        group2 = groups[j]\n",
    "\n",
    "        # Extract data for the two groups\n",
    "        group1_data = numDat[numDat['Difficulty Groups'] == group1]['Average Rating']\n",
    "        group2_data = numDat[numDat['Difficulty Groups'] == group2]['Average Rating']\n",
    "        \n",
    "        # Ensure both groups have enough data points\n",
    "        if len(group1_data) > 1 and len(group2_data) > 1:\n",
    "            stat, p_value = levene(group1_data, group2_data)\n",
    "            print(f\"Comparing {group1} vs {group2}: Levene's Test Statistic = {stat:.4f}, P-value = {p_value:.4f}\")\n",
    "            \n",
    "            # Interpretation\n",
    "            if p_value < 0.005:\n",
    "                print(\"  The variances are significantly different (reject the null hypothesis).\")\n",
    "            else:\n",
    "                print(\"  The variances are not significantly different (fail to reject the null hypothesis).\")\n",
    "        else:\n",
    "            print(f\"Not enough data to compare {group1} vs {group2}.\")\n",
    "        print(\"-\" * 50)\n"
   ]
  },
  {
   "cell_type": "code",
<<<<<<< HEAD
   "execution_count": 23,
=======
   "execution_count": 79,
>>>>>>> refs/remotes/origin/master
   "metadata": {},
   "outputs": [
    {
     "name": "stdout",
     "output_type": "stream",
     "text": [
<<<<<<< HEAD
      "Pearson Correlation between Average Difficulty and Average Rating: -0.6509\n"
=======
      "Pearson Correlation between Average Difficulty and Average Rating: -0.6219\n"
>>>>>>> refs/remotes/origin/master
     ]
    }
   ],
   "source": [
    "# Calculate the Pearson correlation\n",
    "correlation = numDat['Average Difficulty'].corr(numDat['Average Rating'])\n",
    "\n",
    "# Print the result\n",
    "print(f\"Pearson Correlation between Average Difficulty and Average Rating: {correlation:.4f}\")"
   ]
  },
  {
   "cell_type": "markdown",
   "metadata": {},
   "source": [
    "The Average Difficulty alone has a huge impact on the variance in the distribution of average ratings of the professors.$\\newline$ Additionally, there is a large correlation,"
   ]
  },
  {
   "cell_type": "markdown",
   "metadata": {},
   "source": [
    "Now we test the association between Average Difficulty and Male and Female professors."
   ]
  },
  {
   "cell_type": "code",
<<<<<<< HEAD
   "execution_count": 24,
=======
   "execution_count": 26,
>>>>>>> refs/remotes/origin/master
   "metadata": {},
   "outputs": [
    {
     "name": "stdout",
     "output_type": "stream",
     "text": [
<<<<<<< HEAD
      "Mean Average Difficulty for Male Professors: 2.9400\n",
      "Mean Average Difficulty for Female Professors: 2.9470\n"
=======
      "Mean Average Difficulty for Male Professors: 2.9368\n",
      "Mean Average Difficulty for Female Professors: 2.9238\n"
>>>>>>> refs/remotes/origin/master
     ]
    }
   ],
   "source": [
    "# Calculate means\n",
    "male_mean_diff = numDat[numDat['Male Professor'] == 1]['Average Difficulty'].mean()\n",
    "female_mean_diff = numDat[numDat['Female Professor'] == 1]['Average Difficulty'].mean()\n",
    "\n",
    "# Print results\n",
    "print(f\"Mean Average Difficulty for Male Professors: {male_mean_diff:.4f}\")\n",
    "print(f\"Mean Average Difficulty for Female Professors: {female_mean_diff:.4f}\")\n"
   ]
  },
  {
   "cell_type": "markdown",
   "metadata": {},
   "source": [
    "While the means are close, we know that the Average Difficulty greatly affects the variance in distribution of ratings, so we will consider it a confound"
   ]
  },
  {
   "cell_type": "markdown",
   "metadata": {},
   "source": [
    "We will now control for the confound."
   ]
  },
  {
   "cell_type": "markdown",
   "metadata": {},
   "source": [
    "#### Does Pepper versus No Pepper impact the distributions of average rating of professors?"
   ]
  },
  {
   "cell_type": "code",
<<<<<<< HEAD
   "execution_count": 25,
=======
   "execution_count": 31,
>>>>>>> refs/remotes/origin/master
   "metadata": {},
   "outputs": [
    {
     "name": "stdout",
     "output_type": "stream",
     "text": [
<<<<<<< HEAD
      "Levene's Test Statistic: 1320.4894, P-value: 0.0000\n",
=======
      "Levene's Test Statistic: 996.0266, P-value: 0.0000\n",
>>>>>>> refs/remotes/origin/master
      "The variances are significantly different (reject the null hypothesis).\n"
     ]
    }
   ],
   "source": [
    "# Step 1: Split the data into two groups based on 'Received a pepper'\n",
    "no_pepper = numDat[numDat['Received a pepper'] == 0]['Average Rating']\n",
    "pepper = numDat[numDat['Received a pepper'] == 1]['Average Rating']\n",
    "\n",
    "# Step 2: Perform Levene's Test to compare variances\n",
    "if len(no_pepper) > 1 and len(pepper) > 1:  # Ensure both groups have enough data\n",
    "    stat, p_value = levene(no_pepper, pepper)\n",
    "    print(f\"Levene's Test Statistic: {stat:.4f}, P-value: {p_value:.4f}\")\n",
    "    \n",
    "    # Interpretation\n",
    "    if p_value < 0.005:\n",
    "        print(\"The variances are significantly different (reject the null hypothesis).\")\n",
    "    else:\n",
    "        print(\"The variances are not significantly different (fail to reject the null hypothesis).\")\n",
    "else:\n",
    "    print(\"Not enough data in one or both groups to perform Levene's Test.\")"
   ]
  },
  {
   "cell_type": "code",
<<<<<<< HEAD
   "execution_count": 26,
=======
   "execution_count": 32,
>>>>>>> refs/remotes/origin/master
   "metadata": {},
   "outputs": [
    {
     "name": "stdout",
     "output_type": "stream",
     "text": [
<<<<<<< HEAD
      "Correlation between Received a Pepper and Average Rating: 0.5072\n"
=======
      "Correlation between Received a Pepper and Average Rating: 0.4992\n"
>>>>>>> refs/remotes/origin/master
     ]
    }
   ],
   "source": [
    "# Calculate correlation\n",
    "correlation = numDat['Received a pepper'].corr(numDat['Average Rating'])\n",
    "\n",
    "# Print the result\n",
    "print(f\"Correlation between Received a Pepper and Average Rating: {correlation:.4f}\")\n"
   ]
  },
  {
   "cell_type": "code",
<<<<<<< HEAD
   "execution_count": 27,
=======
   "execution_count": 33,
>>>>>>> refs/remotes/origin/master
   "metadata": {},
   "outputs": [
    {
     "data": {
<<<<<<< HEAD
      "image/png": "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",
=======
      "image/png": "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",
>>>>>>> refs/remotes/origin/master
      "text/plain": [
       "<Figure size 800x600 with 1 Axes>"
      ]
     },
     "metadata": {},
     "output_type": "display_data"
    }
   ],
   "source": [
    "plt.figure(figsize=(8, 6))\n",
    "sns.boxplot(x='Received a pepper', y='Average Rating', data=numDat)\n",
    "plt.title('Distribution of Average Rating for Pepper vs. No Pepper')\n",
    "plt.xlabel('Received a Pepper (0 = No, 1 = Yes)')\n",
    "plt.ylabel('Average Rating')\n",
    "plt.show()"
   ]
  },
  {
   "cell_type": "markdown",
   "metadata": {},
   "source": [
    "Yes, Pepper (attractiveness of a professor) affects the variance of the distribution of average ratings."
   ]
  },
  {
   "cell_type": "markdown",
   "metadata": {},
   "source": [
    "Now we check if there is a correlation between Pepper and Male and Female professors."
   ]
  },
  {
   "cell_type": "code",
<<<<<<< HEAD
   "execution_count": 28,
=======
   "execution_count": 81,
>>>>>>> refs/remotes/origin/master
   "metadata": {},
   "outputs": [
    {
     "name": "stdout",
     "output_type": "stream",
     "text": [
<<<<<<< HEAD
      "Correlation between Received a Pepper and Average Rating (Male Professors): 0.5021\n",
      "Correlation between Received a Pepper and Average Rating (Female Professors): 0.5176\n"
=======
      "Correlation between Received a Pepper and Average Rating (Male Professors): 0.4907\n",
      "Correlation between Received a Pepper and Average Rating (Female Professors): 0.5146\n"
>>>>>>> refs/remotes/origin/master
     ]
    }
   ],
   "source": [
    "# Filter data for male and female professors\n",
    "male_prof_data = numDat[numDat['Male Professor'] == 1]\n",
    "female_prof_data = numDat[numDat['Female Professor'] == 1]\n",
    "\n",
    "# Calculate correlations\n",
    "male_correlation = male_prof_data['Received a pepper'].corr(male_prof_data['Average Rating'])\n",
    "female_correlation = female_prof_data['Received a pepper'].corr(female_prof_data['Average Rating'])\n",
    "\n",
    "# Print results\n",
    "print(f\"Correlation between Received a Pepper and Average Rating (Male Professors): {male_correlation:.4f}\")\n",
    "print(f\"Correlation between Received a Pepper and Average Rating (Female Professors): {female_correlation:.4f}\")\n"
   ]
  },
  {
   "cell_type": "code",
<<<<<<< HEAD
   "execution_count": 29,
=======
   "execution_count": 82,
>>>>>>> refs/remotes/origin/master
   "metadata": {},
   "outputs": [
    {
     "name": "stdout",
     "output_type": "stream",
     "text": [
<<<<<<< HEAD
      "Proportion of Male Professors who received a pepper: 0.4823\n",
      "Proportion of Male Professors who did not receive a pepper: 0.5177\n",
      "Proportion of Female Professors who received a pepper: 0.5099\n",
      "Proportion of Female Professors who did not receive a pepper: 0.4901\n"
=======
      "Proportion of Male Professors who received a pepper: 0.4870\n",
      "Proportion of Male Professors who did not receive a pepper: 0.5130\n",
      "Proportion of Female Professors who received a pepper: 0.5230\n",
      "Proportion of Female Professors who did not receive a pepper: 0.4770\n"
>>>>>>> refs/remotes/origin/master
     ]
    }
   ],
   "source": [
    "# Filter data for male and female professors\n",
    "male_prof_data = numDat[numDat['Male Professor'] == 1]\n",
    "female_prof_data = numDat[numDat['Female Professor'] == 1]\n",
    "\n",
    "# Calculate proportions for male professors\n",
    "male_pepper_proportion = male_prof_data['Received a pepper'].mean()  # Proportion of 1s\n",
    "male_no_pepper_proportion = 1 - male_pepper_proportion  # Proportion of 0s\n",
    "\n",
    "# Calculate proportions for female professors\n",
    "female_pepper_proportion = female_prof_data['Received a pepper'].mean()  # Proportion of 1s\n",
    "female_no_pepper_proportion = 1 - female_pepper_proportion  # Proportion of 0s\n",
    "\n",
    "# Print results\n",
    "print(f\"Proportion of Male Professors who received a pepper: {male_pepper_proportion:.4f}\")\n",
    "print(f\"Proportion of Male Professors who did not receive a pepper: {male_no_pepper_proportion:.4f}\")\n",
    "print(f\"Proportion of Female Professors who received a pepper: {female_pepper_proportion:.4f}\")\n",
    "print(f\"Proportion of Female Professors who did not receive a pepper: {female_no_pepper_proportion:.4f}\")\n"
   ]
  },
  {
   "cell_type": "markdown",
   "metadata": {},
   "source": [
    "We conclude Pepper is a confound. We will control for the confound and analyze result"
   ]
  },
  {
   "cell_type": "markdown",
   "metadata": {},
   "source": [
    "#### Controlling for Confounds: Number of Ratings, Average Difficulty, and Pepper are all confounds."
   ]
  },
  {
   "cell_type": "code",
<<<<<<< HEAD
   "execution_count": 30,
=======
   "execution_count": 106,
>>>>>>> refs/remotes/origin/master
   "metadata": {},
   "outputs": [
    {
     "name": "stdout",
     "output_type": "stream",
     "text": [
      "Levene's Test Results with Cohen's d for Male vs. Female within Subgroups:\n",
      "                               Stratification Group  Levene Stat   P-value  \\\n",
<<<<<<< HEAD
      "0  Above Median (> 2.90)_Above Median (> 14.00)_0.0     1.722201  0.189715   \n",
      "1   Above Median (> 2.90)_Below Median (≤14.00)_0.0     0.183838  0.668172   \n",
      "2  Above Median (> 2.90)_Above Median (> 14.00)_1.0     6.773646  0.009452   \n",
      "3   Below Median (≤2.90)_Above Median (> 14.00)_1.0     0.425492  0.514342   \n",
      "4   Above Median (> 2.90)_Below Median (≤14.00)_1.0     1.899331  0.168667   \n",
      "5    Below Median (≤2.90)_Below Median (≤14.00)_0.0     0.195653  0.658366   \n",
      "6   Below Median (≤2.90)_Above Median (> 14.00)_0.0     3.714754  0.054457   \n",
      "7    Below Median (≤2.90)_Below Median (≤14.00)_1.0     8.213012  0.004239   \n",
      "\n",
      "   Significant  Male Sample Size  Female Sample Size  Total Sample Size  \\\n",
      "0        False               563                 427                990   \n",
      "1        False               679                 532               1211   \n",
      "2        False               395                 291                686   \n",
      "3        False               631                 504               1135   \n",
      "4        False               307                 295                602   \n",
      "5        False               490                 358                848   \n",
      "6        False               332                 211                543   \n",
      "7         True               590                 500               1090   \n",
      "\n",
      "   Cohen's d  \n",
      "0   0.239736  \n",
      "1   0.109186  \n",
      "2   0.213618  \n",
      "3  -0.014543  \n",
      "4   0.153581  \n",
      "5  -0.009267  \n",
      "6   0.233631  \n",
      "7   0.188618  \n"
=======
      "0  Above Median (> 2.90)_Above Median (> 15.00)_0.0     1.876821  0.171081   \n",
      "1  Above Median (> 2.90)_Above Median (> 15.00)_1.0     5.185654  0.023134   \n",
      "2   Above Median (> 2.90)_Below Median (≤15.00)_0.0     0.102224  0.749244   \n",
      "3   Below Median (≤2.90)_Above Median (> 15.00)_1.0     1.193524  0.274896   \n",
      "4   Below Median (≤2.90)_Above Median (> 15.00)_0.0     2.655316  0.103942   \n",
      "5    Below Median (≤2.90)_Below Median (≤15.00)_0.0     0.072619  0.787636   \n",
      "6   Above Median (> 2.90)_Below Median (≤15.00)_1.0     2.093211  0.148553   \n",
      "7    Below Median (≤2.90)_Below Median (≤15.00)_1.0     5.561216  0.018570   \n",
      "\n",
      "   Significant  Male Sample Size  Female Sample Size  Total Sample Size  \\\n",
      "0        False               472                 328                800   \n",
      "1        False               342                 246                588   \n",
      "2        False               552                 435                987   \n",
      "3        False               529                 427                956   \n",
      "4        False               270                 159                429   \n",
      "5        False               428                 321                749   \n",
      "6        False               271                 255                526   \n",
      "7        False               493                 435                928   \n",
      "\n",
      "   Cohen's d  \n",
      "0   0.286305  \n",
      "1   0.237874  \n",
      "2   0.130069  \n",
      "3  -0.010660  \n",
      "4   0.189499  \n",
      "5   0.022539  \n",
      "6   0.095726  \n",
      "7   0.189563  \n"
>>>>>>> refs/remotes/origin/master
     ]
    }
   ],
   "source": [
    "from scipy.stats import levene\n",
    "import numpy as np\n",
    "import pandas as pd\n",
    "\n",
    "# Assuming numDat is loaded with the necessary data\n",
    "\n",
    "# Calculate median splits for Average Difficulty and Number of ratings\n",
    "median_difficulty = numDat['Average Difficulty'].median()\n",
    "median_ratings = numDat['Number of ratings'].median()\n",
    "\n",
    "# Create stratification groups based on the conditions\n",
    "numDat.loc[:, 'Difficulty Groups'] = pd.cut(\n",
    "    numDat['Average Difficulty'],\n",
    "    bins=[numDat['Average Difficulty'].min(), median_difficulty, numDat['Average Difficulty'].max()],\n",
    "    labels=[f'Below Median (≤{median_difficulty:.2f})', f'Above Median (> {median_difficulty:.2f})'],\n",
    "    include_lowest=True\n",
    ")\n",
    "\n",
    "numDat.loc[:, 'Ratings Groups'] = pd.cut(\n",
    "    numDat['Number of ratings'],\n",
    "    bins=[numDat['Number of ratings'].min(), median_ratings, numDat['Number of ratings'].max()],\n",
    "    labels=[f'Below Median (≤{median_ratings:.2f})', f'Above Median (> {median_ratings:.2f})'],\n",
    "    include_lowest=True\n",
    ")\n",
    "\n",
    "# Create a combined stratification group\n",
    "numDat.loc[:, 'Stratification Group'] = (\n",
    "    numDat['Difficulty Groups'].astype(str) + \"_\" +\n",
    "    numDat['Ratings Groups'].astype(str) + \"_\" +\n",
    "    numDat['Received a pepper'].astype(str)\n",
    ")\n",
    "\n",
    "# Initialize a list to store Levene's test results and effect sizes\n",
    "levene_results = []\n",
    "\n",
    "# Get unique stratification groups\n",
    "stratification_groups = numDat['Stratification Group'].unique()\n",
    "\n",
    "# Iterate through each stratification group\n",
    "for group in stratification_groups:\n",
    "    # Filter data for males and females in the current group\n",
    "    male_data = numDat[(numDat['Male Professor'] == 1) & (numDat['Stratification Group'] == group)]['Average Rating']\n",
    "    female_data = numDat[(numDat['Female Professor'] == 1) & (numDat['Stratification Group'] == group)]['Average Rating']\n",
    "    \n",
    "    # Calculate sample sizes for the subgroup\n",
    "    male_sample_size = len(male_data)\n",
    "    female_sample_size = len(female_data)\n",
    "    total_sample_size = male_sample_size + female_sample_size\n",
    "    \n",
    "    # Ensure both groups have enough data for Levene's test\n",
    "    if male_sample_size > 1 and female_sample_size > 1:\n",
    "        stat, p_value = levene(male_data, female_data)\n",
    "        \n",
    "        # Calculate Cohen's d for the group\n",
    "        mean_male = male_data.mean()\n",
    "        mean_female = female_data.mean()\n",
    "        std_male = male_data.std()\n",
    "        std_female = female_data.std()\n",
    "        pooled_std = np.sqrt(((male_sample_size - 1) * std_male**2 + (female_sample_size - 1) * std_female**2) / (male_sample_size + female_sample_size - 2))\n",
    "        effect_size = (mean_male - mean_female) / pooled_std\n",
    "        \n",
    "        levene_results.append({\n",
    "            'Stratification Group': group,\n",
    "            'Levene Stat': stat,\n",
    "            'P-value': p_value,\n",
    "            'Significant': p_value < 0.005,  # Using a significance level of 0.005\n",
    "            'Male Sample Size': male_sample_size,\n",
    "            'Female Sample Size': female_sample_size,\n",
    "            'Total Sample Size': total_sample_size,\n",
    "            'Cohen\\'s d': effect_size\n",
    "        })\n",
    "    else:\n",
    "        levene_results.append({\n",
    "            'Stratification Group': group,\n",
    "            'Levene Stat': None,\n",
    "            'P-value': None,\n",
    "            'Significant': \"Insufficient Data\",\n",
    "            'Male Sample Size': male_sample_size,\n",
    "            'Female Sample Size': female_sample_size,\n",
    "            'Total Sample Size': total_sample_size,\n",
    "            'Cohen\\'s d': None\n",
    "        })\n",
    "\n",
    "# Convert results to a DataFrame\n",
    "levene_results_df = pd.DataFrame(levene_results)\n",
    "\n",
    "# Print the results\n",
    "print(\"Levene's Test Results with Cohen's d for Male vs. Female within Subgroups:\")\n",
    "print(levene_results_df)\n"
   ]
  },
  {
   "cell_type": "markdown",
   "metadata": {},
   "source": [
    "#### Analysis on Effect Size and Power"
   ]
  },
  {
   "cell_type": "markdown",
   "metadata": {},
   "source": [
    "We find effect size for the most significant difference (lowest p value) even though this is still not significant with pvalue of .005\n",
    "\n",
    "Row 7 Below Median (≤2.90)_Below Median (≤15.00)_1.0     5.561216  0.018570 "
   ]
  },
  {
   "cell_type": "code",
<<<<<<< HEAD
   "execution_count": 38,
=======
   "execution_count": 101,
>>>>>>> refs/remotes/origin/master
   "metadata": {},
   "outputs": [
    {
     "name": "stdout",
     "output_type": "stream",
     "text": [
<<<<<<< HEAD
      "95% Confidence Interval for Cohen's d: [0.0744, 0.3131]\n"
=======
      "95% Confidence Interval for Cohen's d: [0.0599, 0.3212]\n"
>>>>>>> refs/remotes/origin/master
     ]
    }
   ],
   "source": [
    "# Bootstrap to calculate the 95% confidence interval for Cohen's d\n",
    "bootstrap_effect_sizes = []\n",
    "n_bootstrap = 1000\n",
    "\n",
    "if not male_data.empty and not female_data.empty:\n",
    "    for _ in range(n_bootstrap):\n",
    "        # Resample data with replacement\n",
    "        male_sample = np.random.choice(male_data, size=len(male_data), replace=True)\n",
    "        female_sample = np.random.choice(female_data, size=len(female_data), replace=True)\n",
    "\n",
    "        # Calculate means and standard deviations for resampled data\n",
    "        mean_male_sample = np.mean(male_sample)\n",
    "        mean_female_sample = np.mean(female_sample)\n",
    "        std_male_sample = np.std(male_sample, ddof=1)\n",
    "        std_female_sample = np.std(female_sample, ddof=1)\n",
    "\n",
    "        # Calculate pooled standard deviation\n",
    "        pooled_std_sample = np.sqrt(\n",
    "            ((len(male_sample) - 1) * std_male_sample**2 + (len(female_sample) - 1) * std_female_sample**2) /\n",
    "            (len(male_sample) + len(female_sample) - 2)\n",
    "        )\n",
    "\n",
    "        # Calculate Cohen's d for the resampled data\n",
    "        bootstrap_effect_sizes.append((mean_male_sample - mean_female_sample) / pooled_std_sample)\n",
    "\n",
    "    # Calculate the confidence interval\n",
    "    lower_bound = np.percentile(bootstrap_effect_sizes, 2.5)\n",
    "    upper_bound = np.percentile(bootstrap_effect_sizes, 97.5)\n",
    "\n",
    "    # Print the results\n",
    "    print(f\"95% Confidence Interval for Cohen's d: [{lower_bound:.4f}, {upper_bound:.4f}]\")\n",
    "else:\n",
    "    print(\"No data available for the specified group to perform bootstrap analysis.\")\n",
    "\n"
   ]
  },
  {
   "cell_type": "markdown",
   "metadata": {},
   "source": [
    "Power for the lowest sig result using the .0599 as effect size  "
   ]
<<<<<<< HEAD
  },
  {
   "cell_type": "code",
   "execution_count": 34,
   "metadata": {},
   "outputs": [
    {
     "name": "stdout",
     "output_type": "stream",
     "text": [
      "2.9\n",
      "14.0\n"
     ]
    }
   ],
   "source": [
    "# Calculate median splits for Average Difficulty and Number of ratings\n",
    "print(numDat['Average Difficulty'].median())\n",
    "print(numDat['Number of ratings'].median())\n"
   ]
  },
  {
   "cell_type": "code",
   "execution_count": null,
   "metadata": {},
   "outputs": [],
   "source": []
=======
>>>>>>> refs/remotes/origin/master
  }
 ],
 "metadata": {
  "kernelspec": {
   "display_name": "base",
   "language": "python",
   "name": "python3"
  },
  "language_info": {
   "codemirror_mode": {
    "name": "ipython",
    "version": 3
   },
   "file_extension": ".py",
   "mimetype": "text/x-python",
   "name": "python",
   "nbconvert_exporter": "python",
   "pygments_lexer": "ipython3",
   "version": "3.10.15"
  }
 },
 "nbformat": 4,
 "nbformat_minor": 2
}
