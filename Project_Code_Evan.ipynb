{
 "cells": [
  {
   "cell_type": "code",
   "execution_count": 9,
   "id": "d4403758-316f-4419-b4b1-7a26bd5b5ac4",
   "metadata": {},
   "outputs": [],
   "source": [
    "import pandas as pd\n",
    "\n",
    "numDat = pd.read_csv(\"rmpCapstoneNum.csv\")\n",
    "qualDat = pd.read_csv(\"rmpCapstoneQual.csv\")\n",
    "tagsDat = pd.read_csv(\"rmpCapstoneTags.csv\")"
   ]
  },
  {
   "cell_type": "markdown",
   "id": "7c78dc7b",
   "metadata": {},
   "source": [
    "2. Is there a gender difference in the spread (variance/dispersion) of the ratings distribution? Again, it is advisable to consider the statistical significance of any observed gender differences in this spread."
   ]
  },
  {
   "cell_type": "code",
   "execution_count": null,
   "id": "8dd9bec1",
   "metadata": {},
   "outputs": [],
   "source": []
  }
 ],
 "metadata": {
  "kernelspec": {
   "display_name": "Python 3",
   "language": "python",
   "name": "python3"
  },
  "language_info": {
   "codemirror_mode": {
    "name": "ipython",
    "version": 3
   },
   "file_extension": ".py",
   "mimetype": "text/x-python",
   "name": "python",
   "nbconvert_exporter": "python",
   "pygments_lexer": "ipython3",
   "version": "3.9.6"
  }
 },
 "nbformat": 4,
 "nbformat_minor": 5
}
